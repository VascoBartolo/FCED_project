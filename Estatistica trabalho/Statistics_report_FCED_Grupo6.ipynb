{
 "cells": [
  {
   "cell_type": "code",
   "execution_count": 68,
   "id": "b42b383d",
   "metadata": {},
   "outputs": [
    {
     "name": "stdout",
     "output_type": "stream",
     "text": [
      "Requirement already satisfied: pandas-profiling in c:\\users\\hugo.nogueira\\appdata\\local\\continuum\\anaconda3\\lib\\site-packages (1.4.1)\n",
      "Requirement already satisfied: pandas>=0.19 in c:\\users\\hugo.nogueira\\appdata\\local\\continuum\\anaconda3\\lib\\site-packages (from pandas-profiling) (1.2.5)\n",
      "Requirement already satisfied: matplotlib>=1.4 in c:\\users\\hugo.nogueira\\appdata\\local\\continuum\\anaconda3\\lib\\site-packages (from pandas-profiling) (3.3.4)\n",
      "Requirement already satisfied: jinja2>=2.8 in c:\\users\\hugo.nogueira\\appdata\\local\\continuum\\anaconda3\\lib\\site-packages (from pandas-profiling) (2.11.3)\n",
      "Requirement already satisfied: six>=1.9 in c:\\users\\hugo.nogueira\\appdata\\local\\continuum\\anaconda3\\lib\\site-packages (from pandas-profiling) (1.16.0)\n",
      "Requirement already satisfied: MarkupSafe>=0.23 in c:\\users\\hugo.nogueira\\appdata\\local\\continuum\\anaconda3\\lib\\site-packages (from jinja2>=2.8->pandas-profiling) (1.1.1)\n",
      "Requirement already satisfied: pillow>=6.2.0 in c:\\users\\hugo.nogueira\\appdata\\local\\continuum\\anaconda3\\lib\\site-packages (from matplotlib>=1.4->pandas-profiling) (8.3.1)\n",
      "Requirement already satisfied: cycler>=0.10 in c:\\users\\hugo.nogueira\\appdata\\local\\continuum\\anaconda3\\lib\\site-packages (from matplotlib>=1.4->pandas-profiling) (0.10.0)\n",
      "Requirement already satisfied: kiwisolver>=1.0.1 in c:\\users\\hugo.nogueira\\appdata\\local\\continuum\\anaconda3\\lib\\site-packages (from matplotlib>=1.4->pandas-profiling) (1.3.1)\n",
      "Requirement already satisfied: pyparsing!=2.0.4,!=2.1.2,!=2.1.6,>=2.0.3 in c:\\users\\hugo.nogueira\\appdata\\local\\continuum\\anaconda3\\lib\\site-packages (from matplotlib>=1.4->pandas-profiling) (2.4.7)\n",
      "Requirement already satisfied: python-dateutil>=2.1 in c:\\users\\hugo.nogueira\\appdata\\local\\continuum\\anaconda3\\lib\\site-packages (from matplotlib>=1.4->pandas-profiling) (2.8.1)\n",
      "Requirement already satisfied: numpy>=1.15 in c:\\users\\hugo.nogueira\\appdata\\local\\continuum\\anaconda3\\lib\\site-packages (from matplotlib>=1.4->pandas-profiling) (1.20.2)\n",
      "Requirement already satisfied: pytz>=2017.3 in c:\\users\\hugo.nogueira\\appdata\\local\\continuum\\anaconda3\\lib\\site-packages (from pandas>=0.19->pandas-profiling) (2021.1)\n"
     ]
    }
   ],
   "source": [
    "#Install packages\n",
    "#! pip install --user pandas\n",
    "! pip install --user pandas-profiling\n",
    "#! pip install --user seaborn"
   ]
  },
  {
   "cell_type": "markdown",
   "id": "fafcbb1c",
   "metadata": {},
   "source": [
    "### “Six-Steps Statistical Investigation”\n",
    "\n",
    "- research question\n",
    "- Design a study and collect data\n",
    "- Explore the data\n",
    "- Draw inferences\n",
    "- Formulate conclusions\n",
    "- Look back and ahead"
   ]
  },
  {
   "cell_type": "markdown",
   "id": "51782a22",
   "metadata": {},
   "source": [
    "1- Define question\n",
    "\n",
    "Quais os 2 distritos com maior impacto florestal proveniente de incendios ( filtrar por TIPO = florestal)"
   ]
  },
  {
   "cell_type": "markdown",
   "id": "b8d2bd1a",
   "metadata": {},
   "source": [
    "2- Study and collect data\n",
    "\n",
    "Coletamos ( base de dados source ? ) - analizamos e filtramos as variaveis de interesse"
   ]
  },
  {
   "cell_type": "markdown",
   "id": "f0e459e0",
   "metadata": {},
   "source": [
    "3- Explore Data"
   ]
  },
  {
   "cell_type": "code",
   "execution_count": 2,
   "id": "d0bda2cd",
   "metadata": {},
   "outputs": [],
   "source": [
    "#packages used in this notebook\n",
    "import pandas as pd\n",
    "import numpy as np\n",
    "from pandas_profiling import ProfileReport\n",
    "import seaborn as sns \n",
    "import matplotlib.pyplot as plt\n",
    "\n",
    "%matplotlib inline\n"
   ]
  },
  {
   "cell_type": "markdown",
   "id": "861feaf1",
   "metadata": {},
   "source": [
    "3.1- all dataset"
   ]
  },
  {
   "cell_type": "code",
   "execution_count": 70,
   "id": "61ee54ca",
   "metadata": {},
   "outputs": [
    {
     "data": {
      "text/html": [
       "<div>\n",
       "<style scoped>\n",
       "    .dataframe tbody tr th:only-of-type {\n",
       "        vertical-align: middle;\n",
       "    }\n",
       "\n",
       "    .dataframe tbody tr th {\n",
       "        vertical-align: top;\n",
       "    }\n",
       "\n",
       "    .dataframe thead th {\n",
       "        text-align: right;\n",
       "    }\n",
       "</style>\n",
       "<table border=\"1\" class=\"dataframe\">\n",
       "  <thead>\n",
       "    <tr style=\"text-align: right;\">\n",
       "      <th></th>\n",
       "      <th>Ano</th>\n",
       "      <th>Codigo_SGIF</th>\n",
       "      <th>Codigo_ANPC</th>\n",
       "      <th>Tipo</th>\n",
       "      <th>Distrito</th>\n",
       "      <th>Concelho</th>\n",
       "      <th>Freguesia</th>\n",
       "      <th>Local</th>\n",
       "      <th>INE</th>\n",
       "      <th>x</th>\n",
       "      <th>...</th>\n",
       "      <th>FalsoAlarme</th>\n",
       "      <th>Fogacho</th>\n",
       "      <th>Incendio</th>\n",
       "      <th>Agricola</th>\n",
       "      <th>Perimetro</th>\n",
       "      <th>APS</th>\n",
       "      <th>Causa</th>\n",
       "      <th>TipoCausa</th>\n",
       "      <th>RegiãoPROF</th>\n",
       "      <th>UGF</th>\n",
       "    </tr>\n",
       "  </thead>\n",
       "  <tbody>\n",
       "    <tr>\n",
       "      <th>0</th>\n",
       "      <td>2015</td>\n",
       "      <td>DM315252</td>\n",
       "      <td>2015160007544</td>\n",
       "      <td>Florestal</td>\n",
       "      <td>Viana do Castelo</td>\n",
       "      <td>Ponte de Lima</td>\n",
       "      <td>Serdedelo</td>\n",
       "      <td>VALE DE TROVELA (SERDEDELO)</td>\n",
       "      <td>160746</td>\n",
       "      <td>167814</td>\n",
       "      <td>...</td>\n",
       "      <td>0</td>\n",
       "      <td>0</td>\n",
       "      <td>1</td>\n",
       "      <td>0</td>\n",
       "      <td>NaN</td>\n",
       "      <td>NaN</td>\n",
       "      <td>122.0</td>\n",
       "      <td>Negligente</td>\n",
       "      <td>Entre Douro e Minho</td>\n",
       "      <td>Alto Minho</td>\n",
       "    </tr>\n",
       "    <tr>\n",
       "      <th>1</th>\n",
       "      <td>2015</td>\n",
       "      <td>DM215305</td>\n",
       "      <td>2015130043758</td>\n",
       "      <td>Florestal</td>\n",
       "      <td>Porto</td>\n",
       "      <td>Marco de Canaveses</td>\n",
       "      <td>Vila Boa de Quires</td>\n",
       "      <td>LUGAR DO FOFO</td>\n",
       "      <td>130731</td>\n",
       "      <td>193731</td>\n",
       "      <td>...</td>\n",
       "      <td>0</td>\n",
       "      <td>0</td>\n",
       "      <td>1</td>\n",
       "      <td>0</td>\n",
       "      <td>NaN</td>\n",
       "      <td>NaN</td>\n",
       "      <td>122.0</td>\n",
       "      <td>Negligente</td>\n",
       "      <td>Entre Douro e Minho</td>\n",
       "      <td>Tâmega</td>\n",
       "    </tr>\n",
       "    <tr>\n",
       "      <th>2</th>\n",
       "      <td>2015</td>\n",
       "      <td>DM415293</td>\n",
       "      <td>2015030021973</td>\n",
       "      <td>Florestal</td>\n",
       "      <td>Braga</td>\n",
       "      <td>Vila Verde</td>\n",
       "      <td>Lage</td>\n",
       "      <td>RUA PROF ABEL MADEIRA</td>\n",
       "      <td>31323</td>\n",
       "      <td>172162</td>\n",
       "      <td>...</td>\n",
       "      <td>0</td>\n",
       "      <td>1</td>\n",
       "      <td>0</td>\n",
       "      <td>0</td>\n",
       "      <td>NaN</td>\n",
       "      <td>NaN</td>\n",
       "      <td>60.0</td>\n",
       "      <td>Desconhecida</td>\n",
       "      <td>Entre Douro e Minho</td>\n",
       "      <td>Baixo Minho</td>\n",
       "    </tr>\n",
       "    <tr>\n",
       "      <th>3</th>\n",
       "      <td>2015</td>\n",
       "      <td>DM315261</td>\n",
       "      <td>2015160007563</td>\n",
       "      <td>Falso Alarme</td>\n",
       "      <td>Viana do Castelo</td>\n",
       "      <td>Ponte de Lima</td>\n",
       "      <td>Boalhosa</td>\n",
       "      <td>J. DEPOSITOS DE AGUA (BOALHOSA)</td>\n",
       "      <td>160709</td>\n",
       "      <td>171291</td>\n",
       "      <td>...</td>\n",
       "      <td>1</td>\n",
       "      <td>0</td>\n",
       "      <td>0</td>\n",
       "      <td>0</td>\n",
       "      <td>NaN</td>\n",
       "      <td>NaN</td>\n",
       "      <td>630.0</td>\n",
       "      <td>Desconhecida</td>\n",
       "      <td>Entre Douro e Minho</td>\n",
       "      <td>Alto Minho</td>\n",
       "    </tr>\n",
       "    <tr>\n",
       "      <th>4</th>\n",
       "      <td>2015</td>\n",
       "      <td>BL115321</td>\n",
       "      <td>2015180015874</td>\n",
       "      <td>Agrícola</td>\n",
       "      <td>Viseu</td>\n",
       "      <td>Castro Daire</td>\n",
       "      <td>Castro Daire</td>\n",
       "      <td>Farejinhas - Bº das Queirós</td>\n",
       "      <td>180304</td>\n",
       "      <td>217299</td>\n",
       "      <td>...</td>\n",
       "      <td>0</td>\n",
       "      <td>1</td>\n",
       "      <td>0</td>\n",
       "      <td>0</td>\n",
       "      <td>NaN</td>\n",
       "      <td>NaN</td>\n",
       "      <td>630.0</td>\n",
       "      <td>Desconhecida</td>\n",
       "      <td>Beira Litoral</td>\n",
       "      <td>Dão Lafões</td>\n",
       "    </tr>\n",
       "    <tr>\n",
       "      <th>...</th>\n",
       "      <td>...</td>\n",
       "      <td>...</td>\n",
       "      <td>...</td>\n",
       "      <td>...</td>\n",
       "      <td>...</td>\n",
       "      <td>...</td>\n",
       "      <td>...</td>\n",
       "      <td>...</td>\n",
       "      <td>...</td>\n",
       "      <td>...</td>\n",
       "      <td>...</td>\n",
       "      <td>...</td>\n",
       "      <td>...</td>\n",
       "      <td>...</td>\n",
       "      <td>...</td>\n",
       "      <td>...</td>\n",
       "      <td>...</td>\n",
       "      <td>...</td>\n",
       "      <td>...</td>\n",
       "      <td>...</td>\n",
       "      <td>...</td>\n",
       "    </tr>\n",
       "    <tr>\n",
       "      <th>23170</th>\n",
       "      <td>2015</td>\n",
       "      <td>DM4151671</td>\n",
       "      <td>2015030056919</td>\n",
       "      <td>Florestal</td>\n",
       "      <td>Braga</td>\n",
       "      <td>Fafe</td>\n",
       "      <td>Fafe</td>\n",
       "      <td>RUA DE FORNELO</td>\n",
       "      <td>30709</td>\n",
       "      <td>196478</td>\n",
       "      <td>...</td>\n",
       "      <td>0</td>\n",
       "      <td>1</td>\n",
       "      <td>0</td>\n",
       "      <td>0</td>\n",
       "      <td>NaN</td>\n",
       "      <td>NaN</td>\n",
       "      <td>60.0</td>\n",
       "      <td>Desconhecida</td>\n",
       "      <td>Entre Douro e Minho</td>\n",
       "      <td>Baixo Minho</td>\n",
       "    </tr>\n",
       "    <tr>\n",
       "      <th>23171</th>\n",
       "      <td>2015</td>\n",
       "      <td>BL1151018</td>\n",
       "      <td>2015180041997</td>\n",
       "      <td>Florestal</td>\n",
       "      <td>Viseu</td>\n",
       "      <td>Cinfães</td>\n",
       "      <td>Cinfães</td>\n",
       "      <td>Ventuzela</td>\n",
       "      <td>180403</td>\n",
       "      <td>203110</td>\n",
       "      <td>...</td>\n",
       "      <td>0</td>\n",
       "      <td>0</td>\n",
       "      <td>1</td>\n",
       "      <td>0</td>\n",
       "      <td>NaN</td>\n",
       "      <td>NaN</td>\n",
       "      <td>125.0</td>\n",
       "      <td>Negligente</td>\n",
       "      <td>Entre Douro e Minho</td>\n",
       "      <td>Tâmega</td>\n",
       "    </tr>\n",
       "    <tr>\n",
       "      <th>23172</th>\n",
       "      <td>2015</td>\n",
       "      <td>BL3151227</td>\n",
       "      <td>2015010055691</td>\n",
       "      <td>Falso Alarme</td>\n",
       "      <td>Aveiro</td>\n",
       "      <td>Santa Maria da Feira</td>\n",
       "      <td>Feira</td>\n",
       "      <td>avenida 25 de abril</td>\n",
       "      <td>10906</td>\n",
       "      <td>164395</td>\n",
       "      <td>...</td>\n",
       "      <td>1</td>\n",
       "      <td>0</td>\n",
       "      <td>0</td>\n",
       "      <td>0</td>\n",
       "      <td>NaN</td>\n",
       "      <td>NaN</td>\n",
       "      <td>NaN</td>\n",
       "      <td>NaN</td>\n",
       "      <td>Entre Douro e Minho</td>\n",
       "      <td>AMP e Entre Douro e Vouga</td>\n",
       "    </tr>\n",
       "    <tr>\n",
       "      <th>23173</th>\n",
       "      <td>2015</td>\n",
       "      <td>DM2153226</td>\n",
       "      <td>2015130115988</td>\n",
       "      <td>Florestal</td>\n",
       "      <td>Porto</td>\n",
       "      <td>Paços de Ferreira</td>\n",
       "      <td>Paços de Ferreira</td>\n",
       "      <td>Lugar alto das Cavadas</td>\n",
       "      <td>130912</td>\n",
       "      <td>180666</td>\n",
       "      <td>...</td>\n",
       "      <td>0</td>\n",
       "      <td>1</td>\n",
       "      <td>0</td>\n",
       "      <td>0</td>\n",
       "      <td>NaN</td>\n",
       "      <td>NaN</td>\n",
       "      <td>711.0</td>\n",
       "      <td>Reacendimento</td>\n",
       "      <td>Entre Douro e Minho</td>\n",
       "      <td>Tâmega</td>\n",
       "    </tr>\n",
       "    <tr>\n",
       "      <th>23174</th>\n",
       "      <td>2015</td>\n",
       "      <td>BL3151229</td>\n",
       "      <td>2015010055723</td>\n",
       "      <td>Falso Alarme</td>\n",
       "      <td>Aveiro</td>\n",
       "      <td>Santa Maria da Feira</td>\n",
       "      <td>Rio Meão</td>\n",
       "      <td>Casais de Baixo</td>\n",
       "      <td>10921</td>\n",
       "      <td>161792</td>\n",
       "      <td>...</td>\n",
       "      <td>1</td>\n",
       "      <td>0</td>\n",
       "      <td>0</td>\n",
       "      <td>0</td>\n",
       "      <td>NaN</td>\n",
       "      <td>NaN</td>\n",
       "      <td>NaN</td>\n",
       "      <td>NaN</td>\n",
       "      <td>Entre Douro e Minho</td>\n",
       "      <td>AMP e Entre Douro e Vouga</td>\n",
       "    </tr>\n",
       "  </tbody>\n",
       "</table>\n",
       "<p>23175 rows × 38 columns</p>\n",
       "</div>"
      ],
      "text/plain": [
       "        Ano Codigo_SGIF    Codigo_ANPC          Tipo          Distrito  \\\n",
       "0      2015    DM315252  2015160007544     Florestal  Viana do Castelo   \n",
       "1      2015    DM215305  2015130043758     Florestal             Porto   \n",
       "2      2015    DM415293  2015030021973     Florestal             Braga   \n",
       "3      2015    DM315261  2015160007563  Falso Alarme  Viana do Castelo   \n",
       "4      2015    BL115321  2015180015874      Agrícola             Viseu   \n",
       "...     ...         ...            ...           ...               ...   \n",
       "23170  2015   DM4151671  2015030056919     Florestal             Braga   \n",
       "23171  2015   BL1151018  2015180041997     Florestal             Viseu   \n",
       "23172  2015   BL3151227  2015010055691  Falso Alarme            Aveiro   \n",
       "23173  2015   DM2153226  2015130115988     Florestal             Porto   \n",
       "23174  2015   BL3151229  2015010055723  Falso Alarme            Aveiro   \n",
       "\n",
       "                   Concelho           Freguesia  \\\n",
       "0             Ponte de Lima           Serdedelo   \n",
       "1        Marco de Canaveses  Vila Boa de Quires   \n",
       "2                Vila Verde                Lage   \n",
       "3             Ponte de Lima            Boalhosa   \n",
       "4              Castro Daire        Castro Daire   \n",
       "...                     ...                 ...   \n",
       "23170                  Fafe                Fafe   \n",
       "23171               Cinfães             Cinfães   \n",
       "23172  Santa Maria da Feira               Feira   \n",
       "23173     Paços de Ferreira   Paços de Ferreira   \n",
       "23174  Santa Maria da Feira            Rio Meão   \n",
       "\n",
       "                                 Local     INE       x  ...  FalsoAlarme  \\\n",
       "0          VALE DE TROVELA (SERDEDELO)  160746  167814  ...            0   \n",
       "1                        LUGAR DO FOFO  130731  193731  ...            0   \n",
       "2                RUA PROF ABEL MADEIRA   31323  172162  ...            0   \n",
       "3      J. DEPOSITOS DE AGUA (BOALHOSA)  160709  171291  ...            1   \n",
       "4          Farejinhas - Bº das Queirós  180304  217299  ...            0   \n",
       "...                                ...     ...     ...  ...          ...   \n",
       "23170                   RUA DE FORNELO   30709  196478  ...            0   \n",
       "23171                        Ventuzela  180403  203110  ...            0   \n",
       "23172              avenida 25 de abril   10906  164395  ...            1   \n",
       "23173           Lugar alto das Cavadas  130912  180666  ...            0   \n",
       "23174                  Casais de Baixo   10921  161792  ...            1   \n",
       "\n",
       "      Fogacho Incendio Agricola Perimetro  APS  Causa      TipoCausa  \\\n",
       "0           0        1        0       NaN  NaN  122.0     Negligente   \n",
       "1           0        1        0       NaN  NaN  122.0     Negligente   \n",
       "2           1        0        0       NaN  NaN   60.0   Desconhecida   \n",
       "3           0        0        0       NaN  NaN  630.0   Desconhecida   \n",
       "4           1        0        0       NaN  NaN  630.0   Desconhecida   \n",
       "...       ...      ...      ...       ...  ...    ...            ...   \n",
       "23170       1        0        0       NaN  NaN   60.0   Desconhecida   \n",
       "23171       0        1        0       NaN  NaN  125.0     Negligente   \n",
       "23172       0        0        0       NaN  NaN    NaN            NaN   \n",
       "23173       1        0        0       NaN  NaN  711.0  Reacendimento   \n",
       "23174       0        0        0       NaN  NaN    NaN            NaN   \n",
       "\n",
       "                RegiãoPROF                        UGF  \n",
       "0      Entre Douro e Minho                 Alto Minho  \n",
       "1      Entre Douro e Minho                     Tâmega  \n",
       "2      Entre Douro e Minho                Baixo Minho  \n",
       "3      Entre Douro e Minho                 Alto Minho  \n",
       "4            Beira Litoral                 Dão Lafões  \n",
       "...                    ...                        ...  \n",
       "23170  Entre Douro e Minho                Baixo Minho  \n",
       "23171  Entre Douro e Minho                     Tâmega  \n",
       "23172  Entre Douro e Minho  AMP e Entre Douro e Vouga  \n",
       "23173  Entre Douro e Minho                     Tâmega  \n",
       "23174  Entre Douro e Minho  AMP e Entre Douro e Vouga  \n",
       "\n",
       "[23175 rows x 38 columns]"
      ]
     },
     "execution_count": 70,
     "metadata": {},
     "output_type": "execute_result"
    }
   ],
   "source": [
    "# ready dataset\n",
    "\n",
    "# path to Fabio\n",
    "\n",
    "#df = pd.read_csv(r'C:\\MDSE\\FCED\\Estatistica\\data\\Lista_Incendios_2015_v2.csv',delimiter=';')\n",
    "\n",
    "# path to Hugo\n",
    "df = pd.read_csv(r'C:\\PersonalOneDrive\\OneDrive\\FEUP - MECD\\Ano 1 Sem 1\\Fundamentos de Ciência e Engenharia dos Dados\\Estatistica\\Projeto\\FeupEstatistica\\data\\Lista_Incendios_2015_v2.csv',delimiter=';')\n",
    "df"
   ]
  },
  {
   "cell_type": "code",
   "execution_count": 71,
   "id": "7a782a75",
   "metadata": {},
   "outputs": [
    {
     "name": "stdout",
     "output_type": "stream",
     "text": [
      "(23175, 38)\n"
     ]
    }
   ],
   "source": [
    "#dataset size\n",
    "print(df.shape)"
   ]
  },
  {
   "cell_type": "code",
   "execution_count": 72,
   "id": "c77738e4",
   "metadata": {},
   "outputs": [
    {
     "data": {
      "text/plain": [
       "Ano                                   int64\n",
       "Codigo_SGIF                          object\n",
       "Codigo_ANPC                           int64\n",
       "Tipo                                 object\n",
       "Distrito                             object\n",
       "Concelho                             object\n",
       "Freguesia                            object\n",
       "Local                                object\n",
       "INE                                   int64\n",
       "x                                     int64\n",
       "y                                     int64\n",
       "lat                                  object\n",
       "lon                                  object\n",
       "DataAlerta                           object\n",
       "HoraAlerta                           object\n",
       "DataExtincao                         object\n",
       "HoraExtincao                         object\n",
       "Data1Intervencao                     object\n",
       "Hora1Intervencao                     object\n",
       "FonteAlerta                         float64\n",
       "NUT                                  object\n",
       "AA_Povoamento_ha                    float64\n",
       "AA_Mato_ha                          float64\n",
       "AA_Agricola_ha                      float64\n",
       "AA_EspacosFlorestais_pov_mato_ha    float64\n",
       "AA_Total_pov_mato_agric_ha          float64\n",
       "Reacendimentos                      float64\n",
       "Queimada                              int64\n",
       "FalsoAlarme                           int64\n",
       "Fogacho                               int64\n",
       "Incendio                              int64\n",
       "Agricola                              int64\n",
       "Perimetro                            object\n",
       "APS                                  object\n",
       "Causa                               float64\n",
       "TipoCausa                            object\n",
       "RegiãoPROF                           object\n",
       "UGF                                  object\n",
       "dtype: object"
      ]
     },
     "execution_count": 72,
     "metadata": {},
     "output_type": "execute_result"
    }
   ],
   "source": [
    "# show columns data type\n",
    "df.dtypes"
   ]
  },
  {
   "cell_type": "code",
   "execution_count": 73,
   "id": "6972de38",
   "metadata": {},
   "outputs": [
    {
     "data": {
      "text/plain": [
       "Ano                                     0\n",
       "Codigo_SGIF                             0\n",
       "Codigo_ANPC                             0\n",
       "Tipo                                    0\n",
       "Distrito                                0\n",
       "Concelho                                0\n",
       "Freguesia                               0\n",
       "Local                                   1\n",
       "INE                                     0\n",
       "x                                       0\n",
       "y                                       0\n",
       "lat                                     0\n",
       "lon                                     0\n",
       "DataAlerta                              0\n",
       "HoraAlerta                              0\n",
       "DataExtincao                          312\n",
       "HoraExtincao                          317\n",
       "Data1Intervencao                     1199\n",
       "Hora1Intervencao                     1213\n",
       "FonteAlerta                         23175\n",
       "NUT                                     0\n",
       "AA_Povoamento_ha                        0\n",
       "AA_Mato_ha                              0\n",
       "AA_Agricola_ha                          0\n",
       "AA_EspacosFlorestais_pov_mato_ha        0\n",
       "AA_Total_pov_mato_agric_ha              0\n",
       "Reacendimentos                          0\n",
       "Queimada                                0\n",
       "FalsoAlarme                             0\n",
       "Fogacho                                 0\n",
       "Incendio                                0\n",
       "Agricola                                0\n",
       "Perimetro                           22349\n",
       "APS                                 22116\n",
       "Causa                                7013\n",
       "TipoCausa                            7013\n",
       "RegiãoPROF                              2\n",
       "UGF                                     1\n",
       "dtype: int64"
      ]
     },
     "execution_count": 73,
     "metadata": {},
     "output_type": "execute_result"
    }
   ],
   "source": [
    "# Analysis of null - check if in the dataset we have nulls\n",
    "df.apply(lambda x: sum(x.isnull()), axis=0)"
   ]
  },
  {
   "cell_type": "code",
   "execution_count": 74,
   "id": "2d9fc73f",
   "metadata": {},
   "outputs": [
    {
     "data": {
      "image/png": "[encoded data removed]",
      "text/plain": [
       "<Figure size 864x288 with 1 Axes>"
      ]
     },
     "metadata": {
      "needs_background": "light"
     },
     "output_type": "display_data"
    }
   ],
   "source": [
    "plt.figure(figsize=(12,4))\n",
    "sns.heatmap(df.isnull(),cbar=False,cmap='rocket',yticklabels=False)\n",
    "plt.title('Missing value in the dataset');"
   ]
  },
  {
   "cell_type": "code",
   "execution_count": 75,
   "id": "a488717e",
   "metadata": {},
   "outputs": [
    {
     "data": {
      "text/html": [
       "<div>\n",
       "<style scoped>\n",
       "    .dataframe tbody tr th:only-of-type {\n",
       "        vertical-align: middle;\n",
       "    }\n",
       "\n",
       "    .dataframe tbody tr th {\n",
       "        vertical-align: top;\n",
       "    }\n",
       "\n",
       "    .dataframe thead th {\n",
       "        text-align: right;\n",
       "    }\n",
       "</style>\n",
       "<table border=\"1\" class=\"dataframe\">\n",
       "  <thead>\n",
       "    <tr style=\"text-align: right;\">\n",
       "      <th></th>\n",
       "      <th>Ano</th>\n",
       "      <th>Codigo_SGIF</th>\n",
       "      <th>Codigo_ANPC</th>\n",
       "      <th>Tipo</th>\n",
       "      <th>Distrito</th>\n",
       "      <th>Concelho</th>\n",
       "      <th>Freguesia</th>\n",
       "      <th>Local</th>\n",
       "      <th>INE</th>\n",
       "      <th>x</th>\n",
       "      <th>...</th>\n",
       "      <th>FalsoAlarme</th>\n",
       "      <th>Fogacho</th>\n",
       "      <th>Incendio</th>\n",
       "      <th>Agricola</th>\n",
       "      <th>Perimetro</th>\n",
       "      <th>APS</th>\n",
       "      <th>Causa</th>\n",
       "      <th>TipoCausa</th>\n",
       "      <th>RegiãoPROF</th>\n",
       "      <th>UGF</th>\n",
       "    </tr>\n",
       "  </thead>\n",
       "  <tbody>\n",
       "    <tr>\n",
       "      <th>count</th>\n",
       "      <td>23175.0</td>\n",
       "      <td>23175</td>\n",
       "      <td>2.317500e+04</td>\n",
       "      <td>23175</td>\n",
       "      <td>23175</td>\n",
       "      <td>23175</td>\n",
       "      <td>23175</td>\n",
       "      <td>23174</td>\n",
       "      <td>23175.000000</td>\n",
       "      <td>23175.000000</td>\n",
       "      <td>...</td>\n",
       "      <td>23175.000000</td>\n",
       "      <td>23175.000000</td>\n",
       "      <td>23175.000000</td>\n",
       "      <td>23175.000000</td>\n",
       "      <td>826</td>\n",
       "      <td>1059</td>\n",
       "      <td>16162.000000</td>\n",
       "      <td>16162</td>\n",
       "      <td>23173</td>\n",
       "      <td>23174</td>\n",
       "    </tr>\n",
       "    <tr>\n",
       "      <th>unique</th>\n",
       "      <td>NaN</td>\n",
       "      <td>23175</td>\n",
       "      <td>NaN</td>\n",
       "      <td>4</td>\n",
       "      <td>19</td>\n",
       "      <td>319</td>\n",
       "      <td>3290</td>\n",
       "      <td>17236</td>\n",
       "      <td>NaN</td>\n",
       "      <td>NaN</td>\n",
       "      <td>...</td>\n",
       "      <td>NaN</td>\n",
       "      <td>NaN</td>\n",
       "      <td>NaN</td>\n",
       "      <td>NaN</td>\n",
       "      <td>87</td>\n",
       "      <td>28</td>\n",
       "      <td>NaN</td>\n",
       "      <td>5</td>\n",
       "      <td>11</td>\n",
       "      <td>27</td>\n",
       "    </tr>\n",
       "    <tr>\n",
       "      <th>top</th>\n",
       "      <td>NaN</td>\n",
       "      <td>RO215865</td>\n",
       "      <td>NaN</td>\n",
       "      <td>Florestal</td>\n",
       "      <td>Porto</td>\n",
       "      <td>Penafiel</td>\n",
       "      <td>Lordelo</td>\n",
       "      <td>IGREJA</td>\n",
       "      <td>NaN</td>\n",
       "      <td>NaN</td>\n",
       "      <td>...</td>\n",
       "      <td>NaN</td>\n",
       "      <td>NaN</td>\n",
       "      <td>NaN</td>\n",
       "      <td>NaN</td>\n",
       "      <td>Barroso</td>\n",
       "      <td>PENEDA-GERÊS</td>\n",
       "      <td>NaN</td>\n",
       "      <td>Negligente</td>\n",
       "      <td>Entre Douro e Minho</td>\n",
       "      <td>Tâmega</td>\n",
       "    </tr>\n",
       "    <tr>\n",
       "      <th>freq</th>\n",
       "      <td>NaN</td>\n",
       "      <td>1</td>\n",
       "      <td>NaN</td>\n",
       "      <td>15464</td>\n",
       "      <td>4444</td>\n",
       "      <td>477</td>\n",
       "      <td>113</td>\n",
       "      <td>50</td>\n",
       "      <td>NaN</td>\n",
       "      <td>NaN</td>\n",
       "      <td>...</td>\n",
       "      <td>NaN</td>\n",
       "      <td>NaN</td>\n",
       "      <td>NaN</td>\n",
       "      <td>NaN</td>\n",
       "      <td>121</td>\n",
       "      <td>200</td>\n",
       "      <td>NaN</td>\n",
       "      <td>5957</td>\n",
       "      <td>9024</td>\n",
       "      <td>3276</td>\n",
       "    </tr>\n",
       "    <tr>\n",
       "      <th>mean</th>\n",
       "      <td>2015.0</td>\n",
       "      <td>NaN</td>\n",
       "      <td>2.015105e+12</td>\n",
       "      <td>NaN</td>\n",
       "      <td>NaN</td>\n",
       "      <td>NaN</td>\n",
       "      <td>NaN</td>\n",
       "      <td>NaN</td>\n",
       "      <td>105733.668910</td>\n",
       "      <td>184868.251953</td>\n",
       "      <td>...</td>\n",
       "      <td>0.126214</td>\n",
       "      <td>0.540539</td>\n",
       "      <td>0.143430</td>\n",
       "      <td>0.162934</td>\n",
       "      <td>NaN</td>\n",
       "      <td>NaN</td>\n",
       "      <td>356.427360</td>\n",
       "      <td>NaN</td>\n",
       "      <td>NaN</td>\n",
       "      <td>NaN</td>\n",
       "    </tr>\n",
       "    <tr>\n",
       "      <th>std</th>\n",
       "      <td>0.0</td>\n",
       "      <td>NaN</td>\n",
       "      <td>5.314577e+07</td>\n",
       "      <td>NaN</td>\n",
       "      <td>NaN</td>\n",
       "      <td>NaN</td>\n",
       "      <td>NaN</td>\n",
       "      <td>NaN</td>\n",
       "      <td>53162.190467</td>\n",
       "      <td>49472.361288</td>\n",
       "      <td>...</td>\n",
       "      <td>0.332097</td>\n",
       "      <td>0.498365</td>\n",
       "      <td>0.350519</td>\n",
       "      <td>0.369314</td>\n",
       "      <td>NaN</td>\n",
       "      <td>NaN</td>\n",
       "      <td>246.973762</td>\n",
       "      <td>NaN</td>\n",
       "      <td>NaN</td>\n",
       "      <td>NaN</td>\n",
       "    </tr>\n",
       "    <tr>\n",
       "      <th>min</th>\n",
       "      <td>2015.0</td>\n",
       "      <td>NaN</td>\n",
       "      <td>2.015010e+12</td>\n",
       "      <td>NaN</td>\n",
       "      <td>NaN</td>\n",
       "      <td>NaN</td>\n",
       "      <td>NaN</td>\n",
       "      <td>NaN</td>\n",
       "      <td>10101.000000</td>\n",
       "      <td>81317.000000</td>\n",
       "      <td>...</td>\n",
       "      <td>0.000000</td>\n",
       "      <td>0.000000</td>\n",
       "      <td>0.000000</td>\n",
       "      <td>0.000000</td>\n",
       "      <td>NaN</td>\n",
       "      <td>NaN</td>\n",
       "      <td>2.000000</td>\n",
       "      <td>NaN</td>\n",
       "      <td>NaN</td>\n",
       "      <td>NaN</td>\n",
       "    </tr>\n",
       "    <tr>\n",
       "      <th>25%</th>\n",
       "      <td>2015.0</td>\n",
       "      <td>NaN</td>\n",
       "      <td>2.015060e+12</td>\n",
       "      <td>NaN</td>\n",
       "      <td>NaN</td>\n",
       "      <td>NaN</td>\n",
       "      <td>NaN</td>\n",
       "      <td>NaN</td>\n",
       "      <td>60206.000000</td>\n",
       "      <td>157090.000000</td>\n",
       "      <td>...</td>\n",
       "      <td>0.000000</td>\n",
       "      <td>0.000000</td>\n",
       "      <td>0.000000</td>\n",
       "      <td>0.000000</td>\n",
       "      <td>NaN</td>\n",
       "      <td>NaN</td>\n",
       "      <td>124.000000</td>\n",
       "      <td>NaN</td>\n",
       "      <td>NaN</td>\n",
       "      <td>NaN</td>\n",
       "    </tr>\n",
       "    <tr>\n",
       "      <th>50%</th>\n",
       "      <td>2015.0</td>\n",
       "      <td>NaN</td>\n",
       "      <td>2.015120e+12</td>\n",
       "      <td>NaN</td>\n",
       "      <td>NaN</td>\n",
       "      <td>NaN</td>\n",
       "      <td>NaN</td>\n",
       "      <td>NaN</td>\n",
       "      <td>121303.000000</td>\n",
       "      <td>179200.000000</td>\n",
       "      <td>...</td>\n",
       "      <td>0.000000</td>\n",
       "      <td>1.000000</td>\n",
       "      <td>0.000000</td>\n",
       "      <td>0.000000</td>\n",
       "      <td>NaN</td>\n",
       "      <td>NaN</td>\n",
       "      <td>448.000000</td>\n",
       "      <td>NaN</td>\n",
       "      <td>NaN</td>\n",
       "      <td>NaN</td>\n",
       "    </tr>\n",
       "    <tr>\n",
       "      <th>75%</th>\n",
       "      <td>2015.0</td>\n",
       "      <td>NaN</td>\n",
       "      <td>2.015140e+12</td>\n",
       "      <td>NaN</td>\n",
       "      <td>NaN</td>\n",
       "      <td>NaN</td>\n",
       "      <td>NaN</td>\n",
       "      <td>NaN</td>\n",
       "      <td>142111.000000</td>\n",
       "      <td>212096.500000</td>\n",
       "      <td>...</td>\n",
       "      <td>0.000000</td>\n",
       "      <td>1.000000</td>\n",
       "      <td>0.000000</td>\n",
       "      <td>0.000000</td>\n",
       "      <td>NaN</td>\n",
       "      <td>NaN</td>\n",
       "      <td>630.000000</td>\n",
       "      <td>NaN</td>\n",
       "      <td>NaN</td>\n",
       "      <td>NaN</td>\n",
       "    </tr>\n",
       "    <tr>\n",
       "      <th>max</th>\n",
       "      <td>2015.0</td>\n",
       "      <td>NaN</td>\n",
       "      <td>2.015180e+12</td>\n",
       "      <td>NaN</td>\n",
       "      <td>NaN</td>\n",
       "      <td>NaN</td>\n",
       "      <td>NaN</td>\n",
       "      <td>NaN</td>\n",
       "      <td>182413.000000</td>\n",
       "      <td>357897.000000</td>\n",
       "      <td>...</td>\n",
       "      <td>1.000000</td>\n",
       "      <td>1.000000</td>\n",
       "      <td>1.000000</td>\n",
       "      <td>1.000000</td>\n",
       "      <td>NaN</td>\n",
       "      <td>NaN</td>\n",
       "      <td>711.000000</td>\n",
       "      <td>NaN</td>\n",
       "      <td>NaN</td>\n",
       "      <td>NaN</td>\n",
       "    </tr>\n",
       "  </tbody>\n",
       "</table>\n",
       "<p>11 rows × 38 columns</p>\n",
       "</div>"
      ],
      "text/plain": [
       "            Ano Codigo_SGIF   Codigo_ANPC       Tipo Distrito  Concelho  \\\n",
       "count   23175.0       23175  2.317500e+04      23175    23175     23175   \n",
       "unique      NaN       23175           NaN          4       19       319   \n",
       "top         NaN    RO215865           NaN  Florestal    Porto  Penafiel   \n",
       "freq        NaN           1           NaN      15464     4444       477   \n",
       "mean     2015.0         NaN  2.015105e+12        NaN      NaN       NaN   \n",
       "std         0.0         NaN  5.314577e+07        NaN      NaN       NaN   \n",
       "min      2015.0         NaN  2.015010e+12        NaN      NaN       NaN   \n",
       "25%      2015.0         NaN  2.015060e+12        NaN      NaN       NaN   \n",
       "50%      2015.0         NaN  2.015120e+12        NaN      NaN       NaN   \n",
       "75%      2015.0         NaN  2.015140e+12        NaN      NaN       NaN   \n",
       "max      2015.0         NaN  2.015180e+12        NaN      NaN       NaN   \n",
       "\n",
       "       Freguesia   Local            INE              x  ...   FalsoAlarme  \\\n",
       "count      23175   23174   23175.000000   23175.000000  ...  23175.000000   \n",
       "unique      3290   17236            NaN            NaN  ...           NaN   \n",
       "top      Lordelo  IGREJA            NaN            NaN  ...           NaN   \n",
       "freq         113      50            NaN            NaN  ...           NaN   \n",
       "mean         NaN     NaN  105733.668910  184868.251953  ...      0.126214   \n",
       "std          NaN     NaN   53162.190467   49472.361288  ...      0.332097   \n",
       "min          NaN     NaN   10101.000000   81317.000000  ...      0.000000   \n",
       "25%          NaN     NaN   60206.000000  157090.000000  ...      0.000000   \n",
       "50%          NaN     NaN  121303.000000  179200.000000  ...      0.000000   \n",
       "75%          NaN     NaN  142111.000000  212096.500000  ...      0.000000   \n",
       "max          NaN     NaN  182413.000000  357897.000000  ...      1.000000   \n",
       "\n",
       "             Fogacho      Incendio      Agricola Perimetro           APS  \\\n",
       "count   23175.000000  23175.000000  23175.000000       826          1059   \n",
       "unique           NaN           NaN           NaN        87            28   \n",
       "top              NaN           NaN           NaN   Barroso  PENEDA-GERÊS   \n",
       "freq             NaN           NaN           NaN       121           200   \n",
       "mean        0.540539      0.143430      0.162934       NaN           NaN   \n",
       "std         0.498365      0.350519      0.369314       NaN           NaN   \n",
       "min         0.000000      0.000000      0.000000       NaN           NaN   \n",
       "25%         0.000000      0.000000      0.000000       NaN           NaN   \n",
       "50%         1.000000      0.000000      0.000000       NaN           NaN   \n",
       "75%         1.000000      0.000000      0.000000       NaN           NaN   \n",
       "max         1.000000      1.000000      1.000000       NaN           NaN   \n",
       "\n",
       "               Causa   TipoCausa           RegiãoPROF     UGF  \n",
       "count   16162.000000       16162                23173   23174  \n",
       "unique           NaN           5                   11      27  \n",
       "top              NaN  Negligente  Entre Douro e Minho  Tâmega  \n",
       "freq             NaN        5957                 9024    3276  \n",
       "mean      356.427360         NaN                  NaN     NaN  \n",
       "std       246.973762         NaN                  NaN     NaN  \n",
       "min         2.000000         NaN                  NaN     NaN  \n",
       "25%       124.000000         NaN                  NaN     NaN  \n",
       "50%       448.000000         NaN                  NaN     NaN  \n",
       "75%       630.000000         NaN                  NaN     NaN  \n",
       "max       711.000000         NaN                  NaN     NaN  \n",
       "\n",
       "[11 rows x 38 columns]"
      ]
     },
     "execution_count": 75,
     "metadata": {},
     "output_type": "execute_result"
    }
   ],
   "source": [
    "# show statistics values for all dataset\n",
    "df.describe(include='all')"
   ]
  },
  {
   "cell_type": "code",
   "execution_count": 76,
   "id": "6dbf413c",
   "metadata": {},
   "outputs": [],
   "source": [
    "# create profilling report\n",
    "#profile = ProfileReport(df, title=\"Profiling Report\", explorative=True)"
   ]
  },
  {
   "cell_type": "code",
   "execution_count": 77,
   "id": "0be748a9",
   "metadata": {},
   "outputs": [],
   "source": [
    "# print the report\n",
    "#profile.to_notebook_iframe()"
   ]
  },
  {
   "cell_type": "code",
   "execution_count": 78,
   "id": "0e41ea8c",
   "metadata": {},
   "outputs": [],
   "source": [
    "#profile.to_file(\"fires_profiling_report.html\")"
   ]
  },
  {
   "cell_type": "markdown",
   "id": "01c30107",
   "metadata": {},
   "source": [
    "-------------------"
   ]
  },
  {
   "cell_type": "markdown",
   "id": "b4010c7c",
   "metadata": {},
   "source": [
    "## About the dataset\n",
    "\n",
    "The dataset is based on data from **** [here](https://??????).\n",
    "\n",
    "We have taken the original data set and processed it to create a clean dataset with the variables of interest , which includes a set of features including:\n",
    "\n",
    "* `tipo`: the type of fire.\n",
    "* `Distrito`: District / location of the fire\n",
    "* `DataALertas`: Date and Time of alert.\n",
    "* `Data1Intervencao`: Date and time of firsrt intervenction\n",
    "* `DataExtincao`: Date and time of extinction.\n",
    "* `areaArdia`: Burned area.\n",
    "* `Tempo_de_resposta`: Response time .\n",
    "* `tempo_de_extincao`: Extinct date and time.\n",
    "\n"
   ]
  },
  {
   "cell_type": "code",
   "execution_count": 79,
   "id": "5e3a329a",
   "metadata": {},
   "outputs": [
    {
     "data": {
      "text/html": [
       "<div>\n",
       "<style scoped>\n",
       "    .dataframe tbody tr th:only-of-type {\n",
       "        vertical-align: middle;\n",
       "    }\n",
       "\n",
       "    .dataframe tbody tr th {\n",
       "        vertical-align: top;\n",
       "    }\n",
       "\n",
       "    .dataframe thead th {\n",
       "        text-align: right;\n",
       "    }\n",
       "</style>\n",
       "<table border=\"1\" class=\"dataframe\">\n",
       "  <thead>\n",
       "    <tr style=\"text-align: right;\">\n",
       "      <th></th>\n",
       "      <th>Tipo</th>\n",
       "      <th>Distrito</th>\n",
       "      <th>DataAlerta</th>\n",
       "      <th>Data1Intervencao</th>\n",
       "      <th>DataExtincao</th>\n",
       "      <th>areaArdida</th>\n",
       "      <th>Tempo_de_resposta</th>\n",
       "      <th>tempo_de_extinçao</th>\n",
       "    </tr>\n",
       "  </thead>\n",
       "  <tbody>\n",
       "    <tr>\n",
       "      <th>0</th>\n",
       "      <td>Florestal</td>\n",
       "      <td>Viana do Castelo</td>\n",
       "      <td>2015-03-24 17:01:00</td>\n",
       "      <td>2015-03-24 17:10:00</td>\n",
       "      <td>2015-03-24 18:09:00</td>\n",
       "      <td>2.50</td>\n",
       "      <td>0.150000</td>\n",
       "      <td>0.983333</td>\n",
       "    </tr>\n",
       "    <tr>\n",
       "      <th>1</th>\n",
       "      <td>Florestal</td>\n",
       "      <td>Porto</td>\n",
       "      <td>2015-03-24 17:10:00</td>\n",
       "      <td>2015-03-24 17:16:00</td>\n",
       "      <td>2015-03-24 18:47:00</td>\n",
       "      <td>1.35</td>\n",
       "      <td>0.100000</td>\n",
       "      <td>1.516667</td>\n",
       "    </tr>\n",
       "    <tr>\n",
       "      <th>2</th>\n",
       "      <td>Florestal</td>\n",
       "      <td>Braga</td>\n",
       "      <td>2015-03-24 19:15:00</td>\n",
       "      <td>2015-03-24 19:25:00</td>\n",
       "      <td>2015-03-24 20:00:00</td>\n",
       "      <td>0.26</td>\n",
       "      <td>0.166667</td>\n",
       "      <td>0.583333</td>\n",
       "    </tr>\n",
       "    <tr>\n",
       "      <th>3</th>\n",
       "      <td>Falso Alarme</td>\n",
       "      <td>Viana do Castelo</td>\n",
       "      <td>2015-03-24 20:05:00</td>\n",
       "      <td>2015-03-24 20:20:00</td>\n",
       "      <td>2015-03-24 21:30:00</td>\n",
       "      <td>0.00</td>\n",
       "      <td>0.250000</td>\n",
       "      <td>1.166667</td>\n",
       "    </tr>\n",
       "    <tr>\n",
       "      <th>4</th>\n",
       "      <td>Agrícola</td>\n",
       "      <td>Viseu</td>\n",
       "      <td>2015-03-24 20:10:00</td>\n",
       "      <td>2015-03-24 20:15:00</td>\n",
       "      <td>2015-03-24 21:00:00</td>\n",
       "      <td>0.05</td>\n",
       "      <td>0.083333</td>\n",
       "      <td>0.750000</td>\n",
       "    </tr>\n",
       "    <tr>\n",
       "      <th>...</th>\n",
       "      <td>...</td>\n",
       "      <td>...</td>\n",
       "      <td>...</td>\n",
       "      <td>...</td>\n",
       "      <td>...</td>\n",
       "      <td>...</td>\n",
       "      <td>...</td>\n",
       "      <td>...</td>\n",
       "    </tr>\n",
       "    <tr>\n",
       "      <th>23170</th>\n",
       "      <td>Florestal</td>\n",
       "      <td>Braga</td>\n",
       "      <td>2015-08-09 02:10:00</td>\n",
       "      <td>2015-08-09 02:20:00</td>\n",
       "      <td>2015-08-09 03:15:00</td>\n",
       "      <td>0.50</td>\n",
       "      <td>0.166667</td>\n",
       "      <td>0.916667</td>\n",
       "    </tr>\n",
       "    <tr>\n",
       "      <th>23171</th>\n",
       "      <td>Florestal</td>\n",
       "      <td>Viseu</td>\n",
       "      <td>2015-08-09 04:40:00</td>\n",
       "      <td>2015-08-09 04:53:00</td>\n",
       "      <td>2015-08-09 09:30:00</td>\n",
       "      <td>2.50</td>\n",
       "      <td>0.216667</td>\n",
       "      <td>4.616667</td>\n",
       "    </tr>\n",
       "    <tr>\n",
       "      <th>23172</th>\n",
       "      <td>Falso Alarme</td>\n",
       "      <td>Aveiro</td>\n",
       "      <td>2015-08-09 05:50:00</td>\n",
       "      <td>2015-08-09 05:55:00</td>\n",
       "      <td>2015-08-09 06:40:00</td>\n",
       "      <td>0.00</td>\n",
       "      <td>0.083333</td>\n",
       "      <td>0.750000</td>\n",
       "    </tr>\n",
       "    <tr>\n",
       "      <th>23173</th>\n",
       "      <td>Florestal</td>\n",
       "      <td>Porto</td>\n",
       "      <td>2015-08-09 08:20:00</td>\n",
       "      <td>2015-08-09 08:25:00</td>\n",
       "      <td>2015-08-09 10:40:00</td>\n",
       "      <td>0.05</td>\n",
       "      <td>0.083333</td>\n",
       "      <td>2.250000</td>\n",
       "    </tr>\n",
       "    <tr>\n",
       "      <th>23174</th>\n",
       "      <td>Falso Alarme</td>\n",
       "      <td>Aveiro</td>\n",
       "      <td>2015-08-09 09:09:00</td>\n",
       "      <td>2015-08-09 09:12:00</td>\n",
       "      <td>2015-08-09 11:03:00</td>\n",
       "      <td>0.00</td>\n",
       "      <td>0.050000</td>\n",
       "      <td>1.850000</td>\n",
       "    </tr>\n",
       "  </tbody>\n",
       "</table>\n",
       "<p>23175 rows × 8 columns</p>\n",
       "</div>"
      ],
      "text/plain": [
       "               Tipo          Distrito           DataAlerta  \\\n",
       "0         Florestal  Viana do Castelo  2015-03-24 17:01:00   \n",
       "1         Florestal             Porto  2015-03-24 17:10:00   \n",
       "2         Florestal             Braga  2015-03-24 19:15:00   \n",
       "3      Falso Alarme  Viana do Castelo  2015-03-24 20:05:00   \n",
       "4          Agrícola             Viseu  2015-03-24 20:10:00   \n",
       "...             ...               ...                  ...   \n",
       "23170     Florestal             Braga  2015-08-09 02:10:00   \n",
       "23171     Florestal             Viseu  2015-08-09 04:40:00   \n",
       "23172  Falso Alarme            Aveiro  2015-08-09 05:50:00   \n",
       "23173     Florestal             Porto  2015-08-09 08:20:00   \n",
       "23174  Falso Alarme            Aveiro  2015-08-09 09:09:00   \n",
       "\n",
       "          Data1Intervencao         DataExtincao  areaArdida  \\\n",
       "0      2015-03-24 17:10:00  2015-03-24 18:09:00        2.50   \n",
       "1      2015-03-24 17:16:00  2015-03-24 18:47:00        1.35   \n",
       "2      2015-03-24 19:25:00  2015-03-24 20:00:00        0.26   \n",
       "3      2015-03-24 20:20:00  2015-03-24 21:30:00        0.00   \n",
       "4      2015-03-24 20:15:00  2015-03-24 21:00:00        0.05   \n",
       "...                    ...                  ...         ...   \n",
       "23170  2015-08-09 02:20:00  2015-08-09 03:15:00        0.50   \n",
       "23171  2015-08-09 04:53:00  2015-08-09 09:30:00        2.50   \n",
       "23172  2015-08-09 05:55:00  2015-08-09 06:40:00        0.00   \n",
       "23173  2015-08-09 08:25:00  2015-08-09 10:40:00        0.05   \n",
       "23174  2015-08-09 09:12:00  2015-08-09 11:03:00        0.00   \n",
       "\n",
       "       Tempo_de_resposta  tempo_de_extinçao  \n",
       "0               0.150000           0.983333  \n",
       "1               0.100000           1.516667  \n",
       "2               0.166667           0.583333  \n",
       "3               0.250000           1.166667  \n",
       "4               0.083333           0.750000  \n",
       "...                  ...                ...  \n",
       "23170           0.166667           0.916667  \n",
       "23171           0.216667           4.616667  \n",
       "23172           0.083333           0.750000  \n",
       "23173           0.083333           2.250000  \n",
       "23174           0.050000           1.850000  \n",
       "\n",
       "[23175 rows x 8 columns]"
      ]
     },
     "execution_count": 79,
     "metadata": {},
     "output_type": "execute_result"
    }
   ],
   "source": [
    "# ready dataset\n",
    "import pandas as pd\n",
    "\n",
    "# path to Fabio\n",
    "#df_impact = pd.read_csv(r'C:\\MDSE\\FCED\\Estatistica\\data\\Lista_Incendios_2015_v4.csv',delimiter=';')\n",
    "\n",
    "# path to Hugo\n",
    "df_impact = pd.read_csv(r'C:\\PersonalOneDrive\\OneDrive\\FEUP - MECD\\Ano 1 Sem 1\\Fundamentos de Ciência e Engenharia dos Dados\\Estatistica\\Projeto\\FeupEstatistica\\data\\Lista_Incendios_2015_v4.csv', delimiter=';')\n",
    "df_impact"
   ]
  },
  {
   "cell_type": "markdown",
   "id": "4a2038e3",
   "metadata": {
    "pycharm": {
     "name": "#%% md\n"
    }
   },
   "source": [
    "#### Data frame size and fixtures | data types\n",
    "The new data set has 23175 rows and 8 columns correponding to the fixtures we have defined.\n",
    "\n"
   ]
  },
  {
   "cell_type": "code",
   "execution_count": 80,
   "id": "0ab18415",
   "metadata": {},
   "outputs": [
    {
     "name": "stdout",
     "output_type": "stream",
     "text": [
      "(23175, 8)\n"
     ]
    }
   ],
   "source": [
    "#dataset size\n",
    "print(df_impact.shape)"
   ]
  },
  {
   "cell_type": "code",
   "execution_count": 81,
   "id": "696fe989",
   "metadata": {},
   "outputs": [
    {
     "data": {
      "text/plain": [
       "Tipo                  object\n",
       "Distrito              object\n",
       "DataAlerta            object\n",
       "Data1Intervencao      object\n",
       "DataExtincao          object\n",
       "areaArdida           float64\n",
       "Tempo_de_resposta    float64\n",
       "tempo_de_extinçao    float64\n",
       "dtype: object"
      ]
     },
     "execution_count": 81,
     "metadata": {},
     "output_type": "execute_result"
    }
   ],
   "source": [
    "# show columns data type\n",
    "df_impact.dtypes"
   ]
  },
  {
   "cell_type": "code",
   "execution_count": 82,
   "id": "1344d8f3",
   "metadata": {},
   "outputs": [
    {
     "data": {
      "text/plain": [
       "Tipo                    0\n",
       "Distrito                0\n",
       "DataAlerta              0\n",
       "Data1Intervencao     1199\n",
       "DataExtincao          312\n",
       "areaArdida              0\n",
       "Tempo_de_resposta    1199\n",
       "tempo_de_extinçao    1210\n",
       "dtype: int64"
      ]
     },
     "execution_count": 82,
     "metadata": {},
     "output_type": "execute_result"
    }
   ],
   "source": [
    "# Analysis of null - check if in the dataset we have nulls\n",
    "df_impact.apply(lambda x: sum(x.isnull()), axis=0)"
   ]
  },
  {
   "cell_type": "markdown",
   "id": "2b631fb6",
   "metadata": {
    "pycharm": {
     "name": "#%% md\n"
    }
   },
   "source": [
    "## Clean and Filter the data\n",
    "\n",
    "From our analysis, the dat set has a fire type equals to **'Falso Alerta'** which means that in reality there were no fire and for that we decide to remove the data form that fire type.\n",
    "\n",
    "Since we are studying the impacts of the fires ,  we focus our analysis in the two districts with more area burned. These district were **Guarda** and **Viana do Castelo**\n",
    "\n",
    "We also removed rows where the **tempo_de_extinçao** was less than zero (< 0 ).\n",
    "\n",
    "\n"
   ]
  },
  {
   "cell_type": "code",
   "execution_count": 83,
   "id": "3fc8d5e2",
   "metadata": {
    "pycharm": {
     "name": "#%%\n"
    }
   },
   "outputs": [
    {
     "name": "stdout",
     "output_type": "stream",
     "text": [
      "Check distinct values:\n",
      " ['Florestal' 'Agrícola' 'Queimada']\n"
     ]
    },
    {
     "data": {
      "text/plain": [
       "Distrito\n",
       "Guarda              12914.627514\n",
       "Viana do Castelo     9880.810900\n",
       "Braga                7178.268200\n",
       "Viseu                6572.856300\n",
       "Vila Real            5618.639000\n",
       "Bragança             5299.582289\n",
       "Aveiro               3521.479700\n",
       "Castelo Branco       3113.270920\n",
       "Santarém             2708.734777\n",
       "Porto                2545.857800\n",
       "Beja                 1937.706000\n",
       "Coimbra              1739.137100\n",
       "Évora                1568.840300\n",
       "Lisboa               1079.677320\n",
       "Leiria               1078.109200\n",
       "Portalegre            508.082615\n",
       "Faro                  478.525850\n",
       "Setúbal               423.767900\n",
       "Viana Do Castelo      163.620000\n",
       "Name: areaArdida, dtype: float64"
      ]
     },
     "execution_count": 83,
     "metadata": {},
     "output_type": "execute_result"
    }
   ],
   "source": [
    "# Removing fires with Tipo equals 'Falso Alarme'\n",
    "df_impact = df_impact.loc[df_impact['Tipo'] != 'Falso Alarme']\n",
    "\n",
    "print('Check distinct values:\\n',df_impact['Tipo'].unique())\n",
    "# sum burned area by distrito\n",
    "k = df_impact.groupby(['Distrito']).sum()['areaArdida'].sort_values(ascending=False)\n",
    "k\n",
    "\n"
   ]
  },
  {
   "cell_type": "code",
   "execution_count": 84,
   "id": "786f4a2f",
   "metadata": {
    "pycharm": {
     "name": "#%%\n"
    }
   },
   "outputs": [
    {
     "data": {
      "text/plain": [
       "Text(0, 0.5, 'area (ha)')"
      ]
     },
     "execution_count": 84,
     "metadata": {},
     "output_type": "execute_result"
    },
    {
     "data": {
      "image/png": "[encoded data removed]",
      "text/plain": [
       "<Figure size 1440x720 with 1 Axes>"
      ]
     },
     "metadata": {
      "needs_background": "light"
     },
     "output_type": "display_data"
    }
   ],
   "source": [
    "plt.rcParams['figure.figsize'] = [20, 10]\n",
    "\n",
    "k.plot.bar()\n",
    "# Add title and axis names\n",
    "plt.suptitle('Total Burned area by Location (Ditrito)')\n",
    "plt.title('year 2015')\n",
    "plt.xlabel('Distritos')\n",
    "plt.ylabel('area (ha)')"
   ]
  },
  {
   "cell_type": "code",
   "execution_count": 85,
   "id": "a19937c9",
   "metadata": {},
   "outputs": [
    {
     "data": {
      "text/html": [
       "<div>\n",
       "<style scoped>\n",
       "    .dataframe tbody tr th:only-of-type {\n",
       "        vertical-align: middle;\n",
       "    }\n",
       "\n",
       "    .dataframe tbody tr th {\n",
       "        vertical-align: top;\n",
       "    }\n",
       "\n",
       "    .dataframe thead th {\n",
       "        text-align: right;\n",
       "    }\n",
       "</style>\n",
       "<table border=\"1\" class=\"dataframe\">\n",
       "  <thead>\n",
       "    <tr style=\"text-align: right;\">\n",
       "      <th></th>\n",
       "      <th>Tipo</th>\n",
       "      <th>Distrito</th>\n",
       "      <th>DataAlerta</th>\n",
       "      <th>Data1Intervencao</th>\n",
       "      <th>DataExtincao</th>\n",
       "      <th>areaArdida</th>\n",
       "      <th>Tempo_de_resposta</th>\n",
       "      <th>tempo_de_extinçao</th>\n",
       "    </tr>\n",
       "  </thead>\n",
       "  <tbody>\n",
       "    <tr>\n",
       "      <th>0</th>\n",
       "      <td>Florestal</td>\n",
       "      <td>Viana do Castelo</td>\n",
       "      <td>2015-03-24 17:01:00</td>\n",
       "      <td>2015-03-24 17:10:00</td>\n",
       "      <td>2015-03-24 18:09:00</td>\n",
       "      <td>2.50</td>\n",
       "      <td>0.150000</td>\n",
       "      <td>0.983333</td>\n",
       "    </tr>\n",
       "    <tr>\n",
       "      <th>34</th>\n",
       "      <td>Florestal</td>\n",
       "      <td>Guarda</td>\n",
       "      <td>2015-03-04 19:00:00</td>\n",
       "      <td>2015-03-04 19:40:00</td>\n",
       "      <td>2015-03-04 22:35:00</td>\n",
       "      <td>2.00</td>\n",
       "      <td>0.666667</td>\n",
       "      <td>2.916667</td>\n",
       "    </tr>\n",
       "    <tr>\n",
       "      <th>35</th>\n",
       "      <td>Queimada</td>\n",
       "      <td>Guarda</td>\n",
       "      <td>2015-03-04 20:44:00</td>\n",
       "      <td>2015-03-04 21:20:00</td>\n",
       "      <td>2015-03-05 00:25:00</td>\n",
       "      <td>0.01</td>\n",
       "      <td>0.600000</td>\n",
       "      <td>3.083333</td>\n",
       "    </tr>\n",
       "    <tr>\n",
       "      <th>37</th>\n",
       "      <td>Florestal</td>\n",
       "      <td>Guarda</td>\n",
       "      <td>2015-03-05 18:25:00</td>\n",
       "      <td>2015-03-05 18:35:00</td>\n",
       "      <td>2015-03-05 20:20:00</td>\n",
       "      <td>8.12</td>\n",
       "      <td>0.166667</td>\n",
       "      <td>1.750000</td>\n",
       "    </tr>\n",
       "    <tr>\n",
       "      <th>41</th>\n",
       "      <td>Florestal</td>\n",
       "      <td>Viana do Castelo</td>\n",
       "      <td>2015-03-26 00:29:00</td>\n",
       "      <td>2015-03-26 00:32:00</td>\n",
       "      <td>2015-03-26 01:48:00</td>\n",
       "      <td>2.05</td>\n",
       "      <td>0.050000</td>\n",
       "      <td>1.266667</td>\n",
       "    </tr>\n",
       "    <tr>\n",
       "      <th>...</th>\n",
       "      <td>...</td>\n",
       "      <td>...</td>\n",
       "      <td>...</td>\n",
       "      <td>...</td>\n",
       "      <td>...</td>\n",
       "      <td>...</td>\n",
       "      <td>...</td>\n",
       "      <td>...</td>\n",
       "    </tr>\n",
       "    <tr>\n",
       "      <th>23124</th>\n",
       "      <td>Florestal</td>\n",
       "      <td>Guarda</td>\n",
       "      <td>2015-09-07 13:57:00</td>\n",
       "      <td>2015-09-07 14:05:00</td>\n",
       "      <td>2015-09-07 15:02:00</td>\n",
       "      <td>0.15</td>\n",
       "      <td>0.133333</td>\n",
       "      <td>0.950000</td>\n",
       "    </tr>\n",
       "    <tr>\n",
       "      <th>23133</th>\n",
       "      <td>Florestal</td>\n",
       "      <td>Viana do Castelo</td>\n",
       "      <td>2015-09-08 00:06:00</td>\n",
       "      <td>2015-09-08 00:15:00</td>\n",
       "      <td>2015-09-08 01:03:00</td>\n",
       "      <td>0.05</td>\n",
       "      <td>0.150000</td>\n",
       "      <td>0.800000</td>\n",
       "    </tr>\n",
       "    <tr>\n",
       "      <th>23136</th>\n",
       "      <td>Florestal</td>\n",
       "      <td>Guarda</td>\n",
       "      <td>2015-09-20 15:33:00</td>\n",
       "      <td>2015-09-20 15:49:00</td>\n",
       "      <td>2015-09-20 18:19:00</td>\n",
       "      <td>36.80</td>\n",
       "      <td>0.266667</td>\n",
       "      <td>2.500000</td>\n",
       "    </tr>\n",
       "    <tr>\n",
       "      <th>23143</th>\n",
       "      <td>Florestal</td>\n",
       "      <td>Viana do Castelo</td>\n",
       "      <td>2015-08-07 19:40:00</td>\n",
       "      <td>2015-08-07 19:54:00</td>\n",
       "      <td>2015-08-07 20:45:00</td>\n",
       "      <td>0.10</td>\n",
       "      <td>0.233333</td>\n",
       "      <td>0.850000</td>\n",
       "    </tr>\n",
       "    <tr>\n",
       "      <th>23156</th>\n",
       "      <td>Florestal</td>\n",
       "      <td>Viana do Castelo</td>\n",
       "      <td>2015-08-11 00:30:00</td>\n",
       "      <td>2015-08-11 00:35:00</td>\n",
       "      <td>2015-08-11 01:36:00</td>\n",
       "      <td>0.02</td>\n",
       "      <td>0.083333</td>\n",
       "      <td>1.016667</td>\n",
       "    </tr>\n",
       "  </tbody>\n",
       "</table>\n",
       "<p>2082 rows × 8 columns</p>\n",
       "</div>"
      ],
      "text/plain": [
       "            Tipo          Distrito           DataAlerta     Data1Intervencao  \\\n",
       "0      Florestal  Viana do Castelo  2015-03-24 17:01:00  2015-03-24 17:10:00   \n",
       "34     Florestal            Guarda  2015-03-04 19:00:00  2015-03-04 19:40:00   \n",
       "35      Queimada            Guarda  2015-03-04 20:44:00  2015-03-04 21:20:00   \n",
       "37     Florestal            Guarda  2015-03-05 18:25:00  2015-03-05 18:35:00   \n",
       "41     Florestal  Viana do Castelo  2015-03-26 00:29:00  2015-03-26 00:32:00   \n",
       "...          ...               ...                  ...                  ...   \n",
       "23124  Florestal            Guarda  2015-09-07 13:57:00  2015-09-07 14:05:00   \n",
       "23133  Florestal  Viana do Castelo  2015-09-08 00:06:00  2015-09-08 00:15:00   \n",
       "23136  Florestal            Guarda  2015-09-20 15:33:00  2015-09-20 15:49:00   \n",
       "23143  Florestal  Viana do Castelo  2015-08-07 19:40:00  2015-08-07 19:54:00   \n",
       "23156  Florestal  Viana do Castelo  2015-08-11 00:30:00  2015-08-11 00:35:00   \n",
       "\n",
       "              DataExtincao  areaArdida  Tempo_de_resposta  tempo_de_extinçao  \n",
       "0      2015-03-24 18:09:00        2.50           0.150000           0.983333  \n",
       "34     2015-03-04 22:35:00        2.00           0.666667           2.916667  \n",
       "35     2015-03-05 00:25:00        0.01           0.600000           3.083333  \n",
       "37     2015-03-05 20:20:00        8.12           0.166667           1.750000  \n",
       "41     2015-03-26 01:48:00        2.05           0.050000           1.266667  \n",
       "...                    ...         ...                ...                ...  \n",
       "23124  2015-09-07 15:02:00        0.15           0.133333           0.950000  \n",
       "23133  2015-09-08 01:03:00        0.05           0.150000           0.800000  \n",
       "23136  2015-09-20 18:19:00       36.80           0.266667           2.500000  \n",
       "23143  2015-08-07 20:45:00        0.10           0.233333           0.850000  \n",
       "23156  2015-08-11 01:36:00        0.02           0.083333           1.016667  \n",
       "\n",
       "[2082 rows x 8 columns]"
      ]
     },
     "execution_count": 85,
     "metadata": {},
     "output_type": "execute_result"
    }
   ],
   "source": [
    "# filter by Distrito of interest and removing\n",
    "Distrits = ['Guarda','Viana do Castelo']\n",
    "\n",
    "df_filter = df_impact.loc[df_impact['Distrito'].isin(Distrits)]\\\n",
    "                    .loc[df_impact['tempo_de_extinçao'] > 0]\n",
    "                    #.loc[df_impact['tempo_de_extinçao'] <= 4000]\n",
    "df_filter"
   ]
  },
  {
   "cell_type": "code",
   "execution_count": 86,
   "id": "60984382",
   "metadata": {},
   "outputs": [
    {
     "data": {
      "text/plain": [
       "Tipo                 0\n",
       "Distrito             0\n",
       "DataAlerta           0\n",
       "Data1Intervencao     0\n",
       "DataExtincao         0\n",
       "areaArdida           0\n",
       "Tempo_de_resposta    0\n",
       "tempo_de_extinçao    0\n",
       "dtype: int64"
      ]
     },
     "execution_count": 86,
     "metadata": {},
     "output_type": "execute_result"
    }
   ],
   "source": [
    "# Analysis of null - check if in the dataset we have nulls\n",
    "df_filter.apply(lambda x: sum(x.isnull()), axis=0)\n"
   ]
  },
  {
   "cell_type": "code",
   "execution_count": 87,
   "id": "d2b4b253",
   "metadata": {
    "pycharm": {
     "name": "#%%\n"
    }
   },
   "outputs": [
    {
     "data": {
      "text/html": [
       "<div>\n",
       "<style scoped>\n",
       "    .dataframe tbody tr th:only-of-type {\n",
       "        vertical-align: middle;\n",
       "    }\n",
       "\n",
       "    .dataframe tbody tr th {\n",
       "        vertical-align: top;\n",
       "    }\n",
       "\n",
       "    .dataframe thead th {\n",
       "        text-align: right;\n",
       "    }\n",
       "</style>\n",
       "<table border=\"1\" class=\"dataframe\">\n",
       "  <thead>\n",
       "    <tr style=\"text-align: right;\">\n",
       "      <th></th>\n",
       "      <th>Tipo</th>\n",
       "      <th>Distrito</th>\n",
       "      <th>DataAlerta</th>\n",
       "      <th>Data1Intervencao</th>\n",
       "      <th>DataExtincao</th>\n",
       "      <th>areaArdida</th>\n",
       "      <th>Tempo_de_resposta</th>\n",
       "      <th>tempo_de_extinçao</th>\n",
       "    </tr>\n",
       "  </thead>\n",
       "  <tbody>\n",
       "    <tr>\n",
       "      <th>0</th>\n",
       "      <td>Florestal</td>\n",
       "      <td>Viana do Castelo</td>\n",
       "      <td>2015-03-24 17:01:00</td>\n",
       "      <td>2015-03-24 17:10:00</td>\n",
       "      <td>2015-03-24 18:09:00</td>\n",
       "      <td>2.50</td>\n",
       "      <td>0.150000</td>\n",
       "      <td>0.983333</td>\n",
       "    </tr>\n",
       "    <tr>\n",
       "      <th>34</th>\n",
       "      <td>Florestal</td>\n",
       "      <td>Guarda</td>\n",
       "      <td>2015-03-04 19:00:00</td>\n",
       "      <td>2015-03-04 19:40:00</td>\n",
       "      <td>2015-03-04 22:35:00</td>\n",
       "      <td>2.00</td>\n",
       "      <td>0.666667</td>\n",
       "      <td>2.916667</td>\n",
       "    </tr>\n",
       "    <tr>\n",
       "      <th>35</th>\n",
       "      <td>Queimada</td>\n",
       "      <td>Guarda</td>\n",
       "      <td>2015-03-04 20:44:00</td>\n",
       "      <td>2015-03-04 21:20:00</td>\n",
       "      <td>2015-03-05 00:25:00</td>\n",
       "      <td>0.01</td>\n",
       "      <td>0.600000</td>\n",
       "      <td>3.083333</td>\n",
       "    </tr>\n",
       "    <tr>\n",
       "      <th>37</th>\n",
       "      <td>Florestal</td>\n",
       "      <td>Guarda</td>\n",
       "      <td>2015-03-05 18:25:00</td>\n",
       "      <td>2015-03-05 18:35:00</td>\n",
       "      <td>2015-03-05 20:20:00</td>\n",
       "      <td>8.12</td>\n",
       "      <td>0.166667</td>\n",
       "      <td>1.750000</td>\n",
       "    </tr>\n",
       "    <tr>\n",
       "      <th>41</th>\n",
       "      <td>Florestal</td>\n",
       "      <td>Viana do Castelo</td>\n",
       "      <td>2015-03-26 00:29:00</td>\n",
       "      <td>2015-03-26 00:32:00</td>\n",
       "      <td>2015-03-26 01:48:00</td>\n",
       "      <td>2.05</td>\n",
       "      <td>0.050000</td>\n",
       "      <td>1.266667</td>\n",
       "    </tr>\n",
       "  </tbody>\n",
       "</table>\n",
       "</div>"
      ],
      "text/plain": [
       "         Tipo          Distrito           DataAlerta     Data1Intervencao  \\\n",
       "0   Florestal  Viana do Castelo  2015-03-24 17:01:00  2015-03-24 17:10:00   \n",
       "34  Florestal            Guarda  2015-03-04 19:00:00  2015-03-04 19:40:00   \n",
       "35   Queimada            Guarda  2015-03-04 20:44:00  2015-03-04 21:20:00   \n",
       "37  Florestal            Guarda  2015-03-05 18:25:00  2015-03-05 18:35:00   \n",
       "41  Florestal  Viana do Castelo  2015-03-26 00:29:00  2015-03-26 00:32:00   \n",
       "\n",
       "           DataExtincao  areaArdida  Tempo_de_resposta  tempo_de_extinçao  \n",
       "0   2015-03-24 18:09:00        2.50           0.150000           0.983333  \n",
       "34  2015-03-04 22:35:00        2.00           0.666667           2.916667  \n",
       "35  2015-03-05 00:25:00        0.01           0.600000           3.083333  \n",
       "37  2015-03-05 20:20:00        8.12           0.166667           1.750000  \n",
       "41  2015-03-26 01:48:00        2.05           0.050000           1.266667  "
      ]
     },
     "execution_count": 87,
     "metadata": {},
     "output_type": "execute_result"
    }
   ],
   "source": [
    "# Final data set\n",
    "df_filter.head()"
   ]
  },
  {
   "cell_type": "code",
   "execution_count": 88,
   "id": "53b2e93b",
   "metadata": {},
   "outputs": [
    {
     "name": "stdout",
     "output_type": "stream",
     "text": [
      "(2082, 8)\n"
     ]
    }
   ],
   "source": [
    "#dataset size\n",
    "print(df_filter.shape)"
   ]
  },
  {
   "cell_type": "markdown",
   "id": "5da9b7a6",
   "metadata": {
    "pycharm": {
     "name": "#%% md\n"
    }
   },
   "source": [
    "In terms of occurrences, it seems like there's more occurrences within \"Florestal\" type specially in \"Viana do Castelo\" location.\n",
    "\n",
    "We will focus on fires from **'Tipo' equals to 'Florestal'**"
   ]
  },
  {
   "cell_type": "code",
   "execution_count": 89,
   "id": "acea437f",
   "metadata": {
    "pycharm": {
     "name": "#%%\n"
    }
   },
   "outputs": [
    {
     "data": {
      "text/plain": [
       "Text(0, 0.5, '# Fire occurrences')"
      ]
     },
     "execution_count": 89,
     "metadata": {},
     "output_type": "execute_result"
    },
    {
     "data": {
      "image/png": "[encoded data removed]",
      "text/plain": [
       "<Figure size 1440x720 with 1 Axes>"
      ]
     },
     "metadata": {
      "needs_background": "light"
     },
     "output_type": "display_data"
    }
   ],
   "source": [
    "# Total fires ocurrence\n",
    "\n",
    "k2 = df_filter.groupby(['Tipo', 'Distrito']).size().unstack()\n",
    "\n",
    "k2.plot(kind='bar', stacked=True)\n",
    "\n",
    "# Add title and axis names\n",
    "plt.suptitle('Fire occurrences by Type of Fire (Tipo and  Location (Ditrito)')\n",
    "plt.title('year 2015')\n",
    "plt.xlabel('TYoe of Fires (Tipo)')\n",
    "plt.ylabel('# Fire occurrences')"
   ]
  },
  {
   "cell_type": "markdown",
   "id": "5eb92423",
   "metadata": {
    "pycharm": {
     "name": "#%% md\n"
    }
   },
   "source": [
    "When looking to the Burned Area, the data shows a more incidence in \"FLorestal\" type. Probably this could happen becaus the tyoe of terrain, since florestal zones are more likely to burn in big areas"
   ]
  },
  {
   "cell_type": "code",
   "execution_count": 90,
   "id": "13b6dbb1",
   "metadata": {
    "pycharm": {
     "name": "#%%\n"
    }
   },
   "outputs": [
    {
     "data": {
      "text/plain": [
       "Text(0, 0.5, 'area (ha)')"
      ]
     },
     "execution_count": 90,
     "metadata": {},
     "output_type": "execute_result"
    },
    {
     "data": {
      "image/png": "[encoded data removed]",
      "text/plain": [
       "<Figure size 1440x720 with 1 Axes>"
      ]
     },
     "metadata": {
      "needs_background": "light"
     },
     "output_type": "display_data"
    }
   ],
   "source": [
    "# Total burned area by  ocurrence\n",
    "\n",
    "k3 = df_filter.groupby(['Tipo', 'Distrito'])['areaArdida'].agg('sum').unstack()\n",
    "\n",
    "k3.plot(kind='bar', stacked=True)\n",
    "\n",
    "# Add title and axis names\n",
    "plt.suptitle('Burned Area by Type of Fire (Tipo and  Location (Ditrito)')\n",
    "plt.title('year 2015')\n",
    "plt.xlabel('TYoe of Fires (Tipo)')\n",
    "plt.ylabel('area (ha)')"
   ]
  },
  {
   "cell_type": "code",
   "execution_count": 91,
   "id": "d08f1148",
   "metadata": {},
   "outputs": [],
   "source": [
    "# create profilling report\n",
    "#profile = ProfileReport(df_filter, title=\"Pandas Profiling Report\", explorative=True)"
   ]
  },
  {
   "cell_type": "code",
   "execution_count": 92,
   "id": "ef75789c",
   "metadata": {},
   "outputs": [],
   "source": [
    "# print the report\n",
    "#profile.to_notebook_iframe()"
   ]
  },
  {
   "cell_type": "code",
   "execution_count": 93,
   "id": "c98ea785",
   "metadata": {},
   "outputs": [
    {
     "name": "stdout",
     "output_type": "stream",
     "text": [
      "['Florestal' 'Queimada' 'Agrícola']\n",
      "['Florestal']\n"
     ]
    }
   ],
   "source": [
    "# filter the data tio Tipo == 'Florestal'\n",
    "\n",
    "print(df_filter['Tipo'].unique())\n",
    "\n",
    "# filter the data tio Tipo == 'Florestal'\n",
    "\n",
    "df_filter= df_filter.loc[df_filter['Tipo'] == 'Florestal']\n",
    "\n",
    "# check disticnt values\n",
    "print(df_filter['Tipo'].unique())\n"
   ]
  },
  {
   "cell_type": "code",
   "execution_count": 94,
   "id": "25901466",
   "metadata": {},
   "outputs": [],
   "source": [
    "# Difine dataset only with numeric columns\n",
    "df_stats = pd.DataFrame(df_filter, columns = ['areaArdida', 'Tempo_de_resposta','tempo_de_extinçao'])"
   ]
  },
  {
   "cell_type": "markdown",
   "id": "6042f340",
   "metadata": {
    "pycharm": {
     "name": "#%% md\n"
    }
   },
   "source": [
    "Looking the statistics of the quantitative variables variables, it seems to be some dispersion in the data and some outliers.\n",
    "We decide to remove these values apllyng a cl"
   ]
  },
  {
   "cell_type": "code",
   "execution_count": 95,
   "id": "5bf216da",
   "metadata": {},
   "outputs": [
    {
     "data": {
      "text/html": [
       "<div>\n",
       "<style scoped>\n",
       "    .dataframe tbody tr th:only-of-type {\n",
       "        vertical-align: middle;\n",
       "    }\n",
       "\n",
       "    .dataframe tbody tr th {\n",
       "        vertical-align: top;\n",
       "    }\n",
       "\n",
       "    .dataframe thead th {\n",
       "        text-align: right;\n",
       "    }\n",
       "</style>\n",
       "<table border=\"1\" class=\"dataframe\">\n",
       "  <thead>\n",
       "    <tr style=\"text-align: right;\">\n",
       "      <th></th>\n",
       "      <th>areaArdida</th>\n",
       "      <th>Tempo_de_resposta</th>\n",
       "      <th>tempo_de_extinçao</th>\n",
       "    </tr>\n",
       "  </thead>\n",
       "  <tbody>\n",
       "    <tr>\n",
       "      <th>count</th>\n",
       "      <td>1545.00</td>\n",
       "      <td>1545.00</td>\n",
       "      <td>1545.00</td>\n",
       "    </tr>\n",
       "    <tr>\n",
       "      <th>mean</th>\n",
       "      <td>14.00</td>\n",
       "      <td>0.21</td>\n",
       "      <td>2.90</td>\n",
       "    </tr>\n",
       "    <tr>\n",
       "      <th>std</th>\n",
       "      <td>166.40</td>\n",
       "      <td>0.20</td>\n",
       "      <td>7.70</td>\n",
       "    </tr>\n",
       "    <tr>\n",
       "      <th>min</th>\n",
       "      <td>0.00</td>\n",
       "      <td>0.00</td>\n",
       "      <td>0.02</td>\n",
       "    </tr>\n",
       "    <tr>\n",
       "      <th>25%</th>\n",
       "      <td>0.02</td>\n",
       "      <td>0.08</td>\n",
       "      <td>1.08</td>\n",
       "    </tr>\n",
       "    <tr>\n",
       "      <th>50%</th>\n",
       "      <td>0.20</td>\n",
       "      <td>0.18</td>\n",
       "      <td>1.73</td>\n",
       "    </tr>\n",
       "    <tr>\n",
       "      <th>75%</th>\n",
       "      <td>1.50</td>\n",
       "      <td>0.27</td>\n",
       "      <td>2.83</td>\n",
       "    </tr>\n",
       "    <tr>\n",
       "      <th>max</th>\n",
       "      <td>4673.00</td>\n",
       "      <td>2.87</td>\n",
       "      <td>165.63</td>\n",
       "    </tr>\n",
       "  </tbody>\n",
       "</table>\n",
       "</div>"
      ],
      "text/plain": [
       "      areaArdida Tempo_de_resposta tempo_de_extinçao\n",
       "count    1545.00           1545.00           1545.00\n",
       "mean       14.00              0.21              2.90\n",
       "std       166.40              0.20              7.70\n",
       "min         0.00              0.00              0.02\n",
       "25%         0.02              0.08              1.08\n",
       "50%         0.20              0.18              1.73\n",
       "75%         1.50              0.27              2.83\n",
       "max      4673.00              2.87            165.63"
      ]
     },
     "execution_count": 95,
     "metadata": {},
     "output_type": "execute_result"
    }
   ],
   "source": [
    "# show statistics values for dataset numeric columns\n",
    "df_stats = df_stats.describe().apply(lambda s: s.apply('{0:.2f}'.format))\n",
    "df_stats"
   ]
  },
  {
   "cell_type": "code",
   "execution_count": 96,
   "id": "082596ed",
   "metadata": {
    "pycharm": {
     "name": "#%%\n"
    }
   },
   "outputs": [
    {
     "data": {
      "text/plain": [
       "array([[<AxesSubplot:title={'center':'areaArdida'}>,\n",
       "        <AxesSubplot:title={'center':'Tempo_de_resposta'}>],\n",
       "       [<AxesSubplot:title={'center':'tempo_de_extinçao'}>,\n",
       "        <AxesSubplot:>]], dtype=object)"
      ]
     },
     "execution_count": 96,
     "metadata": {},
     "output_type": "execute_result"
    },
    {
     "data": {
      "image/png": "[encoded data removed]",
      "text/plain": [
       "<Figure size 1440x720 with 4 Axes>"
      ]
     },
     "metadata": {
      "needs_background": "light"
     },
     "output_type": "display_data"
    }
   ],
   "source": [
    "\n",
    "df_stats__data = DataFrame(df_filter, columns = ['Distrito','areaArdida', 'Tempo_de_resposta','tempo_de_extinçao'])\n",
    "df_stats__data[['areaArdida', 'Tempo_de_resposta','tempo_de_extinçao']].hist()\n"
   ]
  },
  {
   "cell_type": "code",
   "execution_count": 97,
   "id": "47cb5548",
   "metadata": {
    "pycharm": {
     "name": "#%%\n"
    }
   },
   "outputs": [
    {
     "name": "stdout",
     "output_type": "stream",
     "text": [
      "(1545, 8)\n",
      "(1513, 4)\n",
      "Removed  -32  rows\n"
     ]
    }
   ],
   "source": [
    "from scipy import stats\n",
    "df_stats__data = df_stats__data[(np.abs(stats.zscore(df_stats__data[['areaArdida', 'Tempo_de_resposta','tempo_de_extinçao']])) < 3).all(axis=1)]\n",
    "\n",
    "#datasets sizes\n",
    "print(df_filter.shape)\n",
    "\n",
    "print(df_stats__data.shape)\n",
    "\n",
    "print('Removed ',df_stats__data.shape[0] - df_filter.shape[0], ' rows' )"
   ]
  },
  {
   "cell_type": "code",
   "execution_count": 98,
   "id": "129daef3",
   "metadata": {
    "pycharm": {
     "name": "#%%\n"
    }
   },
   "outputs": [
    {
     "data": {
      "text/html": [
       "<div>\n",
       "<style scoped>\n",
       "    .dataframe tbody tr th:only-of-type {\n",
       "        vertical-align: middle;\n",
       "    }\n",
       "\n",
       "    .dataframe tbody tr th {\n",
       "        vertical-align: top;\n",
       "    }\n",
       "\n",
       "    .dataframe thead th {\n",
       "        text-align: right;\n",
       "    }\n",
       "</style>\n",
       "<table border=\"1\" class=\"dataframe\">\n",
       "  <thead>\n",
       "    <tr style=\"text-align: right;\">\n",
       "      <th></th>\n",
       "      <th>areaArdida</th>\n",
       "      <th>Tempo_de_resposta</th>\n",
       "      <th>tempo_de_extinçao</th>\n",
       "    </tr>\n",
       "  </thead>\n",
       "  <tbody>\n",
       "    <tr>\n",
       "      <th>count</th>\n",
       "      <td>1513.00</td>\n",
       "      <td>1513.00</td>\n",
       "      <td>1513.00</td>\n",
       "    </tr>\n",
       "    <tr>\n",
       "      <th>mean</th>\n",
       "      <td>3.92</td>\n",
       "      <td>0.20</td>\n",
       "      <td>2.36</td>\n",
       "    </tr>\n",
       "    <tr>\n",
       "      <th>std</th>\n",
       "      <td>18.22</td>\n",
       "      <td>0.15</td>\n",
       "      <td>2.32</td>\n",
       "    </tr>\n",
       "    <tr>\n",
       "      <th>min</th>\n",
       "      <td>0.00</td>\n",
       "      <td>0.00</td>\n",
       "      <td>0.02</td>\n",
       "    </tr>\n",
       "    <tr>\n",
       "      <th>25%</th>\n",
       "      <td>0.02</td>\n",
       "      <td>0.08</td>\n",
       "      <td>1.08</td>\n",
       "    </tr>\n",
       "    <tr>\n",
       "      <th>50%</th>\n",
       "      <td>0.20</td>\n",
       "      <td>0.17</td>\n",
       "      <td>1.72</td>\n",
       "    </tr>\n",
       "    <tr>\n",
       "      <th>75%</th>\n",
       "      <td>1.50</td>\n",
       "      <td>0.27</td>\n",
       "      <td>2.80</td>\n",
       "    </tr>\n",
       "    <tr>\n",
       "      <th>max</th>\n",
       "      <td>272.00</td>\n",
       "      <td>0.80</td>\n",
       "      <td>24.67</td>\n",
       "    </tr>\n",
       "  </tbody>\n",
       "</table>\n",
       "</div>"
      ],
      "text/plain": [
       "      areaArdida Tempo_de_resposta tempo_de_extinçao\n",
       "count    1513.00           1513.00           1513.00\n",
       "mean        3.92              0.20              2.36\n",
       "std        18.22              0.15              2.32\n",
       "min         0.00              0.00              0.02\n",
       "25%         0.02              0.08              1.08\n",
       "50%         0.20              0.17              1.72\n",
       "75%         1.50              0.27              2.80\n",
       "max       272.00              0.80             24.67"
      ]
     },
     "execution_count": 98,
     "metadata": {},
     "output_type": "execute_result"
    }
   ],
   "source": [
    "df_stats = df_stats__data.describe().apply(lambda s: s.apply('{0:.2f}'.format))\n",
    "df_stats"
   ]
  },
  {
   "cell_type": "markdown",
   "id": "21c4437a",
   "metadata": {
    "pycharm": {
     "name": "#%% md\n"
    }
   },
   "source": [
    "**Looking for the quantitativ variaboes in the data set, we have:**\n",
    "\n",
    "* Response Time ( Tempo_de_resposta) with a median of 0.17 hours (aprox: 10 minutes)\n",
    "* Burned area ( areaArdida) with a median of 0.10 ha\n",
    "* time to extinct the fir (tempo_de_extinção) with a median of 1.5 hours\n",
    "\n"
   ]
  },
  {
   "cell_type": "code",
   "execution_count": 99,
   "id": "778a9514",
   "metadata": {
    "pycharm": {
     "name": "#%%\n"
    }
   },
   "outputs": [
    {
     "data": {
      "text/plain": [
       "array([[<AxesSubplot:title={'center':'areaArdida'}>,\n",
       "        <AxesSubplot:title={'center':'Tempo_de_resposta'}>],\n",
       "       [<AxesSubplot:title={'center':'tempo_de_extinçao'}>,\n",
       "        <AxesSubplot:>]], dtype=object)"
      ]
     },
     "execution_count": 99,
     "metadata": {},
     "output_type": "execute_result"
    },
    {
     "data": {
      "image/png": "[encoded data removed]",
      "text/plain": [
       "<Figure size 1440x720 with 4 Axes>"
      ]
     },
     "metadata": {
      "needs_background": "light"
     },
     "output_type": "display_data"
    }
   ],
   "source": [
    "df_stats__data[['areaArdida', 'Tempo_de_resposta','tempo_de_extinçao']].hist()"
   ]
  },
  {
   "cell_type": "code",
   "execution_count": 409,
   "id": "5e9accd5",
   "metadata": {
    "pycharm": {
     "name": "#%%\n"
    }
   },
   "outputs": [
    {
     "data": {
      "text/plain": [
       "<AxesSubplot:>"
      ]
     },
     "execution_count": 409,
     "metadata": {},
     "output_type": "execute_result"
    },
    {
     "data": {
      "image/png": "[encoded data removed]",
      "text/plain": [
       "<Figure size 1440x720 with 1 Axes>"
      ]
     },
     "metadata": {
      "needs_background": "light"
     },
     "output_type": "display_data"
    }
   ],
   "source": [
    "df_stats__data[['areaArdida']].boxplot()"
   ]
  },
  {
   "cell_type": "code",
   "execution_count": 115,
   "id": "125ac923",
   "metadata": {
    "pycharm": {
     "name": "#%%\n"
    }
   },
   "outputs": [
    {
     "data": {
      "text/plain": [
       "Text(0, 0.5, 'area (ha)')"
      ]
     },
     "execution_count": 115,
     "metadata": {},
     "output_type": "execute_result"
    },
    {
     "data": {
      "image/png": "[encoded data removed]",
      "text/plain": [
       "<Figure size 1440x720 with 1 Axes>"
      ]
     },
     "metadata": {
      "needs_background": "light"
     },
     "output_type": "display_data"
    }
   ],
   "source": [
    "\n",
    "df_stats__data.pivot(columns='Distrito',values='areaArdida').boxplot()\n",
    "# Add title and axis names\n",
    "plt.suptitle('Boxplot of Burned Area by  Location (Ditrito)')\n",
    "plt.title('year 2015')\n",
    "plt.xlabel('Distrito')\n",
    "plt.ylabel('area (ha)')"
   ]
  },
  {
   "cell_type": "markdown",
   "id": "f6026fa5",
   "metadata": {
    "pycharm": {
     "name": "#%% md\n"
    }
   },
   "source": [
    "For burned area we have:\n",
    "* Guarda with a mean burned area by fire of 6.06 ha\n",
    "* Viana do Castelo with a mean burned area of 3.05\n",
    "\n",
    "It looks that Guarda ha mor burned area by fire than Viana do Castelo although Viana do Castelo seemms to have more fire incidences"
   ]
  },
  {
   "cell_type": "code",
   "execution_count": 127,
   "id": "b6dbe82c",
   "metadata": {
    "pycharm": {
     "name": "#%%\n"
    }
   },
   "outputs": [
    {
     "data": {
      "text/html": [
       "<div>\n",
       "<style scoped>\n",
       "    .dataframe tbody tr th:only-of-type {\n",
       "        vertical-align: middle;\n",
       "    }\n",
       "\n",
       "    .dataframe tbody tr th {\n",
       "        vertical-align: top;\n",
       "    }\n",
       "\n",
       "    .dataframe thead th {\n",
       "        text-align: right;\n",
       "    }\n",
       "</style>\n",
       "<table border=\"1\" class=\"dataframe\">\n",
       "  <thead>\n",
       "    <tr style=\"text-align: right;\">\n",
       "      <th></th>\n",
       "      <th>count</th>\n",
       "      <th>mean</th>\n",
       "      <th>std</th>\n",
       "      <th>min</th>\n",
       "      <th>25%</th>\n",
       "      <th>50%</th>\n",
       "      <th>75%</th>\n",
       "      <th>max</th>\n",
       "    </tr>\n",
       "    <tr>\n",
       "      <th>Distrito</th>\n",
       "      <th></th>\n",
       "      <th></th>\n",
       "      <th></th>\n",
       "      <th></th>\n",
       "      <th></th>\n",
       "      <th></th>\n",
       "      <th></th>\n",
       "      <th></th>\n",
       "    </tr>\n",
       "  </thead>\n",
       "  <tbody>\n",
       "    <tr>\n",
       "      <th>Guarda</th>\n",
       "      <td>436.0</td>\n",
       "      <td>6.068574</td>\n",
       "      <td>23.014143</td>\n",
       "      <td>0.00005</td>\n",
       "      <td>0.05</td>\n",
       "      <td>0.50</td>\n",
       "      <td>3.0</td>\n",
       "      <td>250.0</td>\n",
       "    </tr>\n",
       "    <tr>\n",
       "      <th>Viana do Castelo</th>\n",
       "      <td>1077.0</td>\n",
       "      <td>3.052255</td>\n",
       "      <td>15.799523</td>\n",
       "      <td>0.00010</td>\n",
       "      <td>0.02</td>\n",
       "      <td>0.12</td>\n",
       "      <td>1.0</td>\n",
       "      <td>272.0</td>\n",
       "    </tr>\n",
       "  </tbody>\n",
       "</table>\n",
       "</div>"
      ],
      "text/plain": [
       "                   count      mean        std      min   25%   50%  75%    max\n",
       "Distrito                                                                      \n",
       "Guarda             436.0  6.068574  23.014143  0.00005  0.05  0.50  3.0  250.0\n",
       "Viana do Castelo  1077.0  3.052255  15.799523  0.00010  0.02  0.12  1.0  272.0"
      ]
     },
     "execution_count": 127,
     "metadata": {},
     "output_type": "execute_result"
    }
   ],
   "source": [
    "\n",
    "# group by stats for burned area group by distrito\n",
    "#df_stats__data\n",
    "df_stats__data.groupby(by=\"Distrito\")['areaArdida'].describe()\n"
   ]
  },
  {
   "cell_type": "markdown",
   "id": "00894f5a",
   "metadata": {
    "pycharm": {
     "name": "#%% md\n"
    }
   },
   "source": [
    "For Response Time (RT) we have:\n",
    "* Guarda with a mean RT of 0.22 hours --> apprx. 13 minutes\n",
    "* Viana do Castelo with a mean RT of 0.19 hours --> apprx. 11 minutes\n",
    "\n",
    "Aside the previous results, it seems like theres no significant difference in RT in both locations\n",
    "Also the variance seems to be diferent in both\n"
   ]
  },
  {
   "cell_type": "code",
   "execution_count": 128,
   "id": "ffc17ff5",
   "metadata": {
    "pycharm": {
     "name": "#%%\n"
    }
   },
   "outputs": [
    {
     "data": {
      "text/html": [
       "<div>\n",
       "<style scoped>\n",
       "    .dataframe tbody tr th:only-of-type {\n",
       "        vertical-align: middle;\n",
       "    }\n",
       "\n",
       "    .dataframe tbody tr th {\n",
       "        vertical-align: top;\n",
       "    }\n",
       "\n",
       "    .dataframe thead th {\n",
       "        text-align: right;\n",
       "    }\n",
       "</style>\n",
       "<table border=\"1\" class=\"dataframe\">\n",
       "  <thead>\n",
       "    <tr style=\"text-align: right;\">\n",
       "      <th></th>\n",
       "      <th>count</th>\n",
       "      <th>mean</th>\n",
       "      <th>std</th>\n",
       "      <th>min</th>\n",
       "      <th>25%</th>\n",
       "      <th>50%</th>\n",
       "      <th>75%</th>\n",
       "      <th>max</th>\n",
       "    </tr>\n",
       "    <tr>\n",
       "      <th>Distrito</th>\n",
       "      <th></th>\n",
       "      <th></th>\n",
       "      <th></th>\n",
       "      <th></th>\n",
       "      <th></th>\n",
       "      <th></th>\n",
       "      <th></th>\n",
       "      <th></th>\n",
       "    </tr>\n",
       "  </thead>\n",
       "  <tbody>\n",
       "    <tr>\n",
       "      <th>Guarda</th>\n",
       "      <td>436.0</td>\n",
       "      <td>0.221063</td>\n",
       "      <td>0.160679</td>\n",
       "      <td>0.0</td>\n",
       "      <td>0.100000</td>\n",
       "      <td>0.200000</td>\n",
       "      <td>0.300000</td>\n",
       "      <td>0.783333</td>\n",
       "    </tr>\n",
       "    <tr>\n",
       "      <th>Viana do Castelo</th>\n",
       "      <td>1077.0</td>\n",
       "      <td>0.191071</td>\n",
       "      <td>0.151611</td>\n",
       "      <td>0.0</td>\n",
       "      <td>0.083333</td>\n",
       "      <td>0.166667</td>\n",
       "      <td>0.266667</td>\n",
       "      <td>0.800000</td>\n",
       "    </tr>\n",
       "  </tbody>\n",
       "</table>\n",
       "</div>"
      ],
      "text/plain": [
       "                   count      mean       std  min       25%       50%  \\\n",
       "Distrito                                                                \n",
       "Guarda             436.0  0.221063  0.160679  0.0  0.100000  0.200000   \n",
       "Viana do Castelo  1077.0  0.191071  0.151611  0.0  0.083333  0.166667   \n",
       "\n",
       "                       75%       max  \n",
       "Distrito                              \n",
       "Guarda            0.300000  0.783333  \n",
       "Viana do Castelo  0.266667  0.800000  "
      ]
     },
     "execution_count": 128,
     "metadata": {},
     "output_type": "execute_result"
    }
   ],
   "source": [
    " #group by stats for burned area group by distrito\n",
    "\n",
    "df_stats__data.groupby(by=\"Distrito\")['Tempo_de_resposta'].describe()"
   ]
  },
  {
   "cell_type": "markdown",
   "id": "bc41f0d2",
   "metadata": {
    "pycharm": {
     "name": "#%% md\n"
    }
   },
   "source": [
    "For the extinction time (ET) we have:\n",
    "* Guarda with a mean ET of 2.46 hours\n",
    "* Viana do Castelo with a mean ET of 2.31 hours\n",
    "\n",
    "Aside the previous results, it seems like theres no significant difference in ET in both locations\n"
   ]
  },
  {
   "cell_type": "code",
   "execution_count": 130,
   "id": "34ec6c30",
   "metadata": {
    "pycharm": {
     "name": "#%%\n"
    }
   },
   "outputs": [
    {
     "data": {
      "text/html": [
       "<div>\n",
       "<style scoped>\n",
       "    .dataframe tbody tr th:only-of-type {\n",
       "        vertical-align: middle;\n",
       "    }\n",
       "\n",
       "    .dataframe tbody tr th {\n",
       "        vertical-align: top;\n",
       "    }\n",
       "\n",
       "    .dataframe thead th {\n",
       "        text-align: right;\n",
       "    }\n",
       "</style>\n",
       "<table border=\"1\" class=\"dataframe\">\n",
       "  <thead>\n",
       "    <tr style=\"text-align: right;\">\n",
       "      <th></th>\n",
       "      <th>count</th>\n",
       "      <th>mean</th>\n",
       "      <th>std</th>\n",
       "      <th>min</th>\n",
       "      <th>25%</th>\n",
       "      <th>50%</th>\n",
       "      <th>75%</th>\n",
       "      <th>max</th>\n",
       "    </tr>\n",
       "    <tr>\n",
       "      <th>Distrito</th>\n",
       "      <th></th>\n",
       "      <th></th>\n",
       "      <th></th>\n",
       "      <th></th>\n",
       "      <th></th>\n",
       "      <th></th>\n",
       "      <th></th>\n",
       "      <th></th>\n",
       "    </tr>\n",
       "  </thead>\n",
       "  <tbody>\n",
       "    <tr>\n",
       "      <th>Guarda</th>\n",
       "      <td>436.0</td>\n",
       "      <td>2.468196</td>\n",
       "      <td>2.431109</td>\n",
       "      <td>0.166667</td>\n",
       "      <td>1.083333</td>\n",
       "      <td>1.891667</td>\n",
       "      <td>2.833333</td>\n",
       "      <td>24.666667</td>\n",
       "    </tr>\n",
       "    <tr>\n",
       "      <th>Viana do Castelo</th>\n",
       "      <td>1077.0</td>\n",
       "      <td>2.315258</td>\n",
       "      <td>2.273200</td>\n",
       "      <td>0.016667</td>\n",
       "      <td>1.083333</td>\n",
       "      <td>1.666667</td>\n",
       "      <td>2.733333</td>\n",
       "      <td>22.000000</td>\n",
       "    </tr>\n",
       "  </tbody>\n",
       "</table>\n",
       "</div>"
      ],
      "text/plain": [
       "                   count      mean       std       min       25%       50%  \\\n",
       "Distrito                                                                     \n",
       "Guarda             436.0  2.468196  2.431109  0.166667  1.083333  1.891667   \n",
       "Viana do Castelo  1077.0  2.315258  2.273200  0.016667  1.083333  1.666667   \n",
       "\n",
       "                       75%        max  \n",
       "Distrito                               \n",
       "Guarda            2.833333  24.666667  \n",
       "Viana do Castelo  2.733333  22.000000  "
      ]
     },
     "execution_count": 130,
     "metadata": {},
     "output_type": "execute_result"
    }
   ],
   "source": [
    "df_stats__data.groupby(by=\"Distrito\")['tempo_de_extinçao'].describe()"
   ]
  },
  {
   "cell_type": "markdown",
   "id": "b43b3e77",
   "metadata": {
    "pycharm": {
     "name": "#%% md\n"
    }
   },
   "source": [
    "## Inference\n",
    "\n",
    "As we are interested in understanding the impact of the fires, we want to find if there's significant differences between the Burned Ares of the two locations and if theres some relation between the amount of Burned Area and the Response Time to the fires.\n",
    "\n",
    "Question 1:\n",
    "- Is the mean Burned Area per fire significantly different in the two locations? Remeber the means: Guarda = 6.06 and Viana do Castelo = 3.05 ha\n",
    "\n",
    "Question 2:\n",
    "- Is there a relation between the Burned Area and the time to Response that causes more or less impact?\n",
    "\n"
   ]
  },
  {
   "cell_type": "markdown",
   "id": "8d0f3291",
   "metadata": {
    "pycharm": {
     "name": "#%% md\n"
    }
   },
   "source": [
    "Question 1:\n",
    "- Is the mean Burned Area per fire significantly different in the two locations? Remeber the means: Guarda = 6.06 and Viana do Castelo = 3.05 ha\n",
    "\n",
    "**Conduct a two sample t-test.**\n",
    "we need to decide if we’ll assume the two populations have equal variances or not.\n",
    "As a rule of thumb, we can assume the populations have equal variances if the ratio of the larger sample variance to the smaller sample variance is less than 4:1.\n",
    "\n",
    "2.11 < 4 This means we can assume that the population variances are equal.\n",
    "Thus, we can proceed to perform the two sample t-test with equal variances\n"
   ]
  },
  {
   "cell_type": "code",
   "execution_count": 1,
   "id": "a7e34b61",
   "metadata": {
    "pycharm": {
     "name": "#%%\n"
    }
   },
   "outputs": [
    {
     "ename": "NameError",
     "evalue": "name 'df_stats__data' is not defined",
     "output_type": "error",
     "traceback": [
      "\u001b[0;31m---------------------------------------------------------------------------\u001b[0m",
      "\u001b[0;31mNameError\u001b[0m                                 Traceback (most recent call last)",
      "Input \u001b[0;32mIn [1]\u001b[0m, in \u001b[0;36m<cell line: 3>\u001b[0;34m()\u001b[0m\n\u001b[1;32m      1\u001b[0m \u001b[38;5;28;01mimport\u001b[39;00m \u001b[38;5;21;01mnumpy\u001b[39;00m \u001b[38;5;28;01mas\u001b[39;00m \u001b[38;5;21;01mnp\u001b[39;00m\n\u001b[0;32m----> 3\u001b[0m group1 \u001b[38;5;241m=\u001b[39m \u001b[43mdf_stats__data\u001b[49m[df_stats__data[\u001b[38;5;124m'\u001b[39m\u001b[38;5;124mDistrito\u001b[39m\u001b[38;5;124m'\u001b[39m]\u001b[38;5;241m==\u001b[39m\u001b[38;5;124m'\u001b[39m\u001b[38;5;124mGuarda\u001b[39m\u001b[38;5;124m'\u001b[39m][\u001b[38;5;124m'\u001b[39m\u001b[38;5;124mareaArdida\u001b[39m\u001b[38;5;124m'\u001b[39m]\n\u001b[1;32m      4\u001b[0m group2 \u001b[38;5;241m=\u001b[39m df_stats__data[df_stats__data[\u001b[38;5;124m'\u001b[39m\u001b[38;5;124mDistrito\u001b[39m\u001b[38;5;124m'\u001b[39m]\u001b[38;5;241m==\u001b[39m\u001b[38;5;124m'\u001b[39m\u001b[38;5;124mViana do Castelo\u001b[39m\u001b[38;5;124m'\u001b[39m][\u001b[38;5;124m'\u001b[39m\u001b[38;5;124mareaArdida\u001b[39m\u001b[38;5;124m'\u001b[39m]\n\u001b[1;32m      6\u001b[0m \u001b[38;5;28mprint\u001b[39m(\u001b[38;5;124m'\u001b[39m\u001b[38;5;124mGuarda variance: \u001b[39m\u001b[38;5;124m'\u001b[39m,np\u001b[38;5;241m.\u001b[39mvar(group1))\n",
      "\u001b[0;31mNameError\u001b[0m: name 'df_stats__data' is not defined"
     ]
    }
   ],
   "source": [
    "import numpy as np\n",
    "\n",
    "group1 = df_stats__data[df_stats__data['Distrito']=='Guarda']['areaArdida']\n",
    "group2 = df_stats__data[df_stats__data['Distrito']=='Viana do Castelo']['areaArdida']\n",
    "\n",
    "print('Guarda variance: ',np.var(group1))\n",
    "print('Guarda variance: ',np.var(group2))\n",
    "\n",
    "print('variance ratio: ',\n",
    "    max(np.var(group1), np.var(group2)) / min(np.var(group1), np.var(group2)))\n"
   ]
  },
  {
   "cell_type": "markdown",
   "id": "11f7036e",
   "metadata": {
    "pycharm": {
     "name": "#%% md\n"
    }
   },
   "source": [
    "2.11 < 4 This means we can assume that the population variances are equal.\n",
    "Thus, we can proceed to perform the two sample t-test with equal variances"
   ]
  },
  {
   "cell_type": "code",
   "execution_count": 155,
   "id": "8b135719",
   "metadata": {
    "pycharm": {
     "name": "#%%\n"
    }
   },
   "outputs": [
    {
     "data": {
      "text/plain": [
       "Ttest_indResult(statistic=2.924106465118234, pvalue=0.003505939195406723)"
      ]
     },
     "execution_count": 155,
     "metadata": {},
     "output_type": "execute_result"
    }
   ],
   "source": [
    "import scipy.stats as stats\n",
    "\n",
    "#perform two sample t-test with equal variances\n",
    "stats.ttest_ind(a=group1, b=group2, equal_var=True)\n"
   ]
  },
  {
   "cell_type": "markdown",
   "id": "13116e6c",
   "metadata": {
    "pycharm": {
     "name": "#%% md\n"
    }
   },
   "source": [
    "The t test statistic is 2.924 and the corresponding two-sided p-value is 0.003.\n",
    "\n",
    "The two hypotheses for this particular two sample t-test are as follows:\n",
    "\n",
    "H0: µ1 = µ2 (the two population means are equal)\n",
    "\n",
    "HA: µ1 ≠µ2 (the two population means are not equal)\n",
    "\n",
    "Because the p-value of our test (0.003) is less than alpha = 0.05, we  reject the null hypothesis of the test.\n",
    "\n",
    "Acepting the alternative hypothesis says that the two population means are not equal or, the mean Burned area from this two locations are not equal"
   ]
  },
  {
   "cell_type": "markdown",
   "id": "dd59ba90",
   "metadata": {
    "pycharm": {
     "name": "#%% md\n"
    }
   },
   "source": [
    "Question 2:\n",
    "- Is there a relation between the Burned Area and the time to Response that causes more or less impact?\n",
    "\n",
    "\n",
    "Independence test for continuous variables\n",
    "\n",
    "In general, Pearson correlation ρ does not represent the independence or dependence, but a linear relationship between two random variables. If we assume that paired two random variables are either independent or just linearly related, then Pearson correlation ρ can be used to measure independency.\n",
    "\n",
    "The covariance and covariance matrix are used widely within statistics and multivariate analysis to characterize the relationships between two or more variables.\n"
   ]
  },
  {
   "cell_type": "code",
   "execution_count": 166,
   "id": "bb79f7cf",
   "metadata": {
    "pycharm": {
     "name": "#%%\n"
    }
   },
   "outputs": [
    {
     "name": "stderr",
     "output_type": "stream",
     "text": [
      "C:\\Users\\hugo.nogueira\\AppData\\Local\\Continuum\\anaconda3\\lib\\site-packages\\seaborn\\regression.py:592: UserWarning: legend_out is deprecated from the `lmplot` function signature. Please update your code to pass it using `facet_kws`.\n",
      "  warnings.warn(msg, UserWarning)\n"
     ]
    },
    {
     "data": {
      "image/png": "[encoded data removed]",
      "text/plain": [
       "<Figure size 483.225x360 with 1 Axes>"
      ]
     },
     "metadata": {},
     "output_type": "display_data"
    }
   ],
   "source": [
    "#analyze relationship between two variables\n",
    "facet = sns.lmplot(data=df_stats__data, x='Tempo_de_resposta', y='areaArdida',hue='Distrito', palette='rainbow',\n",
    "                   fit_reg=False, legend=True, legend_out=True)"
   ]
  },
  {
   "cell_type": "code",
   "execution_count": 160,
   "id": "52e07685",
   "metadata": {
    "pycharm": {
     "name": "#%%\n"
    }
   },
   "outputs": [
    {
     "name": "stdout",
     "output_type": "stream",
     "text": [
      "[[3.31890341e+02 1.85247199e-01]\n",
      " [1.85247199e-01 2.39700090e-02]]\n"
     ]
    }
   ],
   "source": [
    "from numpy.random import randn\n",
    "from numpy.random import seed\n",
    "from numpy import cov\n",
    "\n",
    "data1 = df_stats__data['areaArdida']\n",
    "data2 = df_stats__data['Tempo_de_resposta']\n",
    "\n",
    "# calculate covariance matrix\n",
    "covariance = cov(data1, data2)\n",
    "print(covariance)"
   ]
  },
  {
   "cell_type": "markdown",
   "id": "4c596f18",
   "metadata": {
    "pycharm": {
     "name": "#%% md\n"
    }
   },
   "source": [
    "The covariance between the two variables is almost 0 (1.85247199e-01) suggesting the variables are independent as we expect."
   ]
  },
  {
   "cell_type": "code",
   "execution_count": 164,
   "id": "2104556d",
   "metadata": {
    "pycharm": {
     "name": "#%%\n"
    }
   },
   "outputs": [
    {
     "name": "stdout",
     "output_type": "stream",
     "text": [
      "Pearsons correlation: 0.066\n"
     ]
    }
   ],
   "source": [
    "from scipy.stats import pearsonr\n",
    "\n",
    "# calculate Pearson's correlation\n",
    "corr, _ = pearsonr(data1, data2)\n",
    "print('Pearsons correlation: %.3f' % corr)"
   ]
  },
  {
   "cell_type": "markdown",
   "id": "5e3223ef",
   "metadata": {
    "pycharm": {
     "name": "#%% md\n"
    }
   },
   "source": [
    "We can see that the two variables are not correlated ( value appr. 0) and that the correlation is 0.066.\n",
    "This suggests a no level of correlation\n"
   ]
  },
  {
   "cell_type": "code",
   "execution_count": 156,
   "id": "9efccf0d",
   "metadata": {
    "pycharm": {
     "name": "#%%\n"
    }
   },
   "outputs": [
    {
     "data": {
      "text/plain": [
       "<AxesSubplot:>"
      ]
     },
     "execution_count": 156,
     "metadata": {},
     "output_type": "execute_result"
    },
    {
     "data": {
      "image/png": "[encoded data removed]",
      "text/plain": [
       "<Figure size 720x720 with 2 Axes>"
      ]
     },
     "metadata": {},
     "output_type": "display_data"
    }
   ],
   "source": [
    "# Correlation heatmap\n",
    "#sns.set(rc={'figure.figsize':(20,10)})\n",
    "#correlation = df_stats__data.corr()\n",
    "#plt.figure(figsize=(10, 10))\n",
    "#sns.heatmap(correlation, vmax=1, square=True, annot=True, cmap='cubehelix')"
   ]
  },
  {
   "cell_type": "code",
   "execution_count": 167,
   "id": "01e3e041",
   "metadata": {
    "pycharm": {
     "name": "#%%\n"
    }
   },
   "outputs": [
    {
     "data": {
      "image/png": "[encoded data removed]",
      "text/plain": [
       "<Figure size 663.225x540 with 12 Axes>"
      ]
     },
     "metadata": {},
     "output_type": "display_data"
    }
   ],
   "source": [
    "# Pairwise plots\n",
    "pplot = sns.pairplot(df_stats__data, hue=\"Distrito\") # data frame with no outliers\n"
   ]
  }
 ],
 "metadata": {
  "kernelspec": {
   "display_name": "Python 3 (ipykernel)",
   "language": "python",
   "name": "python3"
  },
  "language_info": {
   "codemirror_mode": {
    "name": "ipython",
    "version": 3
   },
   "file_extension": ".py",
   "mimetype": "text/x-python",
   "name": "python",
   "nbconvert_exporter": "python",
   "pygments_lexer": "ipython3",
   "version": "3.9.7"
  }
 },
 "nbformat": 4,
 "nbformat_minor": 5
}
