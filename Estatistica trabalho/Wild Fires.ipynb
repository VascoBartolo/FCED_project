{
 "cells": [
  {
   "cell_type": "markdown",
   "metadata": {
    "collapsed": true,
    "pycharm": {
     "name": "#%% md\n"
    }
   },
   "source": [
    "# The data\n",
    "\n",
    "## Variaveis quantitativas\n",
    "Data1Intervencao - HoraAlerta = Tempo_de_resposta\n",
    "Hora1Intervencao - HoraExtincao = tempo_de_extinçao\n",
    "AA_Total_pov_mato_agric_ha\n",
    "\n",
    "## Variaveis categoricas\n",
    "Tipo --> tipo de incendio  ( retirar os Falsos alarmes)\n",
    "Distrito --> zonas dos incendios .. focar nos distritos com maior area ardida --Guarda e Viana do Castelo\n",
    "Guarda           12016.\n",
    " 2 Viana do Castelo  9868.\n",
    "\n",
    "\n",
    "### Reading Data"
   ]
  },
  {
   "cell_type": "code",
   "execution_count": 2,
   "outputs": [],
   "source": [
    "# libs\n",
    "import warnings;\n",
    "warnings.simplefilter('ignore')"
   ],
   "metadata": {
    "collapsed": false,
    "pycharm": {
     "name": "#%%\n"
    }
   }
  },
  {
   "cell_type": "code",
   "execution_count": 3,
   "outputs": [],
   "source": [
    "import statsmodels.api as sm\n",
    "import matplotlib.pyplot as plt\n",
    "import pandas as pd\n",
    "\n",
    "from statsmodels.stats.weightstats import ttest_ind"
   ],
   "metadata": {
    "collapsed": false,
    "pycharm": {
     "name": "#%%\n"
    }
   }
  },
  {
   "cell_type": "code",
   "execution_count": 27,
   "outputs": [
    {
     "data": {
      "text/plain": "           Tipo          Distrito           DataAlerta     Data1Intervencao  \\\n0     Florestal  Viana do Castelo  2015-03-24 17:01:00  2015-03-24 17:10:00   \n1     Florestal             Porto  2015-03-24 17:10:00  2015-03-24 17:16:00   \n2     Florestal             Braga  2015-03-24 19:15:00  2015-03-24 19:25:00   \n3  Falso Alarme  Viana do Castelo  2015-03-24 20:05:00  2015-03-24 20:20:00   \n4      Agrícola             Viseu  2015-03-24 20:10:00  2015-03-24 20:15:00   \n\n          DataExtincao  areaArdida  Tempo_de_resposta  tempo_de_extinçao  \n0  2015-03-24 18:09:00        2.50           0.150000           0.983333  \n1  2015-03-24 18:47:00        1.35           0.100000           1.516667  \n2  2015-03-24 20:00:00        0.26           0.166667           0.583333  \n3  2015-03-24 21:30:00        0.00           0.250000           1.166667  \n4  2015-03-24 21:00:00        0.05           0.083333           0.750000  ",
      "text/html": "<div>\n<style scoped>\n    .dataframe tbody tr th:only-of-type {\n        vertical-align: middle;\n    }\n\n    .dataframe tbody tr th {\n        vertical-align: top;\n    }\n\n    .dataframe thead th {\n        text-align: right;\n    }\n</style>\n<table border=\"1\" class=\"dataframe\">\n  <thead>\n    <tr style=\"text-align: right;\">\n      <th></th>\n      <th>Tipo</th>\n      <th>Distrito</th>\n      <th>DataAlerta</th>\n      <th>Data1Intervencao</th>\n      <th>DataExtincao</th>\n      <th>areaArdida</th>\n      <th>Tempo_de_resposta</th>\n      <th>tempo_de_extinçao</th>\n    </tr>\n  </thead>\n  <tbody>\n    <tr>\n      <th>0</th>\n      <td>Florestal</td>\n      <td>Viana do Castelo</td>\n      <td>2015-03-24 17:01:00</td>\n      <td>2015-03-24 17:10:00</td>\n      <td>2015-03-24 18:09:00</td>\n      <td>2.50</td>\n      <td>0.150000</td>\n      <td>0.983333</td>\n    </tr>\n    <tr>\n      <th>1</th>\n      <td>Florestal</td>\n      <td>Porto</td>\n      <td>2015-03-24 17:10:00</td>\n      <td>2015-03-24 17:16:00</td>\n      <td>2015-03-24 18:47:00</td>\n      <td>1.35</td>\n      <td>0.100000</td>\n      <td>1.516667</td>\n    </tr>\n    <tr>\n      <th>2</th>\n      <td>Florestal</td>\n      <td>Braga</td>\n      <td>2015-03-24 19:15:00</td>\n      <td>2015-03-24 19:25:00</td>\n      <td>2015-03-24 20:00:00</td>\n      <td>0.26</td>\n      <td>0.166667</td>\n      <td>0.583333</td>\n    </tr>\n    <tr>\n      <th>3</th>\n      <td>Falso Alarme</td>\n      <td>Viana do Castelo</td>\n      <td>2015-03-24 20:05:00</td>\n      <td>2015-03-24 20:20:00</td>\n      <td>2015-03-24 21:30:00</td>\n      <td>0.00</td>\n      <td>0.250000</td>\n      <td>1.166667</td>\n    </tr>\n    <tr>\n      <th>4</th>\n      <td>Agrícola</td>\n      <td>Viseu</td>\n      <td>2015-03-24 20:10:00</td>\n      <td>2015-03-24 20:15:00</td>\n      <td>2015-03-24 21:00:00</td>\n      <td>0.05</td>\n      <td>0.083333</td>\n      <td>0.750000</td>\n    </tr>\n  </tbody>\n</table>\n</div>"
     },
     "execution_count": 27,
     "metadata": {},
     "output_type": "execute_result"
    }
   ],
   "source": [
    "df = pd.read_csv('data/Lista_Incendios_2015_v4.csv',sep=';')\n",
    "\n",
    "df.head()"
   ],
   "metadata": {
    "collapsed": false,
    "pycharm": {
     "name": "#%%\n"
    }
   }
  },
  {
   "cell_type": "markdown",
   "source": [],
   "metadata": {
    "collapsed": false,
    "pycharm": {
     "name": "#%% md\n"
    }
   }
  },
  {
   "cell_type": "code",
   "execution_count": 28,
   "outputs": [
    {
     "data": {
      "text/plain": "Index(['Tipo', 'Distrito', 'DataAlerta', 'Data1Intervencao', 'DataExtincao',\n       'areaArdida', 'Tempo_de_resposta', 'tempo_de_extinçao'],\n      dtype='object')"
     },
     "execution_count": 28,
     "metadata": {},
     "output_type": "execute_result"
    }
   ],
   "source": [
    "df.columns"
   ],
   "metadata": {
    "collapsed": false,
    "pycharm": {
     "name": "#%%\n"
    }
   }
  },
  {
   "cell_type": "code",
   "execution_count": 37,
   "outputs": [],
   "source": [
    "# rwetirar os falsos alarmes\n",
    "\n",
    "df = df[df['Tipo'] != 'Falso Alarme']\n"
   ],
   "metadata": {
    "collapsed": false,
    "pycharm": {
     "name": "#%%\n"
    }
   }
  },
  {
   "cell_type": "code",
   "execution_count": 38,
   "outputs": [
    {
     "data": {
      "text/plain": "<AxesSubplot:>"
     },
     "execution_count": 38,
     "metadata": {},
     "output_type": "execute_result"
    },
    {
     "data": {
      "text/plain": "<Figure size 432x288 with 1 Axes>",
      "image/png": "[encoded data removed]"
     },
     "metadata": {
      "needs_background": "light"
     },
     "output_type": "display_data"
    }
   ],
   "source": [
    "df['Tempo_de_resposta'].hist()"
   ],
   "metadata": {
    "collapsed": false,
    "pycharm": {
     "name": "#%%\n"
    }
   }
  },
  {
   "cell_type": "code",
   "execution_count": 39,
   "outputs": [
    {
     "data": {
      "text/plain": "<AxesSubplot:title={'center':'tempo_de_extinçao'}, xlabel='Distrito'>"
     },
     "execution_count": 39,
     "metadata": {},
     "output_type": "execute_result"
    },
    {
     "data": {
      "text/plain": "<Figure size 432x288 with 1 Axes>",
      "image/png": "[encoded data removed]"
     },
     "metadata": {
      "needs_background": "light"
     },
     "output_type": "display_data"
    }
   ],
   "source": [
    "df.boxplot(column=['tempo_de_extinçao'], by='Distrito')"
   ],
   "metadata": {
    "collapsed": false,
    "pycharm": {
     "name": "#%%\n"
    }
   }
  },
  {
   "cell_type": "code",
   "execution_count": 40,
   "outputs": [
    {
     "data": {
      "text/plain": "<AxesSubplot:title={'center':'Tempo_de_resposta'}, xlabel='Distrito'>"
     },
     "execution_count": 40,
     "metadata": {},
     "output_type": "execute_result"
    },
    {
     "data": {
      "text/plain": "<Figure size 432x288 with 1 Axes>",
      "image/png": "[encoded data removed]"
     },
     "metadata": {
      "needs_background": "light"
     },
     "output_type": "display_data"
    }
   ],
   "source": [
    "df.boxplot(column=['Tempo_de_resposta'], by='Distrito')"
   ],
   "metadata": {
    "collapsed": false,
    "pycharm": {
     "name": "#%%\n"
    }
   }
  },
  {
   "cell_type": "markdown",
   "source": [],
   "metadata": {
    "collapsed": false,
    "pycharm": {
     "name": "#%% md\n"
    }
   }
  },
  {
   "cell_type": "markdown",
   "source": [
    "\n"
   ],
   "metadata": {
    "collapsed": false,
    "pycharm": {
     "name": "#%% md\n"
    }
   }
  },
  {
   "cell_type": "code",
   "execution_count": null,
   "outputs": [],
   "source": [],
   "metadata": {
    "collapsed": false,
    "pycharm": {
     "name": "#%%\n"
    }
   }
  }
 ],
 "metadata": {
  "kernelspec": {
   "display_name": "Python 3",
   "language": "python",
   "name": "python3"
  },
  "language_info": {
   "codemirror_mode": {
    "name": "ipython",
    "version": 2
   },
   "file_extension": ".py",
   "mimetype": "text/x-python",
   "name": "python",
   "nbconvert_exporter": "python",
   "pygments_lexer": "ipython2",
   "version": "2.7.6"
  }
 },
 "nbformat": 4,
 "nbformat_minor": 0
}