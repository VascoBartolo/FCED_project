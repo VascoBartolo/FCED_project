{
 "cells": [
  {
   "cell_type": "markdown",
   "id": "58a45000",
   "metadata": {},
   "source": [
    "<h2> «Six-step Statistical Investigation»\n",
    "    \n",
    "    1. Research question\n",
    "    2. Design a study and collect data\n",
    "    3. Explore the data\n",
    "    4. Draw inferences\n",
    "    5. Formulate conclusions\n",
    "    6. Look back and ahead"
   ]
  },
  {
   "cell_type": "markdown",
   "id": "5560a9e2",
   "metadata": {},
   "source": [
    "<h3> 1. Research question"
   ]
  },
  {
   "cell_type": "markdown",
   "id": "d3eb80e8",
   "metadata": {},
   "source": [
    "<h3> 2. Design a study and collect data\n",
    "    \n",
    "    Data was obtained via ICNF (Instituto da Conservação da Natureza e Florestas) website and collected from ANPC (Autoridade Nacional de Proteção Civil).\n",
    "    The data includes information on wildfires occuring in Portugal in the period of 2015 year."
   ]
  },
  {
   "cell_type": "markdown",
   "id": "34552bb4",
   "metadata": {},
   "source": [
    "<h3> 3. Explore the data"
   ]
  },
  {
   "cell_type": "code",
   "execution_count": 8,
   "id": "46915644",
   "metadata": {},
   "outputs": [],
   "source": [
    "import pandas as pd\n",
    "from dateutil import parser\n",
    "import numpy as np\n",
    "import math\n",
    "import statistics as st\n",
    "from scipy import stats as stat\n",
    "import matplotlib\n",
    "import seaborn as sns"
   ]
  },
  {
   "cell_type": "code",
   "execution_count": 79,
   "id": "05848c2d",
   "metadata": {},
   "outputs": [
    {
     "data": {
      "text/html": [
       "<div>\n",
       "<style scoped>\n",
       "    .dataframe tbody tr th:only-of-type {\n",
       "        vertical-align: middle;\n",
       "    }\n",
       "\n",
       "    .dataframe tbody tr th {\n",
       "        vertical-align: top;\n",
       "    }\n",
       "\n",
       "    .dataframe thead th {\n",
       "        text-align: right;\n",
       "    }\n",
       "</style>\n",
       "<table border=\"1\" class=\"dataframe\">\n",
       "  <thead>\n",
       "    <tr style=\"text-align: right;\">\n",
       "      <th></th>\n",
       "      <th>Ano</th>\n",
       "      <th>Codigo SGIF</th>\n",
       "      <th>Codigo_ANPC</th>\n",
       "      <th>Tipo</th>\n",
       "      <th>Distrito</th>\n",
       "      <th>Concelho</th>\n",
       "      <th>Freguesia</th>\n",
       "      <th>Local</th>\n",
       "      <th>INE</th>\n",
       "      <th>x</th>\n",
       "      <th>...</th>\n",
       "      <th>Fogacho</th>\n",
       "      <th>Incendio</th>\n",
       "      <th>Agricola</th>\n",
       "      <th>Perimetro</th>\n",
       "      <th>APS</th>\n",
       "      <th>Causa</th>\n",
       "      <th>TipoCausa</th>\n",
       "      <th>Região PROF</th>\n",
       "      <th>UGF</th>\n",
       "      <th>Count</th>\n",
       "    </tr>\n",
       "  </thead>\n",
       "  <tbody>\n",
       "    <tr>\n",
       "      <th>0</th>\n",
       "      <td>2015</td>\n",
       "      <td>DM315252</td>\n",
       "      <td>2015160007544</td>\n",
       "      <td>Florestal</td>\n",
       "      <td>Viana do Castelo</td>\n",
       "      <td>Ponte de Lima</td>\n",
       "      <td>Serdedelo</td>\n",
       "      <td>VALE DE TROVELA (SERDEDELO)</td>\n",
       "      <td>160746</td>\n",
       "      <td>167814</td>\n",
       "      <td>...</td>\n",
       "      <td>0</td>\n",
       "      <td>1</td>\n",
       "      <td>0</td>\n",
       "      <td>NaN</td>\n",
       "      <td>NaN</td>\n",
       "      <td>122.0</td>\n",
       "      <td>Negligente</td>\n",
       "      <td>Entre Douro e Minho</td>\n",
       "      <td>Alto Minho</td>\n",
       "      <td>1</td>\n",
       "    </tr>\n",
       "    <tr>\n",
       "      <th>1</th>\n",
       "      <td>2015</td>\n",
       "      <td>DM215305</td>\n",
       "      <td>2015130043758</td>\n",
       "      <td>Florestal</td>\n",
       "      <td>Porto</td>\n",
       "      <td>Marco de Canaveses</td>\n",
       "      <td>Vila Boa de Quires</td>\n",
       "      <td>LUGAR DO FOFO</td>\n",
       "      <td>130731</td>\n",
       "      <td>193731</td>\n",
       "      <td>...</td>\n",
       "      <td>0</td>\n",
       "      <td>1</td>\n",
       "      <td>0</td>\n",
       "      <td>NaN</td>\n",
       "      <td>NaN</td>\n",
       "      <td>122.0</td>\n",
       "      <td>Negligente</td>\n",
       "      <td>Entre Douro e Minho</td>\n",
       "      <td>Tâmega</td>\n",
       "      <td>1</td>\n",
       "    </tr>\n",
       "    <tr>\n",
       "      <th>2</th>\n",
       "      <td>2015</td>\n",
       "      <td>DM415293</td>\n",
       "      <td>2015030021973</td>\n",
       "      <td>Florestal</td>\n",
       "      <td>Braga</td>\n",
       "      <td>Vila Verde</td>\n",
       "      <td>Lage</td>\n",
       "      <td>RUA PROF ABEL MADEIRA</td>\n",
       "      <td>31323</td>\n",
       "      <td>172162</td>\n",
       "      <td>...</td>\n",
       "      <td>1</td>\n",
       "      <td>0</td>\n",
       "      <td>0</td>\n",
       "      <td>NaN</td>\n",
       "      <td>NaN</td>\n",
       "      <td>60.0</td>\n",
       "      <td>Desconhecida</td>\n",
       "      <td>Entre Douro e Minho</td>\n",
       "      <td>Baixo Minho</td>\n",
       "      <td>1</td>\n",
       "    </tr>\n",
       "    <tr>\n",
       "      <th>3</th>\n",
       "      <td>2015</td>\n",
       "      <td>DM315261</td>\n",
       "      <td>2015160007563</td>\n",
       "      <td>Falso Alarme</td>\n",
       "      <td>Viana do Castelo</td>\n",
       "      <td>Ponte de Lima</td>\n",
       "      <td>Boalhosa</td>\n",
       "      <td>J. DEPOSITOS DE AGUA (BOALHOSA)</td>\n",
       "      <td>160709</td>\n",
       "      <td>171291</td>\n",
       "      <td>...</td>\n",
       "      <td>0</td>\n",
       "      <td>0</td>\n",
       "      <td>0</td>\n",
       "      <td>NaN</td>\n",
       "      <td>NaN</td>\n",
       "      <td>630.0</td>\n",
       "      <td>Desconhecida</td>\n",
       "      <td>Entre Douro e Minho</td>\n",
       "      <td>Alto Minho</td>\n",
       "      <td>1</td>\n",
       "    </tr>\n",
       "    <tr>\n",
       "      <th>4</th>\n",
       "      <td>2015</td>\n",
       "      <td>BL115321</td>\n",
       "      <td>2015180015874</td>\n",
       "      <td>Agrícola</td>\n",
       "      <td>Viseu</td>\n",
       "      <td>Castro Daire</td>\n",
       "      <td>Castro Daire</td>\n",
       "      <td>Farejinhas - Bº das Queirós</td>\n",
       "      <td>180304</td>\n",
       "      <td>217299</td>\n",
       "      <td>...</td>\n",
       "      <td>1</td>\n",
       "      <td>0</td>\n",
       "      <td>0</td>\n",
       "      <td>NaN</td>\n",
       "      <td>NaN</td>\n",
       "      <td>630.0</td>\n",
       "      <td>Desconhecida</td>\n",
       "      <td>Beira Litoral</td>\n",
       "      <td>Dão Lafões</td>\n",
       "      <td>1</td>\n",
       "    </tr>\n",
       "    <tr>\n",
       "      <th>...</th>\n",
       "      <td>...</td>\n",
       "      <td>...</td>\n",
       "      <td>...</td>\n",
       "      <td>...</td>\n",
       "      <td>...</td>\n",
       "      <td>...</td>\n",
       "      <td>...</td>\n",
       "      <td>...</td>\n",
       "      <td>...</td>\n",
       "      <td>...</td>\n",
       "      <td>...</td>\n",
       "      <td>...</td>\n",
       "      <td>...</td>\n",
       "      <td>...</td>\n",
       "      <td>...</td>\n",
       "      <td>...</td>\n",
       "      <td>...</td>\n",
       "      <td>...</td>\n",
       "      <td>...</td>\n",
       "      <td>...</td>\n",
       "      <td>...</td>\n",
       "    </tr>\n",
       "    <tr>\n",
       "      <th>23170</th>\n",
       "      <td>2015</td>\n",
       "      <td>DM4151671</td>\n",
       "      <td>2015030056919</td>\n",
       "      <td>Florestal</td>\n",
       "      <td>Braga</td>\n",
       "      <td>Fafe</td>\n",
       "      <td>Fafe</td>\n",
       "      <td>RUA DE FORNELO</td>\n",
       "      <td>30709</td>\n",
       "      <td>196478</td>\n",
       "      <td>...</td>\n",
       "      <td>1</td>\n",
       "      <td>0</td>\n",
       "      <td>0</td>\n",
       "      <td>NaN</td>\n",
       "      <td>NaN</td>\n",
       "      <td>60.0</td>\n",
       "      <td>Desconhecida</td>\n",
       "      <td>Entre Douro e Minho</td>\n",
       "      <td>Baixo Minho</td>\n",
       "      <td>1</td>\n",
       "    </tr>\n",
       "    <tr>\n",
       "      <th>23171</th>\n",
       "      <td>2015</td>\n",
       "      <td>BL1151018</td>\n",
       "      <td>2015180041997</td>\n",
       "      <td>Florestal</td>\n",
       "      <td>Viseu</td>\n",
       "      <td>Cinfães</td>\n",
       "      <td>Cinfães</td>\n",
       "      <td>Ventuzela</td>\n",
       "      <td>180403</td>\n",
       "      <td>203110</td>\n",
       "      <td>...</td>\n",
       "      <td>0</td>\n",
       "      <td>1</td>\n",
       "      <td>0</td>\n",
       "      <td>NaN</td>\n",
       "      <td>NaN</td>\n",
       "      <td>125.0</td>\n",
       "      <td>Negligente</td>\n",
       "      <td>Entre Douro e Minho</td>\n",
       "      <td>Tâmega</td>\n",
       "      <td>1</td>\n",
       "    </tr>\n",
       "    <tr>\n",
       "      <th>23172</th>\n",
       "      <td>2015</td>\n",
       "      <td>BL3151227</td>\n",
       "      <td>2015010055691</td>\n",
       "      <td>Falso Alarme</td>\n",
       "      <td>Aveiro</td>\n",
       "      <td>Santa Maria da Feira</td>\n",
       "      <td>Feira</td>\n",
       "      <td>avenida 25 de abril</td>\n",
       "      <td>10906</td>\n",
       "      <td>164395</td>\n",
       "      <td>...</td>\n",
       "      <td>0</td>\n",
       "      <td>0</td>\n",
       "      <td>0</td>\n",
       "      <td>NaN</td>\n",
       "      <td>NaN</td>\n",
       "      <td>NaN</td>\n",
       "      <td>NaN</td>\n",
       "      <td>Entre Douro e Minho</td>\n",
       "      <td>AMP e Entre Douro e Vouga</td>\n",
       "      <td>1</td>\n",
       "    </tr>\n",
       "    <tr>\n",
       "      <th>23173</th>\n",
       "      <td>2015</td>\n",
       "      <td>DM2153226</td>\n",
       "      <td>2015130115988</td>\n",
       "      <td>Florestal</td>\n",
       "      <td>Porto</td>\n",
       "      <td>Paços de Ferreira</td>\n",
       "      <td>Paços de Ferreira</td>\n",
       "      <td>Lugar alto das Cavadas</td>\n",
       "      <td>130912</td>\n",
       "      <td>180666</td>\n",
       "      <td>...</td>\n",
       "      <td>1</td>\n",
       "      <td>0</td>\n",
       "      <td>0</td>\n",
       "      <td>NaN</td>\n",
       "      <td>NaN</td>\n",
       "      <td>711.0</td>\n",
       "      <td>Reacendimento</td>\n",
       "      <td>Entre Douro e Minho</td>\n",
       "      <td>Tâmega</td>\n",
       "      <td>1</td>\n",
       "    </tr>\n",
       "    <tr>\n",
       "      <th>23174</th>\n",
       "      <td>2015</td>\n",
       "      <td>BL3151229</td>\n",
       "      <td>2015010055723</td>\n",
       "      <td>Falso Alarme</td>\n",
       "      <td>Aveiro</td>\n",
       "      <td>Santa Maria da Feira</td>\n",
       "      <td>Rio Meão</td>\n",
       "      <td>Casais de Baixo</td>\n",
       "      <td>10921</td>\n",
       "      <td>161792</td>\n",
       "      <td>...</td>\n",
       "      <td>0</td>\n",
       "      <td>0</td>\n",
       "      <td>0</td>\n",
       "      <td>NaN</td>\n",
       "      <td>NaN</td>\n",
       "      <td>NaN</td>\n",
       "      <td>NaN</td>\n",
       "      <td>Entre Douro e Minho</td>\n",
       "      <td>AMP e Entre Douro e Vouga</td>\n",
       "      <td>1</td>\n",
       "    </tr>\n",
       "  </tbody>\n",
       "</table>\n",
       "<p>23175 rows × 39 columns</p>\n",
       "</div>"
      ],
      "text/plain": [
       "        Ano Codigo SGIF    Codigo_ANPC          Tipo          Distrito  \\\n",
       "0      2015    DM315252  2015160007544     Florestal  Viana do Castelo   \n",
       "1      2015    DM215305  2015130043758     Florestal             Porto   \n",
       "2      2015    DM415293  2015030021973     Florestal             Braga   \n",
       "3      2015    DM315261  2015160007563  Falso Alarme  Viana do Castelo   \n",
       "4      2015    BL115321  2015180015874      Agrícola             Viseu   \n",
       "...     ...         ...            ...           ...               ...   \n",
       "23170  2015   DM4151671  2015030056919     Florestal             Braga   \n",
       "23171  2015   BL1151018  2015180041997     Florestal             Viseu   \n",
       "23172  2015   BL3151227  2015010055691  Falso Alarme            Aveiro   \n",
       "23173  2015   DM2153226  2015130115988     Florestal             Porto   \n",
       "23174  2015   BL3151229  2015010055723  Falso Alarme            Aveiro   \n",
       "\n",
       "                   Concelho           Freguesia  \\\n",
       "0             Ponte de Lima           Serdedelo   \n",
       "1        Marco de Canaveses  Vila Boa de Quires   \n",
       "2                Vila Verde                Lage   \n",
       "3             Ponte de Lima            Boalhosa   \n",
       "4              Castro Daire        Castro Daire   \n",
       "...                     ...                 ...   \n",
       "23170                  Fafe                Fafe   \n",
       "23171               Cinfães             Cinfães   \n",
       "23172  Santa Maria da Feira               Feira   \n",
       "23173     Paços de Ferreira   Paços de Ferreira   \n",
       "23174  Santa Maria da Feira            Rio Meão   \n",
       "\n",
       "                                 Local     INE       x  ...  Fogacho Incendio  \\\n",
       "0          VALE DE TROVELA (SERDEDELO)  160746  167814  ...        0        1   \n",
       "1                        LUGAR DO FOFO  130731  193731  ...        0        1   \n",
       "2                RUA PROF ABEL MADEIRA   31323  172162  ...        1        0   \n",
       "3      J. DEPOSITOS DE AGUA (BOALHOSA)  160709  171291  ...        0        0   \n",
       "4          Farejinhas - Bº das Queirós  180304  217299  ...        1        0   \n",
       "...                                ...     ...     ...  ...      ...      ...   \n",
       "23170                   RUA DE FORNELO   30709  196478  ...        1        0   \n",
       "23171                        Ventuzela  180403  203110  ...        0        1   \n",
       "23172              avenida 25 de abril   10906  164395  ...        0        0   \n",
       "23173           Lugar alto das Cavadas  130912  180666  ...        1        0   \n",
       "23174                  Casais de Baixo   10921  161792  ...        0        0   \n",
       "\n",
       "      Agricola Perimetro  APS  Causa      TipoCausa          Região PROF  \\\n",
       "0            0       NaN  NaN  122.0     Negligente  Entre Douro e Minho   \n",
       "1            0       NaN  NaN  122.0     Negligente  Entre Douro e Minho   \n",
       "2            0       NaN  NaN   60.0   Desconhecida  Entre Douro e Minho   \n",
       "3            0       NaN  NaN  630.0   Desconhecida  Entre Douro e Minho   \n",
       "4            0       NaN  NaN  630.0   Desconhecida        Beira Litoral   \n",
       "...        ...       ...  ...    ...            ...                  ...   \n",
       "23170        0       NaN  NaN   60.0   Desconhecida  Entre Douro e Minho   \n",
       "23171        0       NaN  NaN  125.0     Negligente  Entre Douro e Minho   \n",
       "23172        0       NaN  NaN    NaN            NaN  Entre Douro e Minho   \n",
       "23173        0       NaN  NaN  711.0  Reacendimento  Entre Douro e Minho   \n",
       "23174        0       NaN  NaN    NaN            NaN  Entre Douro e Minho   \n",
       "\n",
       "                             UGF  Count  \n",
       "0                     Alto Minho      1  \n",
       "1                         Tâmega      1  \n",
       "2                    Baixo Minho      1  \n",
       "3                     Alto Minho      1  \n",
       "4                     Dão Lafões      1  \n",
       "...                          ...    ...  \n",
       "23170                Baixo Minho      1  \n",
       "23171                     Tâmega      1  \n",
       "23172  AMP e Entre Douro e Vouga      1  \n",
       "23173                     Tâmega      1  \n",
       "23174  AMP e Entre Douro e Vouga      1  \n",
       "\n",
       "[23175 rows x 39 columns]"
      ]
     },
     "execution_count": 79,
     "metadata": {},
     "output_type": "execute_result"
    }
   ],
   "source": [
    "df = pd.read_excel('Lista Incendios_2015.xlsx')\n",
    "df['Count'] = 1\n",
    "df"
   ]
  },
  {
   "cell_type": "code",
   "execution_count": 80,
   "id": "68b9f6d5",
   "metadata": {},
   "outputs": [],
   "source": [
    "# Para apagar registos com NULL values nas colunas mencinadas\n",
    "df = df.dropna(how='any', subset=['x', 'y', 'lat', 'lon', 'DataAlerta', 'HoraAlerta', 'DataExtincao', \n",
    "                                  'HoraExtincao', 'Data1Intervencao', 'Hora1Intervencao'], axis=0)\n",
    "# Seleccionar apenas os reacendimento e excluir falsos alarmes\n",
    "reacendimentos = df.loc[df['TipoCausa'] == 'Reacendimento']\n",
    "reacendimentos = reacendimentos[reacendimentos.Tipo != 'Falso Alarme']"
   ]
  },
  {
   "cell_type": "code",
   "execution_count": 81,
   "id": "5cbcf53e",
   "metadata": {},
   "outputs": [
    {
     "data": {
      "text/plain": [
       "Ano                                        0\n",
       "Codigo SGIF                                0\n",
       "Codigo_ANPC                                0\n",
       "Tipo                                       0\n",
       "Distrito                                   0\n",
       "Concelho                                   0\n",
       "Freguesia                                  0\n",
       "Local                                      0\n",
       "INE                                        0\n",
       "x                                          0\n",
       "y                                          0\n",
       "lat                                        0\n",
       "lon                                        0\n",
       "DataAlerta                                 0\n",
       "HoraAlerta                                 0\n",
       "DataExtincao                               0\n",
       "HoraExtincao                               0\n",
       "Data1Intervencao                           0\n",
       "Hora1Intervencao                           0\n",
       "FonteAlerta                            21948\n",
       "NUT                                        0\n",
       "AA_Povoamento (ha)                         0\n",
       "AA_Mato (ha)                               0\n",
       "AA_Agricola (ha)                           0\n",
       "AA_EspacosFlorestais (pov+mato)(ha)        0\n",
       "AA_Total (pov+mato+agric) (ha)             0\n",
       "Reacendimentos                             0\n",
       "Queimada                                   0\n",
       "Falso Alarme                               0\n",
       "Fogacho                                    0\n",
       "Incendio                                   0\n",
       "Agricola                                   0\n",
       "Perimetro                              21161\n",
       "APS                                    20965\n",
       "Causa                                   6253\n",
       "TipoCausa                               6253\n",
       "Região PROF                                2\n",
       "UGF                                        1\n",
       "Count                                      0\n",
       "dtype: int64"
      ]
     },
     "execution_count": 81,
     "metadata": {},
     "output_type": "execute_result"
    }
   ],
   "source": [
    "# Check se todos os NULL foram retirados para as variáveis de interesse\n",
    "df.apply(lambda x: sum(x.isnull()), axis=0)"
   ]
  },
  {
   "cell_type": "code",
   "execution_count": 82,
   "id": "237aeab6",
   "metadata": {},
   "outputs": [
    {
     "data": {
      "text/plain": [
       "Distrito\n",
       "Porto               499\n",
       "Braga               254\n",
       "Viana do Castelo    227\n",
       "Viseu               184\n",
       "Aveiro               86\n",
       "Bragança             51\n",
       "Vila Real            47\n",
       "Guarda               43\n",
       "Leiria               37\n",
       "Coimbra              30\n",
       "Santarém             26\n",
       "Setúbal               9\n",
       "Viana Do Castelo      4\n",
       "Portalegre            3\n",
       "Lisboa                3\n",
       "Faro                  3\n",
       "Beja                  1\n",
       "Évora                 1\n",
       "Name: Count, dtype: int64"
      ]
     },
     "execution_count": 82,
     "metadata": {},
     "output_type": "execute_result"
    }
   ],
   "source": [
    "ocorrencias_por_distrito = reacendimentos.groupby('Distrito').count().sort_values(['Count'], \n",
    "                                                                                  ascending=False)['Count']\n",
    "ocorrencias_por_distrito"
   ]
  },
  {
   "cell_type": "markdown",
   "id": "57c9f2c1",
   "metadata": {},
   "source": [
    "De seguida vamos calcular o tempo de extinção e de intervenção.\n",
    "Os dados vão ser classificados com duas variáveis qualitativas:\n",
    "- Litoral / Interior:\n",
    "    Reacendimentos que ocorreram em zonas de litoral de Portugal ou no interior. Como zonas de litoral assume-se localizações com longitude superior a 8:10:0.\n",
    "- Maiores_Ocorrencias / Menores_Ocorrencias\n",
    "    Classificando os reacendimentos localizados nos distritos com maior número de ocorrências ou com menor número de ocorrências. Como distritos com maior número de ocorrências entende-se distritos com número de ocorrências superior a 100."
   ]
  },
  {
   "cell_type": "code",
   "execution_count": 83,
   "id": "cada4e98",
   "metadata": {},
   "outputs": [],
   "source": [
    "# Calcular o tempo de intervenção e tempo de extinção\n",
    "# Adicionar coluna 'Litoralidade'\n",
    "# Adicionar coluna 'Ocorrencias'\n",
    "\n",
    "tempo_intervencao = [None] * (len(reacendimentos.index))\n",
    "tempo_extincao = [None] * (len(reacendimentos.index))\n",
    "litoralidade = [None] * (len(reacendimentos.index))\n",
    "ocorrencias = [None] * (len(reacendimentos.index))\n",
    "for i in range(len(reacendimentos.index)):\n",
    "    long = str(reacendimentos.iloc[i,12])\n",
    "    if long[0:7] >= '8:10:0':\n",
    "        litoralidade[i] = 'Litoral'\n",
    "    if long[0:7] < '8:10:0':\n",
    "        litoralidade[i] = 'Interior'\n",
    "    if ocorrencias_por_distrito[reacendimentos.iloc[i,4]] > 100:\n",
    "        ocorrencias[i] = 'Maiores_Ocorrencias'\n",
    "    else:\n",
    "        ocorrencias[i] = 'Menores_Ocorrencias'\n",
    "        \n",
    "        \n",
    "    data_alerta = parser.parse(str(reacendimentos.iloc[i,13][:10]) + ' ' + str(reacendimentos.iloc[i,14]))\n",
    "    data_int = parser.parse(str(reacendimentos.iloc[i,17][:10]) + ' ' + str(reacendimentos.iloc[i,18]))\n",
    "    data_ext = parser.parse(str(reacendimentos.iloc[i,15][:10]) + ' ' + str(reacendimentos.iloc[i,16]))\n",
    "    tempo_intervencao[i] = (str(abs(data_int - data_alerta)))\n",
    "    tempo_extincao[i] = (str(abs(data_ext - data_int)))\n",
    "        \n",
    "reacendimentos.insert(15, \"Tempo_Extincao\", tempo_extincao , True)\n",
    "reacendimentos.insert(16, \"Tempo_Intervencao\", tempo_intervencao , True)\n",
    "reacendimentos.insert(17, \"Litoralidade\", litoralidade , True)\n",
    "reacendimentos.insert(18, \"Ocorrencias\", ocorrencias, True)\n",
    "\n",
    "# Para converter as colunas para timedelta:\n",
    "reacendimentos['Tempo_Extincao'] = reacendimentos['Tempo_Extincao'].apply(lambda x: \n",
    "                                                                        pd.to_timedelta(x)).copy()\n",
    "reacendimentos['Tempo_Intervencao'] = reacendimentos['Tempo_Intervencao'].apply(lambda x: \n",
    "                                                                              pd.to_timedelta(x)).copy()\n",
    "\n",
    "        "
   ]
  },
  {
   "cell_type": "markdown",
   "id": "f2c9a45d",
   "metadata": {},
   "source": [
    "<h4> Cleaned data\n",
    "    \n",
    "    From the original dataset, the following dataframe will be used"
   ]
  },
  {
   "cell_type": "code",
   "execution_count": 85,
   "id": "14adcbd5",
   "metadata": {},
   "outputs": [
    {
     "data": {
      "text/html": [
       "<div>\n",
       "<style scoped>\n",
       "    .dataframe tbody tr th:only-of-type {\n",
       "        vertical-align: middle;\n",
       "    }\n",
       "\n",
       "    .dataframe tbody tr th {\n",
       "        vertical-align: top;\n",
       "    }\n",
       "\n",
       "    .dataframe thead th {\n",
       "        text-align: right;\n",
       "    }\n",
       "</style>\n",
       "<table border=\"1\" class=\"dataframe\">\n",
       "  <thead>\n",
       "    <tr style=\"text-align: right;\">\n",
       "      <th></th>\n",
       "      <th>Litoralidade</th>\n",
       "      <th>Ocorrencias</th>\n",
       "      <th>Tempo_Extincao</th>\n",
       "      <th>Tempo_Intervencao</th>\n",
       "      <th>AA_total_ha</th>\n",
       "    </tr>\n",
       "  </thead>\n",
       "  <tbody>\n",
       "    <tr>\n",
       "      <th>5</th>\n",
       "      <td>Litoral</td>\n",
       "      <td>Maiores_Ocorrencias</td>\n",
       "      <td>0 days 07:35:00</td>\n",
       "      <td>0 days 00:12:00</td>\n",
       "      <td>1.500</td>\n",
       "    </tr>\n",
       "    <tr>\n",
       "      <th>15</th>\n",
       "      <td>Interior</td>\n",
       "      <td>Menores_Ocorrencias</td>\n",
       "      <td>0 days 00:50:00</td>\n",
       "      <td>0 days 00:20:00</td>\n",
       "      <td>0.100</td>\n",
       "    </tr>\n",
       "    <tr>\n",
       "      <th>43</th>\n",
       "      <td>Litoral</td>\n",
       "      <td>Maiores_Ocorrencias</td>\n",
       "      <td>0 days 00:58:00</td>\n",
       "      <td>0 days 00:04:00</td>\n",
       "      <td>0.050</td>\n",
       "    </tr>\n",
       "    <tr>\n",
       "      <th>145</th>\n",
       "      <td>Interior</td>\n",
       "      <td>Maiores_Ocorrencias</td>\n",
       "      <td>0 days 03:53:00</td>\n",
       "      <td>0 days 00:20:00</td>\n",
       "      <td>0.100</td>\n",
       "    </tr>\n",
       "    <tr>\n",
       "      <th>237</th>\n",
       "      <td>Litoral</td>\n",
       "      <td>Maiores_Ocorrencias</td>\n",
       "      <td>0 days 02:54:00</td>\n",
       "      <td>0 days 00:05:00</td>\n",
       "      <td>0.200</td>\n",
       "    </tr>\n",
       "    <tr>\n",
       "      <th>...</th>\n",
       "      <td>...</td>\n",
       "      <td>...</td>\n",
       "      <td>...</td>\n",
       "      <td>...</td>\n",
       "      <td>...</td>\n",
       "    </tr>\n",
       "    <tr>\n",
       "      <th>23130</th>\n",
       "      <td>Interior</td>\n",
       "      <td>Maiores_Ocorrencias</td>\n",
       "      <td>0 days 02:18:00</td>\n",
       "      <td>0 days 00:12:00</td>\n",
       "      <td>0.045</td>\n",
       "    </tr>\n",
       "    <tr>\n",
       "      <th>23143</th>\n",
       "      <td>Litoral</td>\n",
       "      <td>Maiores_Ocorrencias</td>\n",
       "      <td>0 days 00:51:00</td>\n",
       "      <td>0 days 00:14:00</td>\n",
       "      <td>0.100</td>\n",
       "    </tr>\n",
       "    <tr>\n",
       "      <th>23145</th>\n",
       "      <td>Litoral</td>\n",
       "      <td>Maiores_Ocorrencias</td>\n",
       "      <td>0 days 02:25:00</td>\n",
       "      <td>0 days 00:06:00</td>\n",
       "      <td>0.300</td>\n",
       "    </tr>\n",
       "    <tr>\n",
       "      <th>23167</th>\n",
       "      <td>Litoral</td>\n",
       "      <td>Maiores_Ocorrencias</td>\n",
       "      <td>0 days 02:57:00</td>\n",
       "      <td>0 days 00:16:00</td>\n",
       "      <td>0.070</td>\n",
       "    </tr>\n",
       "    <tr>\n",
       "      <th>23173</th>\n",
       "      <td>Litoral</td>\n",
       "      <td>Maiores_Ocorrencias</td>\n",
       "      <td>0 days 02:15:00</td>\n",
       "      <td>0 days 00:05:00</td>\n",
       "      <td>0.050</td>\n",
       "    </tr>\n",
       "  </tbody>\n",
       "</table>\n",
       "<p>1508 rows × 5 columns</p>\n",
       "</div>"
      ],
      "text/plain": [
       "      Litoralidade          Ocorrencias  Tempo_Extincao Tempo_Intervencao  \\\n",
       "5          Litoral  Maiores_Ocorrencias 0 days 07:35:00   0 days 00:12:00   \n",
       "15        Interior  Menores_Ocorrencias 0 days 00:50:00   0 days 00:20:00   \n",
       "43         Litoral  Maiores_Ocorrencias 0 days 00:58:00   0 days 00:04:00   \n",
       "145       Interior  Maiores_Ocorrencias 0 days 03:53:00   0 days 00:20:00   \n",
       "237        Litoral  Maiores_Ocorrencias 0 days 02:54:00   0 days 00:05:00   \n",
       "...            ...                  ...             ...               ...   \n",
       "23130     Interior  Maiores_Ocorrencias 0 days 02:18:00   0 days 00:12:00   \n",
       "23143      Litoral  Maiores_Ocorrencias 0 days 00:51:00   0 days 00:14:00   \n",
       "23145      Litoral  Maiores_Ocorrencias 0 days 02:25:00   0 days 00:06:00   \n",
       "23167      Litoral  Maiores_Ocorrencias 0 days 02:57:00   0 days 00:16:00   \n",
       "23173      Litoral  Maiores_Ocorrencias 0 days 02:15:00   0 days 00:05:00   \n",
       "\n",
       "       AA_total_ha  \n",
       "5            1.500  \n",
       "15           0.100  \n",
       "43           0.050  \n",
       "145          0.100  \n",
       "237          0.200  \n",
       "...            ...  \n",
       "23130        0.045  \n",
       "23143        0.100  \n",
       "23145        0.300  \n",
       "23167        0.070  \n",
       "23173        0.050  \n",
       "\n",
       "[1508 rows x 5 columns]"
      ]
     },
     "execution_count": 85,
     "metadata": {},
     "output_type": "execute_result"
    }
   ],
   "source": [
    "# Simplificação do dataframe de reacendimento para incluis apenas as variáveis de interesse\n",
    "reacendimentos_slim = reacendimentos.loc[:,[ 'Litoralidade', 'Ocorrencias', 'Tempo_Extincao',\n",
    "                                            'Tempo_Intervencao', 'AA_Total (pov+mato+agric) (ha)' ]]\n",
    "reacendimentos_slim =  reacendimentos_slim.rename(columns = {'AA_Total (pov+mato+agric) (ha)': 'AA_total_ha'})\n",
    "\n",
    "reacendimentos_slim"
   ]
  },
  {
   "cell_type": "code",
   "execution_count": 86,
   "id": "1b27478f",
   "metadata": {},
   "outputs": [
    {
     "data": {
      "text/html": [
       "<div>\n",
       "<style scoped>\n",
       "    .dataframe tbody tr th:only-of-type {\n",
       "        vertical-align: middle;\n",
       "    }\n",
       "\n",
       "    .dataframe tbody tr th {\n",
       "        vertical-align: top;\n",
       "    }\n",
       "\n",
       "    .dataframe thead th {\n",
       "        text-align: right;\n",
       "    }\n",
       "</style>\n",
       "<table border=\"1\" class=\"dataframe\">\n",
       "  <thead>\n",
       "    <tr style=\"text-align: right;\">\n",
       "      <th></th>\n",
       "      <th>Litoralidade</th>\n",
       "      <th>Ocorrencias</th>\n",
       "      <th>Tempo_Extincao</th>\n",
       "      <th>Tempo_Intervencao</th>\n",
       "      <th>AA_total_ha</th>\n",
       "    </tr>\n",
       "  </thead>\n",
       "  <tbody>\n",
       "    <tr>\n",
       "      <th>5</th>\n",
       "      <td>Litoral</td>\n",
       "      <td>Maiores_Ocorrencias</td>\n",
       "      <td>27300</td>\n",
       "      <td>720</td>\n",
       "      <td>1.500</td>\n",
       "    </tr>\n",
       "    <tr>\n",
       "      <th>15</th>\n",
       "      <td>Interior</td>\n",
       "      <td>Menores_Ocorrencias</td>\n",
       "      <td>3000</td>\n",
       "      <td>1200</td>\n",
       "      <td>0.100</td>\n",
       "    </tr>\n",
       "    <tr>\n",
       "      <th>43</th>\n",
       "      <td>Litoral</td>\n",
       "      <td>Maiores_Ocorrencias</td>\n",
       "      <td>3480</td>\n",
       "      <td>240</td>\n",
       "      <td>0.050</td>\n",
       "    </tr>\n",
       "    <tr>\n",
       "      <th>145</th>\n",
       "      <td>Interior</td>\n",
       "      <td>Maiores_Ocorrencias</td>\n",
       "      <td>13980</td>\n",
       "      <td>1200</td>\n",
       "      <td>0.100</td>\n",
       "    </tr>\n",
       "    <tr>\n",
       "      <th>237</th>\n",
       "      <td>Litoral</td>\n",
       "      <td>Maiores_Ocorrencias</td>\n",
       "      <td>10440</td>\n",
       "      <td>300</td>\n",
       "      <td>0.200</td>\n",
       "    </tr>\n",
       "    <tr>\n",
       "      <th>...</th>\n",
       "      <td>...</td>\n",
       "      <td>...</td>\n",
       "      <td>...</td>\n",
       "      <td>...</td>\n",
       "      <td>...</td>\n",
       "    </tr>\n",
       "    <tr>\n",
       "      <th>23130</th>\n",
       "      <td>Interior</td>\n",
       "      <td>Maiores_Ocorrencias</td>\n",
       "      <td>8280</td>\n",
       "      <td>720</td>\n",
       "      <td>0.045</td>\n",
       "    </tr>\n",
       "    <tr>\n",
       "      <th>23143</th>\n",
       "      <td>Litoral</td>\n",
       "      <td>Maiores_Ocorrencias</td>\n",
       "      <td>3060</td>\n",
       "      <td>840</td>\n",
       "      <td>0.100</td>\n",
       "    </tr>\n",
       "    <tr>\n",
       "      <th>23145</th>\n",
       "      <td>Litoral</td>\n",
       "      <td>Maiores_Ocorrencias</td>\n",
       "      <td>8700</td>\n",
       "      <td>360</td>\n",
       "      <td>0.300</td>\n",
       "    </tr>\n",
       "    <tr>\n",
       "      <th>23167</th>\n",
       "      <td>Litoral</td>\n",
       "      <td>Maiores_Ocorrencias</td>\n",
       "      <td>10620</td>\n",
       "      <td>960</td>\n",
       "      <td>0.070</td>\n",
       "    </tr>\n",
       "    <tr>\n",
       "      <th>23173</th>\n",
       "      <td>Litoral</td>\n",
       "      <td>Maiores_Ocorrencias</td>\n",
       "      <td>8100</td>\n",
       "      <td>300</td>\n",
       "      <td>0.050</td>\n",
       "    </tr>\n",
       "  </tbody>\n",
       "</table>\n",
       "<p>1508 rows × 5 columns</p>\n",
       "</div>"
      ],
      "text/plain": [
       "      Litoralidade          Ocorrencias  Tempo_Extincao  Tempo_Intervencao  \\\n",
       "5          Litoral  Maiores_Ocorrencias           27300                720   \n",
       "15        Interior  Menores_Ocorrencias            3000               1200   \n",
       "43         Litoral  Maiores_Ocorrencias            3480                240   \n",
       "145       Interior  Maiores_Ocorrencias           13980               1200   \n",
       "237        Litoral  Maiores_Ocorrencias           10440                300   \n",
       "...            ...                  ...             ...                ...   \n",
       "23130     Interior  Maiores_Ocorrencias            8280                720   \n",
       "23143      Litoral  Maiores_Ocorrencias            3060                840   \n",
       "23145      Litoral  Maiores_Ocorrencias            8700                360   \n",
       "23167      Litoral  Maiores_Ocorrencias           10620                960   \n",
       "23173      Litoral  Maiores_Ocorrencias            8100                300   \n",
       "\n",
       "       AA_total_ha  \n",
       "5            1.500  \n",
       "15           0.100  \n",
       "43           0.050  \n",
       "145          0.100  \n",
       "237          0.200  \n",
       "...            ...  \n",
       "23130        0.045  \n",
       "23143        0.100  \n",
       "23145        0.300  \n",
       "23167        0.070  \n",
       "23173        0.050  \n",
       "\n",
       "[1508 rows x 5 columns]"
      ]
     },
     "execution_count": 86,
     "metadata": {},
     "output_type": "execute_result"
    }
   ],
   "source": [
    "# reacendimentos_slim com tempo em segundos\n",
    "\n",
    "reacendimentos_slim_delta = reacendimentos_slim.copy()\n",
    "reacendimentos_slim_delta['Tempo_Extincao'] = reacendimentos_slim_delta['Tempo_Extincao'].astype('int64') // 10**9\n",
    "reacendimentos_slim_delta['Tempo_Intervencao'] = reacendimentos_slim_delta['Tempo_Intervencao'].astype('int64') // 10**9\n",
    "reacendimentos_slim_delta"
   ]
  },
  {
   "cell_type": "code",
   "execution_count": 180,
   "id": "036dc83f",
   "metadata": {},
   "outputs": [],
   "source": [
    "# necessário para os testes de hipotese\n",
    "\n",
    "reacendimentos_litoral = reacendimentos_slim_delta[reacendimentos_slim_delta.Litoralidade == 'Litoral']\n",
    "reacendimentos_interior = reacendimentos_slim_delta[reacendimentos_slim_delta.Litoralidade == 'Interior']\n",
    "reacendimentos_maiores = reacendimentos_slim_delta[reacendimentos_slim_delta.Ocorrencias == 'Maiores_Ocorrencias']\n",
    "reacendimentos_menores = reacendimentos_slim_delta[reacendimentos_slim_delta.Ocorrencias == 'Menores_Ocorrencias']\n"
   ]
  },
  {
   "cell_type": "markdown",
   "id": "9fa8aa90",
   "metadata": {},
   "source": [
    "<h3> Statistical summary for quantitative data"
   ]
  },
  {
   "cell_type": "code",
   "execution_count": 87,
   "id": "1574fcf2",
   "metadata": {},
   "outputs": [
    {
     "name": "stderr",
     "output_type": "stream",
     "text": [
      "C:\\Users\\Asus\\anaconda3\\lib\\site-packages\\scipy\\stats\\stats.py:275: RuntimeWarning: divide by zero encountered in log\n",
      "  log_a = np.log(np.array(a, dtype=dtype))\n"
     ]
    },
    {
     "data": {
      "text/html": [
       "<div>\n",
       "<style scoped>\n",
       "    .dataframe tbody tr th:only-of-type {\n",
       "        vertical-align: middle;\n",
       "    }\n",
       "\n",
       "    .dataframe tbody tr th {\n",
       "        vertical-align: top;\n",
       "    }\n",
       "\n",
       "    .dataframe thead th {\n",
       "        text-align: right;\n",
       "    }\n",
       "</style>\n",
       "<table border=\"1\" class=\"dataframe\">\n",
       "  <thead>\n",
       "    <tr style=\"text-align: right;\">\n",
       "      <th></th>\n",
       "      <th>Tempo_Extincao</th>\n",
       "      <th>Tempo_Intervencao</th>\n",
       "      <th>AA_total_ha</th>\n",
       "    </tr>\n",
       "  </thead>\n",
       "  <tbody>\n",
       "    <tr>\n",
       "      <th>count</th>\n",
       "      <td>1.508000e+03</td>\n",
       "      <td>1508.000000</td>\n",
       "      <td>1508.000000</td>\n",
       "    </tr>\n",
       "    <tr>\n",
       "      <th>mean</th>\n",
       "      <td>8.337772e+03</td>\n",
       "      <td>725.490716</td>\n",
       "      <td>3.233140</td>\n",
       "    </tr>\n",
       "    <tr>\n",
       "      <th>std</th>\n",
       "      <td>1.310108e+04</td>\n",
       "      <td>888.986859</td>\n",
       "      <td>37.216702</td>\n",
       "    </tr>\n",
       "    <tr>\n",
       "      <th>min</th>\n",
       "      <td>3.000000e+02</td>\n",
       "      <td>0.000000</td>\n",
       "      <td>0.000050</td>\n",
       "    </tr>\n",
       "    <tr>\n",
       "      <th>25%</th>\n",
       "      <td>3.720000e+03</td>\n",
       "      <td>360.000000</td>\n",
       "      <td>0.010000</td>\n",
       "    </tr>\n",
       "    <tr>\n",
       "      <th>50%</th>\n",
       "      <td>6.180000e+03</td>\n",
       "      <td>600.000000</td>\n",
       "      <td>0.050000</td>\n",
       "    </tr>\n",
       "    <tr>\n",
       "      <th>75%</th>\n",
       "      <td>9.600000e+03</td>\n",
       "      <td>900.000000</td>\n",
       "      <td>0.302500</td>\n",
       "    </tr>\n",
       "    <tr>\n",
       "      <th>max</th>\n",
       "      <td>3.291000e+05</td>\n",
       "      <td>25200.000000</td>\n",
       "      <td>1105.000000</td>\n",
       "    </tr>\n",
       "    <tr>\n",
       "      <th>range</th>\n",
       "      <td>3.288000e+05</td>\n",
       "      <td>25200.000000</td>\n",
       "      <td>1104.999950</td>\n",
       "    </tr>\n",
       "    <tr>\n",
       "      <th>IQR</th>\n",
       "      <td>5.880000e+03</td>\n",
       "      <td>540.000000</td>\n",
       "      <td>0.292500</td>\n",
       "    </tr>\n",
       "    <tr>\n",
       "      <th>G.M.</th>\n",
       "      <td>5.937103e+03</td>\n",
       "      <td>0.000000</td>\n",
       "      <td>0.069105</td>\n",
       "    </tr>\n",
       "    <tr>\n",
       "      <th>H.M.</th>\n",
       "      <td>4.305010e+03</td>\n",
       "      <td>0.000000</td>\n",
       "      <td>0.004170</td>\n",
       "    </tr>\n",
       "    <tr>\n",
       "      <th>var</th>\n",
       "      <td>1.716383e+08</td>\n",
       "      <td>790297.635614</td>\n",
       "      <td>1385.082900</td>\n",
       "    </tr>\n",
       "    <tr>\n",
       "      <th>median</th>\n",
       "      <td>6.180000e+03</td>\n",
       "      <td>600.000000</td>\n",
       "      <td>0.050000</td>\n",
       "    </tr>\n",
       "    <tr>\n",
       "      <th>skew</th>\n",
       "      <td>1.394538e+01</td>\n",
       "      <td>16.204250</td>\n",
       "      <td>22.210742</td>\n",
       "    </tr>\n",
       "    <tr>\n",
       "      <th>kurt</th>\n",
       "      <td>2.841287e+02</td>\n",
       "      <td>403.897832</td>\n",
       "      <td>576.498222</td>\n",
       "    </tr>\n",
       "    <tr>\n",
       "      <th>mad</th>\n",
       "      <td>5.043246e+03</td>\n",
       "      <td>393.264288</td>\n",
       "      <td>5.564512</td>\n",
       "    </tr>\n",
       "    <tr>\n",
       "      <th>mode</th>\n",
       "      <td>3.000000e+03</td>\n",
       "      <td>600.000000</td>\n",
       "      <td>0.010000</td>\n",
       "    </tr>\n",
       "  </tbody>\n",
       "</table>\n",
       "</div>"
      ],
      "text/plain": [
       "        Tempo_Extincao  Tempo_Intervencao  AA_total_ha\n",
       "count     1.508000e+03        1508.000000  1508.000000\n",
       "mean      8.337772e+03         725.490716     3.233140\n",
       "std       1.310108e+04         888.986859    37.216702\n",
       "min       3.000000e+02           0.000000     0.000050\n",
       "25%       3.720000e+03         360.000000     0.010000\n",
       "50%       6.180000e+03         600.000000     0.050000\n",
       "75%       9.600000e+03         900.000000     0.302500\n",
       "max       3.291000e+05       25200.000000  1105.000000\n",
       "range     3.288000e+05       25200.000000  1104.999950\n",
       "IQR       5.880000e+03         540.000000     0.292500\n",
       "G.M.      5.937103e+03           0.000000     0.069105\n",
       "H.M.      4.305010e+03           0.000000     0.004170\n",
       "var       1.716383e+08      790297.635614  1385.082900\n",
       "median    6.180000e+03         600.000000     0.050000\n",
       "skew      1.394538e+01          16.204250    22.210742\n",
       "kurt      2.841287e+02         403.897832   576.498222\n",
       "mad       5.043246e+03         393.264288     5.564512\n",
       "mode      3.000000e+03         600.000000     0.010000"
      ]
     },
     "execution_count": 87,
     "metadata": {},
     "output_type": "execute_result"
    }
   ],
   "source": [
    "stat_summary = reacendimentos_slim_delta.describe()\n",
    "stat_summary.loc['range'] = stat_summary.loc['max'] - stat_summary.loc['min']\n",
    "stat_summary.loc['IQR'] = stat_summary.loc['75%'] - stat_summary.loc['25%'] # appending interquartile range\n",
    "stat_summary.loc['G.M.'] = stat.gmean(reacendimentos_slim_delta.iloc[:,2:], axis=0)\n",
    "stat_summary.loc['H.M.'] = stat.hmean(reacendimentos_slim_delta.iloc[:,2:], axis=0)\n",
    "mode = reacendimentos_slim_delta.mode(numeric_only=True, axis=0)\n",
    "stat_summary.loc['var'] = reacendimentos_slim_delta.var(numeric_only=True, axis=0)\n",
    "stat_summary.loc['median'] = reacendimentos_slim_delta.median( numeric_only=True, axis=0)\n",
    "stat_summary.loc['skew'] = reacendimentos_slim_delta.skew(numeric_only=True, axis=0)\n",
    "stat_summary.loc['kurt'] =  reacendimentos_slim_delta.kurt(numeric_only=True, axis=0)\n",
    "stat_summary.loc['mad'] = reacendimentos_slim_delta.mad(axis=0)\n",
    "\n",
    "stat_summary = pd.concat([stat_summary, mode], axis=0)\n",
    "stat_summary.rename(index ={0: 'mode'}, inplace = True)\n",
    "\n",
    "stat_summary"
   ]
  },
  {
   "cell_type": "code",
   "execution_count": 89,
   "id": "3222676c",
   "metadata": {},
   "outputs": [
    {
     "data": {
      "text/html": [
       "<div>\n",
       "<style scoped>\n",
       "    .dataframe tbody tr th:only-of-type {\n",
       "        vertical-align: middle;\n",
       "    }\n",
       "\n",
       "    .dataframe tbody tr th {\n",
       "        vertical-align: top;\n",
       "    }\n",
       "\n",
       "    .dataframe thead th {\n",
       "        text-align: right;\n",
       "    }\n",
       "</style>\n",
       "<table border=\"1\" class=\"dataframe\">\n",
       "  <thead>\n",
       "    <tr style=\"text-align: right;\">\n",
       "      <th></th>\n",
       "      <th>Tempo_Extincao</th>\n",
       "      <th>Tempo_Intervencao</th>\n",
       "      <th>AA_total_ha</th>\n",
       "    </tr>\n",
       "  </thead>\n",
       "  <tbody>\n",
       "    <tr>\n",
       "      <th>count</th>\n",
       "      <td>0 days 00:25:08</td>\n",
       "      <td>0 days 00:25:08</td>\n",
       "      <td>1508.000000</td>\n",
       "    </tr>\n",
       "    <tr>\n",
       "      <th>mean</th>\n",
       "      <td>0 days 02:18:57.771883289</td>\n",
       "      <td>0 days 00:12:05.490716180</td>\n",
       "      <td>3.233140</td>\n",
       "    </tr>\n",
       "    <tr>\n",
       "      <th>std</th>\n",
       "      <td>0 days 03:38:21.081607726</td>\n",
       "      <td>0 days 00:14:48.986859078</td>\n",
       "      <td>37.216702</td>\n",
       "    </tr>\n",
       "    <tr>\n",
       "      <th>min</th>\n",
       "      <td>0 days 00:05:00</td>\n",
       "      <td>0 days 00:00:00</td>\n",
       "      <td>0.000050</td>\n",
       "    </tr>\n",
       "    <tr>\n",
       "      <th>25%</th>\n",
       "      <td>0 days 01:02:00</td>\n",
       "      <td>0 days 00:06:00</td>\n",
       "      <td>0.010000</td>\n",
       "    </tr>\n",
       "    <tr>\n",
       "      <th>50%</th>\n",
       "      <td>0 days 01:43:00</td>\n",
       "      <td>0 days 00:10:00</td>\n",
       "      <td>0.050000</td>\n",
       "    </tr>\n",
       "    <tr>\n",
       "      <th>75%</th>\n",
       "      <td>0 days 02:40:00</td>\n",
       "      <td>0 days 00:15:00</td>\n",
       "      <td>0.302500</td>\n",
       "    </tr>\n",
       "    <tr>\n",
       "      <th>max</th>\n",
       "      <td>3 days 19:25:00</td>\n",
       "      <td>0 days 07:00:00</td>\n",
       "      <td>1105.000000</td>\n",
       "    </tr>\n",
       "    <tr>\n",
       "      <th>range</th>\n",
       "      <td>3 days 19:20:00</td>\n",
       "      <td>0 days 07:00:00</td>\n",
       "      <td>1104.999950</td>\n",
       "    </tr>\n",
       "    <tr>\n",
       "      <th>IQR</th>\n",
       "      <td>0 days 01:38:00</td>\n",
       "      <td>0 days 00:09:00</td>\n",
       "      <td>0.292500</td>\n",
       "    </tr>\n",
       "    <tr>\n",
       "      <th>G.M.</th>\n",
       "      <td>0 days 01:38:57.103207915</td>\n",
       "      <td>0 days 00:00:00</td>\n",
       "      <td>0.069105</td>\n",
       "    </tr>\n",
       "    <tr>\n",
       "      <th>H.M.</th>\n",
       "      <td>0 days 01:11:45.009921023</td>\n",
       "      <td>0 days 00:00:00</td>\n",
       "      <td>0.004170</td>\n",
       "    </tr>\n",
       "    <tr>\n",
       "      <th>var</th>\n",
       "      <td>1986 days 13:18:59.292321248</td>\n",
       "      <td>9 days 03:31:37.635613820</td>\n",
       "      <td>1385.082900</td>\n",
       "    </tr>\n",
       "    <tr>\n",
       "      <th>median</th>\n",
       "      <td>0 days 01:43:00</td>\n",
       "      <td>0 days 00:10:00</td>\n",
       "      <td>0.050000</td>\n",
       "    </tr>\n",
       "    <tr>\n",
       "      <th>skew</th>\n",
       "      <td>0 days 00:00:13.945378450</td>\n",
       "      <td>0 days 00:00:16.204250192</td>\n",
       "      <td>22.210742</td>\n",
       "    </tr>\n",
       "    <tr>\n",
       "      <th>kurt</th>\n",
       "      <td>0 days 00:04:44.128687131</td>\n",
       "      <td>0 days 00:06:43.897832170</td>\n",
       "      <td>576.498222</td>\n",
       "    </tr>\n",
       "    <tr>\n",
       "      <th>mad</th>\n",
       "      <td>0 days 01:24:03.245924477</td>\n",
       "      <td>0 days 00:06:33.264288076</td>\n",
       "      <td>5.564512</td>\n",
       "    </tr>\n",
       "    <tr>\n",
       "      <th>mode</th>\n",
       "      <td>0 days 00:50:00</td>\n",
       "      <td>0 days 00:10:00</td>\n",
       "      <td>0.010000</td>\n",
       "    </tr>\n",
       "  </tbody>\n",
       "</table>\n",
       "</div>"
      ],
      "text/plain": [
       "                     Tempo_Extincao         Tempo_Intervencao  AA_total_ha\n",
       "count               0 days 00:25:08           0 days 00:25:08  1508.000000\n",
       "mean      0 days 02:18:57.771883289 0 days 00:12:05.490716180     3.233140\n",
       "std       0 days 03:38:21.081607726 0 days 00:14:48.986859078    37.216702\n",
       "min                 0 days 00:05:00           0 days 00:00:00     0.000050\n",
       "25%                 0 days 01:02:00           0 days 00:06:00     0.010000\n",
       "50%                 0 days 01:43:00           0 days 00:10:00     0.050000\n",
       "75%                 0 days 02:40:00           0 days 00:15:00     0.302500\n",
       "max                 3 days 19:25:00           0 days 07:00:00  1105.000000\n",
       "range               3 days 19:20:00           0 days 07:00:00  1104.999950\n",
       "IQR                 0 days 01:38:00           0 days 00:09:00     0.292500\n",
       "G.M.      0 days 01:38:57.103207915           0 days 00:00:00     0.069105\n",
       "H.M.      0 days 01:11:45.009921023           0 days 00:00:00     0.004170\n",
       "var    1986 days 13:18:59.292321248 9 days 03:31:37.635613820  1385.082900\n",
       "median              0 days 01:43:00           0 days 00:10:00     0.050000\n",
       "skew      0 days 00:00:13.945378450 0 days 00:00:16.204250192    22.210742\n",
       "kurt      0 days 00:04:44.128687131 0 days 00:06:43.897832170   576.498222\n",
       "mad       0 days 01:24:03.245924477 0 days 00:06:33.264288076     5.564512\n",
       "mode                0 days 00:50:00           0 days 00:10:00     0.010000"
      ]
     },
     "execution_count": 89,
     "metadata": {},
     "output_type": "execute_result"
    }
   ],
   "source": [
    "# Resultados em timedelta\n",
    "stat_summary_final = stat_summary.copy()\n",
    "stat_summary_final['Tempo_Extincao'] = stat_summary['Tempo_Extincao'].apply(lambda x: x*10**9).copy()\n",
    "stat_summary_final['Tempo_Intervencao'] =stat_summary['Tempo_Intervencao'].apply(lambda x: x*10**9).copy()\n",
    "\n",
    "stat_summary_final_delta = stat_summary_final.copy()\n",
    "stat_summary_final_delta['Tempo_Extincao'] = stat_summary_final_delta['Tempo_Extincao'].apply(lambda x: pd.to_timedelta(x)).copy()\n",
    "stat_summary_final_delta['Tempo_Intervencao'] = stat_summary_final_delta['Tempo_Intervencao'].apply(lambda x: pd.to_timedelta(x)).copy()\n",
    "# stat_summary_final.delta\n",
    "\n",
    "stat_summary_final_delta"
   ]
  },
  {
   "cell_type": "markdown",
   "id": "49801201",
   "metadata": {},
   "source": [
    "<h3> Data whithout potencial outliers\n",
    "\n"
   ]
  },
  {
   "cell_type": "code",
   "execution_count": 102,
   "id": "abb2549b",
   "metadata": {},
   "outputs": [
    {
     "data": {
      "text/html": [
       "<div>\n",
       "<style scoped>\n",
       "    .dataframe tbody tr th:only-of-type {\n",
       "        vertical-align: middle;\n",
       "    }\n",
       "\n",
       "    .dataframe tbody tr th {\n",
       "        vertical-align: top;\n",
       "    }\n",
       "\n",
       "    .dataframe thead th {\n",
       "        text-align: right;\n",
       "    }\n",
       "</style>\n",
       "<table border=\"1\" class=\"dataframe\">\n",
       "  <thead>\n",
       "    <tr style=\"text-align: right;\">\n",
       "      <th></th>\n",
       "      <th>Litoralidade</th>\n",
       "      <th>Ocorrencias</th>\n",
       "      <th>Tempo_Extincao</th>\n",
       "      <th>Tempo_Intervencao</th>\n",
       "      <th>AA_total_ha</th>\n",
       "    </tr>\n",
       "  </thead>\n",
       "  <tbody>\n",
       "    <tr>\n",
       "      <th>15</th>\n",
       "      <td>Interior</td>\n",
       "      <td>Menores_Ocorrencias</td>\n",
       "      <td>3000</td>\n",
       "      <td>1200</td>\n",
       "      <td>0.100</td>\n",
       "    </tr>\n",
       "    <tr>\n",
       "      <th>43</th>\n",
       "      <td>Litoral</td>\n",
       "      <td>Maiores_Ocorrencias</td>\n",
       "      <td>3480</td>\n",
       "      <td>240</td>\n",
       "      <td>0.050</td>\n",
       "    </tr>\n",
       "    <tr>\n",
       "      <th>145</th>\n",
       "      <td>Interior</td>\n",
       "      <td>Maiores_Ocorrencias</td>\n",
       "      <td>13980</td>\n",
       "      <td>1200</td>\n",
       "      <td>0.100</td>\n",
       "    </tr>\n",
       "    <tr>\n",
       "      <th>237</th>\n",
       "      <td>Litoral</td>\n",
       "      <td>Maiores_Ocorrencias</td>\n",
       "      <td>10440</td>\n",
       "      <td>300</td>\n",
       "      <td>0.200</td>\n",
       "    </tr>\n",
       "    <tr>\n",
       "      <th>261</th>\n",
       "      <td>Interior</td>\n",
       "      <td>Maiores_Ocorrencias</td>\n",
       "      <td>9780</td>\n",
       "      <td>960</td>\n",
       "      <td>0.035</td>\n",
       "    </tr>\n",
       "    <tr>\n",
       "      <th>...</th>\n",
       "      <td>...</td>\n",
       "      <td>...</td>\n",
       "      <td>...</td>\n",
       "      <td>...</td>\n",
       "      <td>...</td>\n",
       "    </tr>\n",
       "    <tr>\n",
       "      <th>23130</th>\n",
       "      <td>Interior</td>\n",
       "      <td>Maiores_Ocorrencias</td>\n",
       "      <td>8280</td>\n",
       "      <td>720</td>\n",
       "      <td>0.045</td>\n",
       "    </tr>\n",
       "    <tr>\n",
       "      <th>23143</th>\n",
       "      <td>Litoral</td>\n",
       "      <td>Maiores_Ocorrencias</td>\n",
       "      <td>3060</td>\n",
       "      <td>840</td>\n",
       "      <td>0.100</td>\n",
       "    </tr>\n",
       "    <tr>\n",
       "      <th>23145</th>\n",
       "      <td>Litoral</td>\n",
       "      <td>Maiores_Ocorrencias</td>\n",
       "      <td>8700</td>\n",
       "      <td>360</td>\n",
       "      <td>0.300</td>\n",
       "    </tr>\n",
       "    <tr>\n",
       "      <th>23167</th>\n",
       "      <td>Litoral</td>\n",
       "      <td>Maiores_Ocorrencias</td>\n",
       "      <td>10620</td>\n",
       "      <td>960</td>\n",
       "      <td>0.070</td>\n",
       "    </tr>\n",
       "    <tr>\n",
       "      <th>23173</th>\n",
       "      <td>Litoral</td>\n",
       "      <td>Maiores_Ocorrencias</td>\n",
       "      <td>8100</td>\n",
       "      <td>300</td>\n",
       "      <td>0.050</td>\n",
       "    </tr>\n",
       "  </tbody>\n",
       "</table>\n",
       "<p>1198 rows × 5 columns</p>\n",
       "</div>"
      ],
      "text/plain": [
       "      Litoralidade          Ocorrencias  Tempo_Extincao  Tempo_Intervencao  \\\n",
       "15        Interior  Menores_Ocorrencias            3000               1200   \n",
       "43         Litoral  Maiores_Ocorrencias            3480                240   \n",
       "145       Interior  Maiores_Ocorrencias           13980               1200   \n",
       "237        Litoral  Maiores_Ocorrencias           10440                300   \n",
       "261       Interior  Maiores_Ocorrencias            9780                960   \n",
       "...            ...                  ...             ...                ...   \n",
       "23130     Interior  Maiores_Ocorrencias            8280                720   \n",
       "23143      Litoral  Maiores_Ocorrencias            3060                840   \n",
       "23145      Litoral  Maiores_Ocorrencias            8700                360   \n",
       "23167      Litoral  Maiores_Ocorrencias           10620                960   \n",
       "23173      Litoral  Maiores_Ocorrencias            8100                300   \n",
       "\n",
       "       AA_total_ha  \n",
       "15           0.100  \n",
       "43           0.050  \n",
       "145          0.100  \n",
       "237          0.200  \n",
       "261          0.035  \n",
       "...            ...  \n",
       "23130        0.045  \n",
       "23143        0.100  \n",
       "23145        0.300  \n",
       "23167        0.070  \n",
       "23173        0.050  \n",
       "\n",
       "[1198 rows x 5 columns]"
      ]
     },
     "execution_count": 102,
     "metadata": {},
     "output_type": "execute_result"
    }
   ],
   "source": [
    "reacendimentos_slim_wpo = reacendimentos_slim_wpo[reacendimentos_slim_wpo['Tempo_Extincao'] < (stat_summary.loc['75%']+1.5*stat_summary.loc['IQR'])[0]]\n",
    "reacendimentos_slim_wpo = reacendimentos_slim_wpo[reacendimentos_slim_wpo['Tempo_Intervencao'] < (stat_summary.loc['75%']+1.5*stat_summary.loc['IQR'])[1]]\n",
    "reacendimentos_slim_wpo = reacendimentos_slim_wpo[reacendimentos_slim_wpo['AA_total_ha'] < (stat_summary.loc['75%']+1.5*stat_summary.loc['IQR'])[2]]\n",
    "reacendimentos_slim_wpo"
   ]
  },
  {
   "cell_type": "markdown",
   "id": "8e9f3dd8",
   "metadata": {},
   "source": [
    "A nova tabela contém 1198 registos em comparação com a tabela original com 1508 linhas.\n",
    "310 registos considerados como outliers.\n"
   ]
  },
  {
   "cell_type": "markdown",
   "id": "8dfb6b1f",
   "metadata": {},
   "source": [
    "<h3> Plotting grahics for number of occurences"
   ]
  },
  {
   "cell_type": "code",
   "execution_count": 66,
   "id": "fa54c90a",
   "metadata": {},
   "outputs": [
    {
     "data": {
      "text/plain": [
       "Text(0.5, 0, 'District')"
      ]
     },
     "execution_count": 66,
     "metadata": {},
     "output_type": "execute_result"
    },
    {
     "data": {
      "image/png": "[encoded data removed]",
      "text/plain": [
       "<Figure size 432x288 with 1 Axes>"
      ]
     },
     "metadata": {
      "needs_background": "light"
     },
     "output_type": "display_data"
    }
   ],
   "source": [
    "a = ocorrencias_por_distrito\n",
    "a.plot.bar()\n",
    "\n",
    "matplotlib.pyplot.title('Number of occurences by district')\n",
    "matplotlib.pyplot.ylabel('Number of occurences')\n",
    "matplotlib.pyplot.xlabel('District')"
   ]
  },
  {
   "cell_type": "code",
   "execution_count": 68,
   "id": "8868a368",
   "metadata": {},
   "outputs": [
    {
     "data": {
      "text/plain": [
       "Text(0, 0.5, 'Number of ccorrences')"
      ]
     },
     "execution_count": 68,
     "metadata": {},
     "output_type": "execute_result"
    },
    {
     "data": {
      "image/png": "[encoded data removed]",
      "text/plain": [
       "<Figure size 432x288 with 1 Axes>"
      ]
     },
     "metadata": {
      "needs_background": "light"
     },
     "output_type": "display_data"
    }
   ],
   "source": [
    "b = reacendimentos.groupby(['Litoralidade']).count()['Count'].sort_values(ascending=False)\n",
    "b.plot.bar()\n",
    "\n",
    "matplotlib.pyplot.title('Number of occurencies by coastal proximity')\n",
    "matplotlib.pyplot.xlabel('Coastal proximity')\n",
    "matplotlib.pyplot.ylabel('Number of ccorrences')"
   ]
  },
  {
   "cell_type": "markdown",
   "id": "3cbd344c",
   "metadata": {},
   "source": [
    "<h3> Plotting histograms"
   ]
  },
  {
   "cell_type": "code",
   "execution_count": 92,
   "id": "5ccb71fb",
   "metadata": {},
   "outputs": [
    {
     "data": {
      "image/png": "[encoded data removed]",
      "text/plain": [
       "<Figure size 720x720 with 4 Axes>"
      ]
     },
     "metadata": {
      "needs_background": "light"
     },
     "output_type": "display_data"
    }
   ],
   "source": [
    "c = reacendimentos_slim_delta.hist(figsize=(10,10),bins=100)"
   ]
  },
  {
   "cell_type": "code",
   "execution_count": 95,
   "id": "f481dcba",
   "metadata": {},
   "outputs": [
    {
     "data": {
      "image/png": "[encoded data removed]",
      "text/plain": [
       "<Figure size 720x720 with 4 Axes>"
      ]
     },
     "metadata": {
      "needs_background": "light"
     },
     "output_type": "display_data"
    }
   ],
   "source": [
    "d = reacendimentos_slim_delta.hist(figsize=(10,10),bins=30)"
   ]
  },
  {
   "cell_type": "code",
   "execution_count": 99,
   "id": "47b9d2e7",
   "metadata": {},
   "outputs": [
    {
     "data": {
      "image/png": "[encoded data removed]",
      "text/plain": [
       "<Figure size 432x288 with 1 Axes>"
      ]
     },
     "metadata": {
      "needs_background": "light"
     },
     "output_type": "display_data"
    }
   ],
   "source": [
    "# Adjusting data for log in AA_total histogram\n",
    "\n",
    "log_reacendimentos_slim = reacendimentos_slim.copy()\n",
    "log_reacendimentos_slim['log_AA'] = np.log1p(reacendimentos_slim['AA_total_ha'])\n",
    "e = log_reacendimentos_slim['log_AA'].hist(bins = 100)\n",
    "\n",
    "matplotlib.pyplot.grid(color='black', linestyle=':')\n",
    "matplotlib.pyplot.title('AA_T_data log x+1')\n",
    "# matplotlib.axes.Axes.set_xticks(np.arange(0, 11, 0.5))\n",
    "\n",
    "matplotlib.pyplot.yscale('log')"
   ]
  },
  {
   "cell_type": "markdown",
   "id": "ddbb8533",
   "metadata": {},
   "source": [
    "<h3> Plotting Box plots "
   ]
  },
  {
   "cell_type": "code",
   "execution_count": 109,
   "id": "7e6ae9c5",
   "metadata": {},
   "outputs": [
    {
     "data": {
      "image/png": "[encoded data removed]",
      "text/plain": [
       "<Figure size 432x288 with 1 Axes>"
      ]
     },
     "metadata": {
      "needs_background": "light"
     },
     "output_type": "display_data"
    }
   ],
   "source": [
    "fig, ax = matplotlib.pyplot.subplots()\n",
    "ax.boxplot(reacendimentos_slim['AA_total_ha'],patch_artist=True ,notch = True,\n",
    "           flierprops=dict(color='black', markeredgecolor='black'), \n",
    "           whiskerprops=dict(color='black'), \n",
    "           capprops=dict(color='black'))\n",
    "matplotlib.pyplot.show()"
   ]
  },
  {
   "cell_type": "code",
   "execution_count": 108,
   "id": "cf62165b",
   "metadata": {},
   "outputs": [
    {
     "data": {
      "image/png": "[encoded data removed]",
      "text/plain": [
       "<Figure size 432x288 with 1 Axes>"
      ]
     },
     "metadata": {
      "needs_background": "light"
     },
     "output_type": "display_data"
    }
   ],
   "source": [
    "fig, ax = matplotlib.pyplot.subplots()\n",
    "ax.boxplot(reacendimentos_slim_wpo['AA_total_ha'],patch_artist=True ,notch = True,\n",
    "           flierprops=dict(color='black', markeredgecolor='black'), \n",
    "           whiskerprops=dict(color='black'), \n",
    "           capprops=dict(color='black'))\n",
    "matplotlib.pyplot.show()"
   ]
  },
  {
   "cell_type": "code",
   "execution_count": 111,
   "id": "d37dfc8a",
   "metadata": {},
   "outputs": [
    {
     "data": {
      "image/png": "[encoded data removed]",
      "text/plain": [
       "<Figure size 432x288 with 1 Axes>"
      ]
     },
     "metadata": {
      "needs_background": "light"
     },
     "output_type": "display_data"
    }
   ],
   "source": [
    "fig, ax = matplotlib.pyplot.subplots()\n",
    "ax.boxplot(reacendimentos_slim_delta['Tempo_Extincao'],patch_artist=True ,notch = True,\n",
    "           flierprops=dict(color='black', markeredgecolor='black'), \n",
    "           whiskerprops=dict(color='black'), \n",
    "           capprops=dict(color='black'))\n",
    "matplotlib.pyplot.show()"
   ]
  },
  {
   "cell_type": "code",
   "execution_count": 112,
   "id": "2b810372",
   "metadata": {},
   "outputs": [
    {
     "data": {
      "image/png": "[encoded data removed]",
      "text/plain": [
       "<Figure size 432x288 with 1 Axes>"
      ]
     },
     "metadata": {
      "needs_background": "light"
     },
     "output_type": "display_data"
    }
   ],
   "source": [
    "fig, ax = matplotlib.pyplot.subplots()\n",
    "ax.boxplot(reacendimentos_slim_wpo['Tempo_Extincao'],patch_artist=True ,notch = True,\n",
    "           flierprops=dict(color='black', markeredgecolor='black'), \n",
    "           whiskerprops=dict(color='black'), \n",
    "           capprops=dict(color='black'))\n",
    "matplotlib.pyplot.show()"
   ]
  },
  {
   "cell_type": "code",
   "execution_count": 114,
   "id": "905e36c8",
   "metadata": {},
   "outputs": [
    {
     "data": {
      "image/png": "[encoded data removed]",
      "text/plain": [
       "<Figure size 432x288 with 1 Axes>"
      ]
     },
     "metadata": {
      "needs_background": "light"
     },
     "output_type": "display_data"
    }
   ],
   "source": [
    "fig, ax = matplotlib.pyplot.subplots()\n",
    "ax.boxplot(reacendimentos_slim_delta['Tempo_Intervencao'],patch_artist=True ,notch = True,\n",
    "           flierprops=dict(color='black', markeredgecolor='black'), \n",
    "           whiskerprops=dict(color='black'), \n",
    "           capprops=dict(color='black'))\n",
    "matplotlib.pyplot.show()"
   ]
  },
  {
   "cell_type": "code",
   "execution_count": 115,
   "id": "f700f953",
   "metadata": {},
   "outputs": [
    {
     "data": {
      "image/png": "[encoded data removed]",
      "text/plain": [
       "<Figure size 432x288 with 1 Axes>"
      ]
     },
     "metadata": {
      "needs_background": "light"
     },
     "output_type": "display_data"
    }
   ],
   "source": [
    "fig, ax = matplotlib.pyplot.subplots()\n",
    "ax.boxplot(reacendimentos_slim_wpo['Tempo_Intervencao'],patch_artist=True ,notch = True,\n",
    "           flierprops=dict(color='black', markeredgecolor='black'), \n",
    "           whiskerprops=dict(color='black'), \n",
    "           capprops=dict(color='black'))\n",
    "matplotlib.pyplot.show()"
   ]
  },
  {
   "cell_type": "markdown",
   "id": "dffcea1d",
   "metadata": {},
   "source": [
    "<h3> Boxplots by group"
   ]
  },
  {
   "cell_type": "code",
   "execution_count": 131,
   "id": "63d350cb",
   "metadata": {},
   "outputs": [
    {
     "data": {
      "text/plain": [
       "Text(0, 0.5, 'Burnt area (ha)')"
      ]
     },
     "execution_count": 131,
     "metadata": {},
     "output_type": "execute_result"
    },
    {
     "data": {
      "image/png": "[encoded data removed]",
      "text/plain": [
       "<Figure size 432x288 with 1 Axes>"
      ]
     },
     "metadata": {
      "needs_background": "light"
     },
     "output_type": "display_data"
    }
   ],
   "source": [
    "sns.boxplot(x=\"Litoralidade\", y=\"AA_total_ha\", data=reacendimentos_slim_delta) \n",
    "matplotlib.pyplot.xlabel('Coastal proximity')\n",
    "matplotlib.pyplot.ylabel('Burnt area (ha)')"
   ]
  },
  {
   "cell_type": "code",
   "execution_count": 132,
   "id": "ade9d511",
   "metadata": {},
   "outputs": [
    {
     "data": {
      "text/plain": [
       "Text(0, 0.5, 'Burnt area (ha)')"
      ]
     },
     "execution_count": 132,
     "metadata": {},
     "output_type": "execute_result"
    },
    {
     "data": {
      "image/png": "[encoded data removed]",
      "text/plain": [
       "<Figure size 432x288 with 1 Axes>"
      ]
     },
     "metadata": {
      "needs_background": "light"
     },
     "output_type": "display_data"
    }
   ],
   "source": [
    "sns.boxplot(x=\"Litoralidade\", y=\"AA_total_ha\", data=reacendimentos_slim_wpo) \n",
    "matplotlib.pyplot.xlabel('Coastal proximity')\n",
    "matplotlib.pyplot.ylabel('Burnt area (ha)')"
   ]
  },
  {
   "cell_type": "code",
   "execution_count": 123,
   "id": "16bed49f",
   "metadata": {},
   "outputs": [
    {
     "data": {
      "text/plain": [
       "Text(0, 0.5, 'Extintion time (s)')"
      ]
     },
     "execution_count": 123,
     "metadata": {},
     "output_type": "execute_result"
    },
    {
     "data": {
      "image/png": "[encoded data removed]",
      "text/plain": [
       "<Figure size 432x288 with 1 Axes>"
      ]
     },
     "metadata": {
      "needs_background": "light"
     },
     "output_type": "display_data"
    }
   ],
   "source": [
    "sns.boxplot(x=\"Litoralidade\", y=\"Tempo_Extincao\", data=reacendimentos_slim_delta) \n",
    "matplotlib.pyplot.xlabel('Coastal proximity')\n",
    "matplotlib.pyplot.ylabel('Extintion time (s)')\n"
   ]
  },
  {
   "cell_type": "code",
   "execution_count": 124,
   "id": "68b8d03e",
   "metadata": {},
   "outputs": [
    {
     "data": {
      "text/plain": [
       "Text(0, 0.5, 'Extintion time (s)')"
      ]
     },
     "execution_count": 124,
     "metadata": {},
     "output_type": "execute_result"
    },
    {
     "data": {
      "image/png": "[encoded data removed]",
      "text/plain": [
       "<Figure size 432x288 with 1 Axes>"
      ]
     },
     "metadata": {
      "needs_background": "light"
     },
     "output_type": "display_data"
    }
   ],
   "source": [
    "sns.boxplot(x=\"Litoralidade\", y=\"Tempo_Extincao\", data=reacendimentos_slim_wpo) \n",
    "matplotlib.pyplot.xlabel('Coastal proximity')\n",
    "matplotlib.pyplot.ylabel('Extintion time (s)')"
   ]
  },
  {
   "cell_type": "code",
   "execution_count": 128,
   "id": "55d84ef9",
   "metadata": {},
   "outputs": [
    {
     "data": {
      "text/plain": [
       "Text(0, 0.5, 'Extintion time (s)')"
      ]
     },
     "execution_count": 128,
     "metadata": {},
     "output_type": "execute_result"
    },
    {
     "data": {
      "image/png": "[encoded data removed]",
      "text/plain": [
       "<Figure size 432x288 with 1 Axes>"
      ]
     },
     "metadata": {
      "needs_background": "light"
     },
     "output_type": "display_data"
    }
   ],
   "source": [
    "sns.boxplot(x=\"Litoralidade\", y=\"Tempo_Intervencao\", data=reacendimentos_slim_delta) \n",
    "matplotlib.pyplot.xlabel('Coastal proximity')\n",
    "matplotlib.pyplot.ylabel('Intervention time (s)')"
   ]
  },
  {
   "cell_type": "code",
   "execution_count": 127,
   "id": "b7b732ee",
   "metadata": {},
   "outputs": [
    {
     "data": {
      "text/plain": [
       "Text(0, 0.5, 'Extintion time (s)')"
      ]
     },
     "execution_count": 127,
     "metadata": {},
     "output_type": "execute_result"
    },
    {
     "data": {
      "image/png": "[encoded data removed]",
      "text/plain": [
       "<Figure size 432x288 with 1 Axes>"
      ]
     },
     "metadata": {
      "needs_background": "light"
     },
     "output_type": "display_data"
    }
   ],
   "source": [
    "sns.boxplot(x=\"Litoralidade\", y=\"Tempo_Intervencao\", data=reacendimentos_slim_wpo) \n",
    "matplotlib.pyplot.xlabel('Coastal proximity')\n",
    "matplotlib.pyplot.ylabel('Intervention time (s)')"
   ]
  },
  {
   "cell_type": "code",
   "execution_count": 133,
   "id": "808a371d",
   "metadata": {},
   "outputs": [
    {
     "data": {
      "text/plain": [
       "Text(0, 0.5, 'Burnt area (ha)')"
      ]
     },
     "execution_count": 133,
     "metadata": {},
     "output_type": "execute_result"
    },
    {
     "data": {
      "image/png": "[encoded data removed]",
      "text/plain": [
       "<Figure size 432x288 with 1 Axes>"
      ]
     },
     "metadata": {
      "needs_background": "light"
     },
     "output_type": "display_data"
    }
   ],
   "source": [
    "sns.boxplot(x=\"Ocorrencias\", y=\"AA_total_ha\", data=reacendimentos_slim_delta) \n",
    "matplotlib.pyplot.xlabel('Coastal proximity')\n",
    "matplotlib.pyplot.ylabel('Burnt area (ha)')"
   ]
  },
  {
   "cell_type": "code",
   "execution_count": 134,
   "id": "bc649f25",
   "metadata": {},
   "outputs": [
    {
     "data": {
      "text/plain": [
       "Text(0, 0.5, 'Burnt area (ha)')"
      ]
     },
     "execution_count": 134,
     "metadata": {},
     "output_type": "execute_result"
    },
    {
     "data": {
      "image/png": "[encoded data removed]",
      "text/plain": [
       "<Figure size 432x288 with 1 Axes>"
      ]
     },
     "metadata": {
      "needs_background": "light"
     },
     "output_type": "display_data"
    }
   ],
   "source": [
    "sns.boxplot(x=\"Ocorrencias\", y=\"AA_total_ha\", data=reacendimentos_slim_wpo) \n",
    "matplotlib.pyplot.xlabel('Coastal proximity')\n",
    "matplotlib.pyplot.ylabel('Burnt area (ha)')"
   ]
  },
  {
   "cell_type": "code",
   "execution_count": 135,
   "id": "a81c3514",
   "metadata": {},
   "outputs": [
    {
     "data": {
      "text/plain": [
       "Text(0, 0.5, 'Extintion time (s)')"
      ]
     },
     "execution_count": 135,
     "metadata": {},
     "output_type": "execute_result"
    },
    {
     "data": {
      "image/png": "[encoded data removed]",
      "text/plain": [
       "<Figure size 432x288 with 1 Axes>"
      ]
     },
     "metadata": {
      "needs_background": "light"
     },
     "output_type": "display_data"
    }
   ],
   "source": [
    "sns.boxplot(x=\"Ocorrencias\", y=\"Tempo_Extincao\", data=reacendimentos_slim_delta) \n",
    "matplotlib.pyplot.xlabel('Coastal proximity')\n",
    "matplotlib.pyplot.ylabel('Extintion time (s)')"
   ]
  },
  {
   "cell_type": "code",
   "execution_count": 136,
   "id": "dfd0b76c",
   "metadata": {},
   "outputs": [
    {
     "data": {
      "text/plain": [
       "Text(0, 0.5, 'Extintion time (s)')"
      ]
     },
     "execution_count": 136,
     "metadata": {},
     "output_type": "execute_result"
    },
    {
     "data": {
      "image/png": "[encoded data removed]",
      "text/plain": [
       "<Figure size 432x288 with 1 Axes>"
      ]
     },
     "metadata": {
      "needs_background": "light"
     },
     "output_type": "display_data"
    }
   ],
   "source": [
    "sns.boxplot(x=\"Ocorrencias\", y=\"Tempo_Extincao\", data=reacendimentos_slim_wpo) \n",
    "matplotlib.pyplot.xlabel('Coastal proximity')\n",
    "matplotlib.pyplot.ylabel('Extintion time (s)')"
   ]
  },
  {
   "cell_type": "code",
   "execution_count": 137,
   "id": "c6b4cb29",
   "metadata": {},
   "outputs": [
    {
     "data": {
      "text/plain": [
       "Text(0, 0.5, 'Intervention time (s)')"
      ]
     },
     "execution_count": 137,
     "metadata": {},
     "output_type": "execute_result"
    },
    {
     "data": {
      "image/png": "[encoded data removed]",
      "text/plain": [
       "<Figure size 432x288 with 1 Axes>"
      ]
     },
     "metadata": {
      "needs_background": "light"
     },
     "output_type": "display_data"
    }
   ],
   "source": [
    "sns.boxplot(x=\"Ocorrencias\", y=\"Tempo_Intervencao\", data=reacendimentos_slim_delta) \n",
    "matplotlib.pyplot.xlabel('Coastal proximity')\n",
    "matplotlib.pyplot.ylabel('Intervention time (s)')"
   ]
  },
  {
   "cell_type": "code",
   "execution_count": 138,
   "id": "fa17a465",
   "metadata": {},
   "outputs": [
    {
     "data": {
      "text/plain": [
       "Text(0, 0.5, 'Intervention time (s)')"
      ]
     },
     "execution_count": 138,
     "metadata": {},
     "output_type": "execute_result"
    },
    {
     "data": {
      "image/png": "[encoded data removed]",
      "text/plain": [
       "<Figure size 432x288 with 1 Axes>"
      ]
     },
     "metadata": {
      "needs_background": "light"
     },
     "output_type": "display_data"
    }
   ],
   "source": [
    "sns.boxplot(x=\"Ocorrencias\", y=\"Tempo_Intervencao\", data=reacendimentos_slim_wpo) \n",
    "matplotlib.pyplot.xlabel('Coastal proximity')\n",
    "matplotlib.pyplot.ylabel('Intervention time (s)')"
   ]
  },
  {
   "cell_type": "markdown",
   "id": "7727f9ed",
   "metadata": {},
   "source": [
    "<h3> Plotting scatterplots"
   ]
  },
  {
   "cell_type": "code",
   "execution_count": 139,
   "id": "1c836f0a",
   "metadata": {},
   "outputs": [
    {
     "data": {
      "text/plain": [
       "<AxesSubplot:title={'center':'Extintion time vs. Total burnt area'}, xlabel='Tempo_Extincao', ylabel='AA_total_ha'>"
      ]
     },
     "execution_count": 139,
     "metadata": {},
     "output_type": "execute_result"
    },
    {
     "data": {
      "image/png": "[encoded data removed]",
      "text/plain": [
       "<Figure size 432x288 with 1 Axes>"
      ]
     },
     "metadata": {
      "needs_background": "light"
     },
     "output_type": "display_data"
    }
   ],
   "source": [
    "reacendimentos_slim_delta.plot('Tempo_Extincao','AA_total_ha', kind='scatter',\n",
    "                               c='lightcoral', title='Extintion time vs. Total burnt area')"
   ]
  },
  {
   "cell_type": "code",
   "execution_count": 140,
   "id": "8f889fa9",
   "metadata": {},
   "outputs": [
    {
     "data": {
      "text/plain": [
       "<AxesSubplot:title={'center':'Extintion time vs. Total burnt area'}, xlabel='Tempo_Extincao', ylabel='AA_total_ha'>"
      ]
     },
     "execution_count": 140,
     "metadata": {},
     "output_type": "execute_result"
    },
    {
     "data": {
      "image/png": "[encoded data removed]",
      "text/plain": [
       "<Figure size 432x288 with 1 Axes>"
      ]
     },
     "metadata": {
      "needs_background": "light"
     },
     "output_type": "display_data"
    }
   ],
   "source": [
    "reacendimentos_slim_wpo.plot('Tempo_Extincao','AA_total_ha', kind='scatter',\n",
    "                               c='lightcoral', title='Extintion time vs. Total burnt area')"
   ]
  },
  {
   "cell_type": "code",
   "execution_count": 141,
   "id": "a4213959",
   "metadata": {},
   "outputs": [
    {
     "data": {
      "text/plain": [
       "<AxesSubplot:title={'center':'Intervention time vs. Total burnt area'}, xlabel='Tempo_Intervencao', ylabel='AA_total_ha'>"
      ]
     },
     "execution_count": 141,
     "metadata": {},
     "output_type": "execute_result"
    },
    {
     "data": {
      "image/png": "[encoded data removed]",
      "text/plain": [
       "<Figure size 432x288 with 1 Axes>"
      ]
     },
     "metadata": {
      "needs_background": "light"
     },
     "output_type": "display_data"
    }
   ],
   "source": [
    "reacendimentos_slim_delta.plot('Tempo_Intervencao','AA_total_ha', kind='scatter',\n",
    "                               c='lightcoral', title='Intervention time vs. Total burnt area')"
   ]
  },
  {
   "cell_type": "code",
   "execution_count": 142,
   "id": "2c96eeca",
   "metadata": {},
   "outputs": [
    {
     "data": {
      "text/plain": [
       "<AxesSubplot:title={'center':'Intervention time vs. Total burnt area'}, xlabel='Tempo_Intervencao', ylabel='AA_total_ha'>"
      ]
     },
     "execution_count": 142,
     "metadata": {},
     "output_type": "execute_result"
    },
    {
     "data": {
      "image/png": "[encoded data removed]",
      "text/plain": [
       "<Figure size 432x288 with 1 Axes>"
      ]
     },
     "metadata": {
      "needs_background": "light"
     },
     "output_type": "display_data"
    }
   ],
   "source": [
    "reacendimentos_slim_wpo.plot('Tempo_Intervencao','AA_total_ha', kind='scatter',\n",
    "                               c='lightcoral', title='Intervention time vs. Total burnt area')"
   ]
  },
  {
   "cell_type": "code",
   "execution_count": 143,
   "id": "b2d6c5b1",
   "metadata": {},
   "outputs": [
    {
     "data": {
      "text/plain": [
       "<AxesSubplot:title={'center':'Extintion time vs Intervention time'}, xlabel='Tempo_Extincao', ylabel='Tempo_Intervencao'>"
      ]
     },
     "execution_count": 143,
     "metadata": {},
     "output_type": "execute_result"
    },
    {
     "data": {
      "image/png": "[encoded data removed]",
      "text/plain": [
       "<Figure size 432x288 with 1 Axes>"
      ]
     },
     "metadata": {
      "needs_background": "light"
     },
     "output_type": "display_data"
    }
   ],
   "source": [
    "reacendimentos_slim_delta.plot('Tempo_Extincao','Tempo_Intervencao', kind='scatter',\n",
    "                               c='lightcoral', title='Extintion time vs Intervention time')"
   ]
  },
  {
   "cell_type": "code",
   "execution_count": 144,
   "id": "2131efc2",
   "metadata": {},
   "outputs": [
    {
     "data": {
      "text/plain": [
       "<AxesSubplot:title={'center':'Extintion time vs Intervention time'}, xlabel='Tempo_Extincao', ylabel='Tempo_Intervencao'>"
      ]
     },
     "execution_count": 144,
     "metadata": {},
     "output_type": "execute_result"
    },
    {
     "data": {
      "image/png": "[encoded data removed]",
      "text/plain": [
       "<Figure size 432x288 with 1 Axes>"
      ]
     },
     "metadata": {
      "needs_background": "light"
     },
     "output_type": "display_data"
    }
   ],
   "source": [
    "reacendimentos_slim_wpo.plot('Tempo_Extincao','Tempo_Intervencao', kind='scatter',\n",
    "                               c='lightcoral', title='Extintion time vs Intervention time')"
   ]
  },
  {
   "cell_type": "markdown",
   "id": "2b6ee539",
   "metadata": {},
   "source": [
    "<h3> Inferences"
   ]
  },
  {
   "cell_type": "markdown",
   "id": "e0fedff4",
   "metadata": {},
   "source": [
    "<h4> Chi Square: </h4> <br>\n",
    "\n",
    "Determines if there is significant relationship between two categorical variables. <br>\n",
    "The null hypothesis is that no relation exists between the two variables. <br> <br>\n",
    "We are going to test if there is a relation with fires from re-ignition according to coastal proximity and the groups of districts with higher number of occurences of these fires."
   ]
  },
  {
   "cell_type": "code",
   "execution_count": 147,
   "id": "967ebfb7",
   "metadata": {},
   "outputs": [
    {
     "data": {
      "text/html": [
       "<div>\n",
       "<style scoped>\n",
       "    .dataframe tbody tr th:only-of-type {\n",
       "        vertical-align: middle;\n",
       "    }\n",
       "\n",
       "    .dataframe tbody tr th {\n",
       "        vertical-align: top;\n",
       "    }\n",
       "\n",
       "    .dataframe thead th {\n",
       "        text-align: right;\n",
       "    }\n",
       "</style>\n",
       "<table border=\"1\" class=\"dataframe\">\n",
       "  <thead>\n",
       "    <tr style=\"text-align: right;\">\n",
       "      <th>Ocorrencias</th>\n",
       "      <th>Maiores_Ocorrencias</th>\n",
       "      <th>Menores_Ocorrencias</th>\n",
       "    </tr>\n",
       "    <tr>\n",
       "      <th>Litoralidade</th>\n",
       "      <th></th>\n",
       "      <th></th>\n",
       "    </tr>\n",
       "  </thead>\n",
       "  <tbody>\n",
       "    <tr>\n",
       "      <th>Interior</th>\n",
       "      <td>235</td>\n",
       "      <td>175</td>\n",
       "    </tr>\n",
       "    <tr>\n",
       "      <th>Litoral</th>\n",
       "      <td>929</td>\n",
       "      <td>169</td>\n",
       "    </tr>\n",
       "  </tbody>\n",
       "</table>\n",
       "</div>"
      ],
      "text/plain": [
       "Ocorrencias   Maiores_Ocorrencias  Menores_Ocorrencias\n",
       "Litoralidade                                          \n",
       "Interior                      235                  175\n",
       "Litoral                       929                  169"
      ]
     },
     "execution_count": 147,
     "metadata": {},
     "output_type": "execute_result"
    }
   ],
   "source": [
    "crosstab = pd.crosstab(reacendimentos_slim_delta[\"Litoralidade\"], \n",
    "                       reacendimentos_slim_delta[\"Ocorrencias\"])\n",
    "\n",
    "crosstab"
   ]
  },
  {
   "cell_type": "code",
   "execution_count": 148,
   "id": "c9e87a03",
   "metadata": {},
   "outputs": [
    {
     "name": "stdout",
     "output_type": "stream",
     "text": [
      "chi-square statistic: 124.7319555171618\n",
      "p-value: 5.825544823977843e-29\n",
      "degree of freedom: 1\n",
      "expected contingency table\n",
      "[[316.47214854  93.52785146]\n",
      " [847.52785146 250.47214854]]\n"
     ]
    }
   ],
   "source": [
    "chiRes = stat.chi2_contingency(crosstab)\n",
    "\n",
    "print(f'chi-square statistic: {chiRes[0]}')\n",
    "print(f'p-value: {chiRes[1]}')\n",
    "print(f'degree of freedom: {chiRes[2]}')\n",
    "print('expected contingency table') \n",
    "print(chiRes[3])"
   ]
  },
  {
   "cell_type": "markdown",
   "id": "9255cab6",
   "metadata": {},
   "source": [
    "With p-value less than 0.05, we reject the null hypothesis (H0: no relation between the 2 variables). <br>\n",
    "This means coastal proximity is associated with number of occurrences of fires re-ignition.\n"
   ]
  },
  {
   "cell_type": "markdown",
   "id": "0e3fd52b",
   "metadata": {},
   "source": [
    "<h4> Phi Coefficient </h4><br>\n",
    "\n",
    " Compares the strength of the relationship between two categorical variables, with variables with only two unique measurement levels. Ranges from 0 to 1."
   ]
  },
  {
   "cell_type": "code",
   "execution_count": 150,
   "id": "0d8d5c37",
   "metadata": {},
   "outputs": [
    {
     "name": "stdout",
     "output_type": "stream",
     "text": [
      "Phi Coefficient: 0.28937546159494654\n"
     ]
    }
   ],
   "source": [
    "chisq_stat = stat.chi2_contingency(crosstab, correction=False)[0]\n",
    "\n",
    "# sample size\n",
    "n = np.sum(np.sum(crosstab))\n",
    "# minimum of rows & columns\n",
    "minshape = min(crosstab.shape)-1\n",
    "# Phi\n",
    "Phi_ = np.sqrt( (chisq_stat/n)/minshape)\n",
    "print(f\"Phi Coefficient: {Phi_}\")"
   ]
  },
  {
   "cell_type": "markdown",
   "id": "126e20d2",
   "metadata": {},
   "source": [
    "Phi coefficient of aprox. 0.3 indicates a low level of dependence between fires from re-ignition according to coastal proximity and the groups of districts with higher number of occurences of these fires."
   ]
  },
  {
   "cell_type": "markdown",
   "id": "b1cb996b",
   "metadata": {},
   "source": [
    "<h4> Mann-Whitney U </h4> <br>\n",
    "\n",
    "Compara dois grupos A e B de uma variável ordinal ou contínua.\n",
    "\n",
    "Vamos comparar a área ardida total com a litoralidade. <br>\n",
    "H0: The two populations are equal."
   ]
  },
  {
   "cell_type": "code",
   "execution_count": 181,
   "id": "1bf8ecd3",
   "metadata": {},
   "outputs": [
    {
     "data": {
      "text/plain": [
       "MannwhitneyuResult(statistic=215817.5, pvalue=0.2170407104979557)"
      ]
     },
     "execution_count": 181,
     "metadata": {},
     "output_type": "execute_result"
    }
   ],
   "source": [
    "stat.mannwhitneyu(x=reacendimentos_litoral['AA_total_ha'],\n",
    "                   y=reacendimentos_interior['AA_total_ha'])"
   ]
  },
  {
   "cell_type": "markdown",
   "id": "c092d2b2",
   "metadata": {},
   "source": [
    "With a p-value above 0.05, we can't reject the null hypothesis so there is no evidence to say burnt area of litoral is different from burnt area of interior."
   ]
  },
  {
   "cell_type": "markdown",
   "id": "409860d1",
   "metadata": {},
   "source": [
    "Vamos comparar a área ardida total com a distritos com maiores ocorrencias.\n",
    "H0: The two populations are equal."
   ]
  },
  {
   "cell_type": "code",
   "execution_count": 182,
   "id": "ec87e4c9",
   "metadata": {},
   "outputs": [
    {
     "data": {
      "text/plain": [
       "MannwhitneyuResult(statistic=194923.5, pvalue=0.4557127512430156)"
      ]
     },
     "execution_count": 182,
     "metadata": {},
     "output_type": "execute_result"
    }
   ],
   "source": [
    "   stat.mannwhitneyu(x=reacendimentos_maiores['AA_total_ha'],\n",
    "                   y=reacendimentos_menores['AA_total_ha'])"
   ]
  },
  {
   "cell_type": "markdown",
   "id": "9a6d208a",
   "metadata": {},
   "source": [
    "With a p-value above 0.05, we can't reject the null hypothesis so there is no evidence to say burnt area of highest occurence group is different from lowest occurence group."
   ]
  },
  {
   "cell_type": "code",
   "execution_count": null,
   "id": "6fcfdc65",
   "metadata": {},
   "outputs": [],
   "source": []
  }
 ],
 "metadata": {
  "kernelspec": {
   "display_name": "Python 3 (ipykernel)",
   "language": "python",
   "name": "python3"
  },
  "language_info": {
   "codemirror_mode": {
    "name": "ipython",
    "version": 3
   },
   "file_extension": ".py",
   "mimetype": "text/x-python",
   "name": "python",
   "nbconvert_exporter": "python",
   "pygments_lexer": "ipython3",
   "version": "3.9.12"
  }
 },
 "nbformat": 4,
 "nbformat_minor": 5
}
