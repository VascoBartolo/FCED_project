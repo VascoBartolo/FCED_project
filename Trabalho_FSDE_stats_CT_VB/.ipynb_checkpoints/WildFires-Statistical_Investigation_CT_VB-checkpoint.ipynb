{
 "cells": [
  {
   "cell_type": "markdown",
   "id": "58a45000",
   "metadata": {},
   "source": [
    "# Six-step Statistical Investigation\n",
    "    \n",
    "    1. Research question\n",
    "    2. Design a study and collect data\n",
    "    3. Explore the data\n",
    "    4. Draw inferences\n",
    "    5. Formulate conclusions\n",
    "    6. Look back and ahead"
   ]
  },
  {
   "cell_type": "markdown",
   "id": "5560a9e2",
   "metadata": {},
   "source": [
    "<h3> 1. Research question"
   ]
  },
  {
   "cell_type": "markdown",
   "id": "d3eb80e8",
   "metadata": {},
   "source": [
    "<h3> 2. Design a study and collect data\n",
    "    \n",
    "    Data was obtained via ICNF (Instituto da Conservação da Natureza e Florestas) website and collected from ANPC (Autoridade Nacional de Proteção Civil).\n",
    "    The data includes information on wildfires occuring in Portugal in the period of 2015 year."
   ]
  },
  {
   "cell_type": "markdown",
   "id": "34552bb4",
   "metadata": {},
   "source": [
    "<h3> 3. Explore the data"
   ]
  },
  {
   "cell_type": "code",
   "execution_count": 1,
   "id": "46915644",
   "metadata": {},
   "outputs": [],
   "source": [
    "import pandas as pd\n",
    "from dateutil import parser\n",
    "import numpy as np\n",
    "import math\n",
    "import statistics as st\n",
    "from scipy import stats as stat\n",
    "import matplotlib\n",
    "import seaborn as sns"
   ]
  },
  {
   "cell_type": "code",
   "execution_count": 232,
   "id": "05848c2d",
   "metadata": {},
   "outputs": [
    {
     "data": {
      "text/html": [
       "<div>\n",
       "<style scoped>\n",
       "    .dataframe tbody tr th:only-of-type {\n",
       "        vertical-align: middle;\n",
       "    }\n",
       "\n",
       "    .dataframe tbody tr th {\n",
       "        vertical-align: top;\n",
       "    }\n",
       "\n",
       "    .dataframe thead th {\n",
       "        text-align: right;\n",
       "    }\n",
       "</style>\n",
       "<table border=\"1\" class=\"dataframe\">\n",
       "  <thead>\n",
       "    <tr style=\"text-align: right;\">\n",
       "      <th></th>\n",
       "      <th>Ano</th>\n",
       "      <th>Codigo SGIF</th>\n",
       "      <th>Codigo_ANPC</th>\n",
       "      <th>Tipo</th>\n",
       "      <th>Distrito</th>\n",
       "      <th>Concelho</th>\n",
       "      <th>Freguesia</th>\n",
       "      <th>Local</th>\n",
       "      <th>INE</th>\n",
       "      <th>x</th>\n",
       "      <th>...</th>\n",
       "      <th>Fogacho</th>\n",
       "      <th>Incendio</th>\n",
       "      <th>Agricola</th>\n",
       "      <th>Perimetro</th>\n",
       "      <th>APS</th>\n",
       "      <th>Causa</th>\n",
       "      <th>TipoCausa</th>\n",
       "      <th>Região PROF</th>\n",
       "      <th>UGF</th>\n",
       "      <th>Count</th>\n",
       "    </tr>\n",
       "  </thead>\n",
       "  <tbody>\n",
       "    <tr>\n",
       "      <th>0</th>\n",
       "      <td>2015</td>\n",
       "      <td>DM315252</td>\n",
       "      <td>2015160007544</td>\n",
       "      <td>Florestal</td>\n",
       "      <td>Viana do Castelo</td>\n",
       "      <td>Ponte de Lima</td>\n",
       "      <td>Serdedelo</td>\n",
       "      <td>VALE DE TROVELA (SERDEDELO)</td>\n",
       "      <td>160746</td>\n",
       "      <td>167814</td>\n",
       "      <td>...</td>\n",
       "      <td>0</td>\n",
       "      <td>1</td>\n",
       "      <td>0</td>\n",
       "      <td>NaN</td>\n",
       "      <td>NaN</td>\n",
       "      <td>122.0</td>\n",
       "      <td>Negligente</td>\n",
       "      <td>Entre Douro e Minho</td>\n",
       "      <td>Alto Minho</td>\n",
       "      <td>1</td>\n",
       "    </tr>\n",
       "    <tr>\n",
       "      <th>1</th>\n",
       "      <td>2015</td>\n",
       "      <td>DM215305</td>\n",
       "      <td>2015130043758</td>\n",
       "      <td>Florestal</td>\n",
       "      <td>Porto</td>\n",
       "      <td>Marco de Canaveses</td>\n",
       "      <td>Vila Boa de Quires</td>\n",
       "      <td>LUGAR DO FOFO</td>\n",
       "      <td>130731</td>\n",
       "      <td>193731</td>\n",
       "      <td>...</td>\n",
       "      <td>0</td>\n",
       "      <td>1</td>\n",
       "      <td>0</td>\n",
       "      <td>NaN</td>\n",
       "      <td>NaN</td>\n",
       "      <td>122.0</td>\n",
       "      <td>Negligente</td>\n",
       "      <td>Entre Douro e Minho</td>\n",
       "      <td>Tâmega</td>\n",
       "      <td>1</td>\n",
       "    </tr>\n",
       "    <tr>\n",
       "      <th>2</th>\n",
       "      <td>2015</td>\n",
       "      <td>DM415293</td>\n",
       "      <td>2015030021973</td>\n",
       "      <td>Florestal</td>\n",
       "      <td>Braga</td>\n",
       "      <td>Vila Verde</td>\n",
       "      <td>Lage</td>\n",
       "      <td>RUA PROF ABEL MADEIRA</td>\n",
       "      <td>31323</td>\n",
       "      <td>172162</td>\n",
       "      <td>...</td>\n",
       "      <td>1</td>\n",
       "      <td>0</td>\n",
       "      <td>0</td>\n",
       "      <td>NaN</td>\n",
       "      <td>NaN</td>\n",
       "      <td>60.0</td>\n",
       "      <td>Desconhecida</td>\n",
       "      <td>Entre Douro e Minho</td>\n",
       "      <td>Baixo Minho</td>\n",
       "      <td>1</td>\n",
       "    </tr>\n",
       "    <tr>\n",
       "      <th>3</th>\n",
       "      <td>2015</td>\n",
       "      <td>DM315261</td>\n",
       "      <td>2015160007563</td>\n",
       "      <td>Falso Alarme</td>\n",
       "      <td>Viana do Castelo</td>\n",
       "      <td>Ponte de Lima</td>\n",
       "      <td>Boalhosa</td>\n",
       "      <td>J. DEPOSITOS DE AGUA (BOALHOSA)</td>\n",
       "      <td>160709</td>\n",
       "      <td>171291</td>\n",
       "      <td>...</td>\n",
       "      <td>0</td>\n",
       "      <td>0</td>\n",
       "      <td>0</td>\n",
       "      <td>NaN</td>\n",
       "      <td>NaN</td>\n",
       "      <td>630.0</td>\n",
       "      <td>Desconhecida</td>\n",
       "      <td>Entre Douro e Minho</td>\n",
       "      <td>Alto Minho</td>\n",
       "      <td>1</td>\n",
       "    </tr>\n",
       "    <tr>\n",
       "      <th>4</th>\n",
       "      <td>2015</td>\n",
       "      <td>BL115321</td>\n",
       "      <td>2015180015874</td>\n",
       "      <td>Agrícola</td>\n",
       "      <td>Viseu</td>\n",
       "      <td>Castro Daire</td>\n",
       "      <td>Castro Daire</td>\n",
       "      <td>Farejinhas - Bº das Queirós</td>\n",
       "      <td>180304</td>\n",
       "      <td>217299</td>\n",
       "      <td>...</td>\n",
       "      <td>1</td>\n",
       "      <td>0</td>\n",
       "      <td>0</td>\n",
       "      <td>NaN</td>\n",
       "      <td>NaN</td>\n",
       "      <td>630.0</td>\n",
       "      <td>Desconhecida</td>\n",
       "      <td>Beira Litoral</td>\n",
       "      <td>Dão Lafões</td>\n",
       "      <td>1</td>\n",
       "    </tr>\n",
       "    <tr>\n",
       "      <th>...</th>\n",
       "      <td>...</td>\n",
       "      <td>...</td>\n",
       "      <td>...</td>\n",
       "      <td>...</td>\n",
       "      <td>...</td>\n",
       "      <td>...</td>\n",
       "      <td>...</td>\n",
       "      <td>...</td>\n",
       "      <td>...</td>\n",
       "      <td>...</td>\n",
       "      <td>...</td>\n",
       "      <td>...</td>\n",
       "      <td>...</td>\n",
       "      <td>...</td>\n",
       "      <td>...</td>\n",
       "      <td>...</td>\n",
       "      <td>...</td>\n",
       "      <td>...</td>\n",
       "      <td>...</td>\n",
       "      <td>...</td>\n",
       "      <td>...</td>\n",
       "    </tr>\n",
       "    <tr>\n",
       "      <th>23170</th>\n",
       "      <td>2015</td>\n",
       "      <td>DM4151671</td>\n",
       "      <td>2015030056919</td>\n",
       "      <td>Florestal</td>\n",
       "      <td>Braga</td>\n",
       "      <td>Fafe</td>\n",
       "      <td>Fafe</td>\n",
       "      <td>RUA DE FORNELO</td>\n",
       "      <td>30709</td>\n",
       "      <td>196478</td>\n",
       "      <td>...</td>\n",
       "      <td>1</td>\n",
       "      <td>0</td>\n",
       "      <td>0</td>\n",
       "      <td>NaN</td>\n",
       "      <td>NaN</td>\n",
       "      <td>60.0</td>\n",
       "      <td>Desconhecida</td>\n",
       "      <td>Entre Douro e Minho</td>\n",
       "      <td>Baixo Minho</td>\n",
       "      <td>1</td>\n",
       "    </tr>\n",
       "    <tr>\n",
       "      <th>23171</th>\n",
       "      <td>2015</td>\n",
       "      <td>BL1151018</td>\n",
       "      <td>2015180041997</td>\n",
       "      <td>Florestal</td>\n",
       "      <td>Viseu</td>\n",
       "      <td>Cinfães</td>\n",
       "      <td>Cinfães</td>\n",
       "      <td>Ventuzela</td>\n",
       "      <td>180403</td>\n",
       "      <td>203110</td>\n",
       "      <td>...</td>\n",
       "      <td>0</td>\n",
       "      <td>1</td>\n",
       "      <td>0</td>\n",
       "      <td>NaN</td>\n",
       "      <td>NaN</td>\n",
       "      <td>125.0</td>\n",
       "      <td>Negligente</td>\n",
       "      <td>Entre Douro e Minho</td>\n",
       "      <td>Tâmega</td>\n",
       "      <td>1</td>\n",
       "    </tr>\n",
       "    <tr>\n",
       "      <th>23172</th>\n",
       "      <td>2015</td>\n",
       "      <td>BL3151227</td>\n",
       "      <td>2015010055691</td>\n",
       "      <td>Falso Alarme</td>\n",
       "      <td>Aveiro</td>\n",
       "      <td>Santa Maria da Feira</td>\n",
       "      <td>Feira</td>\n",
       "      <td>avenida 25 de abril</td>\n",
       "      <td>10906</td>\n",
       "      <td>164395</td>\n",
       "      <td>...</td>\n",
       "      <td>0</td>\n",
       "      <td>0</td>\n",
       "      <td>0</td>\n",
       "      <td>NaN</td>\n",
       "      <td>NaN</td>\n",
       "      <td>NaN</td>\n",
       "      <td>NaN</td>\n",
       "      <td>Entre Douro e Minho</td>\n",
       "      <td>AMP e Entre Douro e Vouga</td>\n",
       "      <td>1</td>\n",
       "    </tr>\n",
       "    <tr>\n",
       "      <th>23173</th>\n",
       "      <td>2015</td>\n",
       "      <td>DM2153226</td>\n",
       "      <td>2015130115988</td>\n",
       "      <td>Florestal</td>\n",
       "      <td>Porto</td>\n",
       "      <td>Paços de Ferreira</td>\n",
       "      <td>Paços de Ferreira</td>\n",
       "      <td>Lugar alto das Cavadas</td>\n",
       "      <td>130912</td>\n",
       "      <td>180666</td>\n",
       "      <td>...</td>\n",
       "      <td>1</td>\n",
       "      <td>0</td>\n",
       "      <td>0</td>\n",
       "      <td>NaN</td>\n",
       "      <td>NaN</td>\n",
       "      <td>711.0</td>\n",
       "      <td>Reacendimento</td>\n",
       "      <td>Entre Douro e Minho</td>\n",
       "      <td>Tâmega</td>\n",
       "      <td>1</td>\n",
       "    </tr>\n",
       "    <tr>\n",
       "      <th>23174</th>\n",
       "      <td>2015</td>\n",
       "      <td>BL3151229</td>\n",
       "      <td>2015010055723</td>\n",
       "      <td>Falso Alarme</td>\n",
       "      <td>Aveiro</td>\n",
       "      <td>Santa Maria da Feira</td>\n",
       "      <td>Rio Meão</td>\n",
       "      <td>Casais de Baixo</td>\n",
       "      <td>10921</td>\n",
       "      <td>161792</td>\n",
       "      <td>...</td>\n",
       "      <td>0</td>\n",
       "      <td>0</td>\n",
       "      <td>0</td>\n",
       "      <td>NaN</td>\n",
       "      <td>NaN</td>\n",
       "      <td>NaN</td>\n",
       "      <td>NaN</td>\n",
       "      <td>Entre Douro e Minho</td>\n",
       "      <td>AMP e Entre Douro e Vouga</td>\n",
       "      <td>1</td>\n",
       "    </tr>\n",
       "  </tbody>\n",
       "</table>\n",
       "<p>23175 rows × 39 columns</p>\n",
       "</div>"
      ],
      "text/plain": [
       "        Ano Codigo SGIF    Codigo_ANPC          Tipo          Distrito  \\\n",
       "0      2015    DM315252  2015160007544     Florestal  Viana do Castelo   \n",
       "1      2015    DM215305  2015130043758     Florestal             Porto   \n",
       "2      2015    DM415293  2015030021973     Florestal             Braga   \n",
       "3      2015    DM315261  2015160007563  Falso Alarme  Viana do Castelo   \n",
       "4      2015    BL115321  2015180015874      Agrícola             Viseu   \n",
       "...     ...         ...            ...           ...               ...   \n",
       "23170  2015   DM4151671  2015030056919     Florestal             Braga   \n",
       "23171  2015   BL1151018  2015180041997     Florestal             Viseu   \n",
       "23172  2015   BL3151227  2015010055691  Falso Alarme            Aveiro   \n",
       "23173  2015   DM2153226  2015130115988     Florestal             Porto   \n",
       "23174  2015   BL3151229  2015010055723  Falso Alarme            Aveiro   \n",
       "\n",
       "                   Concelho           Freguesia  \\\n",
       "0             Ponte de Lima           Serdedelo   \n",
       "1        Marco de Canaveses  Vila Boa de Quires   \n",
       "2                Vila Verde                Lage   \n",
       "3             Ponte de Lima            Boalhosa   \n",
       "4              Castro Daire        Castro Daire   \n",
       "...                     ...                 ...   \n",
       "23170                  Fafe                Fafe   \n",
       "23171               Cinfães             Cinfães   \n",
       "23172  Santa Maria da Feira               Feira   \n",
       "23173     Paços de Ferreira   Paços de Ferreira   \n",
       "23174  Santa Maria da Feira            Rio Meão   \n",
       "\n",
       "                                 Local     INE       x  ...  Fogacho Incendio  \\\n",
       "0          VALE DE TROVELA (SERDEDELO)  160746  167814  ...        0        1   \n",
       "1                        LUGAR DO FOFO  130731  193731  ...        0        1   \n",
       "2                RUA PROF ABEL MADEIRA   31323  172162  ...        1        0   \n",
       "3      J. DEPOSITOS DE AGUA (BOALHOSA)  160709  171291  ...        0        0   \n",
       "4          Farejinhas - Bº das Queirós  180304  217299  ...        1        0   \n",
       "...                                ...     ...     ...  ...      ...      ...   \n",
       "23170                   RUA DE FORNELO   30709  196478  ...        1        0   \n",
       "23171                        Ventuzela  180403  203110  ...        0        1   \n",
       "23172              avenida 25 de abril   10906  164395  ...        0        0   \n",
       "23173           Lugar alto das Cavadas  130912  180666  ...        1        0   \n",
       "23174                  Casais de Baixo   10921  161792  ...        0        0   \n",
       "\n",
       "      Agricola Perimetro  APS  Causa      TipoCausa          Região PROF  \\\n",
       "0            0       NaN  NaN  122.0     Negligente  Entre Douro e Minho   \n",
       "1            0       NaN  NaN  122.0     Negligente  Entre Douro e Minho   \n",
       "2            0       NaN  NaN   60.0   Desconhecida  Entre Douro e Minho   \n",
       "3            0       NaN  NaN  630.0   Desconhecida  Entre Douro e Minho   \n",
       "4            0       NaN  NaN  630.0   Desconhecida        Beira Litoral   \n",
       "...        ...       ...  ...    ...            ...                  ...   \n",
       "23170        0       NaN  NaN   60.0   Desconhecida  Entre Douro e Minho   \n",
       "23171        0       NaN  NaN  125.0     Negligente  Entre Douro e Minho   \n",
       "23172        0       NaN  NaN    NaN            NaN  Entre Douro e Minho   \n",
       "23173        0       NaN  NaN  711.0  Reacendimento  Entre Douro e Minho   \n",
       "23174        0       NaN  NaN    NaN            NaN  Entre Douro e Minho   \n",
       "\n",
       "                             UGF  Count  \n",
       "0                     Alto Minho      1  \n",
       "1                         Tâmega      1  \n",
       "2                    Baixo Minho      1  \n",
       "3                     Alto Minho      1  \n",
       "4                     Dão Lafões      1  \n",
       "...                          ...    ...  \n",
       "23170                Baixo Minho      1  \n",
       "23171                     Tâmega      1  \n",
       "23172  AMP e Entre Douro e Vouga      1  \n",
       "23173                     Tâmega      1  \n",
       "23174  AMP e Entre Douro e Vouga      1  \n",
       "\n",
       "[23175 rows x 39 columns]"
      ]
     },
     "execution_count": 232,
     "metadata": {},
     "output_type": "execute_result"
    }
   ],
   "source": [
    "df = pd.read_excel('Lista Incendios_2015.xlsx')\n",
    "df['Count'] = 1\n",
    "df"
   ]
  },
  {
   "cell_type": "code",
   "execution_count": 248,
   "id": "68b9f6d5",
   "metadata": {},
   "outputs": [],
   "source": [
    "# Para apagar registos com NULL values nas colunas mencinadas\n",
    "df = df.dropna(how='any', subset=['x', 'y', 'lat', 'lon', 'DataAlerta', 'HoraAlerta', 'DataExtincao', \n",
    "                                  'HoraExtincao', 'Data1Intervencao', 'Hora1Intervencao'], axis=0)\n",
    "# Seleccionar apenas os reacendimento e excluir falsos alarmes\n",
    "reacendimentos = df.loc[df['TipoCausa'] == 'Reacendimento']\n",
    "reacendimentos = reacendimentos.loc[reacendimentos['Tipo']!= 'Falso Alarme']"
   ]
  },
  {
   "cell_type": "code",
   "execution_count": 234,
   "id": "5cbcf53e",
   "metadata": {},
   "outputs": [
    {
     "data": {
      "text/plain": [
       "Ano                                        0\n",
       "Codigo SGIF                                0\n",
       "Codigo_ANPC                                0\n",
       "Tipo                                       0\n",
       "Distrito                                   0\n",
       "Concelho                                   0\n",
       "Freguesia                                  0\n",
       "Local                                      0\n",
       "INE                                        0\n",
       "x                                          0\n",
       "y                                          0\n",
       "lat                                        0\n",
       "lon                                        0\n",
       "DataAlerta                                 0\n",
       "HoraAlerta                                 0\n",
       "DataExtincao                               0\n",
       "HoraExtincao                               0\n",
       "Data1Intervencao                           0\n",
       "Hora1Intervencao                           0\n",
       "FonteAlerta                            21948\n",
       "NUT                                        0\n",
       "AA_Povoamento (ha)                         0\n",
       "AA_Mato (ha)                               0\n",
       "AA_Agricola (ha)                           0\n",
       "AA_EspacosFlorestais (pov+mato)(ha)        0\n",
       "AA_Total (pov+mato+agric) (ha)             0\n",
       "Reacendimentos                             0\n",
       "Queimada                                   0\n",
       "Falso Alarme                               0\n",
       "Fogacho                                    0\n",
       "Incendio                                   0\n",
       "Agricola                                   0\n",
       "Perimetro                              21161\n",
       "APS                                    20965\n",
       "Causa                                   6253\n",
       "TipoCausa                               6253\n",
       "Região PROF                                2\n",
       "UGF                                        1\n",
       "Count                                      0\n",
       "dtype: int64"
      ]
     },
     "execution_count": 234,
     "metadata": {},
     "output_type": "execute_result"
    }
   ],
   "source": [
    "# Check se todos os NULL foram retirados para as variáveis de interesse\n",
    "df.apply(lambda x: sum(x.isnull()), axis=0)"
   ]
  },
  {
   "cell_type": "code",
   "execution_count": 235,
   "id": "237aeab6",
   "metadata": {},
   "outputs": [
    {
     "data": {
      "text/plain": [
       "Distrito\n",
       "Porto               499\n",
       "Braga               254\n",
       "Viana do Castelo    227\n",
       "Viseu               184\n",
       "Aveiro               86\n",
       "Bragança             51\n",
       "Vila Real            47\n",
       "Guarda               43\n",
       "Leiria               37\n",
       "Coimbra              30\n",
       "Santarém             26\n",
       "Setúbal               9\n",
       "Viana Do Castelo      4\n",
       "Portalegre            3\n",
       "Lisboa                3\n",
       "Faro                  3\n",
       "Beja                  1\n",
       "Évora                 1\n",
       "Name: Count, dtype: int64"
      ]
     },
     "execution_count": 235,
     "metadata": {},
     "output_type": "execute_result"
    }
   ],
   "source": [
    "ocorrencias_por_distrito = reacendimentos.groupby('Distrito').count().sort_values(['Count'], \n",
    "                                                                                  ascending=False)['Count']\n",
    "ocorrencias_por_distrito"
   ]
  },
  {
   "cell_type": "markdown",
   "id": "57c9f2c1",
   "metadata": {},
   "source": [
    "Next we will calculate the extinguish and intervention time for re-ignition fires.\n",
    "The data will be classified in two qualitative variables:\n",
    "- Coastal / Inland:\n",
    "  <br /> &nbsp;&nbsp;&nbsp;&nbsp;&nbsp;&nbsp; Re-ignition fires that occurred in coastal or inland areas. Coastal areas were defined by locations with a longitude higher than 8:10:0.\n",
    " <br />\n",
    " <br />\n",
    "- Most_occurences / Least_ocurrences:\n",
    "  <br />  &nbsp;&nbsp;&nbsp;&nbsp;&nbsp;&nbsp; The districts were also classified based on the number of the occurrences of re-ignition fires. Districts were classified in the Most_occurrences class if they have a number of re-ignitions higher than 100."
   ]
  },
  {
   "cell_type": "code",
   "execution_count": 266,
   "id": "cada4e98",
   "metadata": {},
   "outputs": [],
   "source": [
    "# Calcular o tempo de intervenção e tempo de extinção\n",
    "# Adicionar coluna 'Litoralidade'\n",
    "# Adicionar coluna 'Ocorrencias'\n",
    "\n",
    "tempo_intervencao = [None] * (len(reacendimentos.index))\n",
    "tempo_extincao = [None] * (len(reacendimentos.index))\n",
    "litoralidade = [None] * (len(reacendimentos.index))\n",
    "ocorrencias = [None] * (len(reacendimentos.index))\n",
    "for i in range(len(reacendimentos.index)):\n",
    "    long = str(reacendimentos.iloc[i,12])\n",
    "    if long[0:7] >= '8:10:0':\n",
    "        litoralidade[i] = 'Coastal'\n",
    "    if long[0:7] < '8:10:0':\n",
    "        litoralidade[i] = 'Inland'\n",
    "    if ocorrencias_por_distrito[reacendimentos.iloc[i,4]] > 100:\n",
    "        ocorrencias[i] = 'Most_occurrences'\n",
    "    else:\n",
    "        ocorrencias[i] = 'Least_occurrences'\n",
    "        \n",
    "        \n",
    "    data_alerta = parser.parse(str(reacendimentos.iloc[i,13][:10]) + ' ' + str(reacendimentos.iloc[i,14]))\n",
    "    data_int = parser.parse(str(reacendimentos.iloc[i,17][:10]) + ' ' + str(reacendimentos.iloc[i,18]))\n",
    "    data_ext = parser.parse(str(reacendimentos.iloc[i,15][:10]) + ' ' + str(reacendimentos.iloc[i,16]))\n",
    "    tempo_intervencao[i] = (str(abs(data_int - data_alerta)))\n",
    "    tempo_extincao[i] = (str(abs(data_ext - data_int)))\n",
    "        \n",
    "reacendimentos.insert(15, \"Tempo_Extincao\", tempo_extincao , True)\n",
    "reacendimentos.insert(16, \"Tempo_Intervencao\", tempo_intervencao , True)\n",
    "reacendimentos.insert(17, \"Litoralidade\", litoralidade , True)\n",
    "reacendimentos.insert(18, \"Ocorrencias\", ocorrencias, True)\n",
    "\n",
    "# Para converter as colunas para timedelta:\n",
    "reacendimentos['Tempo_Extincao'] = reacendimentos['Tempo_Extincao'].apply(lambda x: \n",
    "                                                                        pd.to_timedelta(x)).copy()\n",
    "reacendimentos['Tempo_Intervencao'] = reacendimentos['Tempo_Intervencao'].apply(lambda x: \n",
    "                                                                              pd.to_timedelta(x)).copy()\n",
    "\n",
    "        "
   ]
  },
  {
   "cell_type": "markdown",
   "id": "f2c9a45d",
   "metadata": {},
   "source": [
    "#### Cleaned data\n",
    "    \n",
    "    From the original dataset, the following dataframe will be used"
   ]
  },
  {
   "cell_type": "code",
   "execution_count": 267,
   "id": "14adcbd5",
   "metadata": {},
   "outputs": [
    {
     "data": {
      "text/html": [
       "<div>\n",
       "<style scoped>\n",
       "    .dataframe tbody tr th:only-of-type {\n",
       "        vertical-align: middle;\n",
       "    }\n",
       "\n",
       "    .dataframe tbody tr th {\n",
       "        vertical-align: top;\n",
       "    }\n",
       "\n",
       "    .dataframe thead th {\n",
       "        text-align: right;\n",
       "    }\n",
       "</style>\n",
       "<table border=\"1\" class=\"dataframe\">\n",
       "  <thead>\n",
       "    <tr style=\"text-align: right;\">\n",
       "      <th></th>\n",
       "      <th>Litoralidade</th>\n",
       "      <th>Ocorrencias</th>\n",
       "      <th>Tempo_Extincao</th>\n",
       "      <th>Tempo_Intervencao</th>\n",
       "      <th>AA_total_ha</th>\n",
       "    </tr>\n",
       "  </thead>\n",
       "  <tbody>\n",
       "    <tr>\n",
       "      <th>5</th>\n",
       "      <td>Coastal</td>\n",
       "      <td>Most_occurrences</td>\n",
       "      <td>0 days 07:35:00</td>\n",
       "      <td>0 days 00:12:00</td>\n",
       "      <td>1.500</td>\n",
       "    </tr>\n",
       "    <tr>\n",
       "      <th>15</th>\n",
       "      <td>Inland</td>\n",
       "      <td>Least_occurrences</td>\n",
       "      <td>0 days 00:50:00</td>\n",
       "      <td>0 days 00:20:00</td>\n",
       "      <td>0.100</td>\n",
       "    </tr>\n",
       "    <tr>\n",
       "      <th>43</th>\n",
       "      <td>Coastal</td>\n",
       "      <td>Most_occurrences</td>\n",
       "      <td>0 days 00:58:00</td>\n",
       "      <td>0 days 00:04:00</td>\n",
       "      <td>0.050</td>\n",
       "    </tr>\n",
       "    <tr>\n",
       "      <th>145</th>\n",
       "      <td>Inland</td>\n",
       "      <td>Most_occurrences</td>\n",
       "      <td>0 days 03:53:00</td>\n",
       "      <td>0 days 00:20:00</td>\n",
       "      <td>0.100</td>\n",
       "    </tr>\n",
       "    <tr>\n",
       "      <th>237</th>\n",
       "      <td>Coastal</td>\n",
       "      <td>Most_occurrences</td>\n",
       "      <td>0 days 02:54:00</td>\n",
       "      <td>0 days 00:05:00</td>\n",
       "      <td>0.200</td>\n",
       "    </tr>\n",
       "    <tr>\n",
       "      <th>...</th>\n",
       "      <td>...</td>\n",
       "      <td>...</td>\n",
       "      <td>...</td>\n",
       "      <td>...</td>\n",
       "      <td>...</td>\n",
       "    </tr>\n",
       "    <tr>\n",
       "      <th>23130</th>\n",
       "      <td>Inland</td>\n",
       "      <td>Most_occurrences</td>\n",
       "      <td>0 days 02:18:00</td>\n",
       "      <td>0 days 00:12:00</td>\n",
       "      <td>0.045</td>\n",
       "    </tr>\n",
       "    <tr>\n",
       "      <th>23143</th>\n",
       "      <td>Coastal</td>\n",
       "      <td>Most_occurrences</td>\n",
       "      <td>0 days 00:51:00</td>\n",
       "      <td>0 days 00:14:00</td>\n",
       "      <td>0.100</td>\n",
       "    </tr>\n",
       "    <tr>\n",
       "      <th>23145</th>\n",
       "      <td>Coastal</td>\n",
       "      <td>Most_occurrences</td>\n",
       "      <td>0 days 02:25:00</td>\n",
       "      <td>0 days 00:06:00</td>\n",
       "      <td>0.300</td>\n",
       "    </tr>\n",
       "    <tr>\n",
       "      <th>23167</th>\n",
       "      <td>Coastal</td>\n",
       "      <td>Most_occurrences</td>\n",
       "      <td>0 days 02:57:00</td>\n",
       "      <td>0 days 00:16:00</td>\n",
       "      <td>0.070</td>\n",
       "    </tr>\n",
       "    <tr>\n",
       "      <th>23173</th>\n",
       "      <td>Coastal</td>\n",
       "      <td>Most_occurrences</td>\n",
       "      <td>0 days 02:15:00</td>\n",
       "      <td>0 days 00:05:00</td>\n",
       "      <td>0.050</td>\n",
       "    </tr>\n",
       "  </tbody>\n",
       "</table>\n",
       "<p>1508 rows × 5 columns</p>\n",
       "</div>"
      ],
      "text/plain": [
       "      Litoralidade        Ocorrencias  Tempo_Extincao Tempo_Intervencao  \\\n",
       "5          Coastal   Most_occurrences 0 days 07:35:00   0 days 00:12:00   \n",
       "15          Inland  Least_occurrences 0 days 00:50:00   0 days 00:20:00   \n",
       "43         Coastal   Most_occurrences 0 days 00:58:00   0 days 00:04:00   \n",
       "145         Inland   Most_occurrences 0 days 03:53:00   0 days 00:20:00   \n",
       "237        Coastal   Most_occurrences 0 days 02:54:00   0 days 00:05:00   \n",
       "...            ...                ...             ...               ...   \n",
       "23130       Inland   Most_occurrences 0 days 02:18:00   0 days 00:12:00   \n",
       "23143      Coastal   Most_occurrences 0 days 00:51:00   0 days 00:14:00   \n",
       "23145      Coastal   Most_occurrences 0 days 02:25:00   0 days 00:06:00   \n",
       "23167      Coastal   Most_occurrences 0 days 02:57:00   0 days 00:16:00   \n",
       "23173      Coastal   Most_occurrences 0 days 02:15:00   0 days 00:05:00   \n",
       "\n",
       "       AA_total_ha  \n",
       "5            1.500  \n",
       "15           0.100  \n",
       "43           0.050  \n",
       "145          0.100  \n",
       "237          0.200  \n",
       "...            ...  \n",
       "23130        0.045  \n",
       "23143        0.100  \n",
       "23145        0.300  \n",
       "23167        0.070  \n",
       "23173        0.050  \n",
       "\n",
       "[1508 rows x 5 columns]"
      ]
     },
     "execution_count": 267,
     "metadata": {},
     "output_type": "execute_result"
    }
   ],
   "source": [
    "# Simplificação do dataframe de reacendimento para incluis apenas as variáveis de interesse\n",
    "reacendimentos_slim = reacendimentos.loc[:,[ 'Litoralidade', 'Ocorrencias', 'Tempo_Extincao',\n",
    "                                            'Tempo_Intervencao', 'AA_Total (pov+mato+agric) (ha)' ]]\n",
    "reacendimentos_slim =  reacendimentos_slim.rename(columns = {'AA_Total (pov+mato+agric) (ha)': 'AA_total_ha'})\n",
    "\n",
    "reacendimentos_slim"
   ]
  },
  {
   "cell_type": "code",
   "execution_count": 268,
   "id": "1b27478f",
   "metadata": {},
   "outputs": [
    {
     "data": {
      "text/html": [
       "<div>\n",
       "<style scoped>\n",
       "    .dataframe tbody tr th:only-of-type {\n",
       "        vertical-align: middle;\n",
       "    }\n",
       "\n",
       "    .dataframe tbody tr th {\n",
       "        vertical-align: top;\n",
       "    }\n",
       "\n",
       "    .dataframe thead th {\n",
       "        text-align: right;\n",
       "    }\n",
       "</style>\n",
       "<table border=\"1\" class=\"dataframe\">\n",
       "  <thead>\n",
       "    <tr style=\"text-align: right;\">\n",
       "      <th></th>\n",
       "      <th>Litoralidade</th>\n",
       "      <th>Ocorrencias</th>\n",
       "      <th>Tempo_Extincao</th>\n",
       "      <th>Tempo_Intervencao</th>\n",
       "      <th>AA_total_ha</th>\n",
       "    </tr>\n",
       "  </thead>\n",
       "  <tbody>\n",
       "    <tr>\n",
       "      <th>5</th>\n",
       "      <td>Coastal</td>\n",
       "      <td>Most_occurrences</td>\n",
       "      <td>27300</td>\n",
       "      <td>720</td>\n",
       "      <td>1.500</td>\n",
       "    </tr>\n",
       "    <tr>\n",
       "      <th>15</th>\n",
       "      <td>Inland</td>\n",
       "      <td>Least_occurrences</td>\n",
       "      <td>3000</td>\n",
       "      <td>1200</td>\n",
       "      <td>0.100</td>\n",
       "    </tr>\n",
       "    <tr>\n",
       "      <th>43</th>\n",
       "      <td>Coastal</td>\n",
       "      <td>Most_occurrences</td>\n",
       "      <td>3480</td>\n",
       "      <td>240</td>\n",
       "      <td>0.050</td>\n",
       "    </tr>\n",
       "    <tr>\n",
       "      <th>145</th>\n",
       "      <td>Inland</td>\n",
       "      <td>Most_occurrences</td>\n",
       "      <td>13980</td>\n",
       "      <td>1200</td>\n",
       "      <td>0.100</td>\n",
       "    </tr>\n",
       "    <tr>\n",
       "      <th>237</th>\n",
       "      <td>Coastal</td>\n",
       "      <td>Most_occurrences</td>\n",
       "      <td>10440</td>\n",
       "      <td>300</td>\n",
       "      <td>0.200</td>\n",
       "    </tr>\n",
       "    <tr>\n",
       "      <th>...</th>\n",
       "      <td>...</td>\n",
       "      <td>...</td>\n",
       "      <td>...</td>\n",
       "      <td>...</td>\n",
       "      <td>...</td>\n",
       "    </tr>\n",
       "    <tr>\n",
       "      <th>23130</th>\n",
       "      <td>Inland</td>\n",
       "      <td>Most_occurrences</td>\n",
       "      <td>8280</td>\n",
       "      <td>720</td>\n",
       "      <td>0.045</td>\n",
       "    </tr>\n",
       "    <tr>\n",
       "      <th>23143</th>\n",
       "      <td>Coastal</td>\n",
       "      <td>Most_occurrences</td>\n",
       "      <td>3060</td>\n",
       "      <td>840</td>\n",
       "      <td>0.100</td>\n",
       "    </tr>\n",
       "    <tr>\n",
       "      <th>23145</th>\n",
       "      <td>Coastal</td>\n",
       "      <td>Most_occurrences</td>\n",
       "      <td>8700</td>\n",
       "      <td>360</td>\n",
       "      <td>0.300</td>\n",
       "    </tr>\n",
       "    <tr>\n",
       "      <th>23167</th>\n",
       "      <td>Coastal</td>\n",
       "      <td>Most_occurrences</td>\n",
       "      <td>10620</td>\n",
       "      <td>960</td>\n",
       "      <td>0.070</td>\n",
       "    </tr>\n",
       "    <tr>\n",
       "      <th>23173</th>\n",
       "      <td>Coastal</td>\n",
       "      <td>Most_occurrences</td>\n",
       "      <td>8100</td>\n",
       "      <td>300</td>\n",
       "      <td>0.050</td>\n",
       "    </tr>\n",
       "  </tbody>\n",
       "</table>\n",
       "<p>1508 rows × 5 columns</p>\n",
       "</div>"
      ],
      "text/plain": [
       "      Litoralidade        Ocorrencias  Tempo_Extincao  Tempo_Intervencao  \\\n",
       "5          Coastal   Most_occurrences           27300                720   \n",
       "15          Inland  Least_occurrences            3000               1200   \n",
       "43         Coastal   Most_occurrences            3480                240   \n",
       "145         Inland   Most_occurrences           13980               1200   \n",
       "237        Coastal   Most_occurrences           10440                300   \n",
       "...            ...                ...             ...                ...   \n",
       "23130       Inland   Most_occurrences            8280                720   \n",
       "23143      Coastal   Most_occurrences            3060                840   \n",
       "23145      Coastal   Most_occurrences            8700                360   \n",
       "23167      Coastal   Most_occurrences           10620                960   \n",
       "23173      Coastal   Most_occurrences            8100                300   \n",
       "\n",
       "       AA_total_ha  \n",
       "5            1.500  \n",
       "15           0.100  \n",
       "43           0.050  \n",
       "145          0.100  \n",
       "237          0.200  \n",
       "...            ...  \n",
       "23130        0.045  \n",
       "23143        0.100  \n",
       "23145        0.300  \n",
       "23167        0.070  \n",
       "23173        0.050  \n",
       "\n",
       "[1508 rows x 5 columns]"
      ]
     },
     "execution_count": 268,
     "metadata": {},
     "output_type": "execute_result"
    }
   ],
   "source": [
    "# reacendimentos_slim com tempo em segundos\n",
    "\n",
    "reacendimentos_slim_delta = reacendimentos_slim.copy()\n",
    "reacendimentos_slim_delta['Tempo_Extincao'] = reacendimentos_slim_delta['Tempo_Extincao'].astype('int64') // 10**9\n",
    "reacendimentos_slim_delta['Tempo_Intervencao'] = reacendimentos_slim_delta['Tempo_Intervencao'].astype('int64') // 10**9\n",
    "reacendimentos_slim_delta"
   ]
  },
  {
   "cell_type": "code",
   "execution_count": 321,
   "id": "036dc83f",
   "metadata": {},
   "outputs": [
    {
     "data": {
      "text/plain": [
       "5        27300\n",
       "15        3000\n",
       "43        3480\n",
       "145      13980\n",
       "237      10440\n",
       "         ...  \n",
       "23130     8280\n",
       "23143     3060\n",
       "23145     8700\n",
       "23167    10620\n",
       "23173     8100\n",
       "Name: Tempo_Extincao, Length: 1508, dtype: int64"
      ]
     },
     "execution_count": 321,
     "metadata": {},
     "output_type": "execute_result"
    }
   ],
   "source": [
    "# necessário para os testes de hipotese\n",
    "\n",
    "reacendimentos_litoral = reacendimentos_slim_delta[reacendimentos_slim_delta.Litoralidade == 'Coastal'].copy()\n",
    "reacendimentos_interior = reacendimentos_slim_delta[reacendimentos_slim_delta.Litoralidade == 'Inland'].copy()\n",
    "reacendimentos_maiores = reacendimentos_slim_delta[reacendimentos_slim_delta.Ocorrencias == 'Most_occurrences'].copy()\n",
    "reacendimentos_menores = reacendimentos_slim_delta[reacendimentos_slim_delta.Ocorrencias == 'Least_occurrences'].copy()\n",
    "\n",
    "reacendimentos_AA_total= reacendimentos_slim_delta['AA_total_ha'].copy()\n",
    "reacendimentos_Tempo_Extincao = reacendimentos_slim_delta['Tempo_Extincao'].copy()\n",
    "reacendimentos_Tempo_Intervencao = reacendimentos_slim_delta['Tempo_Extincao'].copy()\n"
   ]
  },
  {
   "cell_type": "markdown",
   "id": "9fa8aa90",
   "metadata": {},
   "source": [
    "<h3> Statistical summary for quantitative data"
   ]
  },
  {
   "cell_type": "code",
   "execution_count": 297,
   "id": "1574fcf2",
   "metadata": {},
   "outputs": [
    {
     "name": "stderr",
     "output_type": "stream",
     "text": [
      "C:\\Users\\Asus\\anaconda3\\lib\\site-packages\\scipy\\stats\\stats.py:275: RuntimeWarning: divide by zero encountered in log\n",
      "  log_a = np.log(np.array(a, dtype=dtype))\n"
     ]
    },
    {
     "data": {
      "text/html": [
       "<div>\n",
       "<style scoped>\n",
       "    .dataframe tbody tr th:only-of-type {\n",
       "        vertical-align: middle;\n",
       "    }\n",
       "\n",
       "    .dataframe tbody tr th {\n",
       "        vertical-align: top;\n",
       "    }\n",
       "\n",
       "    .dataframe thead th {\n",
       "        text-align: right;\n",
       "    }\n",
       "</style>\n",
       "<table border=\"1\" class=\"dataframe\">\n",
       "  <thead>\n",
       "    <tr style=\"text-align: right;\">\n",
       "      <th></th>\n",
       "      <th>Tempo_Extincao</th>\n",
       "      <th>Tempo_Intervencao</th>\n",
       "      <th>AA_total_ha</th>\n",
       "    </tr>\n",
       "  </thead>\n",
       "  <tbody>\n",
       "    <tr>\n",
       "      <th>count</th>\n",
       "      <td>1.508000e+03</td>\n",
       "      <td>1508.000000</td>\n",
       "      <td>1508.000000</td>\n",
       "    </tr>\n",
       "    <tr>\n",
       "      <th>mean</th>\n",
       "      <td>8.337772e+03</td>\n",
       "      <td>725.490716</td>\n",
       "      <td>3.233140</td>\n",
       "    </tr>\n",
       "    <tr>\n",
       "      <th>std</th>\n",
       "      <td>1.310108e+04</td>\n",
       "      <td>888.986859</td>\n",
       "      <td>37.216702</td>\n",
       "    </tr>\n",
       "    <tr>\n",
       "      <th>min</th>\n",
       "      <td>3.000000e+02</td>\n",
       "      <td>0.000000</td>\n",
       "      <td>0.000050</td>\n",
       "    </tr>\n",
       "    <tr>\n",
       "      <th>25%</th>\n",
       "      <td>3.720000e+03</td>\n",
       "      <td>360.000000</td>\n",
       "      <td>0.010000</td>\n",
       "    </tr>\n",
       "    <tr>\n",
       "      <th>50%</th>\n",
       "      <td>6.180000e+03</td>\n",
       "      <td>600.000000</td>\n",
       "      <td>0.050000</td>\n",
       "    </tr>\n",
       "    <tr>\n",
       "      <th>75%</th>\n",
       "      <td>9.600000e+03</td>\n",
       "      <td>900.000000</td>\n",
       "      <td>0.302500</td>\n",
       "    </tr>\n",
       "    <tr>\n",
       "      <th>max</th>\n",
       "      <td>3.291000e+05</td>\n",
       "      <td>25200.000000</td>\n",
       "      <td>1105.000000</td>\n",
       "    </tr>\n",
       "    <tr>\n",
       "      <th>range</th>\n",
       "      <td>3.288000e+05</td>\n",
       "      <td>25200.000000</td>\n",
       "      <td>1104.999950</td>\n",
       "    </tr>\n",
       "    <tr>\n",
       "      <th>IQR</th>\n",
       "      <td>5.880000e+03</td>\n",
       "      <td>540.000000</td>\n",
       "      <td>0.292500</td>\n",
       "    </tr>\n",
       "    <tr>\n",
       "      <th>G.M.</th>\n",
       "      <td>5.937103e+03</td>\n",
       "      <td>0.000000</td>\n",
       "      <td>0.069105</td>\n",
       "    </tr>\n",
       "    <tr>\n",
       "      <th>H.M.</th>\n",
       "      <td>4.305010e+03</td>\n",
       "      <td>0.000000</td>\n",
       "      <td>0.004170</td>\n",
       "    </tr>\n",
       "    <tr>\n",
       "      <th>var</th>\n",
       "      <td>1.716383e+08</td>\n",
       "      <td>790297.635614</td>\n",
       "      <td>1385.082900</td>\n",
       "    </tr>\n",
       "    <tr>\n",
       "      <th>median</th>\n",
       "      <td>6.180000e+03</td>\n",
       "      <td>600.000000</td>\n",
       "      <td>0.050000</td>\n",
       "    </tr>\n",
       "    <tr>\n",
       "      <th>skew</th>\n",
       "      <td>1.394538e+01</td>\n",
       "      <td>16.204250</td>\n",
       "      <td>22.210742</td>\n",
       "    </tr>\n",
       "    <tr>\n",
       "      <th>kurt</th>\n",
       "      <td>2.841287e+02</td>\n",
       "      <td>403.897832</td>\n",
       "      <td>576.498222</td>\n",
       "    </tr>\n",
       "    <tr>\n",
       "      <th>mad</th>\n",
       "      <td>5.043246e+03</td>\n",
       "      <td>393.264288</td>\n",
       "      <td>5.564512</td>\n",
       "    </tr>\n",
       "    <tr>\n",
       "      <th>mode</th>\n",
       "      <td>3.000000e+03</td>\n",
       "      <td>600.000000</td>\n",
       "      <td>0.010000</td>\n",
       "    </tr>\n",
       "  </tbody>\n",
       "</table>\n",
       "</div>"
      ],
      "text/plain": [
       "        Tempo_Extincao  Tempo_Intervencao  AA_total_ha\n",
       "count     1.508000e+03        1508.000000  1508.000000\n",
       "mean      8.337772e+03         725.490716     3.233140\n",
       "std       1.310108e+04         888.986859    37.216702\n",
       "min       3.000000e+02           0.000000     0.000050\n",
       "25%       3.720000e+03         360.000000     0.010000\n",
       "50%       6.180000e+03         600.000000     0.050000\n",
       "75%       9.600000e+03         900.000000     0.302500\n",
       "max       3.291000e+05       25200.000000  1105.000000\n",
       "range     3.288000e+05       25200.000000  1104.999950\n",
       "IQR       5.880000e+03         540.000000     0.292500\n",
       "G.M.      5.937103e+03           0.000000     0.069105\n",
       "H.M.      4.305010e+03           0.000000     0.004170\n",
       "var       1.716383e+08      790297.635614  1385.082900\n",
       "median    6.180000e+03         600.000000     0.050000\n",
       "skew      1.394538e+01          16.204250    22.210742\n",
       "kurt      2.841287e+02         403.897832   576.498222\n",
       "mad       5.043246e+03         393.264288     5.564512\n",
       "mode      3.000000e+03         600.000000     0.010000"
      ]
     },
     "execution_count": 297,
     "metadata": {},
     "output_type": "execute_result"
    }
   ],
   "source": [
    "stat_summary = reacendimentos_slim_delta.describe()\n",
    "stat_summary.loc['range'] = stat_summary.loc['max'] - stat_summary.loc['min']\n",
    "stat_summary.loc['IQR'] = stat_summary.loc['75%'] - stat_summary.loc['25%'] # appending interquartile range\n",
    "stat_summary.loc['G.M.'] = stat.gmean(reacendimentos_slim_delta.iloc[:,2:], axis=0)\n",
    "stat_summary.loc['H.M.'] = stat.hmean(reacendimentos_slim_delta.iloc[:,2:], axis=0)\n",
    "mode = reacendimentos_slim_delta.mode(numeric_only=True, axis=0)\n",
    "stat_summary.loc['var'] = reacendimentos_slim_delta.var(numeric_only=True, axis=0)\n",
    "stat_summary.loc['median'] = reacendimentos_slim_delta.median( numeric_only=True, axis=0)\n",
    "stat_summary.loc['skew'] = reacendimentos_slim_delta.skew(numeric_only=True, axis=0)\n",
    "stat_summary.loc['kurt'] =  reacendimentos_slim_delta.kurt(numeric_only=True, axis=0)\n",
    "stat_summary.loc['mad'] = reacendimentos_slim_delta.mad(axis=0)\n",
    "\n",
    "stat_summary = pd.concat([stat_summary, mode], axis=0)\n",
    "stat_summary.rename(index ={0: 'mode'}, inplace = True)\n",
    "\n",
    "stat_summary\n"
   ]
  },
  {
   "cell_type": "code",
   "execution_count": 271,
   "id": "3222676c",
   "metadata": {},
   "outputs": [
    {
     "data": {
      "text/html": [
       "<div>\n",
       "<style scoped>\n",
       "    .dataframe tbody tr th:only-of-type {\n",
       "        vertical-align: middle;\n",
       "    }\n",
       "\n",
       "    .dataframe tbody tr th {\n",
       "        vertical-align: top;\n",
       "    }\n",
       "\n",
       "    .dataframe thead th {\n",
       "        text-align: right;\n",
       "    }\n",
       "</style>\n",
       "<table border=\"1\" class=\"dataframe\">\n",
       "  <thead>\n",
       "    <tr style=\"text-align: right;\">\n",
       "      <th></th>\n",
       "      <th>Tempo_Extincao</th>\n",
       "      <th>Tempo_Intervencao</th>\n",
       "      <th>AA_total_ha</th>\n",
       "    </tr>\n",
       "  </thead>\n",
       "  <tbody>\n",
       "    <tr>\n",
       "      <th>count</th>\n",
       "      <td>0 days 00:25:08</td>\n",
       "      <td>0 days 00:25:08</td>\n",
       "      <td>1508.000000</td>\n",
       "    </tr>\n",
       "    <tr>\n",
       "      <th>mean</th>\n",
       "      <td>0 days 02:18:57.771883289</td>\n",
       "      <td>0 days 00:12:05.490716180</td>\n",
       "      <td>3.233140</td>\n",
       "    </tr>\n",
       "    <tr>\n",
       "      <th>std</th>\n",
       "      <td>0 days 03:38:21.081607726</td>\n",
       "      <td>0 days 00:14:48.986859078</td>\n",
       "      <td>37.216702</td>\n",
       "    </tr>\n",
       "    <tr>\n",
       "      <th>min</th>\n",
       "      <td>0 days 00:05:00</td>\n",
       "      <td>0 days 00:00:00</td>\n",
       "      <td>0.000050</td>\n",
       "    </tr>\n",
       "    <tr>\n",
       "      <th>25%</th>\n",
       "      <td>0 days 01:02:00</td>\n",
       "      <td>0 days 00:06:00</td>\n",
       "      <td>0.010000</td>\n",
       "    </tr>\n",
       "    <tr>\n",
       "      <th>50%</th>\n",
       "      <td>0 days 01:43:00</td>\n",
       "      <td>0 days 00:10:00</td>\n",
       "      <td>0.050000</td>\n",
       "    </tr>\n",
       "    <tr>\n",
       "      <th>75%</th>\n",
       "      <td>0 days 02:40:00</td>\n",
       "      <td>0 days 00:15:00</td>\n",
       "      <td>0.302500</td>\n",
       "    </tr>\n",
       "    <tr>\n",
       "      <th>max</th>\n",
       "      <td>3 days 19:25:00</td>\n",
       "      <td>0 days 07:00:00</td>\n",
       "      <td>1105.000000</td>\n",
       "    </tr>\n",
       "    <tr>\n",
       "      <th>range</th>\n",
       "      <td>3 days 19:20:00</td>\n",
       "      <td>0 days 07:00:00</td>\n",
       "      <td>1104.999950</td>\n",
       "    </tr>\n",
       "    <tr>\n",
       "      <th>IQR</th>\n",
       "      <td>0 days 01:38:00</td>\n",
       "      <td>0 days 00:09:00</td>\n",
       "      <td>0.292500</td>\n",
       "    </tr>\n",
       "    <tr>\n",
       "      <th>G.M.</th>\n",
       "      <td>0 days 01:38:57.103207915</td>\n",
       "      <td>0 days 00:00:00</td>\n",
       "      <td>0.069105</td>\n",
       "    </tr>\n",
       "    <tr>\n",
       "      <th>H.M.</th>\n",
       "      <td>0 days 01:11:45.009921023</td>\n",
       "      <td>0 days 00:00:00</td>\n",
       "      <td>0.004170</td>\n",
       "    </tr>\n",
       "    <tr>\n",
       "      <th>var</th>\n",
       "      <td>1986 days 13:18:59.292321248</td>\n",
       "      <td>9 days 03:31:37.635613820</td>\n",
       "      <td>1385.082900</td>\n",
       "    </tr>\n",
       "    <tr>\n",
       "      <th>median</th>\n",
       "      <td>0 days 01:43:00</td>\n",
       "      <td>0 days 00:10:00</td>\n",
       "      <td>0.050000</td>\n",
       "    </tr>\n",
       "    <tr>\n",
       "      <th>skew</th>\n",
       "      <td>0 days 00:00:13.945378450</td>\n",
       "      <td>0 days 00:00:16.204250192</td>\n",
       "      <td>22.210742</td>\n",
       "    </tr>\n",
       "    <tr>\n",
       "      <th>kurt</th>\n",
       "      <td>0 days 00:04:44.128687131</td>\n",
       "      <td>0 days 00:06:43.897832170</td>\n",
       "      <td>576.498222</td>\n",
       "    </tr>\n",
       "    <tr>\n",
       "      <th>mad</th>\n",
       "      <td>0 days 01:24:03.245924477</td>\n",
       "      <td>0 days 00:06:33.264288076</td>\n",
       "      <td>5.564512</td>\n",
       "    </tr>\n",
       "    <tr>\n",
       "      <th>mode</th>\n",
       "      <td>0 days 00:50:00</td>\n",
       "      <td>0 days 00:10:00</td>\n",
       "      <td>0.010000</td>\n",
       "    </tr>\n",
       "  </tbody>\n",
       "</table>\n",
       "</div>"
      ],
      "text/plain": [
       "                     Tempo_Extincao         Tempo_Intervencao  AA_total_ha\n",
       "count               0 days 00:25:08           0 days 00:25:08  1508.000000\n",
       "mean      0 days 02:18:57.771883289 0 days 00:12:05.490716180     3.233140\n",
       "std       0 days 03:38:21.081607726 0 days 00:14:48.986859078    37.216702\n",
       "min                 0 days 00:05:00           0 days 00:00:00     0.000050\n",
       "25%                 0 days 01:02:00           0 days 00:06:00     0.010000\n",
       "50%                 0 days 01:43:00           0 days 00:10:00     0.050000\n",
       "75%                 0 days 02:40:00           0 days 00:15:00     0.302500\n",
       "max                 3 days 19:25:00           0 days 07:00:00  1105.000000\n",
       "range               3 days 19:20:00           0 days 07:00:00  1104.999950\n",
       "IQR                 0 days 01:38:00           0 days 00:09:00     0.292500\n",
       "G.M.      0 days 01:38:57.103207915           0 days 00:00:00     0.069105\n",
       "H.M.      0 days 01:11:45.009921023           0 days 00:00:00     0.004170\n",
       "var    1986 days 13:18:59.292321248 9 days 03:31:37.635613820  1385.082900\n",
       "median              0 days 01:43:00           0 days 00:10:00     0.050000\n",
       "skew      0 days 00:00:13.945378450 0 days 00:00:16.204250192    22.210742\n",
       "kurt      0 days 00:04:44.128687131 0 days 00:06:43.897832170   576.498222\n",
       "mad       0 days 01:24:03.245924477 0 days 00:06:33.264288076     5.564512\n",
       "mode                0 days 00:50:00           0 days 00:10:00     0.010000"
      ]
     },
     "execution_count": 271,
     "metadata": {},
     "output_type": "execute_result"
    }
   ],
   "source": [
    "# Resultados em timedelta\n",
    "stat_summary_final = stat_summary.copy()\n",
    "stat_summary_final['Tempo_Extincao'] = stat_summary['Tempo_Extincao'].apply(lambda x: x*10**9).copy()\n",
    "stat_summary_final['Tempo_Intervencao'] =stat_summary['Tempo_Intervencao'].apply(lambda x: x*10**9).copy()\n",
    "\n",
    "stat_summary_final_delta = stat_summary_final.copy()\n",
    "stat_summary_final_delta['Tempo_Extincao'] = stat_summary_final_delta['Tempo_Extincao'].apply(lambda x: pd.to_timedelta(x)).copy()\n",
    "stat_summary_final_delta['Tempo_Intervencao'] = stat_summary_final_delta['Tempo_Intervencao'].apply(lambda x: pd.to_timedelta(x)).copy()\n",
    "# stat_summary_final.delta\n",
    "\n",
    "stat_summary_final_delta"
   ]
  },
  {
   "cell_type": "code",
   "execution_count": 298,
   "id": "382d42fd",
   "metadata": {},
   "outputs": [
    {
     "name": "stderr",
     "output_type": "stream",
     "text": [
      "C:\\Users\\Asus\\anaconda3\\lib\\site-packages\\scipy\\stats\\stats.py:275: RuntimeWarning: divide by zero encountered in log\n",
      "  log_a = np.log(np.array(a, dtype=dtype))\n"
     ]
    },
    {
     "data": {
      "text/html": [
       "<div>\n",
       "<style scoped>\n",
       "    .dataframe tbody tr th:only-of-type {\n",
       "        vertical-align: middle;\n",
       "    }\n",
       "\n",
       "    .dataframe tbody tr th {\n",
       "        vertical-align: top;\n",
       "    }\n",
       "\n",
       "    .dataframe thead th {\n",
       "        text-align: right;\n",
       "    }\n",
       "</style>\n",
       "<table border=\"1\" class=\"dataframe\">\n",
       "  <thead>\n",
       "    <tr style=\"text-align: right;\">\n",
       "      <th></th>\n",
       "      <th>Tempo_Extincao</th>\n",
       "      <th>Tempo_Intervencao</th>\n",
       "      <th>AA_total_ha</th>\n",
       "    </tr>\n",
       "  </thead>\n",
       "  <tbody>\n",
       "    <tr>\n",
       "      <th>count</th>\n",
       "      <td>1.098000e+03</td>\n",
       "      <td>1098.000000</td>\n",
       "      <td>1098.000000</td>\n",
       "    </tr>\n",
       "    <tr>\n",
       "      <th>mean</th>\n",
       "      <td>7.989454e+03</td>\n",
       "      <td>680.601093</td>\n",
       "      <td>2.553381</td>\n",
       "    </tr>\n",
       "    <tr>\n",
       "      <th>std</th>\n",
       "      <td>1.354720e+04</td>\n",
       "      <td>925.087989</td>\n",
       "      <td>36.097769</td>\n",
       "    </tr>\n",
       "    <tr>\n",
       "      <th>min</th>\n",
       "      <td>3.000000e+02</td>\n",
       "      <td>0.000000</td>\n",
       "      <td>0.000100</td>\n",
       "    </tr>\n",
       "    <tr>\n",
       "      <th>25%</th>\n",
       "      <td>3.720000e+03</td>\n",
       "      <td>360.000000</td>\n",
       "      <td>0.014550</td>\n",
       "    </tr>\n",
       "    <tr>\n",
       "      <th>50%</th>\n",
       "      <td>5.940000e+03</td>\n",
       "      <td>600.000000</td>\n",
       "      <td>0.050000</td>\n",
       "    </tr>\n",
       "    <tr>\n",
       "      <th>75%</th>\n",
       "      <td>9.000000e+03</td>\n",
       "      <td>900.000000</td>\n",
       "      <td>0.250000</td>\n",
       "    </tr>\n",
       "    <tr>\n",
       "      <th>max</th>\n",
       "      <td>3.291000e+05</td>\n",
       "      <td>25200.000000</td>\n",
       "      <td>1105.000000</td>\n",
       "    </tr>\n",
       "    <tr>\n",
       "      <th>range</th>\n",
       "      <td>3.288000e+05</td>\n",
       "      <td>25200.000000</td>\n",
       "      <td>1104.999900</td>\n",
       "    </tr>\n",
       "    <tr>\n",
       "      <th>IQR</th>\n",
       "      <td>5.280000e+03</td>\n",
       "      <td>540.000000</td>\n",
       "      <td>0.235450</td>\n",
       "    </tr>\n",
       "    <tr>\n",
       "      <th>G.M.</th>\n",
       "      <td>5.816459e+03</td>\n",
       "      <td>0.000000</td>\n",
       "      <td>0.065878</td>\n",
       "    </tr>\n",
       "    <tr>\n",
       "      <th>H.M.</th>\n",
       "      <td>4.400157e+03</td>\n",
       "      <td>0.000000</td>\n",
       "      <td>0.006125</td>\n",
       "    </tr>\n",
       "    <tr>\n",
       "      <th>var</th>\n",
       "      <td>1.835267e+08</td>\n",
       "      <td>855787.787857</td>\n",
       "      <td>1303.048926</td>\n",
       "    </tr>\n",
       "    <tr>\n",
       "      <th>median</th>\n",
       "      <td>5.940000e+03</td>\n",
       "      <td>600.000000</td>\n",
       "      <td>0.050000</td>\n",
       "    </tr>\n",
       "    <tr>\n",
       "      <th>skew</th>\n",
       "      <td>1.583656e+01</td>\n",
       "      <td>18.502384</td>\n",
       "      <td>27.058921</td>\n",
       "    </tr>\n",
       "    <tr>\n",
       "      <th>kurt</th>\n",
       "      <td>3.315594e+02</td>\n",
       "      <td>464.907732</td>\n",
       "      <td>803.342631</td>\n",
       "    </tr>\n",
       "    <tr>\n",
       "      <th>mad</th>\n",
       "      <td>4.683856e+03</td>\n",
       "      <td>369.219545</td>\n",
       "      <td>4.385118</td>\n",
       "    </tr>\n",
       "    <tr>\n",
       "      <th>mode_1</th>\n",
       "      <td>3.000000e+03</td>\n",
       "      <td>600.000000</td>\n",
       "      <td>0.010000</td>\n",
       "    </tr>\n",
       "    <tr>\n",
       "      <th>mode_2</th>\n",
       "      <td>4.200000e+03</td>\n",
       "      <td>NaN</td>\n",
       "      <td>NaN</td>\n",
       "    </tr>\n",
       "  </tbody>\n",
       "</table>\n",
       "</div>"
      ],
      "text/plain": [
       "        Tempo_Extincao  Tempo_Intervencao  AA_total_ha\n",
       "count     1.098000e+03        1098.000000  1098.000000\n",
       "mean      7.989454e+03         680.601093     2.553381\n",
       "std       1.354720e+04         925.087989    36.097769\n",
       "min       3.000000e+02           0.000000     0.000100\n",
       "25%       3.720000e+03         360.000000     0.014550\n",
       "50%       5.940000e+03         600.000000     0.050000\n",
       "75%       9.000000e+03         900.000000     0.250000\n",
       "max       3.291000e+05       25200.000000  1105.000000\n",
       "range     3.288000e+05       25200.000000  1104.999900\n",
       "IQR       5.280000e+03         540.000000     0.235450\n",
       "G.M.      5.816459e+03           0.000000     0.065878\n",
       "H.M.      4.400157e+03           0.000000     0.006125\n",
       "var       1.835267e+08      855787.787857  1303.048926\n",
       "median    5.940000e+03         600.000000     0.050000\n",
       "skew      1.583656e+01          18.502384    27.058921\n",
       "kurt      3.315594e+02         464.907732   803.342631\n",
       "mad       4.683856e+03         369.219545     4.385118\n",
       "mode_1    3.000000e+03         600.000000     0.010000\n",
       "mode_2    4.200000e+03                NaN          NaN"
      ]
     },
     "execution_count": 298,
     "metadata": {},
     "output_type": "execute_result"
    }
   ],
   "source": [
    "stat_summary_litoral = reacendimentos_litoral.describe()\n",
    "stat_summary_litoral.loc['range'] = stat_summary_litoral.loc['max'] - stat_summary_litoral.loc['min']\n",
    "stat_summary_litoral.loc['IQR'] = stat_summary_litoral.loc['75%'] - stat_summary_litoral.loc['25%'] # appending interquartile range\n",
    "stat_summary_litoral.loc['G.M.'] = stat.gmean(reacendimentos_litoral.iloc[:,2:], axis=0)\n",
    "stat_summary_litoral.loc['H.M.'] = stat.hmean(reacendimentos_litoral.iloc[:,2:], axis=0)\n",
    "mode = reacendimentos_litoral.mode(numeric_only=True, axis=0)\n",
    "stat_summary_litoral.loc['var'] = reacendimentos_litoral.var(numeric_only=True, axis=0)\n",
    "stat_summary_litoral.loc['median'] = reacendimentos_litoral.median( numeric_only=True, axis=0)\n",
    "stat_summary_litoral.loc['skew'] = reacendimentos_litoral.skew(numeric_only=True, axis=0)\n",
    "stat_summary_litoral.loc['kurt'] =  reacendimentos_litoral.kurt(numeric_only=True, axis=0)\n",
    "stat_summary_litoral.loc['mad'] = reacendimentos_litoral.mad(axis=0)\n",
    "\n",
    "stat_summary_litoral = pd.concat([stat_summary_litoral, mode], axis=0)\n",
    "stat_summary_litoral.rename(index ={0: 'mode_1'}, inplace = True)\n",
    "stat_summary_litoral.rename(index ={1: 'mode_2'}, inplace = True)\n",
    "\n",
    "stat_summary_litoral"
   ]
  },
  {
   "cell_type": "code",
   "execution_count": 299,
   "id": "5dbfe939",
   "metadata": {},
   "outputs": [
    {
     "name": "stderr",
     "output_type": "stream",
     "text": [
      "C:\\Users\\Asus\\anaconda3\\lib\\site-packages\\scipy\\stats\\stats.py:275: RuntimeWarning: divide by zero encountered in log\n",
      "  log_a = np.log(np.array(a, dtype=dtype))\n"
     ]
    },
    {
     "data": {
      "text/html": [
       "<div>\n",
       "<style scoped>\n",
       "    .dataframe tbody tr th:only-of-type {\n",
       "        vertical-align: middle;\n",
       "    }\n",
       "\n",
       "    .dataframe tbody tr th {\n",
       "        vertical-align: top;\n",
       "    }\n",
       "\n",
       "    .dataframe thead th {\n",
       "        text-align: right;\n",
       "    }\n",
       "</style>\n",
       "<table border=\"1\" class=\"dataframe\">\n",
       "  <thead>\n",
       "    <tr style=\"text-align: right;\">\n",
       "      <th></th>\n",
       "      <th>Tempo_Extincao</th>\n",
       "      <th>Tempo_Intervencao</th>\n",
       "      <th>AA_total_ha</th>\n",
       "    </tr>\n",
       "  </thead>\n",
       "  <tbody>\n",
       "    <tr>\n",
       "      <th>count</th>\n",
       "      <td>4.100000e+02</td>\n",
       "      <td>410.000000</td>\n",
       "      <td>410.000000</td>\n",
       "    </tr>\n",
       "    <tr>\n",
       "      <th>mean</th>\n",
       "      <td>9.270585e+03</td>\n",
       "      <td>845.707317</td>\n",
       "      <td>5.053568</td>\n",
       "    </tr>\n",
       "    <tr>\n",
       "      <th>std</th>\n",
       "      <td>1.178871e+04</td>\n",
       "      <td>772.449577</td>\n",
       "      <td>40.049150</td>\n",
       "    </tr>\n",
       "    <tr>\n",
       "      <th>min</th>\n",
       "      <td>3.000000e+02</td>\n",
       "      <td>0.000000</td>\n",
       "      <td>0.000050</td>\n",
       "    </tr>\n",
       "    <tr>\n",
       "      <th>25%</th>\n",
       "      <td>3.675000e+03</td>\n",
       "      <td>480.000000</td>\n",
       "      <td>0.010000</td>\n",
       "    </tr>\n",
       "    <tr>\n",
       "      <th>50%</th>\n",
       "      <td>6.900000e+03</td>\n",
       "      <td>720.000000</td>\n",
       "      <td>0.099050</td>\n",
       "    </tr>\n",
       "    <tr>\n",
       "      <th>75%</th>\n",
       "      <td>1.059000e+04</td>\n",
       "      <td>1080.000000</td>\n",
       "      <td>0.600000</td>\n",
       "    </tr>\n",
       "    <tr>\n",
       "      <th>max</th>\n",
       "      <td>1.370400e+05</td>\n",
       "      <td>10620.000000</td>\n",
       "      <td>573.900000</td>\n",
       "    </tr>\n",
       "    <tr>\n",
       "      <th>range</th>\n",
       "      <td>1.367400e+05</td>\n",
       "      <td>10620.000000</td>\n",
       "      <td>573.899950</td>\n",
       "    </tr>\n",
       "    <tr>\n",
       "      <th>IQR</th>\n",
       "      <td>6.915000e+03</td>\n",
       "      <td>600.000000</td>\n",
       "      <td>0.590000</td>\n",
       "    </tr>\n",
       "    <tr>\n",
       "      <th>G.M.</th>\n",
       "      <td>6.272662e+03</td>\n",
       "      <td>0.000000</td>\n",
       "      <td>0.078549</td>\n",
       "    </tr>\n",
       "    <tr>\n",
       "      <th>H.M.</th>\n",
       "      <td>4.069357e+03</td>\n",
       "      <td>0.000000</td>\n",
       "      <td>0.002248</td>\n",
       "    </tr>\n",
       "    <tr>\n",
       "      <th>var</th>\n",
       "      <td>1.389736e+08</td>\n",
       "      <td>596678.349335</td>\n",
       "      <td>1603.934425</td>\n",
       "    </tr>\n",
       "    <tr>\n",
       "      <th>median</th>\n",
       "      <td>6.900000e+03</td>\n",
       "      <td>720.000000</td>\n",
       "      <td>0.099050</td>\n",
       "    </tr>\n",
       "    <tr>\n",
       "      <th>skew</th>\n",
       "      <td>6.194632e+00</td>\n",
       "      <td>6.034415</td>\n",
       "      <td>12.574443</td>\n",
       "    </tr>\n",
       "    <tr>\n",
       "      <th>kurt</th>\n",
       "      <td>5.434417e+01</td>\n",
       "      <td>65.908872</td>\n",
       "      <td>167.091704</td>\n",
       "    </tr>\n",
       "    <tr>\n",
       "      <th>mad</th>\n",
       "      <td>5.903153e+03</td>\n",
       "      <td>442.974182</td>\n",
       "      <td>8.592229</td>\n",
       "    </tr>\n",
       "    <tr>\n",
       "      <th>mode_1</th>\n",
       "      <td>3.000000e+03</td>\n",
       "      <td>600.000000</td>\n",
       "      <td>0.010000</td>\n",
       "    </tr>\n",
       "    <tr>\n",
       "      <th>mode_2</th>\n",
       "      <td>3.300000e+03</td>\n",
       "      <td>NaN</td>\n",
       "      <td>NaN</td>\n",
       "    </tr>\n",
       "    <tr>\n",
       "      <th>mode_3</th>\n",
       "      <td>4.500000e+03</td>\n",
       "      <td>NaN</td>\n",
       "      <td>NaN</td>\n",
       "    </tr>\n",
       "  </tbody>\n",
       "</table>\n",
       "</div>"
      ],
      "text/plain": [
       "        Tempo_Extincao  Tempo_Intervencao  AA_total_ha\n",
       "count     4.100000e+02         410.000000   410.000000\n",
       "mean      9.270585e+03         845.707317     5.053568\n",
       "std       1.178871e+04         772.449577    40.049150\n",
       "min       3.000000e+02           0.000000     0.000050\n",
       "25%       3.675000e+03         480.000000     0.010000\n",
       "50%       6.900000e+03         720.000000     0.099050\n",
       "75%       1.059000e+04        1080.000000     0.600000\n",
       "max       1.370400e+05       10620.000000   573.900000\n",
       "range     1.367400e+05       10620.000000   573.899950\n",
       "IQR       6.915000e+03         600.000000     0.590000\n",
       "G.M.      6.272662e+03           0.000000     0.078549\n",
       "H.M.      4.069357e+03           0.000000     0.002248\n",
       "var       1.389736e+08      596678.349335  1603.934425\n",
       "median    6.900000e+03         720.000000     0.099050\n",
       "skew      6.194632e+00           6.034415    12.574443\n",
       "kurt      5.434417e+01          65.908872   167.091704\n",
       "mad       5.903153e+03         442.974182     8.592229\n",
       "mode_1    3.000000e+03         600.000000     0.010000\n",
       "mode_2    3.300000e+03                NaN          NaN\n",
       "mode_3    4.500000e+03                NaN          NaN"
      ]
     },
     "execution_count": 299,
     "metadata": {},
     "output_type": "execute_result"
    }
   ],
   "source": [
    "stat_summary_interior = reacendimentos_interior.describe()\n",
    "stat_summary_interior.loc['range'] = stat_summary_interior.loc['max'] - stat_summary_interior.loc['min']\n",
    "stat_summary_interior.loc['IQR'] = stat_summary_interior.loc['75%'] - stat_summary_interior.loc['25%'] # appending interquartile range\n",
    "stat_summary_interior.loc['G.M.'] = stat.gmean(reacendimentos_interior.iloc[:,2:], axis=0)\n",
    "stat_summary_interior.loc['H.M.'] = stat.hmean(reacendimentos_interior.iloc[:,2:], axis=0)\n",
    "mode = reacendimentos_interior.mode(numeric_only=True, axis=0)\n",
    "stat_summary_interior.loc['var'] = reacendimentos_interior.var(numeric_only=True, axis=0)\n",
    "stat_summary_interior.loc['median'] = reacendimentos_interior.median( numeric_only=True, axis=0)\n",
    "stat_summary_interior.loc['skew'] = reacendimentos_interior.skew(numeric_only=True, axis=0)\n",
    "stat_summary_interior.loc['kurt'] =  reacendimentos_interior.kurt(numeric_only=True, axis=0)\n",
    "stat_summary_interior.loc['mad'] = reacendimentos_interior.mad(axis=0)\n",
    "\n",
    "stat_summary_interior= pd.concat([stat_summary_interior, mode], axis=0)\n",
    "stat_summary_interior.rename(index ={0: 'mode_1'}, inplace = True)\n",
    "stat_summary_interior.rename(index ={1: 'mode_2'}, inplace = True)\n",
    "stat_summary_interior.rename(index ={2: 'mode_3'}, inplace = True)\n",
    "\n",
    "stat_summary_interior"
   ]
  },
  {
   "cell_type": "code",
   "execution_count": 262,
   "id": "2cb27cf7",
   "metadata": {},
   "outputs": [
    {
     "name": "stderr",
     "output_type": "stream",
     "text": [
      "C:\\Users\\Asus\\anaconda3\\lib\\site-packages\\scipy\\stats\\stats.py:275: RuntimeWarning: divide by zero encountered in log\n",
      "  log_a = np.log(np.array(a, dtype=dtype))\n"
     ]
    },
    {
     "data": {
      "text/html": [
       "<div>\n",
       "<style scoped>\n",
       "    .dataframe tbody tr th:only-of-type {\n",
       "        vertical-align: middle;\n",
       "    }\n",
       "\n",
       "    .dataframe tbody tr th {\n",
       "        vertical-align: top;\n",
       "    }\n",
       "\n",
       "    .dataframe thead th {\n",
       "        text-align: right;\n",
       "    }\n",
       "</style>\n",
       "<table border=\"1\" class=\"dataframe\">\n",
       "  <thead>\n",
       "    <tr style=\"text-align: right;\">\n",
       "      <th></th>\n",
       "      <th>Tempo_Extincao</th>\n",
       "      <th>Tempo_Intervencao</th>\n",
       "      <th>AA_total_ha</th>\n",
       "    </tr>\n",
       "  </thead>\n",
       "  <tbody>\n",
       "    <tr>\n",
       "      <th>count</th>\n",
       "      <td>1.164000e+03</td>\n",
       "      <td>1164.000000</td>\n",
       "      <td>1164.000000</td>\n",
       "    </tr>\n",
       "    <tr>\n",
       "      <th>mean</th>\n",
       "      <td>8.220979e+03</td>\n",
       "      <td>708.041237</td>\n",
       "      <td>2.653553</td>\n",
       "    </tr>\n",
       "    <tr>\n",
       "      <th>std</th>\n",
       "      <td>1.281629e+04</td>\n",
       "      <td>924.761285</td>\n",
       "      <td>37.211516</td>\n",
       "    </tr>\n",
       "    <tr>\n",
       "      <th>min</th>\n",
       "      <td>3.000000e+02</td>\n",
       "      <td>0.000000</td>\n",
       "      <td>0.000100</td>\n",
       "    </tr>\n",
       "    <tr>\n",
       "      <th>25%</th>\n",
       "      <td>3.765000e+03</td>\n",
       "      <td>360.000000</td>\n",
       "      <td>0.010000</td>\n",
       "    </tr>\n",
       "    <tr>\n",
       "      <th>50%</th>\n",
       "      <td>6.000000e+03</td>\n",
       "      <td>600.000000</td>\n",
       "      <td>0.050000</td>\n",
       "    </tr>\n",
       "    <tr>\n",
       "      <th>75%</th>\n",
       "      <td>9.480000e+03</td>\n",
       "      <td>900.000000</td>\n",
       "      <td>0.300000</td>\n",
       "    </tr>\n",
       "    <tr>\n",
       "      <th>max</th>\n",
       "      <td>3.291000e+05</td>\n",
       "      <td>25200.000000</td>\n",
       "      <td>1105.000000</td>\n",
       "    </tr>\n",
       "    <tr>\n",
       "      <th>range</th>\n",
       "      <td>3.288000e+05</td>\n",
       "      <td>25200.000000</td>\n",
       "      <td>1104.999900</td>\n",
       "    </tr>\n",
       "    <tr>\n",
       "      <th>IQR</th>\n",
       "      <td>5.715000e+03</td>\n",
       "      <td>540.000000</td>\n",
       "      <td>0.290000</td>\n",
       "    </tr>\n",
       "    <tr>\n",
       "      <th>G.M.</th>\n",
       "      <td>5.956199e+03</td>\n",
       "      <td>0.000000</td>\n",
       "      <td>0.067030</td>\n",
       "    </tr>\n",
       "    <tr>\n",
       "      <th>H.M.</th>\n",
       "      <td>4.399935e+03</td>\n",
       "      <td>0.000000</td>\n",
       "      <td>0.005134</td>\n",
       "    </tr>\n",
       "    <tr>\n",
       "      <th>var</th>\n",
       "      <td>1.642572e+08</td>\n",
       "      <td>855183.434240</td>\n",
       "      <td>1384.696944</td>\n",
       "    </tr>\n",
       "    <tr>\n",
       "      <th>median</th>\n",
       "      <td>6.000000e+03</td>\n",
       "      <td>600.000000</td>\n",
       "      <td>0.050000</td>\n",
       "    </tr>\n",
       "    <tr>\n",
       "      <th>skew</th>\n",
       "      <td>1.563856e+01</td>\n",
       "      <td>17.534895</td>\n",
       "      <td>25.609827</td>\n",
       "    </tr>\n",
       "    <tr>\n",
       "      <th>kurt</th>\n",
       "      <td>3.531616e+02</td>\n",
       "      <td>437.417150</td>\n",
       "      <td>710.914274</td>\n",
       "    </tr>\n",
       "    <tr>\n",
       "      <th>mad</th>\n",
       "      <td>4.878416e+03</td>\n",
       "      <td>388.150707</td>\n",
       "      <td>4.527149</td>\n",
       "    </tr>\n",
       "    <tr>\n",
       "      <th>mode</th>\n",
       "      <td>3.000000e+03</td>\n",
       "      <td>600.000000</td>\n",
       "      <td>0.010000</td>\n",
       "    </tr>\n",
       "  </tbody>\n",
       "</table>\n",
       "</div>"
      ],
      "text/plain": [
       "        Tempo_Extincao  Tempo_Intervencao  AA_total_ha\n",
       "count     1.164000e+03        1164.000000  1164.000000\n",
       "mean      8.220979e+03         708.041237     2.653553\n",
       "std       1.281629e+04         924.761285    37.211516\n",
       "min       3.000000e+02           0.000000     0.000100\n",
       "25%       3.765000e+03         360.000000     0.010000\n",
       "50%       6.000000e+03         600.000000     0.050000\n",
       "75%       9.480000e+03         900.000000     0.300000\n",
       "max       3.291000e+05       25200.000000  1105.000000\n",
       "range     3.288000e+05       25200.000000  1104.999900\n",
       "IQR       5.715000e+03         540.000000     0.290000\n",
       "G.M.      5.956199e+03           0.000000     0.067030\n",
       "H.M.      4.399935e+03           0.000000     0.005134\n",
       "var       1.642572e+08      855183.434240  1384.696944\n",
       "median    6.000000e+03         600.000000     0.050000\n",
       "skew      1.563856e+01          17.534895    25.609827\n",
       "kurt      3.531616e+02         437.417150   710.914274\n",
       "mad       4.878416e+03         388.150707     4.527149\n",
       "mode      3.000000e+03         600.000000     0.010000"
      ]
     },
     "execution_count": 262,
     "metadata": {},
     "output_type": "execute_result"
    }
   ],
   "source": [
    "stat_summary_maiores_oc = reacendimentos_maiores.describe()\n",
    "stat_summary_maiores_oc.loc['range'] = stat_summary_maiores_oc.loc['max'] - stat_summary_maiores_oc.loc['min']\n",
    "stat_summary_maiores_oc.loc['IQR'] = stat_summary_maiores_oc.loc['75%'] - stat_summary_maiores_oc.loc['25%'] # appending interquartile range\n",
    "stat_summary_maiores_oc.loc['G.M.'] = stat.gmean(reacendimentos_maiores.iloc[:,2:], axis=0)\n",
    "stat_summary_maiores_oc.loc['H.M.'] = stat.hmean(reacendimentos_maiores.iloc[:,2:], axis=0)\n",
    "mode = reacendimentos_maiores.mode(numeric_only=True, axis=0)\n",
    "stat_summary_maiores_oc.loc['var'] = reacendimentos_maiores.var(numeric_only=True, axis=0)\n",
    "stat_summary_maiores_oc.loc['median'] = reacendimentos_maiores.median( numeric_only=True, axis=0)\n",
    "stat_summary_maiores_oc.loc['skew'] = reacendimentos_maiores.skew(numeric_only=True, axis=0)\n",
    "stat_summary_maiores_oc.loc['kurt'] =  reacendimentos_maiores.kurt(numeric_only=True, axis=0)\n",
    "stat_summary_maiores_oc.loc['mad'] = reacendimentos_maiores.mad(axis=0)\n",
    "\n",
    "stat_summary_maiores_oc= pd.concat([stat_summary_maiores_oc, mode], axis=0)\n",
    "stat_summary_maiores_oc.rename(index ={0: 'mode'}, inplace = True)\n",
    "\n",
    "stat_summary_maiores_oc\n"
   ]
  },
  {
   "cell_type": "code",
   "execution_count": 301,
   "id": "acb90162",
   "metadata": {},
   "outputs": [
    {
     "name": "stderr",
     "output_type": "stream",
     "text": [
      "C:\\Users\\Asus\\anaconda3\\lib\\site-packages\\scipy\\stats\\stats.py:275: RuntimeWarning: divide by zero encountered in log\n",
      "  log_a = np.log(np.array(a, dtype=dtype))\n"
     ]
    },
    {
     "data": {
      "text/html": [
       "<div>\n",
       "<style scoped>\n",
       "    .dataframe tbody tr th:only-of-type {\n",
       "        vertical-align: middle;\n",
       "    }\n",
       "\n",
       "    .dataframe tbody tr th {\n",
       "        vertical-align: top;\n",
       "    }\n",
       "\n",
       "    .dataframe thead th {\n",
       "        text-align: right;\n",
       "    }\n",
       "</style>\n",
       "<table border=\"1\" class=\"dataframe\">\n",
       "  <thead>\n",
       "    <tr style=\"text-align: right;\">\n",
       "      <th></th>\n",
       "      <th>Tempo_Extincao</th>\n",
       "      <th>Tempo_Intervencao</th>\n",
       "      <th>AA_total_ha</th>\n",
       "    </tr>\n",
       "  </thead>\n",
       "  <tbody>\n",
       "    <tr>\n",
       "      <th>count</th>\n",
       "      <td>3.440000e+02</td>\n",
       "      <td>344.000000</td>\n",
       "      <td>344.000000</td>\n",
       "    </tr>\n",
       "    <tr>\n",
       "      <th>mean</th>\n",
       "      <td>8.732965e+03</td>\n",
       "      <td>784.534884</td>\n",
       "      <td>5.194301</td>\n",
       "    </tr>\n",
       "    <tr>\n",
       "      <th>std</th>\n",
       "      <td>1.403435e+04</td>\n",
       "      <td>753.701315</td>\n",
       "      <td>37.221396</td>\n",
       "    </tr>\n",
       "    <tr>\n",
       "      <th>min</th>\n",
       "      <td>3.000000e+02</td>\n",
       "      <td>0.000000</td>\n",
       "      <td>0.000050</td>\n",
       "    </tr>\n",
       "    <tr>\n",
       "      <th>25%</th>\n",
       "      <td>3.600000e+03</td>\n",
       "      <td>420.000000</td>\n",
       "      <td>0.010000</td>\n",
       "    </tr>\n",
       "    <tr>\n",
       "      <th>50%</th>\n",
       "      <td>6.600000e+03</td>\n",
       "      <td>660.000000</td>\n",
       "      <td>0.064050</td>\n",
       "    </tr>\n",
       "    <tr>\n",
       "      <th>75%</th>\n",
       "      <td>9.600000e+03</td>\n",
       "      <td>960.000000</td>\n",
       "      <td>0.462200</td>\n",
       "    </tr>\n",
       "    <tr>\n",
       "      <th>max</th>\n",
       "      <td>2.040000e+05</td>\n",
       "      <td>10620.000000</td>\n",
       "      <td>520.140000</td>\n",
       "    </tr>\n",
       "    <tr>\n",
       "      <th>range</th>\n",
       "      <td>2.037000e+05</td>\n",
       "      <td>10620.000000</td>\n",
       "      <td>520.139950</td>\n",
       "    </tr>\n",
       "    <tr>\n",
       "      <th>IQR</th>\n",
       "      <td>6.000000e+03</td>\n",
       "      <td>540.000000</td>\n",
       "      <td>0.452200</td>\n",
       "    </tr>\n",
       "    <tr>\n",
       "      <th>G.M.</th>\n",
       "      <td>5.872940e+03</td>\n",
       "      <td>0.000000</td>\n",
       "      <td>0.076614</td>\n",
       "    </tr>\n",
       "    <tr>\n",
       "      <th>H.M.</th>\n",
       "      <td>4.012120e+03</td>\n",
       "      <td>0.000000</td>\n",
       "      <td>0.002549</td>\n",
       "    </tr>\n",
       "    <tr>\n",
       "      <th>var</th>\n",
       "      <td>1.969629e+08</td>\n",
       "      <td>568065.672249</td>\n",
       "      <td>1385.432346</td>\n",
       "    </tr>\n",
       "    <tr>\n",
       "      <th>median</th>\n",
       "      <td>6.600000e+03</td>\n",
       "      <td>660.000000</td>\n",
       "      <td>0.064050</td>\n",
       "    </tr>\n",
       "    <tr>\n",
       "      <th>skew</th>\n",
       "      <td>9.504087e+00</td>\n",
       "      <td>7.200215</td>\n",
       "      <td>10.865516</td>\n",
       "    </tr>\n",
       "    <tr>\n",
       "      <th>kurt</th>\n",
       "      <td>1.179672e+02</td>\n",
       "      <td>85.810010</td>\n",
       "      <td>131.445385</td>\n",
       "    </tr>\n",
       "    <tr>\n",
       "      <th>mad</th>\n",
       "      <td>5.591831e+03</td>\n",
       "      <td>410.023661</td>\n",
       "      <td>8.977169</td>\n",
       "    </tr>\n",
       "    <tr>\n",
       "      <th>mode_1</th>\n",
       "      <td>4.500000e+03</td>\n",
       "      <td>600.000000</td>\n",
       "      <td>0.010000</td>\n",
       "    </tr>\n",
       "    <tr>\n",
       "      <th>mode_2</th>\n",
       "      <td>9.000000e+03</td>\n",
       "      <td>NaN</td>\n",
       "      <td>NaN</td>\n",
       "    </tr>\n",
       "  </tbody>\n",
       "</table>\n",
       "</div>"
      ],
      "text/plain": [
       "        Tempo_Extincao  Tempo_Intervencao  AA_total_ha\n",
       "count     3.440000e+02         344.000000   344.000000\n",
       "mean      8.732965e+03         784.534884     5.194301\n",
       "std       1.403435e+04         753.701315    37.221396\n",
       "min       3.000000e+02           0.000000     0.000050\n",
       "25%       3.600000e+03         420.000000     0.010000\n",
       "50%       6.600000e+03         660.000000     0.064050\n",
       "75%       9.600000e+03         960.000000     0.462200\n",
       "max       2.040000e+05       10620.000000   520.140000\n",
       "range     2.037000e+05       10620.000000   520.139950\n",
       "IQR       6.000000e+03         540.000000     0.452200\n",
       "G.M.      5.872940e+03           0.000000     0.076614\n",
       "H.M.      4.012120e+03           0.000000     0.002549\n",
       "var       1.969629e+08      568065.672249  1385.432346\n",
       "median    6.600000e+03         660.000000     0.064050\n",
       "skew      9.504087e+00           7.200215    10.865516\n",
       "kurt      1.179672e+02          85.810010   131.445385\n",
       "mad       5.591831e+03         410.023661     8.977169\n",
       "mode_1    4.500000e+03         600.000000     0.010000\n",
       "mode_2    9.000000e+03                NaN          NaN"
      ]
     },
     "execution_count": 301,
     "metadata": {},
     "output_type": "execute_result"
    }
   ],
   "source": [
    "stat_summary_menores_oc = reacendimentos_menores.describe()\n",
    "stat_summary_menores_oc.loc['range'] = stat_summary_menores_oc.loc['max'] - stat_summary_menores_oc.loc['min']\n",
    "stat_summary_menores_oc.loc['IQR'] = stat_summary_menores_oc.loc['75%'] - stat_summary_menores_oc.loc['25%'] # appending interquartile range\n",
    "stat_summary_menores_oc.loc['G.M.'] = stat.gmean(reacendimentos_menores.iloc[:,2:], axis=0)\n",
    "stat_summary_menores_oc.loc['H.M.'] = stat.hmean(reacendimentos_menores.iloc[:,2:], axis=0)\n",
    "mode = reacendimentos_menores.mode(numeric_only=True, axis=0)\n",
    "stat_summary_menores_oc.loc['var'] = reacendimentos_menores.var(numeric_only=True, axis=0)\n",
    "stat_summary_menores_oc.loc['median'] = reacendimentos_menores.median( numeric_only=True, axis=0)\n",
    "stat_summary_menores_oc.loc['skew'] = reacendimentos_menores.skew(numeric_only=True, axis=0)\n",
    "stat_summary_menores_oc.loc['kurt'] =  reacendimentos_menores.kurt(numeric_only=True, axis=0)\n",
    "stat_summary_menores_oc.loc['mad'] = reacendimentos_menores.mad(axis=0)\n",
    "\n",
    "stat_summary_menores_oc= pd.concat([stat_summary_menores_oc, mode], axis=0)\n",
    "stat_summary_menores_oc.rename(index ={0: 'mode_1'}, inplace = True)\n",
    "stat_summary_menores_oc.rename(index ={1: 'mode_2'}, inplace = True)\n",
    "\n",
    "stat_summary_menores_oc"
   ]
  },
  {
   "cell_type": "markdown",
   "id": "19b33893",
   "metadata": {},
   "source": [
    "&nbsp;&nbsp;&nbsp;&nbsp;&nbsp;&nbsp; Doing a quick analysis on these tables we can see that mean Intervention times are very similar, but on the other side we can see that the total burned area is **double** on the districts with **Least ocurrences** than the district with **Most ocurrences** (due to a big difference on the **Forest area** comparing these two classes). Once the mean burned area is doubled on the least ocurrence class we would expect that the **Mean extinguish time** would have a big difference as well but this behaviour is not verified, the mean extinguish times are **very similar**. <br> On the other hand we can see a difference in extintion time from coastal to inland. Similarly between thhese two groups, the total burnt area is almostr dobled in the inland group compared to coastal.\n",
    "  <br /> &nbsp;&nbsp;&nbsp;&nbsp;&nbsp;&nbsp; One possible explanation for this behavior could be the location on the fires. Once in the **least ocurrence** areas much of the burned area is in **Forest** type locations, that make a easier intervention by the firefighters, because they don't have to mobilize population and can attack the fires right away. This is also valid for coastal and inland fires. This way the bigger burned area is compensated by a easier extinguishing process comparing to **Population** type location were the smaller burned areas take as much time to extinguish because this process is more complicated in these areas."
   ]
  },
  {
   "cell_type": "markdown",
   "id": "49801201",
   "metadata": {},
   "source": [
    "<h3> Data whithout potencial outliers\n",
    "\n"
   ]
  },
  {
   "cell_type": "code",
   "execution_count": 14,
   "id": "abb2549b",
   "metadata": {},
   "outputs": [
    {
     "data": {
      "text/html": [
       "<div>\n",
       "<style scoped>\n",
       "    .dataframe tbody tr th:only-of-type {\n",
       "        vertical-align: middle;\n",
       "    }\n",
       "\n",
       "    .dataframe tbody tr th {\n",
       "        vertical-align: top;\n",
       "    }\n",
       "\n",
       "    .dataframe thead th {\n",
       "        text-align: right;\n",
       "    }\n",
       "</style>\n",
       "<table border=\"1\" class=\"dataframe\">\n",
       "  <thead>\n",
       "    <tr style=\"text-align: right;\">\n",
       "      <th></th>\n",
       "      <th>Litoralidade</th>\n",
       "      <th>Ocorrencias</th>\n",
       "      <th>Tempo_Extincao</th>\n",
       "      <th>Tempo_Intervencao</th>\n",
       "      <th>AA_total_ha</th>\n",
       "    </tr>\n",
       "  </thead>\n",
       "  <tbody>\n",
       "    <tr>\n",
       "      <th>15</th>\n",
       "      <td>Inland</td>\n",
       "      <td>Least_ocurrences</td>\n",
       "      <td>3000</td>\n",
       "      <td>1200</td>\n",
       "      <td>0.100</td>\n",
       "    </tr>\n",
       "    <tr>\n",
       "      <th>43</th>\n",
       "      <td>Coastal</td>\n",
       "      <td>Most_occurences</td>\n",
       "      <td>3480</td>\n",
       "      <td>240</td>\n",
       "      <td>0.050</td>\n",
       "    </tr>\n",
       "    <tr>\n",
       "      <th>145</th>\n",
       "      <td>Inland</td>\n",
       "      <td>Most_occurences</td>\n",
       "      <td>13980</td>\n",
       "      <td>1200</td>\n",
       "      <td>0.100</td>\n",
       "    </tr>\n",
       "    <tr>\n",
       "      <th>237</th>\n",
       "      <td>Coastal</td>\n",
       "      <td>Most_occurences</td>\n",
       "      <td>10440</td>\n",
       "      <td>300</td>\n",
       "      <td>0.200</td>\n",
       "    </tr>\n",
       "    <tr>\n",
       "      <th>261</th>\n",
       "      <td>Inland</td>\n",
       "      <td>Most_occurences</td>\n",
       "      <td>9780</td>\n",
       "      <td>960</td>\n",
       "      <td>0.035</td>\n",
       "    </tr>\n",
       "    <tr>\n",
       "      <th>...</th>\n",
       "      <td>...</td>\n",
       "      <td>...</td>\n",
       "      <td>...</td>\n",
       "      <td>...</td>\n",
       "      <td>...</td>\n",
       "    </tr>\n",
       "    <tr>\n",
       "      <th>23130</th>\n",
       "      <td>Inland</td>\n",
       "      <td>Most_occurences</td>\n",
       "      <td>8280</td>\n",
       "      <td>720</td>\n",
       "      <td>0.045</td>\n",
       "    </tr>\n",
       "    <tr>\n",
       "      <th>23143</th>\n",
       "      <td>Coastal</td>\n",
       "      <td>Most_occurences</td>\n",
       "      <td>3060</td>\n",
       "      <td>840</td>\n",
       "      <td>0.100</td>\n",
       "    </tr>\n",
       "    <tr>\n",
       "      <th>23145</th>\n",
       "      <td>Coastal</td>\n",
       "      <td>Most_occurences</td>\n",
       "      <td>8700</td>\n",
       "      <td>360</td>\n",
       "      <td>0.300</td>\n",
       "    </tr>\n",
       "    <tr>\n",
       "      <th>23167</th>\n",
       "      <td>Coastal</td>\n",
       "      <td>Most_occurences</td>\n",
       "      <td>10620</td>\n",
       "      <td>960</td>\n",
       "      <td>0.070</td>\n",
       "    </tr>\n",
       "    <tr>\n",
       "      <th>23173</th>\n",
       "      <td>Coastal</td>\n",
       "      <td>Most_occurences</td>\n",
       "      <td>8100</td>\n",
       "      <td>300</td>\n",
       "      <td>0.050</td>\n",
       "    </tr>\n",
       "  </tbody>\n",
       "</table>\n",
       "<p>1198 rows × 5 columns</p>\n",
       "</div>"
      ],
      "text/plain": [
       "      Litoralidade       Ocorrencias  Tempo_Extincao  Tempo_Intervencao  \\\n",
       "15          Inland  Least_ocurrences            3000               1200   \n",
       "43         Coastal   Most_occurences            3480                240   \n",
       "145         Inland   Most_occurences           13980               1200   \n",
       "237        Coastal   Most_occurences           10440                300   \n",
       "261         Inland   Most_occurences            9780                960   \n",
       "...            ...               ...             ...                ...   \n",
       "23130       Inland   Most_occurences            8280                720   \n",
       "23143      Coastal   Most_occurences            3060                840   \n",
       "23145      Coastal   Most_occurences            8700                360   \n",
       "23167      Coastal   Most_occurences           10620                960   \n",
       "23173      Coastal   Most_occurences            8100                300   \n",
       "\n",
       "       AA_total_ha  \n",
       "15           0.100  \n",
       "43           0.050  \n",
       "145          0.100  \n",
       "237          0.200  \n",
       "261          0.035  \n",
       "...            ...  \n",
       "23130        0.045  \n",
       "23143        0.100  \n",
       "23145        0.300  \n",
       "23167        0.070  \n",
       "23173        0.050  \n",
       "\n",
       "[1198 rows x 5 columns]"
      ]
     },
     "execution_count": 14,
     "metadata": {},
     "output_type": "execute_result"
    }
   ],
   "source": [
    "reacendimentos_slim_wpo = reacendimentos_slim_delta.copy()\n",
    "reacendimentos_slim_wpo = reacendimentos_slim_wpo[reacendimentos_slim_wpo['Tempo_Extincao'] < (stat_summary.loc['75%']+1.5*stat_summary.loc['IQR'])[0]]\n",
    "reacendimentos_slim_wpo = reacendimentos_slim_wpo[reacendimentos_slim_wpo['Tempo_Intervencao'] < (stat_summary.loc['75%']+1.5*stat_summary.loc['IQR'])[1]]\n",
    "reacendimentos_slim_wpo = reacendimentos_slim_wpo[reacendimentos_slim_wpo['AA_total_ha'] < (stat_summary.loc['75%']+1.5*stat_summary.loc['IQR'])[2]]\n",
    "reacendimentos_slim_wpo"
   ]
  },
  {
   "cell_type": "markdown",
   "id": "8e9f3dd8",
   "metadata": {},
   "source": [
    "This new table contains 1198 registries in comparison with the original table with 1508 rows, that means that 310 registries were considered as outliers."
   ]
  },
  {
   "cell_type": "markdown",
   "id": "8dfb6b1f",
   "metadata": {},
   "source": [
    "<h3> Plotting grahics for number of occurences"
   ]
  },
  {
   "cell_type": "code",
   "execution_count": 83,
   "id": "13abb7fa",
   "metadata": {},
   "outputs": [
    {
     "data": {
      "text/plain": [
       "Text(0.5, 0, 'District')"
      ]
     },
     "execution_count": 83,
     "metadata": {},
     "output_type": "execute_result"
    },
    {
     "data": {
      "image/png": "[encoded data removed]",
      "text/plain": [
       "<Figure size 1152x576 with 1 Axes>"
      ]
     },
     "metadata": {
      "needs_background": "light"
     },
     "output_type": "display_data"
    }
   ],
   "source": [
    "a = ocorrencias_por_distrito\n",
    "matplotlib.rcParams['figure.figsize'] = [16, 8]\n",
    "a.plot.bar()\n",
    "\n",
    "matplotlib.pyplot.title('Number of occurences by district')\n",
    "matplotlib.pyplot.ylabel('Number of occurences')\n",
    "matplotlib.pyplot.xlabel('District')"
   ]
  },
  {
   "cell_type": "markdown",
   "id": "c3bbd644",
   "metadata": {},
   "source": [
    "This graph shows us the number of occurences by district. We can see that there is a big concentration of occurences in the North Region so the top 4 districts will be considered as the Most_occurrences class and the rest as the Least_occorrences. This was also evident earlier in \"ocorrencias_por_distrito\" table."
   ]
  },
  {
   "cell_type": "markdown",
   "id": "3b421cca",
   "metadata": {},
   "source": [
    "Because of this, we have separated districts by occurence class and tried to compare the extinguish and intervention times and the burned area of the re-ignition fires so we could try and explain why there is such a big concentration of fires in those areas."
   ]
  },
  {
   "cell_type": "code",
   "execution_count": 85,
   "id": "8868a368",
   "metadata": {},
   "outputs": [
    {
     "data": {
      "text/plain": [
       "Text(0, 0.5, 'Number of ocurrences')"
      ]
     },
     "execution_count": 85,
     "metadata": {},
     "output_type": "execute_result"
    },
    {
     "data": {
      "image/png": "[encoded data removed]",
      "text/plain": [
       "<Figure size 1152x576 with 1 Axes>"
      ]
     },
     "metadata": {
      "needs_background": "light"
     },
     "output_type": "display_data"
    }
   ],
   "source": [
    "b = reacendimentos.groupby(['Litoralidade']).count()['Count'].sort_values(ascending=False)\n",
    "b.plot.bar()\n",
    "\n",
    "matplotlib.pyplot.title('Number of occurences by coastal proximity')\n",
    "matplotlib.pyplot.xlabel('Coastal proximity')\n",
    "matplotlib.pyplot.ylabel('Number of ocurrences')"
   ]
  },
  {
   "cell_type": "markdown",
   "id": "cbceb627",
   "metadata": {},
   "source": [
    "Here we can see the difference between the ocurrences between coastal and inland areas. This result is expected once **Porto** weighs almost a third of total ocurrences and it is located in the **Coastal** area."
   ]
  },
  {
   "cell_type": "code",
   "execution_count": 86,
   "id": "40d5cd7d",
   "metadata": {},
   "outputs": [
    {
     "data": {
      "text/plain": [
       "Text(0, 0.5, 'AA_Total (ha)')"
      ]
     },
     "execution_count": 86,
     "metadata": {},
     "output_type": "execute_result"
    },
    {
     "data": {
      "image/png": "[encoded data removed]",
      "text/plain": [
       "<Figure size 1152x576 with 1 Axes>"
      ]
     },
     "metadata": {
      "needs_background": "light"
     },
     "output_type": "display_data"
    }
   ],
   "source": [
    "x = reacendimentos.groupby(['Litoralidade']).sum()['AA_Total (pov+mato+agric) (ha)'].sort_values(ascending=False)\n",
    "x.plot.bar()\n",
    "matplotlib.pyplot.title('AA_Total by Litoralidade')\n",
    "matplotlib.pyplot.xlabel('Litoralidade')\n",
    "matplotlib.pyplot.ylabel('AA_Total (ha)')"
   ]
  },
  {
   "cell_type": "markdown",
   "id": "49745cc6",
   "metadata": {},
   "source": [
    "On the other side, on the total burned area we can see that the inland areas weigh more than in the ocurrence graph what is supported by the difference in mean burned area. Still, the **Coastal areas have a bigger total area because of the number of ocurrences so don't mislead this graph**."
   ]
  },
  {
   "cell_type": "markdown",
   "id": "3cbd344c",
   "metadata": {},
   "source": [
    "<h3> Plotting histograms"
   ]
  },
  {
   "cell_type": "code",
   "execution_count": 52,
   "id": "5ccb71fb",
   "metadata": {},
   "outputs": [
    {
     "data": {
      "image/png": "[encoded data removed]",
      "text/plain": [
       "<Figure size 720x720 with 4 Axes>"
      ]
     },
     "metadata": {
      "needs_background": "light"
     },
     "output_type": "display_data"
    }
   ],
   "source": [
    "c = reacendimentos_slim_delta.hist(figsize=(10,10),bins=100)"
   ]
  },
  {
   "cell_type": "code",
   "execution_count": 53,
   "id": "f481dcba",
   "metadata": {},
   "outputs": [
    {
     "data": {
      "image/png": "[encoded data removed]",
      "text/plain": [
       "<Figure size 720x720 with 4 Axes>"
      ]
     },
     "metadata": {
      "needs_background": "light"
     },
     "output_type": "display_data"
    }
   ],
   "source": [
    "d = reacendimentos_slim_delta.hist(figsize=(10,10),bins=30)"
   ]
  },
  {
   "cell_type": "markdown",
   "id": "46a3d8cd",
   "metadata": {},
   "source": [
    "Easy to say that there is a big concentration on data in the lower end of all variables and the number of ocurrences for the outliers is consistent.\n",
    "We can see Tempo_Extincao, Tempo_Intervencao and AA_total_ha have a positive skew, and are strongly right skwed."
   ]
  },
  {
   "cell_type": "code",
   "execution_count": 54,
   "id": "47b9d2e7",
   "metadata": {},
   "outputs": [
    {
     "data": {
      "image/png": "[encoded data removed]",
      "text/plain": [
       "<Figure size 1152x576 with 1 Axes>"
      ]
     },
     "metadata": {
      "needs_background": "light"
     },
     "output_type": "display_data"
    }
   ],
   "source": [
    "# Adjusting data for log in AA_total histogram\n",
    "\n",
    "log_reacendimentos_slim = reacendimentos_slim.copy()\n",
    "log_reacendimentos_slim['log_AA'] = np.log1p(reacendimentos_slim['AA_total_ha'])\n",
    "e = log_reacendimentos_slim['log_AA'].hist(bins = 100)\n",
    "\n",
    "matplotlib.pyplot.grid(color='black', linestyle=':')\n",
    "matplotlib.pyplot.title('AA_T_data log x+1')\n",
    "# matplotlib.axes.Axes.set_xticks(np.arange(0, 11, 0.5))\n",
    "\n",
    "matplotlib.pyplot.yscale('log')"
   ]
  },
  {
   "cell_type": "markdown",
   "id": "42ac5762",
   "metadata": {},
   "source": [
    "Once the total burned area graph was only showing a single bin for both bin widths we decided to convert both x and y scales to logarithm so that the outliers have less affect on the overall behaviour of the graph."
   ]
  },
  {
   "cell_type": "markdown",
   "id": "ddbb8533",
   "metadata": {},
   "source": [
    "<h3> Plotting Box plots "
   ]
  },
  {
   "cell_type": "code",
   "execution_count": 55,
   "id": "7e6ae9c5",
   "metadata": {},
   "outputs": [
    {
     "data": {
      "image/png": "[encoded data removed]",
      "text/plain": [
       "<Figure size 1152x576 with 1 Axes>"
      ]
     },
     "metadata": {
      "needs_background": "light"
     },
     "output_type": "display_data"
    }
   ],
   "source": [
    "fig, ax = matplotlib.pyplot.subplots()\n",
    "ax.boxplot(reacendimentos_slim['AA_total_ha'],patch_artist=True ,notch = True,\n",
    "           flierprops=dict(color='black', markeredgecolor='black'), \n",
    "           whiskerprops=dict(color='black'), \n",
    "           capprops=dict(color='black'))\n",
    "matplotlib.pyplot.show()"
   ]
  },
  {
   "cell_type": "markdown",
   "id": "da0196c5",
   "metadata": {},
   "source": [
    "A boxplot for all data regarding the total burned area isn't duable to perfrom any time of analysis so we removed the outliers and graphed the data again."
   ]
  },
  {
   "cell_type": "code",
   "execution_count": 56,
   "id": "cf62165b",
   "metadata": {},
   "outputs": [
    {
     "data": {
      "image/png": "[encoded data removed]",
      "text/plain": [
       "<Figure size 1152x576 with 1 Axes>"
      ]
     },
     "metadata": {
      "needs_background": "light"
     },
     "output_type": "display_data"
    }
   ],
   "source": [
    "fig, ax = matplotlib.pyplot.subplots()\n",
    "ax.boxplot(reacendimentos_slim_wpo['AA_total_ha'],patch_artist=True ,notch = True,\n",
    "           flierprops=dict(color='black', markeredgecolor='black'), \n",
    "           whiskerprops=dict(color='black'), \n",
    "           capprops=dict(color='black'))\n",
    "matplotlib.pyplot.show()"
   ]
  },
  {
   "cell_type": "code",
   "execution_count": 57,
   "id": "d37dfc8a",
   "metadata": {},
   "outputs": [
    {
     "data": {
      "image/png": "[encoded data removed]",
      "text/plain": [
       "<Figure size 1152x576 with 1 Axes>"
      ]
     },
     "metadata": {
      "needs_background": "light"
     },
     "output_type": "display_data"
    }
   ],
   "source": [
    "fig, ax = matplotlib.pyplot.subplots()\n",
    "ax.boxplot(reacendimentos_slim_delta['Tempo_Extincao'],patch_artist=True ,notch = True,\n",
    "           flierprops=dict(color='black', markeredgecolor='black'), \n",
    "           whiskerprops=dict(color='black'), \n",
    "           capprops=dict(color='black'))\n",
    "matplotlib.pyplot.show()"
   ]
  },
  {
   "cell_type": "code",
   "execution_count": 58,
   "id": "2b810372",
   "metadata": {},
   "outputs": [
    {
     "data": {
      "image/png": "[encoded data removed]",
      "text/plain": [
       "<Figure size 1152x576 with 1 Axes>"
      ]
     },
     "metadata": {
      "needs_background": "light"
     },
     "output_type": "display_data"
    }
   ],
   "source": [
    "fig, ax = matplotlib.pyplot.subplots()\n",
    "ax.boxplot(reacendimentos_slim_wpo['Tempo_Extincao'],patch_artist=True ,notch = True,\n",
    "           flierprops=dict(color='black', markeredgecolor='black'), \n",
    "           whiskerprops=dict(color='black'), \n",
    "           capprops=dict(color='black'))\n",
    "matplotlib.pyplot.show()"
   ]
  },
  {
   "cell_type": "code",
   "execution_count": 59,
   "id": "905e36c8",
   "metadata": {},
   "outputs": [
    {
     "data": {
      "image/png": "[encoded data removed]",
      "text/plain": [
       "<Figure size 1152x576 with 1 Axes>"
      ]
     },
     "metadata": {
      "needs_background": "light"
     },
     "output_type": "display_data"
    }
   ],
   "source": [
    "fig, ax = matplotlib.pyplot.subplots()\n",
    "ax.boxplot(reacendimentos_slim_delta['Tempo_Intervencao'],patch_artist=True ,notch = True,\n",
    "           flierprops=dict(color='black', markeredgecolor='black'), \n",
    "           whiskerprops=dict(color='black'), \n",
    "           capprops=dict(color='black'))\n",
    "matplotlib.pyplot.show()"
   ]
  },
  {
   "cell_type": "code",
   "execution_count": 60,
   "id": "f700f953",
   "metadata": {},
   "outputs": [
    {
     "data": {
      "image/png": "[encoded data removed]",
      "text/plain": [
       "<Figure size 1152x576 with 1 Axes>"
      ]
     },
     "metadata": {
      "needs_background": "light"
     },
     "output_type": "display_data"
    }
   ],
   "source": [
    "fig, ax = matplotlib.pyplot.subplots()\n",
    "ax.boxplot(reacendimentos_slim_wpo['Tempo_Intervencao'],patch_artist=True ,notch = True,\n",
    "           flierprops=dict(color='black', markeredgecolor='black'), \n",
    "           whiskerprops=dict(color='black'), \n",
    "           capprops=dict(color='black'))\n",
    "matplotlib.pyplot.show()"
   ]
  },
  {
   "cell_type": "markdown",
   "id": "dffcea1d",
   "metadata": {},
   "source": [
    "<h3> Boxplots by group"
   ]
  },
  {
   "cell_type": "code",
   "execution_count": 61,
   "id": "63d350cb",
   "metadata": {},
   "outputs": [
    {
     "data": {
      "text/plain": [
       "Text(0, 0.5, 'Burnt area (ha)')"
      ]
     },
     "execution_count": 61,
     "metadata": {},
     "output_type": "execute_result"
    },
    {
     "data": {
      "image/png": "[encoded data removed]",
      "text/plain": [
       "<Figure size 1152x576 with 1 Axes>"
      ]
     },
     "metadata": {
      "needs_background": "light"
     },
     "output_type": "display_data"
    }
   ],
   "source": [
    "sns.boxplot(x=\"Litoralidade\", y=\"AA_total_ha\", data=reacendimentos_slim_delta) \n",
    "matplotlib.pyplot.xlabel('Coastal proximity')\n",
    "matplotlib.pyplot.ylabel('Burnt area (ha)')"
   ]
  },
  {
   "cell_type": "code",
   "execution_count": 62,
   "id": "ade9d511",
   "metadata": {},
   "outputs": [
    {
     "data": {
      "text/plain": [
       "Text(0, 0.5, 'Burnt area (ha)')"
      ]
     },
     "execution_count": 62,
     "metadata": {},
     "output_type": "execute_result"
    },
    {
     "data": {
      "image/png": "[encoded data removed]",
      "text/plain": [
       "<Figure size 1152x576 with 1 Axes>"
      ]
     },
     "metadata": {
      "needs_background": "light"
     },
     "output_type": "display_data"
    }
   ],
   "source": [
    "sns.boxplot(x=\"Litoralidade\", y=\"AA_total_ha\", data=reacendimentos_slim_wpo) \n",
    "matplotlib.pyplot.xlabel('Coastal proximity')\n",
    "matplotlib.pyplot.ylabel('Burnt area (ha)')"
   ]
  },
  {
   "cell_type": "markdown",
   "id": "a79d8bd8",
   "metadata": {},
   "source": [
    "Here we can see that that the median of the total burned area is slightly higher in the Coastal areas rather than the Inland areas. The Inter Quartil Range is smaller in Coastal areas due to the higher volume of smaller fires. Regarding that the number of ocurrences in the Coastal areas is much higher, it leads to a higher probabilty of registries above the upper whisker which is what we see.\n",
    "\n",
    "**VOU PRECISAR DE VERIFICAR ESTES GRAFICOS PORQUE OS DADOS NAO FAZEM SENTIDO. MESMO SEM OUTLIERS A MEDIANA DO INLAND DEVERIA SER MAIOR QUE O COSTAL**"
   ]
  },
  {
   "cell_type": "code",
   "execution_count": 63,
   "id": "16bed49f",
   "metadata": {},
   "outputs": [
    {
     "data": {
      "text/plain": [
       "Text(0, 0.5, 'Extintion time (s)')"
      ]
     },
     "execution_count": 63,
     "metadata": {},
     "output_type": "execute_result"
    },
    {
     "data": {
      "image/png": "[encoded data removed]",
      "text/plain": [
       "<Figure size 1152x576 with 1 Axes>"
      ]
     },
     "metadata": {
      "needs_background": "light"
     },
     "output_type": "display_data"
    }
   ],
   "source": [
    "sns.boxplot(x=\"Litoralidade\", y=\"Tempo_Extincao\", data=reacendimentos_slim_delta) \n",
    "matplotlib.pyplot.xlabel('Coastal proximity')\n",
    "matplotlib.pyplot.ylabel('Extintion time (s)')\n"
   ]
  },
  {
   "cell_type": "code",
   "execution_count": 97,
   "id": "68b8d03e",
   "metadata": {},
   "outputs": [
    {
     "data": {
      "text/plain": [
       "Text(0, 0.5, 'Extinguish time (s)')"
      ]
     },
     "execution_count": 97,
     "metadata": {},
     "output_type": "execute_result"
    },
    {
     "data": {
      "image/png": "[encoded data removed]",
      "text/plain": [
       "<Figure size 1152x576 with 1 Axes>"
      ]
     },
     "metadata": {
      "needs_background": "light"
     },
     "output_type": "display_data"
    }
   ],
   "source": [
    "sns.boxplot(x=\"Litoralidade\", y=\"Tempo_Extincao\", data=reacendimentos_slim_wpo) \n",
    "matplotlib.pyplot.xlabel('Coastal proximity')\n",
    "matplotlib.pyplot.ylabel('Extinguish time (s)')"
   ]
  },
  {
   "cell_type": "markdown",
   "id": "916b6e8c",
   "metadata": {},
   "source": [
    "Regarding the extinguish time we see big a difference in the IQR. In the coastal areas the data is less spread due to a higher volume of small fires again, the spread of the inland class is much bigger which suggests to a bigger diversity in the total fire area, fact that is also supported by the previous boxplot. We can see that there the higher number of entries above the upper whisker in the coastal class is also supported by this graph which is consistent with the previous analysis. The median of the extinguish time is very similar, which we have talked about as well, but slightly higher in the inland class what makes sense because the total burned area is also bigger in this class."
   ]
  },
  {
   "cell_type": "code",
   "execution_count": 65,
   "id": "55d84ef9",
   "metadata": {},
   "outputs": [
    {
     "data": {
      "text/plain": [
       "Text(0, 0.5, 'Intervention time (s)')"
      ]
     },
     "execution_count": 65,
     "metadata": {},
     "output_type": "execute_result"
    },
    {
     "data": {
      "image/png": "[encoded data removed]",
      "text/plain": [
       "<Figure size 1152x576 with 1 Axes>"
      ]
     },
     "metadata": {
      "needs_background": "light"
     },
     "output_type": "display_data"
    }
   ],
   "source": [
    "sns.boxplot(x=\"Litoralidade\", y=\"Tempo_Intervencao\", data=reacendimentos_slim_delta) \n",
    "matplotlib.pyplot.xlabel('Coastal proximity')\n",
    "matplotlib.pyplot.ylabel('Intervention time (s)')"
   ]
  },
  {
   "cell_type": "code",
   "execution_count": 66,
   "id": "b7b732ee",
   "metadata": {},
   "outputs": [
    {
     "data": {
      "text/plain": [
       "Text(0, 0.5, 'Intervention time (s)')"
      ]
     },
     "execution_count": 66,
     "metadata": {},
     "output_type": "execute_result"
    },
    {
     "data": {
      "image/png": "[encoded data removed]",
      "text/plain": [
       "<Figure size 1152x576 with 1 Axes>"
      ]
     },
     "metadata": {
      "needs_background": "light"
     },
     "output_type": "display_data"
    }
   ],
   "source": [
    "sns.boxplot(x=\"Litoralidade\", y=\"Tempo_Intervencao\", data=reacendimentos_slim_wpo) \n",
    "matplotlib.pyplot.xlabel('Coastal proximity')\n",
    "matplotlib.pyplot.ylabel('Intervention time (s)')"
   ]
  },
  {
   "cell_type": "markdown",
   "id": "25027147",
   "metadata": {},
   "source": [
    "Regarding the intervention time we see that the spread in the coastal class is higher which is probably due to the number of ocurrences in this class that lead to bigger probability of having different types of fires that have different aproaches by the man force which condition heavily the intervention time. In the inland class we can see that the median of the intervention time is higher than the coastal area.\n",
    "< br \\> Looking at the previous graph we see that the difference between medians from the intervention time doesn't prolong itself to the extinguish time so we do not expect a relationship between these two variables."
   ]
  },
  {
   "cell_type": "code",
   "execution_count": 67,
   "id": "808a371d",
   "metadata": {},
   "outputs": [
    {
     "data": {
      "text/plain": [
       "Text(0, 0.5, 'Burnt area (ha)')"
      ]
     },
     "execution_count": 67,
     "metadata": {},
     "output_type": "execute_result"
    },
    {
     "data": {
      "image/png": "[encoded data removed]",
      "text/plain": [
       "<Figure size 1152x576 with 1 Axes>"
      ]
     },
     "metadata": {
      "needs_background": "light"
     },
     "output_type": "display_data"
    }
   ],
   "source": [
    "sns.boxplot(x=\"Ocorrencias\", y=\"AA_total_ha\", data=reacendimentos_slim_delta) \n",
    "matplotlib.pyplot.xlabel('Coastal proximity')\n",
    "matplotlib.pyplot.ylabel('Burnt area (ha)')"
   ]
  },
  {
   "cell_type": "code",
   "execution_count": 68,
   "id": "bc649f25",
   "metadata": {},
   "outputs": [
    {
     "data": {
      "text/plain": [
       "Text(0, 0.5, 'Burnt area (ha)')"
      ]
     },
     "execution_count": 68,
     "metadata": {},
     "output_type": "execute_result"
    },
    {
     "data": {
      "image/png": "[encoded data removed]",
      "text/plain": [
       "<Figure size 1152x576 with 1 Axes>"
      ]
     },
     "metadata": {
      "needs_background": "light"
     },
     "output_type": "display_data"
    }
   ],
   "source": [
    "sns.boxplot(x=\"Ocorrencias\", y=\"AA_total_ha\", data=reacendimentos_slim_wpo) \n",
    "matplotlib.pyplot.xlabel('Coastal proximity')\n",
    "matplotlib.pyplot.ylabel('Burnt area (ha)')"
   ]
  },
  {
   "cell_type": "code",
   "execution_count": 69,
   "id": "a81c3514",
   "metadata": {},
   "outputs": [
    {
     "data": {
      "text/plain": [
       "Text(0, 0.5, 'Extintion time (s)')"
      ]
     },
     "execution_count": 69,
     "metadata": {},
     "output_type": "execute_result"
    },
    {
     "data": {
      "image/png": "[encoded data removed]",
      "text/plain": [
       "<Figure size 1152x576 with 1 Axes>"
      ]
     },
     "metadata": {
      "needs_background": "light"
     },
     "output_type": "display_data"
    }
   ],
   "source": [
    "sns.boxplot(x=\"Ocorrencias\", y=\"Tempo_Extincao\", data=reacendimentos_slim_delta) \n",
    "matplotlib.pyplot.xlabel('Coastal proximity')\n",
    "matplotlib.pyplot.ylabel('Extintion time (s)')"
   ]
  },
  {
   "cell_type": "code",
   "execution_count": 70,
   "id": "dfd0b76c",
   "metadata": {},
   "outputs": [
    {
     "data": {
      "text/plain": [
       "Text(0, 0.5, 'Extintion time (s)')"
      ]
     },
     "execution_count": 70,
     "metadata": {},
     "output_type": "execute_result"
    },
    {
     "data": {
      "image/png": "[encoded data removed]",
      "text/plain": [
       "<Figure size 1152x576 with 1 Axes>"
      ]
     },
     "metadata": {
      "needs_background": "light"
     },
     "output_type": "display_data"
    }
   ],
   "source": [
    "sns.boxplot(x=\"Ocorrencias\", y=\"Tempo_Extincao\", data=reacendimentos_slim_wpo) \n",
    "matplotlib.pyplot.xlabel('Coastal proximity')\n",
    "matplotlib.pyplot.ylabel('Extintion time (s)')"
   ]
  },
  {
   "cell_type": "code",
   "execution_count": 71,
   "id": "c6b4cb29",
   "metadata": {},
   "outputs": [
    {
     "data": {
      "text/plain": [
       "Text(0, 0.5, 'Intervention time (s)')"
      ]
     },
     "execution_count": 71,
     "metadata": {},
     "output_type": "execute_result"
    },
    {
     "data": {
      "image/png": "[encoded data removed]",
      "text/plain": [
       "<Figure size 1152x576 with 1 Axes>"
      ]
     },
     "metadata": {
      "needs_background": "light"
     },
     "output_type": "display_data"
    }
   ],
   "source": [
    "sns.boxplot(x=\"Ocorrencias\", y=\"Tempo_Intervencao\", data=reacendimentos_slim_delta) \n",
    "matplotlib.pyplot.xlabel('Coastal proximity')\n",
    "matplotlib.pyplot.ylabel('Intervention time (s)')"
   ]
  },
  {
   "cell_type": "code",
   "execution_count": 72,
   "id": "fa17a465",
   "metadata": {},
   "outputs": [
    {
     "data": {
      "text/plain": [
       "Text(0, 0.5, 'Intervention time (s)')"
      ]
     },
     "execution_count": 72,
     "metadata": {},
     "output_type": "execute_result"
    },
    {
     "data": {
      "image/png": "[encoded data removed]",
      "text/plain": [
       "<Figure size 1152x576 with 1 Axes>"
      ]
     },
     "metadata": {
      "needs_background": "light"
     },
     "output_type": "display_data"
    }
   ],
   "source": [
    "sns.boxplot(x=\"Ocorrencias\", y=\"Tempo_Intervencao\", data=reacendimentos_slim_wpo) \n",
    "matplotlib.pyplot.xlabel('Coastal proximity')\n",
    "matplotlib.pyplot.ylabel('Intervention time (s)')"
   ]
  },
  {
   "cell_type": "markdown",
   "id": "7727f9ed",
   "metadata": {},
   "source": [
    "<h3> Plotting scatterplots"
   ]
  },
  {
   "cell_type": "code",
   "execution_count": 73,
   "id": "1c836f0a",
   "metadata": {},
   "outputs": [
    {
     "data": {
      "text/plain": [
       "<AxesSubplot:title={'center':'Extintion time vs. Total burnt area'}, xlabel='Tempo_Extincao', ylabel='AA_total_ha'>"
      ]
     },
     "execution_count": 73,
     "metadata": {},
     "output_type": "execute_result"
    },
    {
     "data": {
      "image/png": "[encoded data removed]",
      "text/plain": [
       "<Figure size 1152x576 with 1 Axes>"
      ]
     },
     "metadata": {
      "needs_background": "light"
     },
     "output_type": "display_data"
    }
   ],
   "source": [
    "reacendimentos_slim_delta.plot('Tempo_Extincao','AA_total_ha', kind='scatter',\n",
    "                               c='lightcoral', title='Extintion time vs. Total burnt area')"
   ]
  },
  {
   "cell_type": "code",
   "execution_count": 74,
   "id": "8f889fa9",
   "metadata": {},
   "outputs": [
    {
     "data": {
      "text/plain": [
       "<AxesSubplot:title={'center':'Extintion time vs. Total burnt area'}, xlabel='Tempo_Extincao', ylabel='AA_total_ha'>"
      ]
     },
     "execution_count": 74,
     "metadata": {},
     "output_type": "execute_result"
    },
    {
     "data": {
      "image/png": "[encoded data removed]",
      "text/plain": [
       "<Figure size 1152x576 with 1 Axes>"
      ]
     },
     "metadata": {
      "needs_background": "light"
     },
     "output_type": "display_data"
    }
   ],
   "source": [
    "reacendimentos_slim_wpo.plot('Tempo_Extincao','AA_total_ha', kind='scatter',\n",
    "                               c='lightcoral', title='Extintion time vs. Total burnt area')"
   ]
  },
  {
   "cell_type": "code",
   "execution_count": 75,
   "id": "a4213959",
   "metadata": {},
   "outputs": [
    {
     "data": {
      "text/plain": [
       "<AxesSubplot:title={'center':'Intervention time vs. Total burnt area'}, xlabel='Tempo_Intervencao', ylabel='AA_total_ha'>"
      ]
     },
     "execution_count": 75,
     "metadata": {},
     "output_type": "execute_result"
    },
    {
     "data": {
      "image/png": "[encoded data removed]",
      "text/plain": [
       "<Figure size 1152x576 with 1 Axes>"
      ]
     },
     "metadata": {
      "needs_background": "light"
     },
     "output_type": "display_data"
    }
   ],
   "source": [
    "reacendimentos_slim_delta.plot('Tempo_Intervencao','AA_total_ha', kind='scatter',\n",
    "                               c='lightcoral', title='Intervention time vs. Total burnt area')"
   ]
  },
  {
   "cell_type": "code",
   "execution_count": 76,
   "id": "2c96eeca",
   "metadata": {},
   "outputs": [
    {
     "data": {
      "text/plain": [
       "<AxesSubplot:title={'center':'Intervention time vs. Total burnt area'}, xlabel='Tempo_Intervencao', ylabel='AA_total_ha'>"
      ]
     },
     "execution_count": 76,
     "metadata": {},
     "output_type": "execute_result"
    },
    {
     "data": {
      "image/png": "[encoded data removed]",
      "text/plain": [
       "<Figure size 1152x576 with 1 Axes>"
      ]
     },
     "metadata": {
      "needs_background": "light"
     },
     "output_type": "display_data"
    }
   ],
   "source": [
    "reacendimentos_slim_wpo.plot('Tempo_Intervencao','AA_total_ha', kind='scatter',\n",
    "                               c='lightcoral', title='Intervention time vs. Total burnt area')"
   ]
  },
  {
   "cell_type": "code",
   "execution_count": 77,
   "id": "b2d6c5b1",
   "metadata": {},
   "outputs": [
    {
     "data": {
      "text/plain": [
       "<AxesSubplot:title={'center':'Extintion time vs Intervention time'}, xlabel='Tempo_Extincao', ylabel='Tempo_Intervencao'>"
      ]
     },
     "execution_count": 77,
     "metadata": {},
     "output_type": "execute_result"
    },
    {
     "data": {
      "image/png": "[encoded data removed]",
      "text/plain": [
       "<Figure size 1152x576 with 1 Axes>"
      ]
     },
     "metadata": {
      "needs_background": "light"
     },
     "output_type": "display_data"
    }
   ],
   "source": [
    "reacendimentos_slim_delta.plot('Tempo_Extincao','Tempo_Intervencao', kind='scatter',\n",
    "                               c='lightcoral', title='Extintion time vs Intervention time')"
   ]
  },
  {
   "cell_type": "code",
   "execution_count": 78,
   "id": "2131efc2",
   "metadata": {},
   "outputs": [
    {
     "data": {
      "text/plain": [
       "<AxesSubplot:title={'center':'Extintion time vs Intervention time'}, xlabel='Tempo_Extincao', ylabel='Tempo_Intervencao'>"
      ]
     },
     "execution_count": 78,
     "metadata": {},
     "output_type": "execute_result"
    },
    {
     "data": {
      "image/png": "[encoded data removed]",
      "text/plain": [
       "<Figure size 1152x576 with 1 Axes>"
      ]
     },
     "metadata": {
      "needs_background": "light"
     },
     "output_type": "display_data"
    }
   ],
   "source": [
    "reacendimentos_slim_wpo.plot('Tempo_Extincao','Tempo_Intervencao', kind='scatter',\n",
    "                               c='lightcoral', title='Extintion time vs Intervention time')"
   ]
  },
  {
   "cell_type": "markdown",
   "id": "2b6ee539",
   "metadata": {},
   "source": [
    "<h3> Inferences"
   ]
  },
  {
   "cell_type": "markdown",
   "id": "5c7f4310",
   "metadata": {},
   "source": [
    "<h4> Kolmogorov-Smirnov </h4><br>\n",
    "The test is used to test whether or not or not a sample comes from a certain distribution. <br>\n",
    "H0: The samples came from a population with normal distribution"
   ]
  },
  {
   "cell_type": "code",
   "execution_count": 306,
   "id": "3f324564",
   "metadata": {},
   "outputs": [
    {
     "data": {
      "text/plain": [
       "KstestResult(statistic=0.5000199471140118, pvalue=0.0)"
      ]
     },
     "execution_count": 306,
     "metadata": {},
     "output_type": "execute_result"
    }
   ],
   "source": [
    "#perform Kolmogorov-Smirnov test\n",
    "stat.kstest(reacendimentos_AA_total, 'norm')"
   ]
  },
  {
   "cell_type": "markdown",
   "id": "2a2e3c79",
   "metadata": {},
   "source": [
    "Since p-value is less than 0.05, we reject the null hypothesis and AA_total_ha values do not follow a normal distribution."
   ]
  },
  {
   "cell_type": "code",
   "execution_count": 319,
   "id": "ed58e7ca",
   "metadata": {},
   "outputs": [
    {
     "data": {
      "text/plain": [
       "KstestResult(statistic=1.0, pvalue=0.0)"
      ]
     },
     "execution_count": 319,
     "metadata": {},
     "output_type": "execute_result"
    }
   ],
   "source": [
    "stat.kstest(reacendimentos_Tempo_Extincao, 'norm')"
   ]
  },
  {
   "cell_type": "markdown",
   "id": "0cc92e33",
   "metadata": {},
   "source": [
    "Since p-value is less than 0.05, we reject the null hypothesis and Tempo_Extincao values do not follow a normal distribution."
   ]
  },
  {
   "cell_type": "code",
   "execution_count": 324,
   "id": "0fdda326",
   "metadata": {},
   "outputs": [
    {
     "data": {
      "text/plain": [
       "KstestResult(statistic=1.0, pvalue=0.0)"
      ]
     },
     "execution_count": 324,
     "metadata": {},
     "output_type": "execute_result"
    }
   ],
   "source": [
    "stat.kstest(reacendimentos_Tempo_Intervencao, 'norm')"
   ]
  },
  {
   "cell_type": "markdown",
   "id": "f382857f",
   "metadata": {},
   "source": [
    "Since p-value is less than 0.05, we reject the null hypothesis and Tempo_Intervencao values do not follow a normal distribution."
   ]
  },
  {
   "cell_type": "markdown",
   "id": "865dcf57",
   "metadata": {},
   "source": [
    "Given we have evidance to say our data does not follow a normal distribution, non-parametric tests are preferred to continue our investigation."
   ]
  },
  {
   "cell_type": "markdown",
   "id": "e0fedff4",
   "metadata": {},
   "source": [
    "<h4> Chi Square: </h4> <br>\n",
    "\n",
    "Determines if there is significant relationship between two categorical variables. <br>\n",
    "The null hypothesis is that no relation exists between the two variables. <br> <br>\n",
    "We are going to test if there is a relation with fires from re-ignition according to coastal proximity and the groups of districts with higher number of occurences of these fires."
   ]
  },
  {
   "cell_type": "code",
   "execution_count": 79,
   "id": "967ebfb7",
   "metadata": {},
   "outputs": [
    {
     "data": {
      "text/html": [
       "<div>\n",
       "<style scoped>\n",
       "    .dataframe tbody tr th:only-of-type {\n",
       "        vertical-align: middle;\n",
       "    }\n",
       "\n",
       "    .dataframe tbody tr th {\n",
       "        vertical-align: top;\n",
       "    }\n",
       "\n",
       "    .dataframe thead th {\n",
       "        text-align: right;\n",
       "    }\n",
       "</style>\n",
       "<table border=\"1\" class=\"dataframe\">\n",
       "  <thead>\n",
       "    <tr style=\"text-align: right;\">\n",
       "      <th>Ocorrencias</th>\n",
       "      <th>Least_ocurrences</th>\n",
       "      <th>Most_occurences</th>\n",
       "    </tr>\n",
       "    <tr>\n",
       "      <th>Litoralidade</th>\n",
       "      <th></th>\n",
       "      <th></th>\n",
       "    </tr>\n",
       "  </thead>\n",
       "  <tbody>\n",
       "    <tr>\n",
       "      <th>Coastal</th>\n",
       "      <td>169</td>\n",
       "      <td>929</td>\n",
       "    </tr>\n",
       "    <tr>\n",
       "      <th>Inland</th>\n",
       "      <td>175</td>\n",
       "      <td>235</td>\n",
       "    </tr>\n",
       "  </tbody>\n",
       "</table>\n",
       "</div>"
      ],
      "text/plain": [
       "Ocorrencias   Least_ocurrences  Most_occurences\n",
       "Litoralidade                                   \n",
       "Coastal                    169              929\n",
       "Inland                     175              235"
      ]
     },
     "execution_count": 79,
     "metadata": {},
     "output_type": "execute_result"
    }
   ],
   "source": [
    "crosstab = pd.crosstab(reacendimentos_slim_delta[\"Litoralidade\"], \n",
    "                       reacendimentos_slim_delta[\"Ocorrencias\"])\n",
    "\n",
    "crosstab"
   ]
  },
  {
   "cell_type": "code",
   "execution_count": 327,
   "id": "c9e87a03",
   "metadata": {},
   "outputs": [
    {
     "name": "stdout",
     "output_type": "stream",
     "text": [
      "chi-square statistic: 124.7319555171618\n",
      "p-value: 5.825544823977843e-29\n",
      "degree of freedom: 1\n",
      "expected contingency table\n",
      "[[316.47214854  93.52785146]\n",
      " [847.52785146 250.47214854]]\n"
     ]
    }
   ],
   "source": [
    "chiRes = stat.chi2_contingency(crosstab)\n",
    "\n",
    "print(f'chi-square statistic: {chiRes[0]}')\n",
    "print(f'p-value: {chiRes[1]}')\n",
    "print(f'degree of freedom: {chiRes[2]}')\n",
    "print('expected contingency table') \n",
    "print(chiRes[3])"
   ]
  },
  {
   "cell_type": "markdown",
   "id": "9255cab6",
   "metadata": {},
   "source": [
    "With p-value less than 0.05, we reject the null hypothesis (H0: no relation between the 2 variables). <br>\n",
    "This means coastal proximity is associated with number of occurrences of fires re-ignition higher and lower group.\n"
   ]
  },
  {
   "cell_type": "markdown",
   "id": "0e3fd52b",
   "metadata": {},
   "source": [
    "<h4> Phi Coefficient </h4><br>\n",
    "\n",
    " Compares the strength of the relationship between two categorical variables, with variables with only two unique measurement levels. Ranges from 0 to 1."
   ]
  },
  {
   "cell_type": "code",
   "execution_count": 46,
   "id": "0d8d5c37",
   "metadata": {},
   "outputs": [
    {
     "name": "stdout",
     "output_type": "stream",
     "text": [
      "Phi Coefficient: 0.28937546159494654\n"
     ]
    }
   ],
   "source": [
    "chisq_stat = stat.chi2_contingency(crosstab, correction=False)[0]\n",
    "\n",
    "# sample size\n",
    "n = np.sum(np.sum(crosstab))\n",
    "# minimum of rows & columns\n",
    "minshape = min(crosstab.shape)-1\n",
    "# Phi\n",
    "Phi_ = np.sqrt( (chisq_stat/n)/minshape)\n",
    "print(f\"Phi Coefficient: {Phi_}\")"
   ]
  },
  {
   "cell_type": "markdown",
   "id": "126e20d2",
   "metadata": {},
   "source": [
    "Phi coefficient of aprox. 0.3 indicates a low level of dependence between fires from re-ignition according to coastal proximity and the groups of districts with higher number of occurences of these fires."
   ]
  },
  {
   "cell_type": "markdown",
   "id": "b1cb996b",
   "metadata": {},
   "source": [
    "<h4> Mann-Whitney U </h4>  <b>REVER<br>\n",
    "\n",
    "Compares two groups A and B of an ordinal or continuous variable\n",
    "Let's compare the total burnt area between coastal and inland groups.\n",
    " <br>\n",
    "H0: The two populations are equal."
   ]
  },
  {
   "cell_type": "code",
   "execution_count": 47,
   "id": "1bf8ecd3",
   "metadata": {},
   "outputs": [
    {
     "data": {
      "text/plain": [
       "MannwhitneyuResult(statistic=215817.5, pvalue=0.2170407104979557)"
      ]
     },
     "execution_count": 47,
     "metadata": {},
     "output_type": "execute_result"
    }
   ],
   "source": [
    "stat.mannwhitneyu(x=reacendimentos_litoral['AA_total_ha'],\n",
    "                   y=reacendimentos_interior['AA_total_ha'])"
   ]
  },
  {
   "cell_type": "code",
   "execution_count": 303,
   "id": "b6cccd27",
   "metadata": {},
   "outputs": [
    {
     "data": {
      "text/plain": [
       "MannwhitneyuResult(statistic=602802.0, pvalue=1.0)"
      ]
     },
     "execution_count": 303,
     "metadata": {},
     "output_type": "execute_result"
    }
   ],
   "source": [
    "stat.mannwhitneyu(x=reacendimentos_litoral['AA_total_ha'],\n",
    "                   y=reacendimentos_litoral['AA_total_ha'])"
   ]
  },
  {
   "cell_type": "markdown",
   "id": "c092d2b2",
   "metadata": {},
   "source": [
    "With a p-value above 0.05, we can't reject the null hypothesis so there is no evidence to say burnt area of litoral is different from burnt area of interior."
   ]
  },
  {
   "cell_type": "markdown",
   "id": "409860d1",
   "metadata": {},
   "source": [
    "Vamos comparar a área ardida total com a distritos com maiores ocorrencias.\n",
    "H0: The two populations are equal."
   ]
  },
  {
   "cell_type": "code",
   "execution_count": 302,
   "id": "ec87e4c9",
   "metadata": {},
   "outputs": [
    {
     "data": {
      "text/plain": [
       "MannwhitneyuResult(statistic=194923.5, pvalue=0.4557127512430156)"
      ]
     },
     "execution_count": 302,
     "metadata": {},
     "output_type": "execute_result"
    }
   ],
   "source": [
    "stat.mannwhitneyu(x=reacendimentos_maiores['AA_total_ha'],\n",
    "                   y=reacendimentos_menores['AA_total_ha'])"
   ]
  },
  {
   "cell_type": "markdown",
   "id": "9a6d208a",
   "metadata": {},
   "source": [
    "With a p-value above 0.05, we can't reject the null hypothesis so there is no evidence to say burnt area of highest occurence group is different from lowest occurence group."
   ]
  },
  {
   "cell_type": "markdown",
   "id": "04771f1e",
   "metadata": {},
   "source": [
    "<h4> Spearman Correlation </h4><br>\n",
    "    \n",
    "Spearman’s correlation coefficients range from -1 to +1. The sign of the coefficient indicates whether it is a positive or negative monotonic relationship. A positive correlation means that as one variable increases, the other variable also tends to increase. A negative correlation signifies that as one variable increases, the other tends to decrease. Values close to -1 or +1 represent stronger relationships than values closer to zero.\n",
    "\n",
    "H0: There is no [monotonic] association between the two variables [in the population]."
   ]
  },
  {
   "cell_type": "code",
   "execution_count": 332,
   "id": "78806694",
   "metadata": {},
   "outputs": [
    {
     "name": "stdout",
     "output_type": "stream",
     "text": [
      "Rho: 0.4060045794930375\n",
      "p: 6.246847974126417e-61\n"
     ]
    }
   ],
   "source": [
    "#calculate Spearman Rank correlation and corresponding p-value\n",
    "rho, p = stat.spearmanr(reacendimentos_slim_delta['AA_total_ha'], reacendimentos_slim_delta['Tempo_Extincao'])\n",
    "\n",
    "#print Spearman rank correlation and p-value\n",
    "print(f\"Rho: {rho}\")\n",
    "print(f\"p: {p}\")\n",
    "\n"
   ]
  },
  {
   "cell_type": "markdown",
   "id": "eda4896d",
   "metadata": {},
   "source": [
    "With p-value less than 0.05, we reject the null hypothesis. There is a positive correlation between the two variables. However Rho value is relatively low."
   ]
  },
  {
   "cell_type": "code",
   "execution_count": 333,
   "id": "0e706698",
   "metadata": {},
   "outputs": [
    {
     "name": "stdout",
     "output_type": "stream",
     "text": [
      "Rho: 0.09011182274040565\n",
      "p: 0.0004591209535820739\n"
     ]
    }
   ],
   "source": [
    "rho, p = stat.spearmanr(reacendimentos_slim_delta['AA_total_ha'], reacendimentos_slim_delta['Tempo_Intervencao'])\n",
    "\n",
    "#print Spearman rank correlation and p-value\n",
    "print(f\"Rho: {rho}\")\n",
    "print(f\"p: {p}\")"
   ]
  },
  {
   "cell_type": "markdown",
   "id": "780de025",
   "metadata": {},
   "source": [
    "With p-value less than 0.05, we reject the null hypothesis. There is a positive correlation between the two Rho value is very close to zero indicating a weak correlation. "
   ]
  },
  {
   "cell_type": "code",
   "execution_count": 334,
   "id": "b7a9ed5f",
   "metadata": {},
   "outputs": [
    {
     "name": "stdout",
     "output_type": "stream",
     "text": [
      "Rho: 0.14204620813258328\n",
      "p: 3.03139008925075e-08\n"
     ]
    }
   ],
   "source": [
    "rho, p = stat.spearmanr(reacendimentos_slim_delta['Tempo_Extincao'], reacendimentos_slim_delta['Tempo_Intervencao'])\n",
    "\n",
    "#print Spearman rank correlation and p-value\n",
    "print(f\"Rho: {rho}\")\n",
    "print(f\"p: {p}\")"
   ]
  },
  {
   "cell_type": "markdown",
   "id": "f3f591f6",
   "metadata": {},
   "source": [
    "With p-value less than 0.05, we reject the null hypothesis. There is a positive correlation between the two Rho value is very close to zero indicating a weak correlation. "
   ]
  }
 ],
 "metadata": {
  "kernelspec": {
   "display_name": "Python 3 (ipykernel)",
   "language": "python",
   "name": "python3"
  },
  "language_info": {
   "codemirror_mode": {
    "name": "ipython",
    "version": 3
   },
   "file_extension": ".py",
   "mimetype": "text/x-python",
   "name": "python",
   "nbconvert_exporter": "python",
   "pygments_lexer": "ipython3",
   "version": "3.9.12"
  }
 },
 "nbformat": 4,
 "nbformat_minor": 5
}
