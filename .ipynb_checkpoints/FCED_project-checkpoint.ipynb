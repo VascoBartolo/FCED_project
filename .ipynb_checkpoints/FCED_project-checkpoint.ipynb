{
 "cells": [
  {
   "cell_type": "code",
   "execution_count": 1,
   "id": "f0a193a8",
   "metadata": {},
   "outputs": [],
   "source": [
    "import pandas as pd\n",
    "from dateutil import parser\n",
    "import numpy as np\n",
    "import math\n",
    "import statistics as st\n",
    "from scipy import stats as stat\n",
    "import matplotlib\n",
    "import seaborn as sns"
   ]
  },
  {
   "cell_type": "code",
   "execution_count": 2,
   "id": "ebc4018f",
   "metadata": {},
   "outputs": [
    {
     "data": {
      "text/html": [
       "<div>\n",
       "<style scoped>\n",
       "    .dataframe tbody tr th:only-of-type {\n",
       "        vertical-align: middle;\n",
       "    }\n",
       "\n",
       "    .dataframe tbody tr th {\n",
       "        vertical-align: top;\n",
       "    }\n",
       "\n",
       "    .dataframe thead th {\n",
       "        text-align: right;\n",
       "    }\n",
       "</style>\n",
       "<table border=\"1\" class=\"dataframe\">\n",
       "  <thead>\n",
       "    <tr style=\"text-align: right;\">\n",
       "      <th></th>\n",
       "      <th>Ano</th>\n",
       "      <th>Codigo SGIF</th>\n",
       "      <th>Codigo_ANPC</th>\n",
       "      <th>Tipo</th>\n",
       "      <th>Distrito</th>\n",
       "      <th>Concelho</th>\n",
       "      <th>Freguesia</th>\n",
       "      <th>Local</th>\n",
       "      <th>INE</th>\n",
       "      <th>x</th>\n",
       "      <th>...</th>\n",
       "      <th>Falso Alarme</th>\n",
       "      <th>Fogacho</th>\n",
       "      <th>Incendio</th>\n",
       "      <th>Agricola</th>\n",
       "      <th>Perimetro</th>\n",
       "      <th>APS</th>\n",
       "      <th>Causa</th>\n",
       "      <th>TipoCausa</th>\n",
       "      <th>Região PROF</th>\n",
       "      <th>UGF</th>\n",
       "    </tr>\n",
       "  </thead>\n",
       "  <tbody>\n",
       "    <tr>\n",
       "      <th>0</th>\n",
       "      <td>2015</td>\n",
       "      <td>DM315252</td>\n",
       "      <td>2015160007544</td>\n",
       "      <td>Florestal</td>\n",
       "      <td>Viana do Castelo</td>\n",
       "      <td>Ponte de Lima</td>\n",
       "      <td>Serdedelo</td>\n",
       "      <td>VALE DE TROVELA (SERDEDELO)</td>\n",
       "      <td>160746</td>\n",
       "      <td>167814</td>\n",
       "      <td>...</td>\n",
       "      <td>0</td>\n",
       "      <td>0</td>\n",
       "      <td>1</td>\n",
       "      <td>0</td>\n",
       "      <td>NaN</td>\n",
       "      <td>NaN</td>\n",
       "      <td>122.0</td>\n",
       "      <td>Negligente</td>\n",
       "      <td>Entre Douro e Minho</td>\n",
       "      <td>Alto Minho</td>\n",
       "    </tr>\n",
       "    <tr>\n",
       "      <th>1</th>\n",
       "      <td>2015</td>\n",
       "      <td>DM215305</td>\n",
       "      <td>2015130043758</td>\n",
       "      <td>Florestal</td>\n",
       "      <td>Porto</td>\n",
       "      <td>Marco de Canaveses</td>\n",
       "      <td>Vila Boa de Quires</td>\n",
       "      <td>LUGAR DO FOFO</td>\n",
       "      <td>130731</td>\n",
       "      <td>193731</td>\n",
       "      <td>...</td>\n",
       "      <td>0</td>\n",
       "      <td>0</td>\n",
       "      <td>1</td>\n",
       "      <td>0</td>\n",
       "      <td>NaN</td>\n",
       "      <td>NaN</td>\n",
       "      <td>122.0</td>\n",
       "      <td>Negligente</td>\n",
       "      <td>Entre Douro e Minho</td>\n",
       "      <td>Tâmega</td>\n",
       "    </tr>\n",
       "    <tr>\n",
       "      <th>2</th>\n",
       "      <td>2015</td>\n",
       "      <td>DM415293</td>\n",
       "      <td>2015030021973</td>\n",
       "      <td>Florestal</td>\n",
       "      <td>Braga</td>\n",
       "      <td>Vila Verde</td>\n",
       "      <td>Lage</td>\n",
       "      <td>RUA PROF ABEL MADEIRA</td>\n",
       "      <td>31323</td>\n",
       "      <td>172162</td>\n",
       "      <td>...</td>\n",
       "      <td>0</td>\n",
       "      <td>1</td>\n",
       "      <td>0</td>\n",
       "      <td>0</td>\n",
       "      <td>NaN</td>\n",
       "      <td>NaN</td>\n",
       "      <td>60.0</td>\n",
       "      <td>Desconhecida</td>\n",
       "      <td>Entre Douro e Minho</td>\n",
       "      <td>Baixo Minho</td>\n",
       "    </tr>\n",
       "    <tr>\n",
       "      <th>3</th>\n",
       "      <td>2015</td>\n",
       "      <td>DM315261</td>\n",
       "      <td>2015160007563</td>\n",
       "      <td>Falso Alarme</td>\n",
       "      <td>Viana do Castelo</td>\n",
       "      <td>Ponte de Lima</td>\n",
       "      <td>Boalhosa</td>\n",
       "      <td>J. DEPOSITOS DE AGUA (BOALHOSA)</td>\n",
       "      <td>160709</td>\n",
       "      <td>171291</td>\n",
       "      <td>...</td>\n",
       "      <td>1</td>\n",
       "      <td>0</td>\n",
       "      <td>0</td>\n",
       "      <td>0</td>\n",
       "      <td>NaN</td>\n",
       "      <td>NaN</td>\n",
       "      <td>630.0</td>\n",
       "      <td>Desconhecida</td>\n",
       "      <td>Entre Douro e Minho</td>\n",
       "      <td>Alto Minho</td>\n",
       "    </tr>\n",
       "    <tr>\n",
       "      <th>4</th>\n",
       "      <td>2015</td>\n",
       "      <td>BL115321</td>\n",
       "      <td>2015180015874</td>\n",
       "      <td>Agrícola</td>\n",
       "      <td>Viseu</td>\n",
       "      <td>Castro Daire</td>\n",
       "      <td>Castro Daire</td>\n",
       "      <td>Farejinhas - Bº das Queirós</td>\n",
       "      <td>180304</td>\n",
       "      <td>217299</td>\n",
       "      <td>...</td>\n",
       "      <td>0</td>\n",
       "      <td>1</td>\n",
       "      <td>0</td>\n",
       "      <td>0</td>\n",
       "      <td>NaN</td>\n",
       "      <td>NaN</td>\n",
       "      <td>630.0</td>\n",
       "      <td>Desconhecida</td>\n",
       "      <td>Beira Litoral</td>\n",
       "      <td>Dão Lafões</td>\n",
       "    </tr>\n",
       "    <tr>\n",
       "      <th>...</th>\n",
       "      <td>...</td>\n",
       "      <td>...</td>\n",
       "      <td>...</td>\n",
       "      <td>...</td>\n",
       "      <td>...</td>\n",
       "      <td>...</td>\n",
       "      <td>...</td>\n",
       "      <td>...</td>\n",
       "      <td>...</td>\n",
       "      <td>...</td>\n",
       "      <td>...</td>\n",
       "      <td>...</td>\n",
       "      <td>...</td>\n",
       "      <td>...</td>\n",
       "      <td>...</td>\n",
       "      <td>...</td>\n",
       "      <td>...</td>\n",
       "      <td>...</td>\n",
       "      <td>...</td>\n",
       "      <td>...</td>\n",
       "      <td>...</td>\n",
       "    </tr>\n",
       "    <tr>\n",
       "      <th>23170</th>\n",
       "      <td>2015</td>\n",
       "      <td>DM4151671</td>\n",
       "      <td>2015030056919</td>\n",
       "      <td>Florestal</td>\n",
       "      <td>Braga</td>\n",
       "      <td>Fafe</td>\n",
       "      <td>Fafe</td>\n",
       "      <td>RUA DE FORNELO</td>\n",
       "      <td>30709</td>\n",
       "      <td>196478</td>\n",
       "      <td>...</td>\n",
       "      <td>0</td>\n",
       "      <td>1</td>\n",
       "      <td>0</td>\n",
       "      <td>0</td>\n",
       "      <td>NaN</td>\n",
       "      <td>NaN</td>\n",
       "      <td>60.0</td>\n",
       "      <td>Desconhecida</td>\n",
       "      <td>Entre Douro e Minho</td>\n",
       "      <td>Baixo Minho</td>\n",
       "    </tr>\n",
       "    <tr>\n",
       "      <th>23171</th>\n",
       "      <td>2015</td>\n",
       "      <td>BL1151018</td>\n",
       "      <td>2015180041997</td>\n",
       "      <td>Florestal</td>\n",
       "      <td>Viseu</td>\n",
       "      <td>Cinfães</td>\n",
       "      <td>Cinfães</td>\n",
       "      <td>Ventuzela</td>\n",
       "      <td>180403</td>\n",
       "      <td>203110</td>\n",
       "      <td>...</td>\n",
       "      <td>0</td>\n",
       "      <td>0</td>\n",
       "      <td>1</td>\n",
       "      <td>0</td>\n",
       "      <td>NaN</td>\n",
       "      <td>NaN</td>\n",
       "      <td>125.0</td>\n",
       "      <td>Negligente</td>\n",
       "      <td>Entre Douro e Minho</td>\n",
       "      <td>Tâmega</td>\n",
       "    </tr>\n",
       "    <tr>\n",
       "      <th>23172</th>\n",
       "      <td>2015</td>\n",
       "      <td>BL3151227</td>\n",
       "      <td>2015010055691</td>\n",
       "      <td>Falso Alarme</td>\n",
       "      <td>Aveiro</td>\n",
       "      <td>Santa Maria da Feira</td>\n",
       "      <td>Feira</td>\n",
       "      <td>avenida 25 de abril</td>\n",
       "      <td>10906</td>\n",
       "      <td>164395</td>\n",
       "      <td>...</td>\n",
       "      <td>1</td>\n",
       "      <td>0</td>\n",
       "      <td>0</td>\n",
       "      <td>0</td>\n",
       "      <td>NaN</td>\n",
       "      <td>NaN</td>\n",
       "      <td>NaN</td>\n",
       "      <td>NaN</td>\n",
       "      <td>Entre Douro e Minho</td>\n",
       "      <td>AMP e Entre Douro e Vouga</td>\n",
       "    </tr>\n",
       "    <tr>\n",
       "      <th>23173</th>\n",
       "      <td>2015</td>\n",
       "      <td>DM2153226</td>\n",
       "      <td>2015130115988</td>\n",
       "      <td>Florestal</td>\n",
       "      <td>Porto</td>\n",
       "      <td>Paços de Ferreira</td>\n",
       "      <td>Paços de Ferreira</td>\n",
       "      <td>Lugar alto das Cavadas</td>\n",
       "      <td>130912</td>\n",
       "      <td>180666</td>\n",
       "      <td>...</td>\n",
       "      <td>0</td>\n",
       "      <td>1</td>\n",
       "      <td>0</td>\n",
       "      <td>0</td>\n",
       "      <td>NaN</td>\n",
       "      <td>NaN</td>\n",
       "      <td>711.0</td>\n",
       "      <td>Reacendimento</td>\n",
       "      <td>Entre Douro e Minho</td>\n",
       "      <td>Tâmega</td>\n",
       "    </tr>\n",
       "    <tr>\n",
       "      <th>23174</th>\n",
       "      <td>2015</td>\n",
       "      <td>BL3151229</td>\n",
       "      <td>2015010055723</td>\n",
       "      <td>Falso Alarme</td>\n",
       "      <td>Aveiro</td>\n",
       "      <td>Santa Maria da Feira</td>\n",
       "      <td>Rio Meão</td>\n",
       "      <td>Casais de Baixo</td>\n",
       "      <td>10921</td>\n",
       "      <td>161792</td>\n",
       "      <td>...</td>\n",
       "      <td>1</td>\n",
       "      <td>0</td>\n",
       "      <td>0</td>\n",
       "      <td>0</td>\n",
       "      <td>NaN</td>\n",
       "      <td>NaN</td>\n",
       "      <td>NaN</td>\n",
       "      <td>NaN</td>\n",
       "      <td>Entre Douro e Minho</td>\n",
       "      <td>AMP e Entre Douro e Vouga</td>\n",
       "    </tr>\n",
       "  </tbody>\n",
       "</table>\n",
       "<p>23175 rows × 38 columns</p>\n",
       "</div>"
      ],
      "text/plain": [
       "        Ano Codigo SGIF    Codigo_ANPC          Tipo          Distrito  \\\n",
       "0      2015    DM315252  2015160007544     Florestal  Viana do Castelo   \n",
       "1      2015    DM215305  2015130043758     Florestal             Porto   \n",
       "2      2015    DM415293  2015030021973     Florestal             Braga   \n",
       "3      2015    DM315261  2015160007563  Falso Alarme  Viana do Castelo   \n",
       "4      2015    BL115321  2015180015874      Agrícola             Viseu   \n",
       "...     ...         ...            ...           ...               ...   \n",
       "23170  2015   DM4151671  2015030056919     Florestal             Braga   \n",
       "23171  2015   BL1151018  2015180041997     Florestal             Viseu   \n",
       "23172  2015   BL3151227  2015010055691  Falso Alarme            Aveiro   \n",
       "23173  2015   DM2153226  2015130115988     Florestal             Porto   \n",
       "23174  2015   BL3151229  2015010055723  Falso Alarme            Aveiro   \n",
       "\n",
       "                   Concelho           Freguesia  \\\n",
       "0             Ponte de Lima           Serdedelo   \n",
       "1        Marco de Canaveses  Vila Boa de Quires   \n",
       "2                Vila Verde                Lage   \n",
       "3             Ponte de Lima            Boalhosa   \n",
       "4              Castro Daire        Castro Daire   \n",
       "...                     ...                 ...   \n",
       "23170                  Fafe                Fafe   \n",
       "23171               Cinfães             Cinfães   \n",
       "23172  Santa Maria da Feira               Feira   \n",
       "23173     Paços de Ferreira   Paços de Ferreira   \n",
       "23174  Santa Maria da Feira            Rio Meão   \n",
       "\n",
       "                                 Local     INE       x  ...  Falso Alarme  \\\n",
       "0          VALE DE TROVELA (SERDEDELO)  160746  167814  ...             0   \n",
       "1                        LUGAR DO FOFO  130731  193731  ...             0   \n",
       "2                RUA PROF ABEL MADEIRA   31323  172162  ...             0   \n",
       "3      J. DEPOSITOS DE AGUA (BOALHOSA)  160709  171291  ...             1   \n",
       "4          Farejinhas - Bº das Queirós  180304  217299  ...             0   \n",
       "...                                ...     ...     ...  ...           ...   \n",
       "23170                   RUA DE FORNELO   30709  196478  ...             0   \n",
       "23171                        Ventuzela  180403  203110  ...             0   \n",
       "23172              avenida 25 de abril   10906  164395  ...             1   \n",
       "23173           Lugar alto das Cavadas  130912  180666  ...             0   \n",
       "23174                  Casais de Baixo   10921  161792  ...             1   \n",
       "\n",
       "      Fogacho Incendio Agricola Perimetro  APS  Causa      TipoCausa  \\\n",
       "0           0        1        0       NaN  NaN  122.0     Negligente   \n",
       "1           0        1        0       NaN  NaN  122.0     Negligente   \n",
       "2           1        0        0       NaN  NaN   60.0   Desconhecida   \n",
       "3           0        0        0       NaN  NaN  630.0   Desconhecida   \n",
       "4           1        0        0       NaN  NaN  630.0   Desconhecida   \n",
       "...       ...      ...      ...       ...  ...    ...            ...   \n",
       "23170       1        0        0       NaN  NaN   60.0   Desconhecida   \n",
       "23171       0        1        0       NaN  NaN  125.0     Negligente   \n",
       "23172       0        0        0       NaN  NaN    NaN            NaN   \n",
       "23173       1        0        0       NaN  NaN  711.0  Reacendimento   \n",
       "23174       0        0        0       NaN  NaN    NaN            NaN   \n",
       "\n",
       "               Região PROF                        UGF  \n",
       "0      Entre Douro e Minho                 Alto Minho  \n",
       "1      Entre Douro e Minho                     Tâmega  \n",
       "2      Entre Douro e Minho                Baixo Minho  \n",
       "3      Entre Douro e Minho                 Alto Minho  \n",
       "4            Beira Litoral                 Dão Lafões  \n",
       "...                    ...                        ...  \n",
       "23170  Entre Douro e Minho                Baixo Minho  \n",
       "23171  Entre Douro e Minho                     Tâmega  \n",
       "23172  Entre Douro e Minho  AMP e Entre Douro e Vouga  \n",
       "23173  Entre Douro e Minho                     Tâmega  \n",
       "23174  Entre Douro e Minho  AMP e Entre Douro e Vouga  \n",
       "\n",
       "[23175 rows x 38 columns]"
      ]
     },
     "execution_count": 2,
     "metadata": {},
     "output_type": "execute_result"
    }
   ],
   "source": [
    "df = pd.read_excel('Lista Incendios_2015.xlsx')\n",
    "df"
   ]
  },
  {
   "cell_type": "code",
   "execution_count": 3,
   "id": "048576ab",
   "metadata": {},
   "outputs": [
    {
     "name": "stderr",
     "output_type": "stream",
     "text": [
      "/var/folders/zb/q2q0b14j1wx8tdztc_894g9c0000gn/T/ipykernel_64880/1588736134.py:30: SettingWithCopyWarning: \n",
      "A value is trying to be set on a copy of a slice from a DataFrame.\n",
      "Try using .loc[row_indexer,col_indexer] = value instead\n",
      "\n",
      "See the caveats in the documentation: https://pandas.pydata.org/pandas-docs/stable/user_guide/indexing.html#returning-a-view-versus-a-copy\n",
      "  df['TempoExtincao'] = df['TempoExtincao'].apply(lambda x: pd.to_timedelta(x)).copy()\n",
      "/var/folders/zb/q2q0b14j1wx8tdztc_894g9c0000gn/T/ipykernel_64880/1588736134.py:31: SettingWithCopyWarning: \n",
      "A value is trying to be set on a copy of a slice from a DataFrame.\n",
      "Try using .loc[row_indexer,col_indexer] = value instead\n",
      "\n",
      "See the caveats in the documentation: https://pandas.pydata.org/pandas-docs/stable/user_guide/indexing.html#returning-a-view-versus-a-copy\n",
      "  df['TempoIntervencao'] = df['TempoIntervencao'].apply(lambda x: pd.to_timedelta(x)).copy()\n"
     ]
    }
   ],
   "source": [
    "# Para apagar registos com NULL values nas colunas mencinadas\n",
    "df = df.dropna(how='any', subset=['x', 'y', 'lat', 'lon', 'DataAlerta', 'HoraAlerta', 'DataExtincao', \n",
    "                                  'HoraExtincao', 'Data1Intervencao', 'Hora1Intervencao'], axis=0)\n",
    "\n",
    "tempo_intervencao = [None] * (len(df.index))\n",
    "tempo_extincao = [None] * (len(df.index))\n",
    "litoralidade = [None] * (len(df.index))\n",
    "for i in range(len(df.index)):\n",
    "    long = str(df.iloc[i,12])\n",
    "    if long[0:7] >= '8:10:0':\n",
    "        litoralidade[i] = 'Litoral'\n",
    "    if long[0:7] < '8:10:0':\n",
    "        litoralidade[i] = 'Interior'\n",
    "    if pd.isna(df.iloc[i,13]) or pd.isna(df.iloc[i,14]) or pd.isna(df.iloc[i,17]) or pd.isna(df.iloc[i,18]):\n",
    "        tempo_intervencao[i] = ('Cannot calcule')\n",
    "    if pd.isna(df.iloc[i,15]) or pd.isna(df.iloc[i,16]) or pd.isna(df.iloc[i,17]) or pd.isna(df.iloc[i,18]):\n",
    "        tempo_extincao[i] = ('Cannot calcule')\n",
    "    else: \n",
    "        data_alerta = parser.parse(str(df.iloc[i,13][:10]) + ' ' + str(df.iloc[i,14]))\n",
    "        data_int = parser.parse(str(df.iloc[i,17][:10]) + ' ' + str(df.iloc[i,18]))\n",
    "        data_ext = parser.parse(str(df.iloc[i,15][:10]) + ' ' + str(df.iloc[i,16]))\n",
    "        tempo_intervencao[i] = (str(abs(data_int - data_alerta)))\n",
    "        tempo_extincao[i] = (str(abs(data_ext - data_int)))\n",
    "        \n",
    "df.insert(15, \"TempoExtincao\", tempo_extincao , True)\n",
    "df.insert(16, \"TempoIntervencao\", tempo_intervencao , True)\n",
    "df.insert(17, \"Litoralidade\", litoralidade , True)\n",
    "\n",
    "# Para converter as colunas para datetime:\n",
    "df['TempoExtincao'] = df['TempoExtincao'].apply(lambda x: pd.to_timedelta(x)).copy()\n",
    "df['TempoIntervencao'] = df['TempoIntervencao'].apply(lambda x: pd.to_timedelta(x)).copy()\n",
    "\n"
   ]
  },
  {
   "cell_type": "code",
   "execution_count": 4,
   "id": "0ea786b5",
   "metadata": {},
   "outputs": [
    {
     "data": {
      "text/html": [
       "<div>\n",
       "<style scoped>\n",
       "    .dataframe tbody tr th:only-of-type {\n",
       "        vertical-align: middle;\n",
       "    }\n",
       "\n",
       "    .dataframe tbody tr th {\n",
       "        vertical-align: top;\n",
       "    }\n",
       "\n",
       "    .dataframe thead th {\n",
       "        text-align: right;\n",
       "    }\n",
       "</style>\n",
       "<table border=\"1\" class=\"dataframe\">\n",
       "  <thead>\n",
       "    <tr style=\"text-align: right;\">\n",
       "      <th></th>\n",
       "      <th>TempoExtincao</th>\n",
       "      <th>TempoIntervencao</th>\n",
       "      <th>Litoralidade</th>\n",
       "    </tr>\n",
       "  </thead>\n",
       "  <tbody>\n",
       "    <tr>\n",
       "      <th>0</th>\n",
       "      <td>0 days 00:59:00</td>\n",
       "      <td>0 days 00:09:00</td>\n",
       "      <td>Litoral</td>\n",
       "    </tr>\n",
       "    <tr>\n",
       "      <th>1</th>\n",
       "      <td>0 days 01:31:00</td>\n",
       "      <td>0 days 00:06:00</td>\n",
       "      <td>Litoral</td>\n",
       "    </tr>\n",
       "    <tr>\n",
       "      <th>2</th>\n",
       "      <td>0 days 00:35:00</td>\n",
       "      <td>0 days 00:10:00</td>\n",
       "      <td>Litoral</td>\n",
       "    </tr>\n",
       "    <tr>\n",
       "      <th>3</th>\n",
       "      <td>0 days 01:10:00</td>\n",
       "      <td>0 days 00:15:00</td>\n",
       "      <td>Litoral</td>\n",
       "    </tr>\n",
       "    <tr>\n",
       "      <th>4</th>\n",
       "      <td>0 days 00:45:00</td>\n",
       "      <td>0 days 00:05:00</td>\n",
       "      <td>Interior</td>\n",
       "    </tr>\n",
       "    <tr>\n",
       "      <th>...</th>\n",
       "      <td>...</td>\n",
       "      <td>...</td>\n",
       "      <td>...</td>\n",
       "    </tr>\n",
       "    <tr>\n",
       "      <th>23170</th>\n",
       "      <td>0 days 00:55:00</td>\n",
       "      <td>0 days 00:10:00</td>\n",
       "      <td>Litoral</td>\n",
       "    </tr>\n",
       "    <tr>\n",
       "      <th>23171</th>\n",
       "      <td>0 days 04:37:00</td>\n",
       "      <td>0 days 00:13:00</td>\n",
       "      <td>Litoral</td>\n",
       "    </tr>\n",
       "    <tr>\n",
       "      <th>23172</th>\n",
       "      <td>0 days 00:45:00</td>\n",
       "      <td>0 days 00:05:00</td>\n",
       "      <td>Litoral</td>\n",
       "    </tr>\n",
       "    <tr>\n",
       "      <th>23173</th>\n",
       "      <td>0 days 02:15:00</td>\n",
       "      <td>0 days 00:05:00</td>\n",
       "      <td>Litoral</td>\n",
       "    </tr>\n",
       "    <tr>\n",
       "      <th>23174</th>\n",
       "      <td>0 days 01:51:00</td>\n",
       "      <td>0 days 00:03:00</td>\n",
       "      <td>Litoral</td>\n",
       "    </tr>\n",
       "  </tbody>\n",
       "</table>\n",
       "<p>21948 rows × 3 columns</p>\n",
       "</div>"
      ],
      "text/plain": [
       "        TempoExtincao TempoIntervencao Litoralidade\n",
       "0     0 days 00:59:00  0 days 00:09:00      Litoral\n",
       "1     0 days 01:31:00  0 days 00:06:00      Litoral\n",
       "2     0 days 00:35:00  0 days 00:10:00      Litoral\n",
       "3     0 days 01:10:00  0 days 00:15:00      Litoral\n",
       "4     0 days 00:45:00  0 days 00:05:00     Interior\n",
       "...               ...              ...          ...\n",
       "23170 0 days 00:55:00  0 days 00:10:00      Litoral\n",
       "23171 0 days 04:37:00  0 days 00:13:00      Litoral\n",
       "23172 0 days 00:45:00  0 days 00:05:00      Litoral\n",
       "23173 0 days 02:15:00  0 days 00:05:00      Litoral\n",
       "23174 0 days 01:51:00  0 days 00:03:00      Litoral\n",
       "\n",
       "[21948 rows x 3 columns]"
      ]
     },
     "execution_count": 4,
     "metadata": {},
     "output_type": "execute_result"
    }
   ],
   "source": [
    "df.iloc[:,15:18]"
   ]
  },
  {
   "cell_type": "code",
   "execution_count": 5,
   "id": "47f3ca8b",
   "metadata": {},
   "outputs": [],
   "source": [
    "reacendimentos = df.loc[df['TipoCausa'] == 'Reacendimento']\n",
    "reacendimentos = reacendimentos[reacendimentos.Tipo != 'Falso Alarme']\n",
    "nao_reacendimentos = df.loc[df['TipoCausa'] != 'Reacendimento']\n",
    "nao_reacendimentos = nao_reacendimentos[nao_reacendimentos.Tipo != 'Falso Alarme']\n",
    "a_reacendimentos = reacendimentos.iloc[:,23:28]\n",
    "a_nao_reacendimentos = nao_reacendimentos.iloc[:,23:28]\n",
    "reacendimentos['Count'] = 1\n",
    "group_reac = reacendimentos.groupby('Distrito').count()\n",
    "maiores_reac = group_reac.loc[group_reac['Count'] > 60].index\n",
    "menores_reac = group_reac.loc[group_reac['Count'] == 1].index\n",
    "ls_maiores_reac = []\n",
    "ls_menores_reac = []\n",
    "for i in range (len(reacendimentos.index)):\n",
    "    if reacendimentos.iloc[i,5] in maiores_reac:\n",
    "        ls_maiores_reac.append(reacendimentos.iloc[i])\n",
    "    if reacendimentos.iloc[i,5] in menores_reac:\n",
    "        ls_menores_reac.append(reacendimentos.iloc[i])\n",
    "        \n",
    "df_maiores_reac = pd.DataFrame(ls_maiores_reac)\n",
    "df_menores_reac = pd.DataFrame(ls_menores_reac)"
   ]
  },
  {
   "cell_type": "code",
   "execution_count": 6,
   "id": "5e367724",
   "metadata": {},
   "outputs": [
    {
     "name": "stderr",
     "output_type": "stream",
     "text": [
      "/var/folders/zb/q2q0b14j1wx8tdztc_894g9c0000gn/T/ipykernel_64880/1684990271.py:4: FutureWarning: casting timedelta64[ns] values to int64 with .astype(...) is deprecated and will raise in a future version. Use .view(...) instead.\n",
      "  reacendimentos_slim_delta['TempoExtincao'] = reacendimentos_slim_delta['TempoExtincao'].astype('int64') // 10**9\n",
      "/var/folders/zb/q2q0b14j1wx8tdztc_894g9c0000gn/T/ipykernel_64880/1684990271.py:5: FutureWarning: casting timedelta64[ns] values to int64 with .astype(...) is deprecated and will raise in a future version. Use .view(...) instead.\n",
      "  reacendimentos_slim_delta['TempoIntervencao'] = reacendimentos_slim_delta['TempoIntervencao'].astype('int64') // 10**9\n"
     ]
    },
    {
     "data": {
      "text/html": [
       "<div>\n",
       "<style scoped>\n",
       "    .dataframe tbody tr th:only-of-type {\n",
       "        vertical-align: middle;\n",
       "    }\n",
       "\n",
       "    .dataframe tbody tr th {\n",
       "        vertical-align: top;\n",
       "    }\n",
       "\n",
       "    .dataframe thead th {\n",
       "        text-align: right;\n",
       "    }\n",
       "</style>\n",
       "<table border=\"1\" class=\"dataframe\">\n",
       "  <thead>\n",
       "    <tr style=\"text-align: right;\">\n",
       "      <th></th>\n",
       "      <th>Tipo</th>\n",
       "      <th>Litoralidade</th>\n",
       "      <th>TempoExtincao</th>\n",
       "      <th>Distrito</th>\n",
       "      <th>TempoIntervencao</th>\n",
       "      <th>AA_Total (pov+mato+agric) (ha)</th>\n",
       "    </tr>\n",
       "  </thead>\n",
       "  <tbody>\n",
       "    <tr>\n",
       "      <th>5</th>\n",
       "      <td>Florestal</td>\n",
       "      <td>Litoral</td>\n",
       "      <td>27300</td>\n",
       "      <td>Braga</td>\n",
       "      <td>720</td>\n",
       "      <td>1.500</td>\n",
       "    </tr>\n",
       "    <tr>\n",
       "      <th>15</th>\n",
       "      <td>Florestal</td>\n",
       "      <td>Interior</td>\n",
       "      <td>3000</td>\n",
       "      <td>Vila Real</td>\n",
       "      <td>1200</td>\n",
       "      <td>0.100</td>\n",
       "    </tr>\n",
       "    <tr>\n",
       "      <th>43</th>\n",
       "      <td>Florestal</td>\n",
       "      <td>Litoral</td>\n",
       "      <td>3480</td>\n",
       "      <td>Braga</td>\n",
       "      <td>240</td>\n",
       "      <td>0.050</td>\n",
       "    </tr>\n",
       "    <tr>\n",
       "      <th>145</th>\n",
       "      <td>Florestal</td>\n",
       "      <td>Interior</td>\n",
       "      <td>13980</td>\n",
       "      <td>Viseu</td>\n",
       "      <td>1200</td>\n",
       "      <td>0.100</td>\n",
       "    </tr>\n",
       "    <tr>\n",
       "      <th>237</th>\n",
       "      <td>Florestal</td>\n",
       "      <td>Litoral</td>\n",
       "      <td>10440</td>\n",
       "      <td>Porto</td>\n",
       "      <td>300</td>\n",
       "      <td>0.200</td>\n",
       "    </tr>\n",
       "    <tr>\n",
       "      <th>...</th>\n",
       "      <td>...</td>\n",
       "      <td>...</td>\n",
       "      <td>...</td>\n",
       "      <td>...</td>\n",
       "      <td>...</td>\n",
       "      <td>...</td>\n",
       "    </tr>\n",
       "    <tr>\n",
       "      <th>23130</th>\n",
       "      <td>Florestal</td>\n",
       "      <td>Interior</td>\n",
       "      <td>8280</td>\n",
       "      <td>Viseu</td>\n",
       "      <td>720</td>\n",
       "      <td>0.045</td>\n",
       "    </tr>\n",
       "    <tr>\n",
       "      <th>23143</th>\n",
       "      <td>Florestal</td>\n",
       "      <td>Litoral</td>\n",
       "      <td>3060</td>\n",
       "      <td>Viana do Castelo</td>\n",
       "      <td>840</td>\n",
       "      <td>0.100</td>\n",
       "    </tr>\n",
       "    <tr>\n",
       "      <th>23145</th>\n",
       "      <td>Florestal</td>\n",
       "      <td>Litoral</td>\n",
       "      <td>8700</td>\n",
       "      <td>Porto</td>\n",
       "      <td>360</td>\n",
       "      <td>0.300</td>\n",
       "    </tr>\n",
       "    <tr>\n",
       "      <th>23167</th>\n",
       "      <td>Florestal</td>\n",
       "      <td>Litoral</td>\n",
       "      <td>10620</td>\n",
       "      <td>Porto</td>\n",
       "      <td>960</td>\n",
       "      <td>0.070</td>\n",
       "    </tr>\n",
       "    <tr>\n",
       "      <th>23173</th>\n",
       "      <td>Florestal</td>\n",
       "      <td>Litoral</td>\n",
       "      <td>8100</td>\n",
       "      <td>Porto</td>\n",
       "      <td>300</td>\n",
       "      <td>0.050</td>\n",
       "    </tr>\n",
       "  </tbody>\n",
       "</table>\n",
       "<p>1508 rows × 6 columns</p>\n",
       "</div>"
      ],
      "text/plain": [
       "            Tipo Litoralidade  TempoExtincao          Distrito  \\\n",
       "5      Florestal      Litoral          27300             Braga   \n",
       "15     Florestal     Interior           3000         Vila Real   \n",
       "43     Florestal      Litoral           3480             Braga   \n",
       "145    Florestal     Interior          13980             Viseu   \n",
       "237    Florestal      Litoral          10440             Porto   \n",
       "...          ...          ...            ...               ...   \n",
       "23130  Florestal     Interior           8280             Viseu   \n",
       "23143  Florestal      Litoral           3060  Viana do Castelo   \n",
       "23145  Florestal      Litoral           8700             Porto   \n",
       "23167  Florestal      Litoral          10620             Porto   \n",
       "23173  Florestal      Litoral           8100             Porto   \n",
       "\n",
       "       TempoIntervencao  AA_Total (pov+mato+agric) (ha)  \n",
       "5                   720                           1.500  \n",
       "15                 1200                           0.100  \n",
       "43                  240                           0.050  \n",
       "145                1200                           0.100  \n",
       "237                 300                           0.200  \n",
       "...                 ...                             ...  \n",
       "23130               720                           0.045  \n",
       "23143               840                           0.100  \n",
       "23145               360                           0.300  \n",
       "23167               960                           0.070  \n",
       "23173               300                           0.050  \n",
       "\n",
       "[1508 rows x 6 columns]"
      ]
     },
     "execution_count": 6,
     "metadata": {},
     "output_type": "execute_result"
    }
   ],
   "source": [
    "reacendimentos_slim = reacendimentos.loc[:,['Tipo', 'Litoralidade', 'TempoExtincao', 'Distrito',\n",
    "                                            'TempoIntervencao', 'AA_Total (pov+mato+agric) (ha)' ]]\n",
    "reacendimentos_slim_delta = reacendimentos_slim.copy()\n",
    "reacendimentos_slim_delta['TempoExtincao'] = reacendimentos_slim_delta['TempoExtincao'].astype('int64') // 10**9\n",
    "reacendimentos_slim_delta['TempoIntervencao'] = reacendimentos_slim_delta['TempoIntervencao'].astype('int64') // 10**9\n",
    "reacendimentos_slim_delta"
   ]
  },
  {
   "cell_type": "code",
   "execution_count": 18,
   "id": "18a4a837",
   "metadata": {},
   "outputs": [
    {
     "data": {
      "text/plain": [
       "Text(0, 0.5, 'Ocorrences')"
      ]
     },
     "execution_count": 18,
     "metadata": {},
     "output_type": "execute_result"
    },
    {
     "data": {
      "image/png": "[encoded data removed]",
      "text/plain": [
       "<Figure size 1152x576 with 1 Axes>"
      ]
     },
     "metadata": {
      "needs_background": "light"
     },
     "output_type": "display_data"
    }
   ],
   "source": [
    "matplotlib.rcParams['figure.figsize'] = [16, 8]\n",
    "a = reacendimentos.groupby(['Distrito']).sum()['Count'].sort_values(ascending=False)\n",
    "a.plot.bar()\n",
    "matplotlib.pyplot.title('Ocorrences by district')\n",
    "matplotlib.pyplot.xlabel('Districts')\n",
    "matplotlib.pyplot.ylabel('Ocorrences')"
   ]
  },
  {
   "cell_type": "code",
   "execution_count": 8,
   "id": "971a3286",
   "metadata": {},
   "outputs": [
    {
     "data": {
      "text/plain": [
       "Text(0, 0.5, 'Ocorrences')"
      ]
     },
     "execution_count": 8,
     "metadata": {},
     "output_type": "execute_result"
    },
    {
     "data": {
      "image/png": "[encoded data removed]",
      "text/plain": [
       "<Figure size 432x288 with 1 Axes>"
      ]
     },
     "metadata": {
      "needs_background": "light"
     },
     "output_type": "display_data"
    }
   ],
   "source": [
    "a = reacendimentos.groupby(['Litoralidade']).sum()['Count'].sort_values(ascending=False)\n",
    "a.plot.bar()\n",
    "matplotlib.pyplot.title('Ocorrences by Litoralidade')\n",
    "matplotlib.pyplot.xlabel('Litoralidade')\n",
    "matplotlib.pyplot.ylabel('Ocorrences')"
   ]
  },
  {
   "cell_type": "code",
   "execution_count": 9,
   "id": "dc39da0b",
   "metadata": {},
   "outputs": [
    {
     "data": {
      "text/plain": [
       "Text(0, 0.5, 'AA_Total (ha)')"
      ]
     },
     "execution_count": 9,
     "metadata": {},
     "output_type": "execute_result"
    },
    {
     "data": {
      "image/png": "[encoded data removed]",
      "text/plain": [
       "<Figure size 432x288 with 1 Axes>"
      ]
     },
     "metadata": {
      "needs_background": "light"
     },
     "output_type": "display_data"
    }
   ],
   "source": [
    "x = reacendimentos.groupby(['Distrito']).sum()['AA_Total (pov+mato+agric) (ha)'].sort_values(ascending=False)\n",
    "x.plot.bar()\n",
    "matplotlib.pyplot.title('AA_Total by District')\n",
    "matplotlib.pyplot.xlabel('District')\n",
    "matplotlib.pyplot.ylabel('AA_Total (ha)')"
   ]
  },
  {
   "cell_type": "code",
   "execution_count": 10,
   "id": "08af955c",
   "metadata": {},
   "outputs": [
    {
     "data": {
      "text/plain": [
       "Text(0, 0.5, 'AA_Total (ha)')"
      ]
     },
     "execution_count": 10,
     "metadata": {},
     "output_type": "execute_result"
    },
    {
     "data": {
      "image/png": "[encoded data removed]",
      "text/plain": [
       "<Figure size 432x288 with 1 Axes>"
      ]
     },
     "metadata": {
      "needs_background": "light"
     },
     "output_type": "display_data"
    }
   ],
   "source": [
    "x = reacendimentos.groupby(['Litoralidade']).sum()['AA_Total (pov+mato+agric) (ha)'].sort_values(ascending=False)\n",
    "x.plot.bar()\n",
    "matplotlib.pyplot.title('AA_Total by Litoralidade')\n",
    "matplotlib.pyplot.xlabel('Litoralidade')\n",
    "matplotlib.pyplot.ylabel('AA_Total (ha)')"
   ]
  },
  {
   "cell_type": "code",
   "execution_count": 11,
   "id": "ab4deb36",
   "metadata": {},
   "outputs": [
    {
     "data": {
      "text/plain": [
       "Text(0, 0.5, 'District')"
      ]
     },
     "execution_count": 11,
     "metadata": {},
     "output_type": "execute_result"
    },
    {
     "data": {
      "image/png": "[encoded data removed]",
      "text/plain": [
       "<Figure size 432x288 with 1 Axes>"
      ]
     },
     "metadata": {
      "needs_background": "light"
     },
     "output_type": "display_data"
    }
   ],
   "source": [
    "y = reacendimentos_slim_delta.groupby(['Distrito']).sum()['TempoIntervencao'].sort_values(ascending=False)\n",
    "y.plot.bar()\n",
    "matplotlib.pyplot.title('TempoIntervencao by District')\n",
    "matplotlib.pyplot.xlabel('TempoIntervencao (s)')\n",
    "matplotlib.pyplot.ylabel('District')"
   ]
  },
  {
   "cell_type": "code",
   "execution_count": 17,
   "id": "53e0d479",
   "metadata": {},
   "outputs": [
    {
     "data": {
      "text/plain": [
       "Text(0, 0.5, 'Litoralidade')"
      ]
     },
     "execution_count": 17,
     "metadata": {},
     "output_type": "execute_result"
    },
    {
     "data": {
      "image/png": "[encoded data removed]",
      "text/plain": [
       "<Figure size 1152x576 with 1 Axes>"
      ]
     },
     "metadata": {
      "needs_background": "light"
     },
     "output_type": "display_data"
    }
   ],
   "source": [
    "y = reacendimentos_slim_delta.groupby(['Litoralidade']).sum()['TempoIntervencao'].sort_values(ascending=False)\n",
    "y.plot.bar()\n",
    "matplotlib.pyplot.title('TempoIntervencao by Litoralidade')\n",
    "matplotlib.pyplot.xlabel('TempoIntervencao (s)')\n",
    "matplotlib.pyplot.ylabel('Litoralidade')"
   ]
  },
  {
   "cell_type": "code",
   "execution_count": 13,
   "id": "fe9f14d9",
   "metadata": {},
   "outputs": [
    {
     "data": {
      "text/plain": [
       "Text(0, 0.5, 'Litoralidade')"
      ]
     },
     "execution_count": 13,
     "metadata": {},
     "output_type": "execute_result"
    },
    {
     "data": {
      "image/png": "[encoded data removed]",
      "text/plain": [
       "<Figure size 1152x576 with 1 Axes>"
      ]
     },
     "metadata": {
      "needs_background": "light"
     },
     "output_type": "display_data"
    }
   ],
   "source": [
    "z = reacendimentos_slim_delta.groupby(['Distrito']).sum()['TempoExtincao'].sort_values(ascending=False)\n",
    "z.plot.bar()\n",
    "matplotlib.pyplot.title('TempoExtincao by Litoralidade')\n",
    "matplotlib.pyplot.xlabel('TempoIntervencao (s)')\n",
    "matplotlib.pyplot.ylabel('Litoralidade')"
   ]
  },
  {
   "cell_type": "code",
   "execution_count": 16,
   "id": "ccaf9911",
   "metadata": {},
   "outputs": [
    {
     "data": {
      "text/plain": [
       "Text(0, 0.5, 'Litoralidade')"
      ]
     },
     "execution_count": 16,
     "metadata": {},
     "output_type": "execute_result"
    },
    {
     "data": {
      "image/png": "[encoded data removed]",
      "text/plain": [
       "<Figure size 1152x576 with 1 Axes>"
      ]
     },
     "metadata": {
      "needs_background": "light"
     },
     "output_type": "display_data"
    }
   ],
   "source": [
    "z = reacendimentos_slim_delta.groupby(['Litoralidade']).sum()['TempoExtincao'].sort_values(ascending=False)\n",
    "z.plot.bar()\n",
    "matplotlib.pyplot.title('TempoExtincao by Litoralidade')\n",
    "matplotlib.pyplot.xlabel('TempoExtincao (s)')\n",
    "matplotlib.pyplot.ylabel('Litoralidade')"
   ]
  },
  {
   "cell_type": "code",
   "execution_count": null,
   "id": "89fbe2df",
   "metadata": {},
   "outputs": [],
   "source": [
    "maiores_reac = reacendimentos.groupby('Concelho').count()\n",
    "maiores_reac.describe()"
   ]
  },
  {
   "cell_type": "code",
   "execution_count": null,
   "id": "9aff2123",
   "metadata": {},
   "outputs": [],
   "source": [
    "reacendimentos_slim = reacendimentos.loc[:,['Tipo', 'Litoralidade', 'TempoExtincao', 'Distrito',\n",
    "                                            'TempoIntervencao', 'AA_Total (pov+mato+agric) (ha)' ]]\n",
    "# AA_m2 = reacendimentos['AA_Total (pov+mato+agric) (ha)'].apply(lambda x: x*10000)\n",
    "# reacendimentos_slim.insert(4, \"AA_m2\", AA_m2 , True)\n",
    "reacendimentos_slim = reacendimentos_slim[reacendimentos_slim.Tipo != 'Falso Alarme']\n",
    "\n",
    "reacendimentos_slim.head()"
   ]
  },
  {
   "cell_type": "code",
   "execution_count": null,
   "id": "c02c65b0",
   "metadata": {},
   "outputs": [],
   "source": [
    "#Se for necessário trabalhar em segundos\n",
    "\n",
    "reacendimentos_slim_delta = reacendimentos_slim.copy()\n",
    "reacendimentos_slim_delta['TempoExtincao'] = reacendimentos_slim_delta['TempoExtincao'].astype('int64') // 10**9\n",
    "reacendimentos_slim_delta['TempoIntervencao'] = reacendimentos_slim_delta['TempoIntervencao'].astype('int64') // 10**9\n",
    "reacendimentos_slim_delta"
   ]
  },
  {
   "cell_type": "markdown",
   "id": "379a25d9",
   "metadata": {},
   "source": [
    "<h3> Statistical summary for quantitative data"
   ]
  },
  {
   "cell_type": "code",
   "execution_count": null,
   "id": "19aaefe8",
   "metadata": {},
   "outputs": [],
   "source": [
    "stat_summary = reacendimentos_slim_delta.describe()\n",
    "stat_summary.loc['range'] = stat_summary.loc['max'] - stat_summary.loc['min']\n",
    "stat_summary.loc['IQR'] = stat_summary.loc['75%'] - stat_summary.loc['25%'] # appending interquartile range\n",
    "stat_summary.loc['G.M.'] = stat.gmean(reacendimentos_slim_delta.iloc[:,2:], axis=0)\n",
    "stat_summary.loc['H.M.'] = stat.hmean(reacendimentos_slim_delta.iloc[:,2:], axis=0)\n",
    "mode = reacendimentos_slim_delta.mode(numeric_only=True, axis=0)\n",
    "stat_summary.loc['var'] = reacendimentos_slim_delta.var(numeric_only=True, axis=0)\n",
    "stat_summary.loc['median'] = reacendimentos_slim_delta.median( numeric_only=True, axis=0)\n",
    "stat_summary.loc['skew'] = reacendimentos_slim_delta.skew(numeric_only=True, axis=0)\n",
    "stat_summary.loc['kurt'] =  reacendimentos_slim_delta.kurt(numeric_only=True, axis=0)\n",
    "stat_summary.loc['mad'] = reacendimentos_slim_delta.mad(axis=0)\n",
    "\n",
    "stat_summary = pd.concat([stat_summary, mode], axis=0)\n",
    "stat_summary.rename(index ={0: 'mode'}, inplace = True)\n",
    "#for results in seconds\n",
    "stat_summary\n"
   ]
  },
  {
   "cell_type": "code",
   "execution_count": null,
   "id": "f8e6a7a8",
   "metadata": {},
   "outputs": [],
   "source": [
    "#Results in timedelta\n",
    "stat_summary_final = stat_summary.copy()\n",
    "stat_summary_final['TempoExtincao'] = stat_summary['TempoExtincao'].apply(lambda x: x*10**9).copy()\n",
    "stat_summary_final['TempoIntervencao'] =stat_summary['TempoIntervencao'].apply(lambda x: x*10**9).copy()\n",
    "\n",
    "stat_summary_final_delta = stat_summary_final.copy()\n",
    "stat_summary_final_delta['TempoExtincao'] = stat_summary_final_delta['TempoExtincao'].apply(lambda x: pd.to_timedelta(x)).copy()\n",
    "stat_summary_final_delta['TempoIntervencao'] = stat_summary_final_delta['TempoIntervencao'].apply(lambda x: pd.to_timedelta(x)).copy()\n",
    "# stat_summary_final.delta\n",
    "\n",
    "stat_summary_final_delta"
   ]
  },
  {
   "cell_type": "markdown",
   "id": "8fc4018b",
   "metadata": {},
   "source": [
    "<h3>Plotting histogram and boxplot for AA"
   ]
  },
  {
   "cell_type": "code",
   "execution_count": null,
   "id": "87940d0c",
   "metadata": {},
   "outputs": [],
   "source": [
    "plot_AA = reacendimentos_slim.hist(column='AA_Total (pov+mato+agric) (ha)', bins = 100, edgecolor='black', color = 'lightcoral', \n",
    "                          linewidth=1)\n",
    "# Customize grid\n",
    "matplotlib.pyplot.grid(color='black', linestyle=':')\n",
    "matplotlib.pyplot.title('AA_T_20')\n",
    "# matplotlib.axes.Axes.set_xticks(np.arange(0, 11, 0.5))"
   ]
  },
  {
   "cell_type": "code",
   "execution_count": null,
   "id": "8580f074",
   "metadata": {},
   "outputs": [],
   "source": [
    "# Adjusting data for log\n",
    "log_reacendimentos_slim = reacendimentos_slim\n",
    "log_reacendimentos_slim['log_AA'] = np.log1p(reacendimentos_slim['AA_Total (pov+mato+agric) (ha)'])\n",
    "log_reacendimentos_slim['log_AA'].hist(bins = 100, edgecolor='black', color = 'lightcoral', \n",
    "                          linewidth=1)\n",
    "\n",
    "matplotlib.pyplot.grid(color='black', linestyle=':')\n",
    "matplotlib.pyplot.title('AA_T_data log x+1')\n",
    "# matplotlib.axes.Axes.set_xticks(np.arange(0, 11, 0.5))\n",
    "\n",
    "matplotlib.pyplot.yscale('log')"
   ]
  },
  {
   "cell_type": "code",
   "execution_count": null,
   "id": "b11f9d7f",
   "metadata": {},
   "outputs": [],
   "source": [
    "#Adjusting scale to log \n",
    "\n",
    "reacendimentos_slim['AA_Total (pov+mato+agric) (ha)'].hist(bins = 100, edgecolor='white', color = 'lightcoral', \n",
    "                          linewidth=1, log=True)\n",
    "matplotlib.pyplot.grid(color='black', linestyle=':')\n",
    "matplotlib.pyplot.title('AA_T_x_log scale')\n",
    "# matplotlib.axes.Axes.set_xticks(np.arange(0, 11, 0.5))\n",
    "\n",
    "matplotlib.pyplot.xscale('log', base=10)"
   ]
  },
  {
   "cell_type": "code",
   "execution_count": null,
   "id": "de6e5692",
   "metadata": {},
   "outputs": [],
   "source": [
    "reacendimentos_slim['AA_Total (pov+mato+agric) (ha)'].hist(bins = 10, range=[0,10], edgecolor='black', color = 'lightcoral', \n",
    "                          linewidth=1)\n",
    "matplotlib.pyplot.grid(color='white', linestyle=':')\n",
    "matplotlib.pyplot.title('AA_T_0 to 1 ha')\n",
    "# matplotlib.axes.Axes.set_xticks(np.arange(0, 11, 0.5))\n",
    "\n",
    "# matplotlib.pyplot.xscale('log', base=10)"
   ]
  },
  {
   "cell_type": "code",
   "execution_count": null,
   "id": "8aa9c70c",
   "metadata": {},
   "outputs": [],
   "source": [
    "reacendimentos_slim['AA_Total (pov+mato+agric) (ha)'].hist(bins = 1000, range=[10,1105], edgecolor='black', color = 'lightcoral', \n",
    "                          linewidth=1)\n",
    "matplotlib.pyplot.grid(color='black', linestyle=':')\n",
    "matplotlib.pyplot.title('AA_T_0 to 1 ha')"
   ]
  },
  {
   "cell_type": "code",
   "execution_count": null,
   "id": "6992fe06",
   "metadata": {},
   "outputs": [],
   "source": [
    "fig, ax = matplotlib.pyplot.subplots()\n",
    "ax.boxplot(reacendimentos_slim['AA_Total (pov+mato+agric) (ha)'],patch_artist=True ,notch = True, flierprops=dict(color='black', markeredgecolor='black'), \n",
    "           whiskerprops=dict(color='black'), boxprops=dict(color='black', facecolor='lightcoral'), capprops=dict(color='black'))\n",
    "matplotlib.pyplot.show()"
   ]
  },
  {
   "cell_type": "code",
   "execution_count": null,
   "id": "dcf30d78",
   "metadata": {},
   "outputs": [],
   "source": [
    "# Filtering data for AA_total < max upper whisker (outliers)\n",
    "reacendimentos_slim_wpo = reacendimentos_slim_delta.rename(columns = {'AA_Total (pov+mato+agric) (ha)': 'AA_total_ha'})\n",
    "reacendimentos_slim_wpo = reacendimentos_slim_wpo[reacendimentos_slim_wpo['TempoExtincao'] < (stat_summary.loc['75%']+1.5*stat_summary.loc['IQR'])[0]]\n",
    "reacendimentos_slim_wpo = reacendimentos_slim_wpo[reacendimentos_slim_wpo['TempoIntervencao'] < (stat_summary.loc['75%']+1.5*stat_summary.loc['IQR'])[1]]\n",
    "reacendimentos_slim_wpo = reacendimentos_slim_wpo[reacendimentos_slim_wpo['AA_total_ha'] < (stat_summary.loc['75%']+1.5*stat_summary.loc['IQR'])[2]]\n"
   ]
  },
  {
   "cell_type": "code",
   "execution_count": null,
   "id": "545d55e3",
   "metadata": {},
   "outputs": [],
   "source": [
    "fig, ax = matplotlib.pyplot.subplots()\n",
    "ax.boxplot(reacendimentos_slim_wpo['AA_total_ha'], patch_artist=True ,notch = True, flierprops=dict(color='black', markeredgecolor='black'), \n",
    "           whiskerprops=dict(color='black'), boxprops=dict(color='black', facecolor='lightcoral'), capprops=dict(color='black'))\n",
    "matplotlib.pyplot.show()\n"
   ]
  },
  {
   "cell_type": "markdown",
   "id": "b8382f6c",
   "metadata": {},
   "source": [
    "<h3>Plotting histogram and boxplot for Tempo de Extinção"
   ]
  },
  {
   "cell_type": "code",
   "execution_count": null,
   "id": "2d17ce77",
   "metadata": {},
   "outputs": [],
   "source": [
    "plot_TE = reacendimentos_slim_delta.hist(column='TempoExtincao', bins = 80, edgecolor='white', color = 'lightcoral', \n",
    "                          linewidth=1)\n",
    "# Customize grid\n",
    "matplotlib.pyplot.grid(color='black', linestyle=':')\n",
    "matplotlib.pyplot.title('TempoExtinção')\n",
    "# matplotlib.axes.Axes.set_xticks(np.arange(0, 11, 0.5))"
   ]
  },
  {
   "cell_type": "code",
   "execution_count": null,
   "id": "f2f2e945",
   "metadata": {},
   "outputs": [],
   "source": [
    "fig, ax = matplotlib.pyplot.subplots()\n",
    "ax.boxplot(reacendimentos_slim_delta['TempoExtincao'],patch_artist=True ,notch = True, flierprops=dict(color='black', markeredgecolor='black'), \n",
    "           whiskerprops=dict(color='black'), boxprops=dict(color='black', facecolor='lightcoral'), capprops=dict(color='black'))\n",
    "matplotlib.pyplot.show()"
   ]
  },
  {
   "cell_type": "code",
   "execution_count": null,
   "id": "65214d14",
   "metadata": {},
   "outputs": [],
   "source": [
    "fig, ax = matplotlib.pyplot.subplots()\n",
    "ax.boxplot(reacendimentos_slim_wpo['TempoExtincao'], patch_artist=True ,notch = True, flierprops=dict(color='black', markeredgecolor='black'), \n",
    "           whiskerprops=dict(color='black'), boxprops=dict(color='black', facecolor='lightcoral'), capprops=dict(color='black'))\n",
    "matplotlib.pyplot.show()"
   ]
  },
  {
   "cell_type": "markdown",
   "id": "9cc7eef2",
   "metadata": {},
   "source": [
    "<h3>Plotting histogram and boxplot for Tempo de Intervenção"
   ]
  },
  {
   "cell_type": "code",
   "execution_count": null,
   "id": "0855b52a",
   "metadata": {},
   "outputs": [],
   "source": [
    "sns.boxplot(x=\"Litoralidade\", y=\"TempoExtincao\", data=reacendimentos_slim_wpo) "
   ]
  },
  {
   "cell_type": "code",
   "execution_count": null,
   "id": "2ce0cbe1",
   "metadata": {},
   "outputs": [],
   "source": [
    "sns.boxplot(x=\"Litoralidade\", y=\"TempoIntervencao\", data=reacendimentos_slim_wpo) "
   ]
  },
  {
   "cell_type": "code",
   "execution_count": null,
   "id": "a16e218a",
   "metadata": {},
   "outputs": [],
   "source": [
    "sns.boxplot(x=\"Litoralidade\", y=\"AA_total_ha\", data=reacendimentos_slim_wpo)"
   ]
  },
  {
   "cell_type": "code",
   "execution_count": null,
   "id": "f75e5e9d",
   "metadata": {},
   "outputs": [],
   "source": [
    "plot_TI = reacendimentos_slim_delta.hist(column='TempoIntervencao', bins = 80, edgecolor='white', color = 'lightcoral', \n",
    "                          linewidth=1)\n",
    "# Customize grid\n",
    "matplotlib.pyplot.grid(color='black', linestyle=':')\n",
    "matplotlib.pyplot.title('TempoIntervencao')"
   ]
  },
  {
   "cell_type": "code",
   "execution_count": null,
   "id": "579495f0",
   "metadata": {},
   "outputs": [],
   "source": [
    "plot_TI = reacendimentos_slim_wpo.hist(column='TempoIntervencao', bins = 80, edgecolor='white', color = 'lightcoral', \n",
    "                          linewidth=1)\n",
    "# Customize grid\n",
    "matplotlib.pyplot.grid(color='black', linestyle=':')\n",
    "matplotlib.pyplot.title('TempoIntervencao')"
   ]
  },
  {
   "cell_type": "code",
   "execution_count": null,
   "id": "38f06ed3",
   "metadata": {},
   "outputs": [],
   "source": [
    "fig, ax = matplotlib.pyplot.subplots()\n",
    "ax.boxplot(reacendimentos_slim_delta['TempoIntervencao'],patch_artist=True ,notch = True, flierprops=dict(color='black', markeredgecolor='black'), \n",
    "           whiskerprops=dict(color='black'), boxprops=dict(color='black', facecolor='lightcoral'), capprops=dict(color='black'))\n",
    "matplotlib.pyplot.show()"
   ]
  },
  {
   "cell_type": "code",
   "execution_count": null,
   "id": "2b2296b8",
   "metadata": {},
   "outputs": [],
   "source": [
    "fig, ax = matplotlib.pyplot.subplots()\n",
    "ax.boxplot(reacendimentos_slim_wpo['TempoIntervencao'], patch_artist=True ,notch = True, flierprops=dict(color='black', markeredgecolor='black'), \n",
    "           whiskerprops=dict(color='black'), boxprops=dict(color='black', facecolor='lightcoral'), capprops=dict(color='black'))\n",
    "matplotlib.pyplot.show()"
   ]
  },
  {
   "cell_type": "code",
   "execution_count": null,
   "id": "45b2ee78",
   "metadata": {},
   "outputs": [],
   "source": [
    "reacendimentos_slim_wpo_t = reacendimentos_slim_wpo.drop('AA_total_ha', axis=1)\n",
    "reacendimentos_slim_wpo_t.hist(by='Litoralidade',column=['TempoExtincao', 'TempoIntervencao'],  bins = 10, \n",
    "                               figsize=[12,8], linewidth=1, legend=True)"
   ]
  },
  {
   "cell_type": "code",
   "execution_count": null,
   "id": "722e2a51",
   "metadata": {},
   "outputs": [],
   "source": [
    "reacendimentos_slim_wpo_t.hist(by='Tipo',column=['TempoExtincao', 'TempoIntervencao'],  bins = 10, \n",
    "                               figsize=[12,8], linewidth=1, legend=True)"
   ]
  },
  {
   "cell_type": "code",
   "execution_count": null,
   "id": "f9643e28",
   "metadata": {},
   "outputs": [],
   "source": [
    "reacendimentos_slim_wpo.hist(column='AA_total_ha', by='Litoralidade',  bins = 50, edgecolor='white', \n",
    "                               color='lightcoral',  \n",
    "                               figsize=[12,8], linewidth=1, legend=True)"
   ]
  },
  {
   "cell_type": "code",
   "execution_count": null,
   "id": "54b7d344",
   "metadata": {},
   "outputs": [],
   "source": [
    "reacendimentos_slim_delta.hist(column='AA_Total (pov+mato+agric) (ha)', by='Tipo',  bins = 50, edgecolor='white', \n",
    "                               color='lightcoral',  \n",
    "                               figsize=[12,8], linewidth=1, legend=True)\n",
    "print('Percentage of Agrícola Fires: ', (32/1508)*100, '%')\n",
    "print('Percentage of Queimada Fires: ', (9/1508)*100, '%')\n",
    "print('Percentage of Florestal Fires: ', (1467/1508)*100, '%')"
   ]
  },
  {
   "cell_type": "code",
   "execution_count": null,
   "id": "70616f80",
   "metadata": {},
   "outputs": [],
   "source": [
    "reacendimentos_slim_delta.hist(column='TempoIntervencao', by='Litoralidade',  bins = 50, edgecolor='white',\n",
    "                               color='lightcoral',  \n",
    "                               figsize=[12,8], linewidth=1, legend = True)"
   ]
  },
  {
   "cell_type": "code",
   "execution_count": null,
   "id": "cb8ecee6",
   "metadata": {},
   "outputs": [],
   "source": [
    "reacendimentos_slim_wpo.hist(column='TempoIntervencao', by='Tipo',  bins = 50, \n",
    "                               color='lightcoral',  \n",
    "                               figsize=[12,8], linewidth=1, legend = True)"
   ]
  },
  {
   "cell_type": "code",
   "execution_count": null,
   "id": "d16c18d1",
   "metadata": {},
   "outputs": [],
   "source": [
    "reacendimentos_slim_wpo.hist(column='TempoExtincao', by='Litoralidade',  bins = 50, edgecolor='white', \n",
    "                               color='lightcoral',  \n",
    "                               figsize=[12,8], linewidth=1, legend=True)"
   ]
  },
  {
   "cell_type": "markdown",
   "id": "8036a182",
   "metadata": {},
   "source": [
    "<h3>Scatterplot TempoIntervencao vs AA total"
   ]
  },
  {
   "cell_type": "code",
   "execution_count": null,
   "id": "83f68d4b",
   "metadata": {},
   "outputs": [],
   "source": [
    "reacendimentos_slim_delta.plot('TempoIntervencao','AA_Total (pov+mato+agric) (ha)', kind='scatter',\n",
    "                               c='lightcoral', title='TempoIntervecao vs. AA_total')"
   ]
  },
  {
   "cell_type": "code",
   "execution_count": null,
   "id": "3434d9e5",
   "metadata": {},
   "outputs": [],
   "source": [
    "reacendimentos_slim_wpo.plot('TempoIntervencao','AA_total_ha', kind='scatter',\n",
    "                               c='lightcoral', title='TempoIntervecao vs. AA_total')"
   ]
  },
  {
   "cell_type": "markdown",
   "id": "c0a313bd",
   "metadata": {},
   "source": [
    "<h3>Scatterplot TempoExtincao vs AA total"
   ]
  },
  {
   "cell_type": "code",
   "execution_count": null,
   "id": "91754803",
   "metadata": {},
   "outputs": [],
   "source": [
    "reacendimentos_slim_delta.plot('TempoExtincao','AA_Total (pov+mato+agric) (ha)', kind='scatter',\n",
    "                               c='lightcoral', title='TempoExtincao vs. AA_total')"
   ]
  },
  {
   "cell_type": "code",
   "execution_count": null,
   "id": "ab46253e",
   "metadata": {},
   "outputs": [],
   "source": [
    "reacendimentos_slim_wpo.plot('TempoExtincao','AA_total_ha', kind='scatter',\n",
    "                               c='lightcoral', title='TempoExtincao vs. AA_total')"
   ]
  },
  {
   "cell_type": "markdown",
   "id": "21051a3d",
   "metadata": {},
   "source": [
    "<h3> Scatterplot TempoExtinçao vs TempoIntervençao"
   ]
  },
  {
   "cell_type": "code",
   "execution_count": null,
   "id": "eab1cad6",
   "metadata": {},
   "outputs": [],
   "source": [
    "reacendimentos_slim_delta.plot('TempoExtincao','TempoIntervencao', kind='scatter',\n",
    "                               c='lightcoral', title='TempoExtincao vs TempoIntervencao')"
   ]
  },
  {
   "cell_type": "code",
   "execution_count": null,
   "id": "2c43e023",
   "metadata": {},
   "outputs": [],
   "source": [
    "reacendimentos_slim_wpo.plot('TempoExtincao','TempoIntervencao', kind='scatter',\n",
    "                               c='lightcoral', title='TempoExtincao vs TempoIntervencao')"
   ]
  },
  {
   "cell_type": "markdown",
   "id": "8c33bdaf",
   "metadata": {},
   "source": [
    "### Spearman Correlation between TempoExtinçao and TempoIntervençao"
   ]
  },
  {
   "cell_type": "code",
   "execution_count": null,
   "id": "c163923e",
   "metadata": {},
   "outputs": [],
   "source": [
    "print(stat.spearmanr(reacendimentos_slim_delta.iloc[:,2:4]))"
   ]
  },
  {
   "cell_type": "markdown",
   "id": "6d02b54e",
   "metadata": {},
   "source": [
    "### Spearman Correlation between TempoExtinçao and AA_total"
   ]
  },
  {
   "cell_type": "code",
   "execution_count": null,
   "id": "dc7c3e67",
   "metadata": {},
   "outputs": [],
   "source": [
    "print(stat.spearmanr(reacendimentos_slim_delta.iloc[:,[2,4]]))"
   ]
  },
  {
   "cell_type": "markdown",
   "id": "44dc57d6",
   "metadata": {},
   "source": [
    "### Spearman Correlation between TempoIntervençao and AA_total"
   ]
  },
  {
   "cell_type": "code",
   "execution_count": null,
   "id": "fa1ecbf7",
   "metadata": {},
   "outputs": [],
   "source": [
    "print(stat.spearmanr(reacendimentos_slim_delta.iloc[:,[3,4]]))"
   ]
  },
  {
   "cell_type": "markdown",
   "id": "911a669d",
   "metadata": {},
   "source": [
    "### Pearson Correlation between TempoExtinçao and TempoIntervençao"
   ]
  },
  {
   "cell_type": "code",
   "execution_count": null,
   "id": "fa20eae0",
   "metadata": {},
   "outputs": [],
   "source": [
    "print(stat.pearsonr(reacendimentos_slim_wpo.iloc[:,2],reacendimentos_slim_wpo.iloc[:,3]))\n",
    "print(stat.pearsonr(reacendimentos_slim_delta.iloc[:,2],reacendimentos_slim_delta.iloc[:,3]))"
   ]
  },
  {
   "cell_type": "markdown",
   "id": "abea4782",
   "metadata": {},
   "source": [
    "### Pearson Correlation between TempoExtinçao and AA_total"
   ]
  },
  {
   "cell_type": "code",
   "execution_count": null,
   "id": "e228aa59",
   "metadata": {},
   "outputs": [],
   "source": [
    "print(stat.pearsonr(reacendimentos_slim_wpo.iloc[:,2],reacendimentos_slim_wpo.iloc[:,4]))\n",
    "print(stat.pearsonr(reacendimentos_slim_delta.iloc[:,2],reacendimentos_slim_delta.iloc[:,4]))"
   ]
  },
  {
   "cell_type": "markdown",
   "id": "82e5597d",
   "metadata": {},
   "source": [
    "### Pearson Correlation between TempoIntervençao and AA_total"
   ]
  },
  {
   "cell_type": "code",
   "execution_count": null,
   "id": "f8c888a4",
   "metadata": {},
   "outputs": [],
   "source": [
    "print(stat.pearsonr(reacendimentos_slim_wpo.iloc[:,3],reacendimentos_slim_wpo.iloc[:,4]))\n",
    "print(stat.pearsonr(reacendimentos_slim_delta.iloc[:,3],reacendimentos_slim_delta.iloc[:,4]))"
   ]
  },
  {
   "cell_type": "code",
   "execution_count": null,
   "id": "c5593f0d",
   "metadata": {},
   "outputs": [],
   "source": [
    "nominal.associations(df,figsize=(20,10),mark_columns=True);"
   ]
  },
  {
   "cell_type": "code",
   "execution_count": null,
   "id": "744b180c",
   "metadata": {},
   "outputs": [],
   "source": [
    "print(stat.spearmanr(reacendimentos_slim_delta.iloc[:,[1,4]]))"
   ]
  },
  {
   "cell_type": "code",
   "execution_count": null,
   "id": "d2872a7a",
   "metadata": {},
   "outputs": [],
   "source": []
  }
 ],
 "metadata": {
  "kernelspec": {
   "display_name": "Python 3 (ipykernel)",
   "language": "python",
   "name": "python3"
  },
  "language_info": {
   "codemirror_mode": {
    "name": "ipython",
    "version": 3
   },
   "file_extension": ".py",
   "mimetype": "text/x-python",
   "name": "python",
   "nbconvert_exporter": "python",
   "pygments_lexer": "ipython3",
   "version": "3.9.7"
  }
 },
 "nbformat": 4,
 "nbformat_minor": 5
}
